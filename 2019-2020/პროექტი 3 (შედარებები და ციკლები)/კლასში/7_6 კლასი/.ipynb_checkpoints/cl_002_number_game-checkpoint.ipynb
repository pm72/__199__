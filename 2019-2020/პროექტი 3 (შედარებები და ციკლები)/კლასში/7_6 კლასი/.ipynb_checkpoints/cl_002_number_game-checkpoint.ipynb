{
 "cells": [
  {
   "cell_type": "code",
   "execution_count": 3,
   "metadata": {},
   "outputs": [
    {
     "name": "stdout",
     "output_type": "stream",
     "text": [
      "['BPF', 'LOG4', 'NV_MAGICCONST', 'RECIP_BPF', 'Random', 'SG_MAGICCONST', 'SystemRandom', 'TWOPI', '_BuiltinMethodType', '_MethodType', '_Sequence', '_Set', '__all__', '__builtins__', '__cached__', '__doc__', '__file__', '__loader__', '__name__', '__package__', '__spec__', '_acos', '_bisect', '_ceil', '_cos', '_e', '_exp', '_inst', '_itertools', '_log', '_os', '_pi', '_random', '_sha512', '_sin', '_sqrt', '_test', '_test_generator', '_urandom', '_warn', 'betavariate', 'choice', 'choices', 'expovariate', 'gammavariate', 'gauss', 'getrandbits', 'getstate', 'lognormvariate', 'normalvariate', 'paretovariate', 'randint', 'random', 'randrange', 'sample', 'seed', 'setstate', 'shuffle', 'triangular', 'uniform', 'vonmisesvariate', 'weibullvariate']\n",
      "73\n",
      "0.4517865791896265\n"
     ]
    }
   ],
   "source": [
    "import random, math, sys, os\n",
    "\n",
    "print(dir(random))\n",
    "\n",
    "print(random.randint(1, 100))\n",
    "print((random.random()))"
   ]
  },
  {
   "cell_type": "code",
   "execution_count": 19,
   "metadata": {},
   "outputs": [
    {
     "name": "stdout",
     "output_type": "stream",
     "text": [
      "ჩავიფიქრე რიცხვი 1-დან 100-ის ჩათვლით. შეეცადე გამოიცნო.\n",
      "შეიტანეთ მთელი რიცხვი: 50\n",
      "ნაკლებია <\n"
     ]
    }
   ],
   "source": [
    "import random\n",
    "\n",
    "print(\"ჩავიფიქრე რიცხვი 1-დან 100-ის ჩათვლით. შეეცადე გამოიცნო.\")\n",
    "number = random.randint(1, 100)\n",
    "\n",
    "guess = int(input(\"შეიტანეთ მთელი რიცხვი: \"))\n",
    "\n",
    "if guess < number: print(\"ნაკლებია <\")\n",
    "elif guess > number: print(\"მეტია >\")\n",
    "else: print(\"შენ გამოიცანი! ჩაფიქრებული იყო\", number)"
   ]
  },
  {
   "cell_type": "code",
   "execution_count": null,
   "metadata": {},
   "outputs": [],
   "source": [
    "'''\n",
    "if პირობა:\n",
    "    ინსტრუქციები\n",
    "\n",
    "\n",
    "while პირობა:\n",
    "    ინსტრუქციები\n",
    "\n",
    "\n",
    "სხვა ინსტრუქციები\n",
    "\n",
    "'''"
   ]
  },
  {
   "cell_type": "code",
   "execution_count": 4,
   "metadata": {},
   "outputs": [
    {
     "name": "stdout",
     "output_type": "stream",
     "text": [
      "ჩავიფიქრე რიცხვი 1-დან 100-ის ჩათვლით. შეეცადე გამოიცნო.\n",
      "შეიტანეთ მთელი რიცხვი: 50\n",
      "მეტია >\n",
      "\n",
      "შეიტანეთ მთელი რიცხვი: 25\n",
      "მეტია >\n",
      "\n",
      "შეიტანეთ მთელი რიცხვი: 12\n",
      "მეტია >\n",
      "\n",
      "შეიტანეთ მთელი რიცხვი: 6\n",
      "მეტია >\n",
      "\n",
      "შეიტანეთ მთელი რიცხვი: 3\n",
      "შენ გამოიცანი! ჩაფიქრებული იყო 3\n",
      "ამისათვის დაგჭირდა 5 ცდა.\n",
      "\n"
     ]
    }
   ],
   "source": [
    "import random\n",
    "\n",
    "print(\"ჩავიფიქრე რიცხვი 1-დან 100-ის ჩათვლით. შეეცადე გამოიცნო.\")\n",
    "number = random.randint(1, 100)\n",
    "\n",
    "guess = -1\n",
    "attempt = 0\n",
    "while guess != number:\n",
    "    guess = int(input(\"შეიტანეთ მთელი რიცხვი: \"))\n",
    "    attempt = attempt + 1    # \n",
    "\n",
    "    if guess < number: print(\"ნაკლებია <\")\n",
    "    elif guess > number: print(\"მეტია >\")\n",
    "    else:\n",
    "        print(\"შენ გამოიცანი! ჩაფიქრებული იყო\", number)\n",
    "        print(\"ამისათვის დაგჭირდა\", attempt, \"ცდა.\")\n",
    "    \n",
    "    print()"
   ]
  }
 ],
 "metadata": {
  "kernelspec": {
   "display_name": "Python 3",
   "language": "python",
   "name": "python3"
  },
  "language_info": {
   "codemirror_mode": {
    "name": "ipython",
    "version": 3
   },
   "file_extension": ".py",
   "mimetype": "text/x-python",
   "name": "python",
   "nbconvert_exporter": "python",
   "pygments_lexer": "ipython3",
   "version": "3.7.4"
  }
 },
 "nbformat": 4,
 "nbformat_minor": 2
}
