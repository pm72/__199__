{
 "cells": [
  {
   "cell_type": "code",
   "execution_count": 15,
   "metadata": {},
   "outputs": [
    {
     "name": "stdout",
     "output_type": "stream",
     "text": [
      "0\n",
      "1\n",
      "True\n",
      "False\n",
      "False\n",
      "False\n",
      "None\n",
      "\n",
      "78.25\n",
      "False\n"
     ]
    }
   ],
   "source": [
    "\"\"\"\n",
    "    0-24        საშინელი         0\n",
    "    25-44       ცუდი            1\n",
    "    45-64       ისე რა           2\n",
    "    65-79       საშუალო         3\n",
    "    80-89       კარგი            4\n",
    "    90-100      ბრწყინვალე       5\n",
    "\"\"\"\n",
    "\n",
    "\"\"\"\n",
    "if score between 0 and 24:\n",
    "    print(\"საშინელი (0)\")\n",
    "    \n",
    "    1) score >= 0\n",
    "    2) score < 25\n",
    "    \n",
    "    (score >= 0) and (score < 25)\n",
    "    ან \n",
    "    0 <= score < 25\n",
    "\"\"\"\n",
    "\n",
    "'''i\n",
    "    ჭეშმარიტობის ცხრილი:\n",
    "    \n",
    "    1. ლოგიკური „და“  and\n",
    "            True and True = True\n",
    "            True and False = False\n",
    "            False and True = False\n",
    "            False and False = False\n",
    "    \n",
    "    2. ლოგიკური „ან“   or\n",
    "            True or True = True\n",
    "            True or False = True\n",
    "            False or True = True\n",
    "            False or False = False\n",
    "    \n",
    "    3. ლოგიკური „უარყოფა“   not\n",
    "            not True = False\n",
    "            not False = True\n",
    "            \n",
    "            \n",
    "    int,  float,   str,  bool,   None\n",
    "'''\n",
    "\n",
    "print(int(False))\n",
    "print(int(True))\n",
    "print(bool(-89))\n",
    "print(bool(0))\n",
    "print(bool(0.0))\n",
    "print(bool(''))\n",
    "\n",
    "\n",
    "a = None\n",
    "print(a)\n",
    "# a = a + 45\n",
    "\n",
    "\n",
    "b = ''\n",
    "print(b)\n",
    "b += '78.25'\n",
    "print(b)\n",
    "\n",
    "print(bool(None))"
   ]
  },
  {
   "cell_type": "code",
   "execution_count": 18,
   "metadata": {},
   "outputs": [
    {
     "name": "stdout",
     "output_type": "stream",
     "text": [
      "შეიტანეთ რიცხვი: 100\n",
      "\n",
      "შეფასება:\n",
      "არასწორი ქულა!\n"
     ]
    }
   ],
   "source": [
    "\"\"\"\n",
    "    0-24        საშინელი         0\n",
    "    25-44       ცუდი            1\n",
    "    45-64       ისე რა           2\n",
    "    65-79       საშუალო         3\n",
    "    80-89       კარგი            4\n",
    "    90-100      ბრწყინვალე       5\n",
    "\"\"\"\n",
    "\n",
    "# ნიშანი\n",
    "\n",
    "score = int(input(\"შეიტანეთ რიცხვი: \"))\n",
    "\n",
    "print(\"\\nშეფასება:\")\n",
    "if (score >= 0) and (score < 25):\n",
    "    print(\"საშინელი (0)\")\n",
    "elif score >= 25 and score <45:\n",
    "    print(\"ცუდი (1)\")\n",
    "elif 45 <= score < 65:\n",
    "    print(\"ისე რა (2)\")\n",
    "elif 65 <= score < 80:\n",
    "    print(\"საშუალო (3)\")\n",
    "elif 81 <= score < 90:\n",
    "    print(\"კარგი (4)\")\n",
    "elif 91 <= score <= 100:\n",
    "    print(\"ბრწყინვალე (5)\")\n",
    "else:\n",
    "    print(\"არასწორი ქულა!\")\n",
    "    \n",
    "    \n",
    "if score < 0 or score > 100:\n",
    "    print(\"არასწორი ქულა!..\")"
   ]
  }
 ],
 "metadata": {
  "kernelspec": {
   "display_name": "Python 3",
   "language": "python",
   "name": "python3"
  },
  "language_info": {
   "codemirror_mode": {
    "name": "ipython",
    "version": 3
   },
   "file_extension": ".py",
   "mimetype": "text/x-python",
   "name": "python",
   "nbconvert_exporter": "python",
   "pygments_lexer": "ipython3",
   "version": "3.7.4"
  }
 },
 "nbformat": 4,
 "nbformat_minor": 2
}
