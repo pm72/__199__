{
 "cells": [
  {
   "cell_type": "code",
   "execution_count": 11,
   "metadata": {
    "collapsed": false
   },
   "outputs": [
    {
     "name": "stdout",
     "output_type": "stream",
     "text": [
      "გავაგოროთ კამათლები\n",
      "\n",
      "რაუნდი: 1\n",
      "\tშენი გაგორებაა: 5\n",
      "\tჩემი გაგორებაა: 4\n",
      "\t1 : 0\n",
      "\n",
      "რაუნდი: 2\n",
      "\tშენი გაგორებაა: 11\n",
      "\tჩემი გაგორებაა: 11\n",
      "\t1 : 0\n",
      "\n",
      "რაუნდი: 3\n",
      "\tშენი გაგორებაა: 8\n",
      "\tჩემი გაგორებაა: 12\n",
      "\t1 : 1\n",
      "\n",
      "რაუნდი: 4\n",
      "\tშენი გაგორებაა: 2\n",
      "\tჩემი გაგორებაა: 10\n",
      "\t1 : 2\n",
      "\n",
      "რაუნდი: 5\n",
      "\tშენი გაგორებაა: 9\n",
      "\tჩემი გაგორებაა: 2\n",
      "\t2 : 2\n",
      "\n",
      "ყაიმი!\n",
      "\n",
      "დასასრული...\n"
     ]
    }
   ],
   "source": [
    "import random, time\n",
    "\n",
    "print(\"გავაგოროთ კამათლები\\n\")\n",
    "\n",
    "attempt = 0\n",
    "your_number = 0\n",
    "my_number = 0\n",
    "\n",
    "while attempt < 5:\n",
    "    attempt += 1   # attempt = attempt + 1\n",
    "    print(\"რაუნდი:\", attempt)\n",
    "    \n",
    "    print(\"\\tშენი გაგორებაა:\", end=' ')\n",
    "    your_dice = random.randint(2, 12)\n",
    "    time.sleep(1)\n",
    "    print(your_dice)\n",
    "    \n",
    "    print(\"\\tჩემი გაგორებაა:\", end=' ')\n",
    "    my_dice = random.randint(2, 12)\n",
    "    time.sleep(1)\n",
    "    print(my_dice)\n",
    "    \n",
    "    time.sleep(1)\n",
    "    \n",
    "    if your_dice > my_dice: your_number += 1\n",
    "    elif my_dice > your_dice: my_number += 1\n",
    "    \n",
    "    print(\"\\t{} : {}\".format(your_number, my_number))\n",
    "    \n",
    "    print()\n",
    "    \n",
    "if your_number > my_number: print(\"შენ მოიგე!\")\n",
    "elif my_number > your_number: print(\"მე მოვიგე!\")\n",
    "else: print(\"ყაიმი!\")\n",
    "\n",
    "    \n",
    "print(\"\\nდასასრული...\")"
   ]
  },
  {
   "cell_type": "markdown",
   "metadata": {},
   "source": [
    "# საშინაო დავალება\n",
    "\n",
    "**გადააკეთეთ პროგრამა ისე, რომ ჩემი გაგორებისას რეალურად შევიტანოთ რიცხვები.**  \n",
    "`your_number = ` ჩაწერეთ შესაბამისი ინსტრუქცია.  \n",
    "გაითვალისწინეთ `2,12` დიაპაზონი."
   ]
  },
  {
   "cell_type": "markdown",
   "metadata": {},
   "source": [
    "## for კონსტრუქცია\n",
    "```python\n",
    "for i in range(5):\n",
    "\n",
    "range(start, stop, step)    0, 5, 1\n",
    "\n",
    "range(2, 89)\n",
    " \n",
    "\n",
    "```"
   ]
  },
  {
   "cell_type": "code",
   "execution_count": 24,
   "metadata": {
    "collapsed": false
   },
   "outputs": [
    {
     "name": "stdout",
     "output_type": "stream",
     "text": [
      "0 1 2 3 4 \n",
      "\n",
      "კენტი რიცხვები:\n",
      "1 3 5 7 9 11 13 15 17 19 21 23 25 27 29 31 33 35 37 39 41 43 45 47 49 51 53 55 57 59 61 63 65 67 69 71 73 75 77 79 81 83 85 87 89 91 93 95 97 99 \n",
      "\n",
      "ლუწი რიცხვები:\n",
      "0 2 4 6 8 10 12 14 16 18 20 22 24 26 28 30 32 34 36 38 40 42 44 46 48 50 52 54 56 58 60 62 64 66 68 70 72 74 76 78 80 82 84 86 88 90 92 94 96 98 100 \n",
      "\n",
      "58\n",
      "10\n",
      "96\n",
      "Paata\n",
      "0.269\n"
     ]
    }
   ],
   "source": [
    "for i in range(5): print(i, end=' ')\n",
    "  \n",
    "print(\"\\n\")\n",
    "    \n",
    "print(\"კენტი რიცხვები:\")\n",
    "for i in range(1, 100, 2): print(i, end=' ')\n",
    "\n",
    "print(\"\\n\")\n",
    "    \n",
    "print(\"ლუწი რიცხვები:\")\n",
    "for i in range(0, 101, 2): print(i, end=' ')\n",
    "   \n",
    "print(\"\\n\")\n",
    "\n",
    "A = [58, 10, 96, \"Paata\", 0.269]\n",
    "for i in A:  print(i)"
   ]
  }
 ],
 "metadata": {
  "kernelspec": {
   "display_name": "Python 3",
   "language": "python",
   "name": "python3"
  },
  "language_info": {
   "codemirror_mode": {
    "name": "ipython",
    "version": 3
   },
   "file_extension": ".py",
   "mimetype": "text/x-python",
   "name": "python",
   "nbconvert_exporter": "python",
   "pygments_lexer": "ipython3",
   "version": "3.5.1"
  }
 },
 "nbformat": 4,
 "nbformat_minor": 2
}
