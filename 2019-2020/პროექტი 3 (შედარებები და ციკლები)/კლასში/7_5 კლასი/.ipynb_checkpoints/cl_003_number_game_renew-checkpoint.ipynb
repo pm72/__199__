{
 "cells": [
  {
   "cell_type": "code",
   "execution_count": 5,
   "metadata": {
    "scrolled": false
   },
   "outputs": [
    {
     "name": "stdout",
     "output_type": "stream",
     "text": [
      "['BPF', 'LOG4', 'NV_MAGICCONST', 'RECIP_BPF', 'Random', 'SG_MAGICCONST', 'SystemRandom', 'TWOPI', '_BuiltinMethodType', '_MethodType', '_Sequence', '_Set', '__all__', '__builtins__', '__cached__', '__doc__', '__file__', '__loader__', '__name__', '__package__', '__spec__', '_acos', '_bisect', '_ceil', '_cos', '_e', '_exp', '_inst', '_itertools', '_log', '_os', '_pi', '_random', '_sha512', '_sin', '_sqrt', '_test', '_test_generator', '_urandom', '_warn', 'betavariate', 'choice', 'choices', 'expovariate', 'gammavariate', 'gauss', 'getrandbits', 'getstate', 'lognormvariate', 'normalvariate', 'paretovariate', 'randint', 'random', 'randrange', 'sample', 'seed', 'setstate', 'shuffle', 'triangular', 'uniform', 'vonmisesvariate', 'weibullvariate']\n",
      "\n",
      "Help on method randint in module random:\n",
      "\n",
      "randint(a, b) method of random.Random instance\n",
      "    Return random integer in range [a, b], including both end points.\n",
      "\n",
      "\n",
      "Help on built-in function random:\n",
      "\n",
      "random(...) method of random.Random instance\n",
      "    random() -> x in the interval [0, 1).\n",
      "\n"
     ]
    }
   ],
   "source": [
    "import random\n",
    "\n",
    "temp = 90\n",
    "print(dir(random))\n",
    "\n",
    "print()\n",
    "\n",
    "help(random.randint)\n",
    "\n",
    "print()\n",
    "\n",
    "help(random.random)\n"
   ]
  },
  {
   "cell_type": "code",
   "execution_count": 14,
   "metadata": {},
   "outputs": [
    {
     "name": "stdout",
     "output_type": "stream",
     "text": [
      "ჩავიფიქრე 1-დან 100-ის ჩათვლით მთელი რიცხვი. შეეცადე გამოიცნო.\n",
      "შეიტანეთ მთელი რიცხვი: 50\n",
      "მეტია >\n",
      "შეიტანეთ მთელი რიცხვი: 25\n",
      "ნაკლებია <\n",
      "შეიტანეთ მთელი რიცხვი: 37\n",
      "ნაკლებია <\n",
      "შეიტანეთ მთელი რიცხვი: 43\n",
      "მეტია >\n",
      "შეიტანეთ მთელი რიცხვი: 40\n",
      "მეტია >\n",
      "შეიტანეთ მთელი რიცხვი: 38\n",
      "შენ გამოიცანი! ჩაფიქრებული იყო 38\n",
      "\n",
      "დასასრული.\n"
     ]
    }
   ],
   "source": [
    "import random\n",
    "\n",
    "print(\"ჩავიფიქრე 1-დან 100-ის ჩათვლით მთელი რიცხვი. შეეცადე გამოიცნო.\")\n",
    "number = random.randint(1, 100)\n",
    "\n",
    "guess = int(input(\"შეიტანეთ მთელი რიცხვი: \"))\n",
    "\n",
    "while guess != number:\n",
    "    if guess < number: print(\"ნაკლებია <\")\n",
    "    else: print(\"მეტია >\")\n",
    "    \n",
    "    guess = int(input(\"შეიტანეთ მთელი რიცხვი: \"))\n",
    "\n",
    "print(\"შენ გამოიცანი! ჩაფიქრებული იყო\", number)\n",
    "print(\"\\nდასასრული.\")"
   ]
  },
  {
   "cell_type": "code",
   "execution_count": 16,
   "metadata": {},
   "outputs": [
    {
     "name": "stdout",
     "output_type": "stream",
     "text": [
      "ჩავიფიქრე 1-დან 1000-ის ჩათვლით მთელი რიცხვი. შეეცადე გამოიცნო.\n",
      "შეიტანეთ მთელი რიცხვი [0 – დამთავრება]: 500\n",
      "ნაკლებია <\n",
      "\n",
      "შეიტანეთ მთელი რიცხვი: 750\n",
      "ნაკლებია <\n",
      "\n",
      "შეიტანეთ მთელი რიცხვი: 825\n",
      "ნაკლებია <\n",
      "\n",
      "შეიტანეთ მთელი რიცხვი: 0\n",
      "ჩაფიქრებული იყო 877\n",
      "\n",
      "დასასრული.\n"
     ]
    }
   ],
   "source": [
    "import random\n",
    "\n",
    "print(\"ჩავიფიქრე 1-დან 1000-ის ჩათვლით მთელი რიცხვი. შეეცადე გამოიცნო.\")\n",
    "number = random.randint(1, 1000)\n",
    "\n",
    "guess = int(input(\"შეიტანეთ მთელი რიცხვი [0 – დამთავრება]: \"))\n",
    "\n",
    "while guess != 0:\n",
    "    if guess == number:\n",
    "        print(\"შენ გამოიცანი! ჩაფიქრებული იყო\", number)\n",
    "        break\n",
    "    elif guess < number: print(\"ნაკლებია <\")\n",
    "    else: print(\"მეტია >\")\n",
    "    \n",
    "    print()\n",
    "    guess = int(input(\"შეიტანეთ მთელი რიცხვი [0 – დამთავრება]: \"))\n",
    "\n",
    "print(\"ჩაფიქრებული იყო\", number)\n",
    "print(\"\\nდასასრული.\")"
   ]
  },
  {
   "cell_type": "code",
   "execution_count": null,
   "metadata": {},
   "outputs": [],
   "source": [
    "'''\n",
    "True                        |  False\n",
    "!=0  !=0.0  ' '  \" \"        0  0.0   ''  \"\"  None\n",
    "\n",
    "\n",
    "while True:\n",
    "while False:  არ ჩაწეროთ ასე\n",
    "\n",
    "while 1:\n",
    "while 0:  while ''\n",
    "\n",
    "a = 90\n",
    "while a:   while a != 0\n",
    "while not a:  while a == 0\n",
    "\n",
    "\n",
    "'''"
   ]
  },
  {
   "cell_type": "code",
   "execution_count": 19,
   "metadata": {},
   "outputs": [
    {
     "ename": "SyntaxError",
     "evalue": "EOL while scanning string literal (<ipython-input-19-62305cff94e6>, line 12)",
     "output_type": "error",
     "traceback": [
      "\u001b[1;36m  File \u001b[1;32m\"<ipython-input-19-62305cff94e6>\"\u001b[1;36m, line \u001b[1;32m12\u001b[0m\n\u001b[1;33m    print(\"შენ გამოიცანი!)\u001b[0m\n\u001b[1;37m                          ^\u001b[0m\n\u001b[1;31mSyntaxError\u001b[0m\u001b[1;31m:\u001b[0m EOL while scanning string literal\n"
     ]
    }
   ],
   "source": [
    "import random\n",
    "\n",
    "print(\"ჩავიფიქრე 1-დან 1000-ის ჩათვლით მთელი რიცხვი. შეეცადე გამოიცნო.\")\n",
    "number = random.randint(1, 1000)\n",
    "\n",
    "guess = int(input(\"შეიტანეთ მთელი რიცხვი [0 – დამთავრება]: \"))\n",
    "\n",
    "attempt = 0\n",
    "while guess:\n",
    "    attempt = attempt + 1\n",
    "    if guess == number:\n",
    "        print(\"შენ გამოიცანი!)\n",
    "        print(\"ამისათვის დაგჭირდათ\", attempt, \"ცდა.\")\n",
    "        break\n",
    "    elif guess < number: print(\"ნაკლებია <\")\n",
    "    else: print(\"მეტია >\")\n",
    "    \n",
    "    print()\n",
    "    guess = int(input(\"შეიტანეთ მთელი რიცხვი [0 – დამთავრება]: \"))\n",
    "\n",
    "print(\"ჩაფიქრებული იყო\", number)\n",
    "print(\"\\nდასასრული.\")"
   ]
  }
 ],
 "metadata": {
  "kernelspec": {
   "display_name": "Python 3",
   "language": "python",
   "name": "python3"
  },
  "language_info": {
   "codemirror_mode": {
    "name": "ipython",
    "version": 3
   },
   "file_extension": ".py",
   "mimetype": "text/x-python",
   "name": "python",
   "nbconvert_exporter": "python",
   "pygments_lexer": "ipython3",
   "version": "3.7.4"
  }
 },
 "nbformat": 4,
 "nbformat_minor": 2
}
