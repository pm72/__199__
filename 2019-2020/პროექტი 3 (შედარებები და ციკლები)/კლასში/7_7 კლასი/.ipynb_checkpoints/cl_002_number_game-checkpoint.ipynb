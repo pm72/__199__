{
 "cells": [
  {
   "cell_type": "code",
   "execution_count": 44,
   "metadata": {},
   "outputs": [
    {
     "name": "stdout",
     "output_type": "stream",
     "text": [
      "54\n",
      "46.23324336283502\n"
     ]
    }
   ],
   "source": [
    "import random\n",
    "\n",
    "def randint():\n",
    "    print(\"Hi\")\n",
    "\n",
    "number = random.randint(1, 100)\n",
    "\n",
    "print(number)\n",
    "print(random.random()*100)"
   ]
  },
  {
   "cell_type": "code",
   "execution_count": 49,
   "metadata": {},
   "outputs": [
    {
     "name": "stdout",
     "output_type": "stream",
     "text": [
      "ჩავიფიქრე რიცხვი 1-დან 100-ის ჩათვლით. შეეცადე გამოიცნო\n",
      "95\n",
      "შეიტანე მთელი რიცხვი: 95\n",
      "შენ გამოიცანი! ჩაფიქრებული იყო 95\n"
     ]
    }
   ],
   "source": [
    "import random\n",
    "\n",
    "print(\"ჩავიფიქრე რიცხვი 1-დან 100-ის ჩათვლით. შეეცადე გამოიცნო\")\n",
    "number = random.randint(1, 100)\n",
    "print(number)\n",
    "\n",
    "guess = int(input(\"შეიტანე მთელი რიცხვი: \"))\n",
    "\n",
    "if guess < number: print(\"ნაკლებია <\")\n",
    "elif guess > number: print(\"მეტია >\")\n",
    "else: print(\"შენ გამოიცანი! ჩაფიქრებული იყო\", number)"
   ]
  },
  {
   "cell_type": "code",
   "execution_count": null,
   "metadata": {},
   "outputs": [],
   "source": [
    "'''\n",
    "if პირობა:\n",
    "    ინსტრუქციები\n",
    "\n",
    "\n",
    "while პირობა:\n",
    "    ინსტრუქციები\n",
    "\n",
    "\n",
    "სხვა ინსტრუქციები\n",
    "'''"
   ]
  },
  {
   "cell_type": "code",
   "execution_count": 2,
   "metadata": {},
   "outputs": [
    {
     "name": "stdout",
     "output_type": "stream",
     "text": [
      "ჩავიფიქრე რიცხვი 1-დან 100-ის ჩათვლით. შეეცადე გამოიცნო\n",
      "92\n",
      "შეიტანე მთელი რიცხვი: 50\n",
      "ნაკლებია <\n",
      "შეიტანე მთელი რიცხვი: 75\n",
      "ნაკლებია <\n",
      "შეიტანე მთელი რიცხვი: 87\n",
      "ნაკლებია <\n",
      "შეიტანე მთელი რიცხვი: 93\n",
      "მეტია >\n",
      "შეიტანე მთელი რიცხვი: 92\n",
      "შენ გამოიცანი! ჩაფიქრებული იყო 92\n",
      "\n",
      "დასასრული\n"
     ]
    }
   ],
   "source": [
    "import random\n",
    "\n",
    "print(\"ჩავიფიქრე რიცხვი 1-დან 100-ის ჩათვლით. შეეცადე გამოიცნო\")\n",
    "number = random.randint(1, 100)\n",
    "print(number)\n",
    "\n",
    "guess = -1\n",
    "while guess != number:\n",
    "    guess = int(input(\"შეიტანე მთელი რიცხვი: \"))\n",
    "\n",
    "    if guess < number: print(\"ნაკლებია <\")\n",
    "    elif guess > number: print(\"მეტია >\")\n",
    "    else: print(\"შენ გამოიცანი! ჩაფიქრებული იყო\", number)\n",
    "    \n",
    "print(\"\\nდასასრული\")"
   ]
  },
  {
   "cell_type": "code",
   "execution_count": 4,
   "metadata": {},
   "outputs": [
    {
     "name": "stdout",
     "output_type": "stream",
     "text": [
      "ჩავიფიქრე რიცხვი 1-დან 100-ის ჩათვლით. შეეცადე გამოიცნო\n",
      "შეიტანე მთელი რიცხვი: 50\n",
      "მეტია >\n",
      "\n",
      "შეიტანე მთელი რიცხვი: 25\n",
      "მეტია >\n",
      "\n",
      "შეიტანე მთელი რიცხვი: 12\n",
      "ნაკლებია <\n",
      "\n",
      "შეიტანე მთელი რიცხვი: 18\n",
      "მეტია >\n",
      "\n",
      "შეიტანე მთელი რიცხვი: 15\n",
      "შენ გამოიცანი! ჩაფიქრებული იყო 15\n",
      "\n",
      "ამისთვის დაგჭირდა 5 ცდა.\n",
      "\n",
      "დასასრული\n"
     ]
    }
   ],
   "source": [
    "import random\n",
    "\n",
    "print(\"ჩავიფიქრე რიცხვი 1-დან 100-ის ჩათვლით. შეეცადე გამოიცნო\")\n",
    "number = random.randint(1, 100)\n",
    "\n",
    "guess = -1\n",
    "attempt = 0\n",
    "while guess != number:\n",
    "    guess = int(input(\"შეიტანე მთელი რიცხვი: \"))\n",
    "    attempt = attempt + 1\n",
    "\n",
    "    if guess < number: print(\"ნაკლებია <\")\n",
    "    elif guess > number: print(\"მეტია >\")\n",
    "    else: print(\"შენ გამოიცანი! ჩაფიქრებული იყო\", number)\n",
    "    \n",
    "    print()\n",
    "        \n",
    "    \n",
    "print(\"ამისთვის დაგჭირდა\", attempt, \"ცდა.\")\n",
    "print(\"\\nდასასრული\")"
   ]
  }
 ],
 "metadata": {
  "kernelspec": {
   "display_name": "Python 3",
   "language": "python",
   "name": "python3"
  },
  "language_info": {
   "codemirror_mode": {
    "name": "ipython",
    "version": 3
   },
   "file_extension": ".py",
   "mimetype": "text/x-python",
   "name": "python",
   "nbconvert_exporter": "python",
   "pygments_lexer": "ipython3",
   "version": "3.7.4"
  }
 },
 "nbformat": 4,
 "nbformat_minor": 2
}
