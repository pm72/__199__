{
 "cells": [
  {
   "cell_type": "code",
   "execution_count": 44,
   "metadata": {
    "collapsed": false
   },
   "outputs": [
    {
     "name": "stdout",
     "output_type": "stream",
     "text": [
      "54\n",
      "46.23324336283502\n"
     ]
    }
   ],
   "source": [
    "import random\n",
    "\n",
    "def randint():\n",
    "    print(\"Hi\")\n",
    "\n",
    "number = random.randint(1, 100)\n",
    "\n",
    "print(number)\n",
    "print(random.random()*100)"
   ]
  },
  {
   "cell_type": "code",
   "execution_count": 49,
   "metadata": {
    "collapsed": false
   },
   "outputs": [
    {
     "name": "stdout",
     "output_type": "stream",
     "text": [
      "ჩავიფიქრე რიცხვი 1-დან 100-ის ჩათვლით. შეეცადე გამოიცნო\n",
      "95\n",
      "შეიტანე მთელი რიცხვი: 95\n",
      "შენ გამოიცანი! ჩაფიქრებული იყო 95\n"
     ]
    }
   ],
   "source": [
    "import random\n",
    "\n",
    "print(\"ჩავიფიქრე რიცხვი 1-დან 100-ის ჩათვლით. შეეცადე გამოიცნო\")\n",
    "number = random.randint(1, 100)\n",
    "print(number)\n",
    "\n",
    "guess = int(input(\"შეიტანე მთელი რიცხვი: \"))\n",
    "\n",
    "if guess < number: print(\"ნაკლებია <\")\n",
    "elif guess > number: print(\"მეტია >\")\n",
    "else: print(\"შენ გამოიცანი! ჩაფიქრებული იყო\", number)"
   ]
  },
  {
   "cell_type": "code",
   "execution_count": null,
   "metadata": {
    "collapsed": true
   },
   "outputs": [],
   "source": [
    "'''\n",
    "if პირობა:\n",
    "    ინსტრუქციები\n",
    "\n",
    "\n",
    "while პირობა:\n",
    "    ინსტრუქციები\n",
    "\n",
    "\n",
    "სხვა ინსტრუქციები\n",
    "'''"
   ]
  },
  {
   "cell_type": "code",
   "execution_count": 2,
   "metadata": {
    "collapsed": false
   },
   "outputs": [
    {
     "name": "stdout",
     "output_type": "stream",
     "text": [
      "ჩავიფიქრე რიცხვი 1-დან 100-ის ჩათვლით. შეეცადე გამოიცნო\n",
      "92\n",
      "შეიტანე მთელი რიცხვი: 50\n",
      "ნაკლებია <\n",
      "შეიტანე მთელი რიცხვი: 75\n",
      "ნაკლებია <\n",
      "შეიტანე მთელი რიცხვი: 87\n",
      "ნაკლებია <\n",
      "შეიტანე მთელი რიცხვი: 93\n",
      "მეტია >\n",
      "შეიტანე მთელი რიცხვი: 92\n",
      "შენ გამოიცანი! ჩაფიქრებული იყო 92\n",
      "\n",
      "დასასრული\n"
     ]
    }
   ],
   "source": [
    "import random\n",
    "\n",
    "print(\"ჩავიფიქრე რიცხვი 1-დან 100-ის ჩათვლით. შეეცადე გამოიცნო\")\n",
    "number = random.randint(1, 100)\n",
    "print(number)\n",
    "\n",
    "guess = -1\n",
    "while guess != number:\n",
    "    guess = int(input(\"შეიტანე მთელი რიცხვი: \"))\n",
    "\n",
    "    if guess < number: print(\"ნაკლებია <\")\n",
    "    elif guess > number: print(\"მეტია >\")\n",
    "    else: print(\"შენ გამოიცანი! ჩაფიქრებული იყო\", number)\n",
    "    \n",
    "print(\"\\nდასასრული\")"
   ]
  },
  {
   "cell_type": "code",
   "execution_count": 5,
   "metadata": {
    "collapsed": false
   },
   "outputs": [
    {
     "name": "stdout",
     "output_type": "stream",
     "text": [
      "ჩავიფიქრე რიცხვი 1-დან 100-ის ჩათვლით. შეეცადე გამოიცნო\n",
      "შეიტანე მთელი რიცხვი: 5.26\n"
     ]
    },
    {
     "ename": "ValueError",
     "evalue": "invalid literal for int() with base 10: '5.26'",
     "output_type": "error",
     "traceback": [
      "\u001b[1;31m---------------------------------------------------------------------------\u001b[0m",
      "\u001b[1;31mValueError\u001b[0m                                Traceback (most recent call last)",
      "\u001b[1;32m<ipython-input-5-43af03e52262>\u001b[0m in \u001b[0;36m<module>\u001b[1;34m\u001b[0m\n\u001b[0;32m      7\u001b[0m \u001b[0mattempt\u001b[0m \u001b[1;33m=\u001b[0m \u001b[1;36m0\u001b[0m\u001b[1;33m\u001b[0m\u001b[1;33m\u001b[0m\u001b[0m\n\u001b[0;32m      8\u001b[0m \u001b[1;32mwhile\u001b[0m \u001b[0mguess\u001b[0m \u001b[1;33m!=\u001b[0m \u001b[0mnumber\u001b[0m\u001b[1;33m:\u001b[0m\u001b[1;33m\u001b[0m\u001b[1;33m\u001b[0m\u001b[0m\n\u001b[1;32m----> 9\u001b[1;33m     \u001b[0mguess\u001b[0m \u001b[1;33m=\u001b[0m \u001b[0mint\u001b[0m\u001b[1;33m(\u001b[0m\u001b[0minput\u001b[0m\u001b[1;33m(\u001b[0m\u001b[1;34m\"შეიტანე მთელი რიცხვი: \"\u001b[0m\u001b[1;33m)\u001b[0m\u001b[1;33m)\u001b[0m\u001b[1;33m\u001b[0m\u001b[1;33m\u001b[0m\u001b[0m\n\u001b[0m\u001b[0;32m     10\u001b[0m     \u001b[0mattempt\u001b[0m \u001b[1;33m=\u001b[0m \u001b[0mattempt\u001b[0m \u001b[1;33m+\u001b[0m \u001b[1;36m1\u001b[0m\u001b[1;33m\u001b[0m\u001b[1;33m\u001b[0m\u001b[0m\n\u001b[0;32m     11\u001b[0m \u001b[1;33m\u001b[0m\u001b[0m\n",
      "\u001b[1;31mValueError\u001b[0m: invalid literal for int() with base 10: '5.26'"
     ]
    }
   ],
   "source": [
    "import random\n",
    "\n",
    "print(\"ჩავიფიქრე რიცხვი 1-დან 100-ის ჩათვლით. შეეცადე გამოიცნო\")\n",
    "number = random.randint(1, 100)\n",
    "\n",
    "guess = -1\n",
    "attempt = 0\n",
    "while guess != number:\n",
    "    guess = int(input(\"შეიტანე მთელი რიცხვი: \"))\n",
    "    attempt = attempt + 1\n",
    "\n",
    "    if guess < number: print(\"ნაკლებია <\")\n",
    "    elif guess > number: print(\"მეტია >\")\n",
    "    else: print(\"შენ გამოიცანი! ჩაფიქრებული იყო\", number)\n",
    "    \n",
    "    print()\n",
    "        \n",
    "    \n",
    "print(\"ამისთვის დაგჭირდა\", attempt, \"ცდა.\")\n",
    "print(\"\\nდასასრული\")"
   ]
  }
 ],
 "metadata": {
  "kernelspec": {
   "display_name": "Python 3",
   "language": "python",
   "name": "python3"
  },
  "language_info": {
   "codemirror_mode": {
    "name": "ipython",
    "version": 3
   },
   "file_extension": ".py",
   "mimetype": "text/x-python",
   "name": "python",
   "nbconvert_exporter": "python",
   "pygments_lexer": "ipython3",
   "version": "3.5.1"
  }
 },
 "nbformat": 4,
 "nbformat_minor": 2
}
