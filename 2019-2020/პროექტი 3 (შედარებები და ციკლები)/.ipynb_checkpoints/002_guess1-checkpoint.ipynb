{
 "cells": [
  {
   "cell_type": "code",
   "execution_count": 20,
   "metadata": {},
   "outputs": [
    {
     "name": "stdout",
     "output_type": "stream",
     "text": [
      "178\n",
      "ჩავიფიქრე რიცხვი 1-დან 1000-მდე.\n",
      "გამოიცანი რიცხვი: 2.56\n",
      "მხოლოდ მთელი რიცხვი!\n"
     ]
    }
   ],
   "source": [
    "import random\n",
    "\n",
    "secret = \"ჩავიფიქრე რიცხვი 1-დან 1000-მდე.\"\n",
    "case = random.randint(1, 1000)\n",
    "\n",
    "print(case)\n",
    "print(secret)\n",
    "try:\n",
    "    number = int(input(\"გამოიცანი რიცხვი: \"))\n",
    "\n",
    "    if number < case: print(\"ნაკლებია.\")\n",
    "    elif number > case: print(\"მეტია.\")\n",
    "    else: print(\"შენ გამოიცანი!\")\n",
    "except ValueError:\n",
    "    print(\"მხოლოდ მთელი რიცხვი!\")"
   ]
  },
  {
   "cell_type": "code",
   "execution_count": 26,
   "metadata": {},
   "outputs": [
    {
     "name": "stdout",
     "output_type": "stream",
     "text": [
      "965\n",
      "ჩავიფიქრე რიცხვი 1-დან 1000-მდე.\n",
      "\n",
      "გამოიცანი რიცხვი: 2.59\n",
      "მხოლოდ მთელი რიცხვი!\n",
      "\n",
      "გამოიცანი რიცხვი: 960\n",
      "ნაკლებია.\n",
      "\n",
      "გამოიცანი რიცხვი: 1021\n",
      "მეტია.\n",
      "\n",
      "გამოიცანი რიცხვი: 950\n",
      "ნაკლებია.\n",
      "\n",
      "გამოიცანი რიცხვი: 960\n",
      "ნაკლებია.\n",
      "\n",
      "გამოიცანი რიცხვი: 970\n",
      "მეტია.\n",
      "\n",
      "გამოიცანი რიცხვი: 965\n",
      "შენ გამოიცანი!\n"
     ]
    }
   ],
   "source": [
    "import random\n",
    "\n",
    "secret = \"ჩავიფიქრე რიცხვი 1-დან 1000-მდე.\"\n",
    "case = random.randint(1, 1000)\n",
    "\n",
    "print(case)\n",
    "print(secret)\n",
    "\n",
    "number = 0\n",
    "while number != case:\n",
    "    try:\n",
    "        number = int(input(\"\\nგამოიცანი რიცხვი: \"))    \n",
    "        if number < case: print(\"ნაკლებია.\")\n",
    "        elif number > case: print(\"მეტია.\")\n",
    "        else: print(\"შენ გამოიცანი!\")\n",
    "    except ValueError:\n",
    "        print(\"მხოლოდ მთელი რიცხვი!\")"
   ]
  },
  {
   "cell_type": "code",
   "execution_count": 28,
   "metadata": {},
   "outputs": [
    {
     "name": "stdout",
     "output_type": "stream",
     "text": [
      "504\n",
      "ჩავიფიქრე რიცხვი 1-დან 1000-მდე.\n",
      "\n",
      "გამოიცანი რიცხვი: 50.4\n",
      "მხოლოდ მთელი რიცხვი!\n",
      "\n",
      "გამოიცანი რიცხვი: 500\n",
      "ნაკლებია.\n",
      "\n",
      "გამოიცანი რიცხვი: 504\n",
      "შენ გამოიცანი!\n",
      "ამისათვის დაგჭირდა 2 ცდა.\n"
     ]
    }
   ],
   "source": [
    "import random\n",
    "\n",
    "secret = \"ჩავიფიქრე რიცხვი 1-დან 1000-მდე.\"\n",
    "case = random.randint(1, 1000)\n",
    "\n",
    "print(case)\n",
    "print(secret)\n",
    "\n",
    "number = 0\n",
    "attempt = 0\n",
    "\n",
    "while number != case:\n",
    "    try:\n",
    "        number = int(input(\"\\nგამოიცანი რიცხვი: \"))    \n",
    "        if number < case: print(\"ნაკლებია.\")\n",
    "        elif number > case: print(\"მეტია.\")\n",
    "        else: print(\"შენ გამოიცანი!\")\n",
    "        \n",
    "        attempt += 1\n",
    "    except ValueError:\n",
    "        print(\"მხოლოდ მთელი რიცხვი!\")\n",
    "\n",
    "print(\"ამისათვის დაგჭირდა\", attempt, \"ცდა.\")"
   ]
  },
  {
   "cell_type": "code",
   "execution_count": 1,
   "metadata": {},
   "outputs": [
    {
     "name": "stdout",
     "output_type": "stream",
     "text": [
      "91\n",
      "ჩავიფიქრე რიცხვი 1-დან 1000-მდე.\n",
      "\n",
      "გამოიცანი რიცხვი [0 - დამთავრება]: 456\n",
      "მეტია.\n",
      "\n",
      "გამოიცანი რიცხვი [0 - დამთავრება]: 231\n",
      "მეტია.\n",
      "\n",
      "გამოიცანი რიცხვი [0 - დამთავრება]: 100\n",
      "მეტია.\n",
      "\n",
      "გამოიცანი რიცხვი [0 - დამთავრება]: 90\n",
      "ნაკლებია.\n",
      "\n",
      "გამოიცანი რიცხვი [0 - დამთავრება]: 91\n",
      "შენ გამოიცანი!\n",
      "ამისათვის დაგჭირდა 5 ცდა.\n"
     ]
    }
   ],
   "source": [
    "import random\n",
    "\n",
    "secret = \"ჩავიფიქრე რიცხვი 1-დან 1000-მდე.\"\n",
    "case = random.randint(1, 1000)\n",
    "\n",
    "print(case)\n",
    "print(secret)\n",
    "\n",
    "number = -1\n",
    "attempt = 0\n",
    "\n",
    "while number != case:\n",
    "    try:\n",
    "        number = int(input(\"\\nგამოიცანი რიცხვი [0 - დამთავრება]: \"))\n",
    "        if number == 0:\n",
    "            print(\"ჩაფიქრებული იყო\", case)\n",
    "            break\n",
    "        elif number < case: print(\"ნაკლებია.\")\n",
    "        elif number > case: print(\"მეტია.\")\n",
    "        else: print(\"შენ გამოიცანი!\")\n",
    "        \n",
    "        attempt += 1\n",
    "    except ValueError:\n",
    "        print(\"მხოლოდ მთელი რიცხვი!\")\n",
    "\n",
    "if number: print(\"ამისათვის დაგჭირდა\", attempt, \"ცდა.\")"
   ]
  },
  {
   "cell_type": "code",
   "execution_count": 2,
   "metadata": {},
   "outputs": [
    {
     "name": "stdout",
     "output_type": "stream",
     "text": [
      "61\n",
      "ჩავიფიქრე რიცხვი 1-დან 1000-მდე.\n",
      "\n",
      "გამოიცანი რიცხვი [0 - დამთავრება]: -8\n",
      "შეიტანე მთელი დადებითი რიცხვი [0 - დამთავრება]: 60\n",
      "ნაკლებია.\n",
      "\n",
      "გამოიცანი რიცხვი [0 - დამთავრება]: 65\n",
      "მეტია.\n",
      "\n",
      "გამოიცანი რიცხვი [0 - დამთავრება]: 61\n",
      "შენ გამოიცანი!\n",
      "ამისათვის დაგჭირდა 3 ცდა.\n"
     ]
    }
   ],
   "source": [
    "import random\n",
    "\n",
    "secret = \"ჩავიფიქრე რიცხვი 1-დან 1000-მდე.\"\n",
    "case = random.randint(1, 1000)\n",
    "\n",
    "print(case)\n",
    "print(secret)\n",
    "\n",
    "number = -1\n",
    "attempt = 0\n",
    "\n",
    "while number != case:\n",
    "    try:\n",
    "        number = int(input(\"\\nგამოიცანი რიცხვი [0 - დამთავრება]: \"))\n",
    "        \n",
    "        while number < 0:\n",
    "            number = int(input(\"\\nშეიტანე მთელი დადებითი რიცხვი [0 - დამთავრება]: \"))\n",
    "        \n",
    "        if number == 0:\n",
    "            print(\"ჩაფიქრებული იყო\", case)\n",
    "            break\n",
    "        elif number < case: print(\"ნაკლებია.\")\n",
    "        elif number > case: print(\"მეტია.\")\n",
    "        else: print(\"შენ გამოიცანი!\")\n",
    "        \n",
    "        attempt += 1\n",
    "    except ValueError:\n",
    "        print(\"მხოლოდ მთელი რიცხვი!\")\n",
    "\n",
    "if number: print(\"ამისათვის დაგჭირდა\", attempt, \"ცდა.\")"
   ]
  }
 ],
 "metadata": {
  "kernelspec": {
   "display_name": "Python 3",
   "language": "python",
   "name": "python3"
  },
  "language_info": {
   "codemirror_mode": {
    "name": "ipython",
    "version": 3
   },
   "file_extension": ".py",
   "mimetype": "text/x-python",
   "name": "python",
   "nbconvert_exporter": "python",
   "pygments_lexer": "ipython3",
   "version": "3.7.4"
  }
 },
 "nbformat": 4,
 "nbformat_minor": 1
}
