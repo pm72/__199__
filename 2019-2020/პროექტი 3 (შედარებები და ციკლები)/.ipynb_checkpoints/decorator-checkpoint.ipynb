{
 "cells": [
  {
   "cell_type": "code",
   "execution_count": 262,
   "metadata": {
    "collapsed": false
   },
   "outputs": [
    {
     "name": "stdout",
     "output_type": "stream",
     "text": [
      "<class 'str'> inner 7018528 7018528\n",
      "64210384 64212400 inner\n"
     ]
    }
   ],
   "source": [
    "def outer(a:int):\n",
    "    def inner(b:int):\n",
    "        return 2*a + b\n",
    "    return inner\n",
    "\n",
    "\n",
    "l1 = outer(5).__name__\n",
    "print(type(l1), l1, id(l1), id(outer(5).__name__))\n",
    "l2 = outer(5)\n",
    "print(id(outer(5)), id(l2), l2.__name__)"
   ]
  },
  {
   "cell_type": "code",
   "execution_count": 272,
   "metadata": {
    "collapsed": true
   },
   "outputs": [],
   "source": [
    "from datetime import datetime\n",
    "\n",
    "def timeit(fn):\n",
    "    def wrapper(*args, **kwargs):\n",
    "        start = datetime.now()\n",
    "        result = fn(*args, **kwargs)\n",
    "        print(datetime.now() - start)\n",
    "        return result\n",
    "    return wrapper"
   ]
  },
  {
   "cell_type": "code",
   "execution_count": 276,
   "metadata": {
    "collapsed": false
   },
   "outputs": [],
   "source": [
    "@timeit\n",
    "def one(n):\n",
    "    l = []\n",
    "    for i in range(n):\n",
    "        if i %2 == 0:\n",
    "            l.append(i)\n",
    "    return l\n",
    "\n",
    "\n",
    "@timeit\n",
    "def two(n):\n",
    "    return [i for i in range(n) if i %2 == 0]"
   ]
  },
  {
   "cell_type": "code",
   "execution_count": 324,
   "metadata": {
    "collapsed": false
   },
   "outputs": [
    {
     "name": "stdout",
     "output_type": "stream",
     "text": [
      "0:00:00.300001\n",
      "0:00:00.250000\n"
     ]
    }
   ],
   "source": [
    "# print(timeit(one).__name__)\n",
    "# timeit(one)(10**6)\n",
    "\n",
    "# print()\n",
    "\n",
    "n = 10**7\n",
    "\n",
    "l1 = one(n)\n",
    "l2 = two(n)\n",
    "\n",
    "# print(l1, \"\\n\")\n",
    "# print(l2, \"\\n\")"
   ]
  }
 ],
 "metadata": {
  "kernelspec": {
   "display_name": "Python 3",
   "language": "python",
   "name": "python3"
  },
  "language_info": {
   "codemirror_mode": {
    "name": "ipython",
    "version": 3
   },
   "file_extension": ".py",
   "mimetype": "text/x-python",
   "name": "python",
   "nbconvert_exporter": "python",
   "pygments_lexer": "ipython3",
   "version": "3.5.1"
  }
 },
 "nbformat": 4,
 "nbformat_minor": 0
}
