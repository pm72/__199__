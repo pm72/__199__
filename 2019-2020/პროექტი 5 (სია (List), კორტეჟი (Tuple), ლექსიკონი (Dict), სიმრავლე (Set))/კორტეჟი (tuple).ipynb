{
 "cells": [
  {
   "cell_type": "markdown",
   "metadata": {},
   "source": [
    "# კორტეჟი (tuple)"
   ]
  },
  {
   "cell_type": "markdown",
   "metadata": {},
   "source": [
    "ისევე, როგორც სია, კორტეჟიც წარმოადგენს ელემენტების სიმრავლეს. სიისგან განსხვავებით კორტეჟის შეცვლა არ შეიძლება. ეს ნიშნავს იმას, რომ კორტეჟში არ შეიძლება ელემენტის დამატება, წაშლა, სორტირება... მოკლედ, კორტეჟის შეცვლა შეუძლებელია."
   ]
  },
  {
   "cell_type": "markdown",
   "metadata": {},
   "source": [
    "### კორტეჟის შექმნა () ოპერატორით"
   ]
  },
  {
   "cell_type": "code",
   "execution_count": 5,
   "metadata": {
    "collapsed": false
   },
   "outputs": [
    {
     "name": "stdout",
     "output_type": "stream",
     "text": [
      "()\n",
      "('პაატა', 'თეონა', 'დემეტრე', 'ალექსანდრე')\n",
      "('ლევანი', 'მაკა', 'ნინო', 'ვახო')\n",
      "\n",
      "('თენგო',)\n"
     ]
    }
   ],
   "source": [
    "empty_tuple = ()\n",
    "print(empty_tuple)\n",
    "\n",
    "names1 = 'პაატა', 'თეონა', 'დემეტრე', 'ალექსანდრე'\n",
    "names2 = ('ლევანი', 'მაკა', 'ნინო', 'ვახო')\n",
    "\n",
    "print(names1)\n",
    "print(names2)\n",
    "\n",
    "print()\n",
    "\n",
    "names3 = 'თენგო',\n",
    "print(names3)"
   ]
  },
  {
   "cell_type": "code",
   "execution_count": 6,
   "metadata": {
    "collapsed": false
   },
   "outputs": [
    {
     "name": "stdout",
     "output_type": "stream",
     "text": [
      "1 2 3\n"
     ]
    }
   ],
   "source": [
    "numbers = 1, 2, 3\n",
    "a,b,c = numbers\n",
    "\n",
    "print(a, b, c)"
   ]
  },
  {
   "cell_type": "code",
   "execution_count": 10,
   "metadata": {
    "collapsed": false
   },
   "outputs": [
    {
     "name": "stdout",
     "output_type": "stream",
     "text": [
      "a = 57\n",
      "b = 63\n",
      "\n",
      "a = 63\n",
      "b = 57\n"
     ]
    }
   ],
   "source": [
    "a, b = 57, 63\n",
    "print(\"a =\", a)\n",
    "print(\"b =\", b)\n",
    "\n",
    "print()\n",
    "\n",
    "a, b = b, a\n",
    "print(\"a =\", a)\n",
    "print(\"b =\", b)"
   ]
  },
  {
   "cell_type": "code",
   "execution_count": 11,
   "metadata": {
    "collapsed": false
   },
   "outputs": [
    {
     "name": "stdout",
     "output_type": "stream",
     "text": [
      "('პაატა', 'თეონა', 'დემეტრე', 'ალექსანდრე')\n"
     ]
    }
   ],
   "source": [
    "names_list = ['პაატა', 'თეონა', 'დემეტრე', 'ალექსანდრე']\n",
    "print(tuple(names_list))"
   ]
  }
 ],
 "metadata": {
  "kernelspec": {
   "display_name": "Python 3",
   "language": "python",
   "name": "python3"
  },
  "language_info": {
   "codemirror_mode": {
    "name": "ipython",
    "version": 3
   },
   "file_extension": ".py",
   "mimetype": "text/x-python",
   "name": "python",
   "nbconvert_exporter": "python",
   "pygments_lexer": "ipython3",
   "version": "3.5.1"
  }
 },
 "nbformat": 4,
 "nbformat_minor": 0
}
