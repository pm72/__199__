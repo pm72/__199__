{
 "cells": [
  {
   "cell_type": "markdown",
   "metadata": {},
   "source": [
    "# სია (list)"
   ]
  },
  {
   "cell_type": "markdown",
   "metadata": {
    "collapsed": true
   },
   "source": [
    "სიები (list) წარმოადგენენ მონაცემთა რთულ სტრუქტურას, სადაც ობიექტები შენახულია გარკვეული თანმიმდევრობით. სიებში შესაძლებელია ობიექტების ადგილ-მდებარეობის შეცვლა, მნიშვნელობის შეცვლა, სტრიქონებისაგან განსხვავებით.\n",
    "\n",
    "თქვენ შეგიძლიათ როგორც დაამატოთ ახალი, ასევე წაშალოთ არსებული ელემენტები. სიაში ერთი და იგივე ელემენტი შეიძლება რამდენიმეჯერ შეგვხვდეს."
   ]
  },
  {
   "cell_type": "markdown",
   "metadata": {},
   "source": [
    "### სიის შექმნა [ ] ოპერატორით ან list() მეთოდით"
   ]
  },
  {
   "cell_type": "markdown",
   "metadata": {},
   "source": [
    "სიის შექმანა შესაძლებელია ნულიდან, ან რამოდენიმე ელემენტისაგან, გამოყოფილი მძიმეებით და შემოსაზღვრული კვადრატული ფრჩხილებით:"
   ]
  },
  {
   "cell_type": "code",
   "execution_count": 29,
   "metadata": {
    "collapsed": false
   },
   "outputs": [],
   "source": [
    "empty_lists = []\n",
    "weekdayes = ['ორშაბათი', 'სამშაბათი', 'ოთხშაბათი', 'ხუთშაბათი', 'პარასკევი', 'შაბათი', 'კვირა']\n",
    "firs_names = [\"თემო\", \"ანა\", \"ირაკლი\", \"თეონა\", \"ლაშა\", \"ანა\"]"
   ]
  },
  {
   "cell_type": "markdown",
   "metadata": {},
   "source": [
    "ასევე list() ფუნქციის საშუალებით შესაძლებელია ცარიელი სიის შექმნა: "
   ]
  },
  {
   "cell_type": "code",
   "execution_count": 1,
   "metadata": {
    "collapsed": false
   },
   "outputs": [
    {
     "name": "stdout",
     "output_type": "stream",
     "text": [
      "[]\n"
     ]
    }
   ],
   "source": [
    "another_empty_list = list()\n",
    "print(another_empty_list)"
   ]
  },
  {
   "cell_type": "markdown",
   "metadata": {},
   "source": [
    "weekdays სიაში ელემენტები მოთავსებული კვირის დღეების დალაგების მიხედვით (მოწესრუიგებულად). first_names სიაში კი გამოყენებულია ერთი და იგივე ელემენტები: \"ანა\""
   ]
  },
  {
   "cell_type": "markdown",
   "metadata": {},
   "source": [
    "### მონაცემთა სხვა ტიპების გარდაქმნა სიად list() ფუნქციის გამოყენებით"
   ]
  },
  {
   "cell_type": "markdown",
   "metadata": {},
   "source": [
    "ფუნქცია list() გარდაქმნის სტრიქონს სიად:"
   ]
  },
  {
   "cell_type": "code",
   "execution_count": 33,
   "metadata": {
    "collapsed": false
   },
   "outputs": [
    {
     "name": "stdout",
     "output_type": "stream",
     "text": [
      "['c', 'a', 't']\n",
      "['ready', 'fire', 'aim']\n",
      "['1', '6', '1998']\n",
      "['a', 'b', '', 'c', 'd', '', '', 'e']\n",
      "['a/b', 'c/d', '/e']\n"
     ]
    }
   ],
   "source": [
    "print(list('cat'))\n",
    "\n",
    "a_tuple = ('ready', 'fire', 'aim')\n",
    "print(list(a_tuple))\n",
    "\n",
    "birthday = '1/6/1998'\n",
    "print(birthday.split('/'))\n",
    "\n",
    "splitme = 'a/b//c/d///e'\n",
    "print(splitme.split('/'))\n",
    "\n",
    "splitme = 'a/b//c/d///e'\n",
    "print(splitme.split('//'))"
   ]
  },
  {
   "cell_type": "markdown",
   "metadata": {},
   "source": [
    "### სიის ელემენტის მიღება ინდექსით"
   ]
  },
  {
   "cell_type": "code",
   "execution_count": 21,
   "metadata": {
    "collapsed": false
   },
   "outputs": [
    {
     "name": "stdout",
     "output_type": "stream",
     "text": [
      "Gruncho\n",
      "Chico\n",
      "Harpo\n",
      "\n",
      "Harpo\n",
      "Chico\n",
      "Gruncho\n",
      "\n"
     ]
    },
    {
     "ename": "IndexError",
     "evalue": "list index out of range",
     "output_type": "error",
     "traceback": [
      "\u001b[1;31m---------------------------------------------------------------------------\u001b[0m",
      "\u001b[1;31mIndexError\u001b[0m                                Traceback (most recent call last)",
      "\u001b[1;32m<ipython-input-21-5c7788fcd553>\u001b[0m in \u001b[0;36m<module>\u001b[1;34m()\u001b[0m\n\u001b[0;32m     12\u001b[0m \u001b[0mprint\u001b[0m\u001b[1;33m(\u001b[0m\u001b[1;33m)\u001b[0m\u001b[1;33m\u001b[0m\u001b[0m\n\u001b[0;32m     13\u001b[0m \u001b[1;33m\u001b[0m\u001b[0m\n\u001b[1;32m---> 14\u001b[1;33m \u001b[0mprint\u001b[0m\u001b[1;33m(\u001b[0m\u001b[0mmarxes\u001b[0m\u001b[1;33m[\u001b[0m\u001b[1;36m5\u001b[0m\u001b[1;33m]\u001b[0m\u001b[1;33m)\u001b[0m\u001b[1;33m\u001b[0m\u001b[0m\n\u001b[0m",
      "\u001b[1;31mIndexError\u001b[0m: list index out of range"
     ]
    }
   ],
   "source": [
    "marxes = ['Gruncho', 'Chico', 'Harpo']\n",
    "print(marxes[0])\n",
    "print(marxes[1])\n",
    "print(marxes[2])\n",
    "\n",
    "print()\n",
    "\n",
    "print(marxes[-1])\n",
    "print(marxes[-2])\n",
    "print(marxes[-3])\n",
    "\n",
    "print()\n",
    "\n",
    "print(marxes[5])"
   ]
  },
  {
   "cell_type": "markdown",
   "metadata": {},
   "source": [
    "### ჩართული სიები"
   ]
  },
  {
   "cell_type": "markdown",
   "metadata": {},
   "source": [
    "სიაში შესაძლებელია სხვადასხვა ტიპის მონაცემების შენახვა. ასევე შესაძლებელია სიის შენახვაც. მაგ.:"
   ]
  },
  {
   "cell_type": "code",
   "execution_count": 65,
   "metadata": {
    "collapsed": false,
    "scrolled": true
   },
   "outputs": [
    {
     "name": "stdout",
     "output_type": "stream",
     "text": [
      "[['პაატა', 'თეონა', 'დემეტრე', 'ალექსანდრე', [45, 50, 'sos']], ['ნიკა', 'მარიამი', 'დათო', ['10', 'moon', '100'], 'ვახო', 'ლელა', [78, 96, 90], 'ბესო'], [12, 782, 57]] \n",
      "\n",
      "['პაატა', 'თეონა', 'დემეტრე', 'ალექსანდრე', [45, 50, 'sos']]\n",
      "['ნიკა', 'მარიამი', 'დათო', ['10', 'moon', '100'], 'ვახო', 'ლელა', [78, 96, 90], 'ბესო']\n",
      "[12, 782, 57]\n",
      "\n",
      "პაატა\n",
      "თეონა\n",
      "ნიკა\n",
      "მარიამი\n",
      "12\n",
      "782\n",
      "[45, 50, 'sos']\n",
      "57\n",
      "45\n",
      "50\n",
      "sos\n",
      "moon\n",
      "90\n"
     ]
    }
   ],
   "source": [
    "names1 = ['პაატა', 'თეონა', 'დემეტრე', 'ალექსანდრე', [45, 50, 'sos']]\n",
    "names2 = ['ნიკა', 'მარიამი', 'დათო', ['10', 'moon', '100'], 'ვახო', 'ლელა', [78, 96, 90], 'ბესო']\n",
    "numbers = [12, 782, 57]\n",
    "all = [names1, names2, numbers]\n",
    "\n",
    "print(all, \"\\n\")\n",
    "print(all[0])\n",
    "print(all[1])\n",
    "print(all[2])\n",
    "\n",
    "print()\n",
    "\n",
    "print(all[0][0])\n",
    "print(all[0][1])\n",
    "print(all[1][0])\n",
    "print(all[1][1])\n",
    "print(all[2][0])\n",
    "print(all[2][1])\n",
    "print(all[0][-1])\n",
    "print(all[-1][-1])\n",
    "print(all[0][-1][0])\n",
    "print(all[0][-1][1])\n",
    "print(all[0][-1][-1])\n",
    "print(all[1][3][1])\n",
    "print(all[1][-2][-1])"
   ]
  },
  {
   "cell_type": "markdown",
   "metadata": {},
   "source": [
    "### სიის ელემენტის შეცვლა [ ] ოპერატორით"
   ]
  },
  {
   "cell_type": "code",
   "execution_count": 67,
   "metadata": {
    "collapsed": false
   },
   "outputs": [
    {
     "name": "stdout",
     "output_type": "stream",
     "text": [
      "['ლევანი', 'დეა', 'ლიკა', 'ეკა', 'მარი', 'სოფო']\n"
     ]
    },
    {
     "ename": "IndexError",
     "evalue": "list assignment index out of range",
     "output_type": "error",
     "traceback": [
      "\u001b[1;31m---------------------------------------------------------------------------\u001b[0m",
      "\u001b[1;31mIndexError\u001b[0m                                Traceback (most recent call last)",
      "\u001b[1;32m<ipython-input-67-19d9930054d6>\u001b[0m in \u001b[0;36m<module>\u001b[1;34m()\u001b[0m\n\u001b[0;32m      4\u001b[0m \u001b[0mprint\u001b[0m\u001b[1;33m(\u001b[0m\u001b[0mnames\u001b[0m\u001b[1;33m)\u001b[0m\u001b[1;33m\u001b[0m\u001b[0m\n\u001b[0;32m      5\u001b[0m \u001b[1;33m\u001b[0m\u001b[0m\n\u001b[1;32m----> 6\u001b[1;33m \u001b[0mnames\u001b[0m\u001b[1;33m[\u001b[0m\u001b[1;36m7\u001b[0m\u001b[1;33m]\u001b[0m \u001b[1;33m=\u001b[0m \u001b[1;34m'გივი'\u001b[0m\u001b[1;33m\u001b[0m\u001b[0m\n\u001b[0m",
      "\u001b[1;31mIndexError\u001b[0m: list assignment index out of range"
     ]
    }
   ],
   "source": [
    "names = ['დოდო', 'დეა', 'ლიკა', 'ეკა', 'მარი', 'სოფო']\n",
    "names[0] = 'ლევანი'\n",
    "\n",
    "print(names)\n",
    "\n",
    "names[7] = 'გივი'"
   ]
  },
  {
   "cell_type": "code",
   "execution_count": null,
   "metadata": {
    "collapsed": true
   },
   "outputs": [],
   "source": []
  },
  {
   "cell_type": "code",
   "execution_count": null,
   "metadata": {
    "collapsed": true
   },
   "outputs": [],
   "source": []
  },
  {
   "cell_type": "code",
   "execution_count": null,
   "metadata": {
    "collapsed": true
   },
   "outputs": [],
   "source": []
  },
  {
   "cell_type": "markdown",
   "metadata": {},
   "source": [
    "### ქვესიის მიღება [start:end:step] ოპერატორით"
   ]
  },
  {
   "cell_type": "code",
   "execution_count": 10,
   "metadata": {
    "collapsed": false
   },
   "outputs": [
    {
     "name": "stdout",
     "output_type": "stream",
     "text": [
      "['დოდო', 'დეა']\n",
      "['ლიკა', 'ეკა']\n",
      "['სოფო', 'ეკა', 'დეა']\n",
      "['სოფო', 'ეკა']\n",
      "['სოფო', 'მარი', 'ეკა', 'ლიკა', 'დეა', 'დოდო']\n"
     ]
    }
   ],
   "source": [
    "names = ['დოდო', 'დეა', 'ლიკა', 'ეკა', 'მარი', 'სოფო']\n",
    "print(names[:2])\n",
    "print(names[2:4])\n",
    "print(names[::-2])\n",
    "print(names[:1:-2])\n",
    "print(names[::-1])"
   ]
  },
  {
   "cell_type": "markdown",
   "metadata": {},
   "source": [
    "### ელემენტის დამატება სიის ბოლოში append() მეთოდის  მეშვეობით"
   ]
  },
  {
   "cell_type": "code",
   "execution_count": 39,
   "metadata": {
    "collapsed": false
   },
   "outputs": [
    {
     "name": "stdout",
     "output_type": "stream",
     "text": [
      "['დოდო', 'დეა', 'ლიკა', 'ეკა', 'მარი', 'სოფო', 'ლევანი']\n"
     ]
    }
   ],
   "source": [
    "names = ['დოდო', 'დეა', 'ლიკა', 'ეკა', 'მარი', 'სოფო']\n",
    "names.append('ლევანი')\n",
    "\n",
    "print(names)"
   ]
  },
  {
   "cell_type": "markdown",
   "metadata": {},
   "source": [
    "### სიების გაერთიანება extend() მეთოდის გამოყენებით, ან += ოპერატორით"
   ]
  },
  {
   "cell_type": "code",
   "execution_count": 46,
   "metadata": {
    "collapsed": false
   },
   "outputs": [
    {
     "name": "stdout",
     "output_type": "stream",
     "text": [
      "['დოდო', 'დეა', 'ლიკა', 'ეკა', 'მარი', 'სოფო', 57, 65, 'სახლი', 2.59]\n",
      "\n",
      "['დოდო', 'დეა', 'ლიკა', 'ეკა', 'მარი', 'სოფო', 57, 65, 'სახლი', 2.59]\n",
      "\n",
      "['დოდო', 'დეა', 'ლიკა', 'ეკა', 'მარი', 'სოფო', [57, 65, 'სახლი', 2.59]]\n"
     ]
    }
   ],
   "source": [
    "names = ['დოდო', 'დეა', 'ლიკა', 'ეკა', 'მარი', 'სოფო']\n",
    "others = [57, 65, 'სახლი', 2.59]\n",
    "\n",
    "names.extend(others)\n",
    "print(names)\n",
    "\n",
    "print()\n",
    "\n",
    "names = ['დოდო', 'დეა', 'ლიკა', 'ეკა', 'მარი', 'სოფო']\n",
    "names += others\n",
    "print(names)\n",
    "\n",
    "print()\n",
    "\n",
    "names = ['დოდო', 'დეა', 'ლიკა', 'ეკა', 'მარი', 'სოფო']\n",
    "names.append(others)\n",
    "print(names)"
   ]
  },
  {
   "cell_type": "markdown",
   "metadata": {},
   "source": [
    "### სიაში ელემენტის დამატება ფუნქცია insert() გამოყენებით"
   ]
  },
  {
   "cell_type": "markdown",
   "metadata": {},
   "source": [
    "append() მეთოდით სიაში ელემეტის დამატება შეგვიძლია ამ სიის ბოლოში. insert() ფუნქციის დახმარებით კი – სიის ნებისმიერ ადგილას: უნდა მივუთითოს ინდქსი და ჩასამატებელი ობიექტი. მაგ.:"
   ]
  },
  {
   "cell_type": "code",
   "execution_count": 13,
   "metadata": {
    "collapsed": false
   },
   "outputs": [
    {
     "name": "stdout",
     "output_type": "stream",
     "text": [
      "['გივი', 'დოდო', 'დეა', 'ლიკა', 'ეკა', 'მარი', 'სოფო']\n",
      "['გივი', 'დოდო', 'დეა', 'ლიკა', 'ეკა', 4.56, 'მარი', 'სოფო']\n",
      "['გივი', 'დოდო', 'დეა', 'ლიკა', 'ეკა', 4.56, 'მარი', 'სოფო', '0']\n"
     ]
    }
   ],
   "source": [
    "names = ['დოდო', 'დეა', 'ლიკა', 'ეკა', 'მარი', 'სოფო']\n",
    "names.insert(0, 'გივი')\n",
    "print(names)\n",
    "\n",
    "names.insert(5, 4.56)\n",
    "print(names)\n",
    "\n",
    "names.insert(100, '0')\n",
    "print(names)"
   ]
  },
  {
   "cell_type": "markdown",
   "metadata": {},
   "source": [
    "### სიიდან ელემენტის წაშლა del ოპერატორის გამოყენებით"
   ]
  },
  {
   "cell_type": "code",
   "execution_count": 48,
   "metadata": {
    "collapsed": false
   },
   "outputs": [
    {
     "name": "stdout",
     "output_type": "stream",
     "text": [
      "['დოდო', 'დეა', 'ლიკა', 'ეკა', 'მარი']\n",
      "['დოდო', 'დეა', 'ეკა', 'მარი']\n",
      "8\n"
     ]
    },
    {
     "ename": "NameError",
     "evalue": "name 'a' is not defined",
     "output_type": "error",
     "traceback": [
      "\u001b[1;31m---------------------------------------------------------------------------\u001b[0m",
      "\u001b[1;31mNameError\u001b[0m                                 Traceback (most recent call last)",
      "\u001b[1;32m<ipython-input-48-0f12809529cf>\u001b[0m in \u001b[0;36m<module>\u001b[1;34m()\u001b[0m\n\u001b[0;32m      9\u001b[0m \u001b[0mprint\u001b[0m\u001b[1;33m(\u001b[0m\u001b[0ma\u001b[0m\u001b[1;33m)\u001b[0m\u001b[1;33m\u001b[0m\u001b[0m\n\u001b[0;32m     10\u001b[0m \u001b[1;32mdel\u001b[0m \u001b[0ma\u001b[0m\u001b[1;33m\u001b[0m\u001b[0m\n\u001b[1;32m---> 11\u001b[1;33m \u001b[0mprint\u001b[0m\u001b[1;33m(\u001b[0m\u001b[0ma\u001b[0m\u001b[1;33m)\u001b[0m\u001b[1;33m\u001b[0m\u001b[0m\n\u001b[0m",
      "\u001b[1;31mNameError\u001b[0m: name 'a' is not defined"
     ]
    }
   ],
   "source": [
    "names = ['დოდო', 'დეა', 'ლიკა', 'ეკა', 'მარი', 'სოფო']\n",
    "del names[-1]\n",
    "print(names)\n",
    "\n",
    "del names[2]\n",
    "print(names)\n",
    "\n",
    "a = 8\n",
    "print(a)\n",
    "del a\n",
    "print(a)"
   ]
  },
  {
   "cell_type": "markdown",
   "metadata": {},
   "source": [
    "del წარმოადგენს python-ის ოპერატორს და არა სიის მეთოდს – არ შეიძლება ჩაიწეროს names[-1].del().\n",
    "\n",
    "del ოპერატორი, შეიძლება ითქვას, მსგავსია მინიჭების ოპერატორის საწინააღმდეგო მოქმედებისა. იგი ობიექტსა და ამ ობიექტზე მიმთითებელ სახელს (ცვლადს) აცილებს ერთმანეთს. სხვა სიტყვებით რომ ვთვათ, კავშირს წყვეტს სახელსა და ობიექტს შორის, რის შედეგადაც ობიექტი მეხსიერებიდან (RAM) იშლება ნაგვის შემგროვებლის (Garbage collection) მეშვეობით."
   ]
  },
  {
   "cell_type": "markdown",
   "metadata": {},
   "source": [
    "### ელემენტის წაშლა მნიშვნელობის მიხედვით remove() ფუნქციის გამოყენებით"
   ]
  },
  {
   "cell_type": "code",
   "execution_count": 69,
   "metadata": {
    "collapsed": false
   },
   "outputs": [
    {
     "name": "stdout",
     "output_type": "stream",
     "text": [
      "['დეა', 'ლიკა', 'ეკა', 'მარი', 'სოფო']\n",
      "['დეა', 'ლიკა', 'მარი', 'სოფო']\n"
     ]
    }
   ],
   "source": [
    "names = ['დოდო', 'დეა', 'ლიკა', 'ეკა', 'მარი', 'სოფო']\n",
    "names.remove('დოდო')\n",
    "print(names)\n",
    "\n",
    "name = names[2]\n",
    "names.remove(name)\n",
    "print(names)"
   ]
  },
  {
   "cell_type": "code",
   "execution_count": 3,
   "metadata": {
    "collapsed": false
   },
   "outputs": [
    {
     "name": "stdout",
     "output_type": "stream",
     "text": [
      "'დოდ' არ არსებობს სიაში\n",
      "['დოდო', 'დეა', 'ლიკა', 'ეკა', 'მარი', 'სოფო']\n"
     ]
    }
   ],
   "source": [
    "names = ['დოდო', 'დეა', 'ლიკა', 'ეკა', 'მარი', 'სოფო']\n",
    "name = 'დოდ'\n",
    "\n",
    "if name in names:\n",
    "    names.remove(name)\n",
    "else: print(\"'{}' არ არსებობს სიაში\".format(name))\n",
    "\n",
    "print(names)\n"
   ]
  },
  {
   "cell_type": "markdown",
   "metadata": {},
   "source": [
    "### ელემენტის წაშლა pop() მეთოდის დახმარებით და ამავე დროს წაშლილი ელემენტის დამახსოვრება"
   ]
  },
  {
   "cell_type": "markdown",
   "metadata": {},
   "source": [
    "pop() ფუნქციის დახმარებით შეგვიძლია ერთდროულად წავშალოთ ბოლო ელემენტი სიიდან და დავიმახსოვროთ სხვა ცვლადში. მაგ.:"
   ]
  },
  {
   "cell_type": "code",
   "execution_count": 59,
   "metadata": {
    "collapsed": false
   },
   "outputs": [
    {
     "name": "stdout",
     "output_type": "stream",
     "text": [
      "სოფო\n",
      "['დოდო', 'დეა', 'ლიკა', 'ეკა', 'მარი']\n",
      "დეა\n",
      "['დოდო', 'ლიკა', 'ეკა', 'მარი']\n"
     ]
    }
   ],
   "source": [
    "names = ['დოდო', 'დეა', 'ლიკა', 'ეკა', 'მარი', 'სოფო']\n",
    "\n",
    "del_name = names.pop()\n",
    "print(del_name)\n",
    "print(names)\n",
    "\n",
    "del_name = names.pop(1)\n",
    "print(del_name)\n",
    "print(names)"
   ]
  },
  {
   "cell_type": "code",
   "execution_count": 7,
   "metadata": {
    "collapsed": false
   },
   "outputs": [
    {
     "name": "stdout",
     "output_type": "stream",
     "text": [
      "['ლიკა', 'ეკა', 'მარი', 'სოფო']\n",
      "['დოდო', 'დეა']\n"
     ]
    }
   ],
   "source": [
    "names = ['დოდო', 'დეა', 'ლიკა', 'ეკა', 'მარი', 'სოფო']\n",
    "deleted_names = []\n",
    "\n",
    "deleted_names.append(names.pop(0))\n",
    "deleted_names.append(names.pop(0))\n",
    "\n",
    "print(names)\n",
    "print(deleted_names)\n",
    "\n",
    "# LIFO    FIFo"
   ]
  },
  {
   "cell_type": "markdown",
   "metadata": {},
   "source": [
    "### სიის ელემეტის ინდექსის მიღება index() ფუნქციის დახმარებით"
   ]
  },
  {
   "cell_type": "code",
   "execution_count": 10,
   "metadata": {
    "collapsed": false
   },
   "outputs": [
    {
     "name": "stdout",
     "output_type": "stream",
     "text": [
      "2\n",
      "0\n",
      "5\n",
      "'პაატა' სიაში ვერ ვიპოვე\n"
     ]
    }
   ],
   "source": [
    "names = ['დოდო', 'დეა', 'ლიკა', 'ეკა', 'მარი', 'სოფო']\n",
    "print(names.index('ლიკა'))\n",
    "print(names.index('დოდო'))\n",
    "print(names.index('სოფო'))\n",
    "\n",
    "name = 'პაატა'\n",
    "if name in names: print(names.index(name))\n",
    "else: print(\"'{}' სიაში ვერ ვიპოვე\".format(name))"
   ]
  },
  {
   "cell_type": "markdown",
   "metadata": {},
   "source": [
    "### სიაში ელემენტის არსებობის შემოწმება in ოპერატორის გამოყენებით"
   ]
  },
  {
   "cell_type": "code",
   "execution_count": 63,
   "metadata": {
    "collapsed": false
   },
   "outputs": [
    {
     "name": "stdout",
     "output_type": "stream",
     "text": [
      "True\n",
      "False\n"
     ]
    }
   ],
   "source": [
    "names = ['დოდო', 'დეა', 'ლიკა', 'ეკა', 'მარი', 'სოფო']\n",
    "print('ეკა' in names)\n",
    "print('ვახო' in names)"
   ]
  },
  {
   "cell_type": "markdown",
   "metadata": {},
   "source": [
    "### სიაში ელემენტის რაოდენობის მიღება count() მეთოდის გამოყენებით"
   ]
  },
  {
   "cell_type": "code",
   "execution_count": 65,
   "metadata": {
    "collapsed": false
   },
   "outputs": [
    {
     "name": "stdout",
     "output_type": "stream",
     "text": [
      "2\n",
      "1\n",
      "0\n"
     ]
    }
   ],
   "source": [
    "cars = ['mercedec', 'bmw', 'toyota', 'audi', 'cadilac', 'bmw', 'suzuki', 'subaru']\n",
    "print(cars.count('bmw'))\n",
    "print(cars.count('audi'))\n",
    "print(cars.count('volkzwagen'))"
   ]
  },
  {
   "cell_type": "markdown",
   "metadata": {},
   "source": [
    "### სიის გარდაქმნა სტრიქონად join() მეთოდის გამოყენებით"
   ]
  },
  {
   "cell_type": "code",
   "execution_count": 72,
   "metadata": {
    "collapsed": false
   },
   "outputs": [
    {
     "name": "stdout",
     "output_type": "stream",
     "text": [
      "Gruncho. Chico. Harpo\n",
      "\n",
      "Harry * Hermion * Ron\n",
      "['Harry', 'Hermion', 'Ron']\n"
     ]
    }
   ],
   "source": [
    "marxes = ['Gruncho', 'Chico', 'Harpo']\n",
    "print('. '.join(marxes))\n",
    "\n",
    "print()\n",
    "\n",
    "friends = ['Harry', 'Hermion', 'Ron']\n",
    "separator = ' * '\n",
    "\n",
    "joined = separator.join(friends)\n",
    "print(joined)\n",
    "\n",
    "separated = joined.split(separator)\n",
    "print(separated)"
   ]
  },
  {
   "cell_type": "markdown",
   "metadata": {},
   "source": [
    "### სიის ელემენტების ადგილ-მდებარეობის შეცვლა (სორტირება) sort მეთოდის გამოყენებით"
   ]
  },
  {
   "cell_type": "markdown",
   "metadata": {},
   "source": [
    "ელემეტების სორტირებისთვის გამოიყენება ორი ფუნქცია:\n",
    "    1. sort() – ასორტირებს თავად სიას\n",
    "    2. sorted() – აბრუნებს სორტირებულ სიის ასლს\n",
    "\n",
    "თუ სიის ელემენტები რიცხვებია, სორტირება ხდება ზრდადობის მიხედვით. სტრიქონების შემთხვევაში კი – ანბანის მიხედვით. "
   ]
  },
  {
   "cell_type": "code",
   "execution_count": 77,
   "metadata": {
    "collapsed": false
   },
   "outputs": [
    {
     "name": "stdout",
     "output_type": "stream",
     "text": [
      "['Chico', 'Gruncho', 'Harpo']\n",
      "['Gruncho', 'Chico', 'Harpo']\n",
      "\n",
      "['Chico', 'Gruncho', 'Harpo']\n",
      "\n",
      "['Chico', 'Gruncho', 'Harpo']\n"
     ]
    }
   ],
   "source": [
    "marxes = ['Gruncho', 'Chico', 'Harpo']\n",
    "print(sorted(marxes))\n",
    "print(marxes)\n",
    "\n",
    "print()\n",
    "\n",
    "sorted_marxes = sorted(marxes)\n",
    "print(sorted_marxes)\n",
    "\n",
    "print()\n",
    "\n",
    "marxes.sort()\n",
    "print(marxes)"
   ]
  },
  {
   "cell_type": "code",
   "execution_count": 80,
   "metadata": {
    "collapsed": false
   },
   "outputs": [
    {
     "name": "stdout",
     "output_type": "stream",
     "text": [
      "[0.3, 1.4, 2, 5.01]\n",
      "\n",
      "[5.01, 2, 1.4, 0.3]\n"
     ]
    }
   ],
   "source": [
    "numbers = [2, 1.4, 5.01, 0.3]\n",
    "numbers.sort()\n",
    "print(numbers)\n",
    "\n",
    "print()\n",
    "\n",
    "numbers = [2, 1.4, 5.01, 0.3]\n",
    "numbers.sort(reverse=True)\n",
    "print(numbers)"
   ]
  },
  {
   "cell_type": "markdown",
   "metadata": {},
   "source": [
    "### სიის სიგრძის მიღება len() მეთოდის დახმარებით"
   ]
  },
  {
   "cell_type": "code",
   "execution_count": 81,
   "metadata": {
    "collapsed": false
   },
   "outputs": [
    {
     "name": "stdout",
     "output_type": "stream",
     "text": [
      "4\n"
     ]
    }
   ],
   "source": [
    "numbers = [2, 1.4, 5.01, 0.3]\n",
    "print(len(numbers))"
   ]
  },
  {
   "cell_type": "markdown",
   "metadata": {},
   "source": [
    "### მინიჭება და კოპირება შესაბამისად = ოპერატორისა და copy() მეთოდის გამოყენებით"
   ]
  },
  {
   "cell_type": "code",
   "execution_count": 86,
   "metadata": {
    "collapsed": false
   },
   "outputs": [
    {
     "name": "stdout",
     "output_type": "stream",
     "text": [
      "[1, 2, 3]\n",
      "[1, 2, 3]\n",
      "\n",
      "['სიურპრიზი', 2, 3]\n",
      "['სიურპრიზი', 2, 3]\n"
     ]
    }
   ],
   "source": [
    "a = [1, 2, 3]\n",
    "b = a\n",
    "\n",
    "print(a)\n",
    "print(b)\n",
    "\n",
    "print()\n",
    "\n",
    "a[0] = 'სიურპრიზი'\n",
    "print(a)\n",
    "print(b)\n"
   ]
  },
  {
   "cell_type": "markdown",
   "metadata": {},
   "source": [
    "b მიუთითებს იმავე ობიქტს რასაც a. აქედან გამოდის, რომ ორივე სახელი: a და b ერთი და იმავე ობიექტს მიუთითებენ. თუ შევცვლით, მაგალითად, a ცლადში სიას, b-შიც აისახება ეს ცვლილება და პირიქით b-ს შეცვლა გამოიწვევს a-ს შეცვლას."
   ]
  },
  {
   "cell_type": "code",
   "execution_count": 88,
   "metadata": {
    "collapsed": false
   },
   "outputs": [
    {
     "name": "stdout",
     "output_type": "stream",
     "text": [
      "['ნორმა', 2, 3]\n",
      "['ნორმა', 2, 3]\n"
     ]
    }
   ],
   "source": [
    "b[0] = 'ნორმა'\n",
    "print(b)\n",
    "print(a)"
   ]
  },
  {
   "cell_type": "markdown",
   "metadata": {},
   "source": [
    "შეგვიძლია არსებული ცვლადის კოპირება სხვა ცვლადში, ისე, რომ რომელიმე ცვლადის მნიშვნელობის შეცვლამ არ გამოიწვიოს მეორე ცვლადის იგივე ცვლილება. ამისათვის არსებობს სამი ხერხი:\n",
    "    1. ფუნქცია copy()\n",
    "    2. გარდაქმნის ფუნქცია list()\n",
    "    3. სიის ასლის მიღება [:]"
   ]
  },
  {
   "cell_type": "code",
   "execution_count": 89,
   "metadata": {
    "collapsed": false
   },
   "outputs": [
    {
     "name": "stdout",
     "output_type": "stream",
     "text": [
      "['28/10/1972', 2, 3]\n",
      "[1, 2, 3]\n",
      "[1, 2, 3]\n",
      "[1, 2, 3]\n"
     ]
    }
   ],
   "source": [
    "a = [1, 2, 3]\n",
    "b = a.copy()\n",
    "c = list(a)\n",
    "d = a[:]\n",
    "\n",
    "a[0] = '28/10/1972'\n",
    "\n",
    "print(a)\n",
    "print(b)\n",
    "print(c)\n",
    "print(d)"
   ]
  }
 ],
 "metadata": {
  "kernelspec": {
   "display_name": "Python 3",
   "language": "python",
   "name": "python3"
  },
  "language_info": {
   "codemirror_mode": {
    "name": "ipython",
    "version": 3
   },
   "file_extension": ".py",
   "mimetype": "text/x-python",
   "name": "python",
   "nbconvert_exporter": "python",
   "pygments_lexer": "ipython3",
   "version": "3.5.1"
  }
 },
 "nbformat": 4,
 "nbformat_minor": 0
}
