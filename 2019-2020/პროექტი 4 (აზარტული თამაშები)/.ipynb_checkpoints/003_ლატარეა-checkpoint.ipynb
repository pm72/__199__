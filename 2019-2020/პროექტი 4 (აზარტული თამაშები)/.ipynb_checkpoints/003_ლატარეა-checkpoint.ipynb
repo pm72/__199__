{
 "cells": [
  {
   "cell_type": "markdown",
   "metadata": {},
   "source": [
    "## ლატარეა"
   ]
  },
  {
   "cell_type": "markdown",
   "metadata": {},
   "source": [
    "### მომგებიანი 6 ბურთულა 49-დან (6 / 49)"
   ]
  },
  {
   "cell_type": "code",
   "execution_count": 10,
   "metadata": {
    "collapsed": false
   },
   "outputs": [
    {
     "name": "stdout",
     "output_type": "stream",
     "text": [
      "#1. ==> 48\n",
      "#2. ==> 33\n",
      "#3. ==> 16\n",
      "#4. ==> 18\n",
      "#5. ==> 16\n",
      "#6. ==> 37\n"
     ]
    }
   ],
   "source": [
    "import random\n",
    "\n",
    "for i in range(6):\n",
    "    case = random.randint(1, 49)\n",
    "    print(\"#{}. ==> {}\".format(i+1, case))"
   ]
  },
  {
   "cell_type": "markdown",
   "metadata": {},
   "source": [
    "როგორც ვხედავთ ერთი და იგივე რიცხვი ორჯერ დაგენერირდა (16). ჩვენი მიზანია რომ რიცხვები იყოს უნიკალური, სხვა სიტყვებით რომ ვთქვათ განსხვავებული, ერ უნდა უმთხვეოდეს ერთმანეთს. ამისათვის საჭიროა კომპიუტერმა დაიმახსოვროს რიცხვები, რომლებიც დააგენერირა.\n",
    "\n",
    "მაგრამ, როგორ დავამახსოვრებინოთ კომპიუტერს რიცხვები? ძალიან მარტივად: შევქმნათ სია (list), რომელიც თავიდან იქნება ცარიელი. მაგალითად:\n",
    "```python\n",
    "ball = []\n",
    "```\n",
    "ჩვენ გვჭირდება 49 რიცხვი 1-დან 49-ის ჩათვლით."
   ]
  },
  {
   "cell_type": "markdown",
   "metadata": {},
   "source": [
    "### სია (list)"
   ]
  },
  {
   "cell_type": "code",
   "execution_count": null,
   "metadata": {
    "collapsed": true
   },
   "outputs": [],
   "source": []
  },
  {
   "cell_type": "markdown",
   "metadata": {},
   "source": [
    "### 6 / 49"
   ]
  },
  {
   "cell_type": "code",
   "execution_count": 9,
   "metadata": {
    "collapsed": false
   },
   "outputs": [
    {
     "name": "stdout",
     "output_type": "stream",
     "text": [
      "16 40 7 10 26 9 "
     ]
    }
   ],
   "source": [
    "import random\n",
    "\n",
    "ball = [0] * 50\n",
    "case = random.randint(1, 49)\n",
    "\n",
    "for i in range(6):\n",
    "    while ball[case] == 1:\n",
    "        case = random.randint(1, 49)\n",
    "    \n",
    "    ball[case] = 1\n",
    "\n",
    "    print(case, end=' ')"
   ]
  },
  {
   "cell_type": "code",
   "execution_count": 35,
   "metadata": {
    "collapsed": false
   },
   "outputs": [
    {
     "name": "stdout",
     "output_type": "stream",
     "text": [
      "37 40 48 26 24 35 "
     ]
    }
   ],
   "source": [
    "import random\n",
    "\n",
    "balls = [False] * 50\n",
    "case = random.randint(1, 49)\n",
    "\n",
    "for i in range(6):\n",
    "    while balls[case]:\n",
    "        case = random.randint(1, 49)\n",
    "    \n",
    "    balls[case] = True\n",
    "    \n",
    "    print(case, end=' ')"
   ]
  },
  {
   "cell_type": "code",
   "execution_count": 43,
   "metadata": {
    "collapsed": false
   },
   "outputs": [
    {
     "name": "stdout",
     "output_type": "stream",
     "text": [
      "[36, 12, 38, 34, 8, 18]\n"
     ]
    }
   ],
   "source": [
    "import random\n",
    "\n",
    "balls = [False] * 50\n",
    "guessed_balls = []\n",
    "case = random.randint(1, 49)\n",
    "\n",
    "for i in range(6):\n",
    "    while balls[case]:\n",
    "        case = random.randint(1, 49)\n",
    "    \n",
    "    balls[case] = True\n",
    "    guessed_balls.append(case)\n",
    "\n",
    "print(guessed_balls)"
   ]
  },
  {
   "cell_type": "code",
   "execution_count": 13,
   "metadata": {
    "collapsed": false
   },
   "outputs": [
    {
     "name": "stdout",
     "output_type": "stream",
     "text": [
      "რიცხვების რაოდენობა: 10\n",
      "გამოსაცნობი რიცხვების რაოდენობა: 1\n",
      "\n",
      "\n",
      "სპორტლოტო 10 x 1\n",
      "\n",
      "მოგების შანსი: 1 / 10\n"
     ]
    }
   ],
   "source": [
    "import time\n",
    "\n",
    "N = 0\n",
    "while N < 1:\n",
    "    try:\n",
    "        N = int(input(\"რიცხვების რაოდენობა: \"))\n",
    "    except ValueError:\n",
    "        print(\"მთელი რიცხვი >1: \")\n",
    "\n",
    "K = 0\n",
    "while K < 1:\n",
    "    try:\n",
    "        K = int(input(\"გამოსაცნობი რიცხვების რაოდენობა: \"))\n",
    "    except ValueError:\n",
    "        print(\"მთელი რიცხვი >1: \")\n",
    "\n",
    "time.sleep(0.5)\n",
    "print(\"\\n\\nსპორტლოტო {} x {}\\n\".format(N, K))\n",
    "time.sleep(1)\n",
    "        \n",
    "lottery_odds = 1\n",
    "for i in range(K):\n",
    "    lottery_odds = lottery_odds * (N - i) / (i + 1)\n",
    "\n",
    "print(\"მოგების შანსი: {} / {:.0f}\".format(1, lottery_odds))"
   ]
  },
  {
   "cell_type": "code",
   "execution_count": 15,
   "metadata": {
    "collapsed": false
   },
   "outputs": [
    {
     "name": "stdout",
     "output_type": "stream",
     "text": [
      "რიცხვების რაოდენობა: 49\n",
      "გამოსაცნობი რიცხვების რაოდენობა: 6\n",
      "\n",
      "\n",
      "სპორტლოტო 49 x 6\n",
      "\n",
      "მოგების შანსი: 1 / 13983816\n"
     ]
    }
   ],
   "source": [
    "import time\n",
    "\n",
    "N = 0\n",
    "while N < 1:\n",
    "    try:\n",
    "        N = int(input(\"რიცხვების რაოდენობა: \"))\n",
    "    except ValueError:\n",
    "        print(\"მთელი რიცხვი >1: \")\n",
    "\n",
    "K = 0\n",
    "while K < 1:\n",
    "    try:\n",
    "        K = int(input(\"გამოსაცნობი რიცხვების რაოდენობა: \"))\n",
    "    except ValueError:\n",
    "        print(\"მთელი რიცხვი >1: \")\n",
    "\n",
    "print(\"\\n\\nსპორტლოტო {} x {}\\n\".format(N, K))\n",
    "time.sleep(1)\n",
    "        \n",
    "lottery_odds = 1\n",
    "for i in range(1, K+1):\n",
    "    lottery_odds = lottery_odds * (N - i + 1) / i\n",
    "\n",
    "print(\"მოგების შანსი: {} / {:.0f}\".format(1, lottery_odds))"
   ]
  }
 ],
 "metadata": {
  "kernelspec": {
   "display_name": "Python 3",
   "language": "python",
   "name": "python3"
  },
  "language_info": {
   "codemirror_mode": {
    "name": "ipython",
    "version": 3
   },
   "file_extension": ".py",
   "mimetype": "text/x-python",
   "name": "python",
   "nbconvert_exporter": "python",
   "pygments_lexer": "ipython3",
   "version": "3.5.1"
  }
 },
 "nbformat": 4,
 "nbformat_minor": 0
}
