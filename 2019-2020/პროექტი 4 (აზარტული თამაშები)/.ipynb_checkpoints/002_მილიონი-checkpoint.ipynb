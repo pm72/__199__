{
 "cells": [
  {
   "cell_type": "code",
   "execution_count": 71,
   "metadata": {
    "collapsed": false,
    "scrolled": true
   },
   "outputs": [
    {
     "name": "stdout",
     "output_type": "stream",
     "text": [
      "ლატარიაში შენ მოიგე 50000 ლარი!\n",
      "შეგიძლია მოგებული თანხა ბანკში ჩადო და მიიღო მეტი სარგებელი...\n",
      "\n",
      "წლიური საპროცენტო სარგებელი: 16\n",
      "მილიონერი რომ გახდე დაგჭირდება 21 წელი.\n"
     ]
    }
   ],
   "source": [
    "import random\n",
    "\n",
    "capital = random.randint(2, 10) * 10**4\n",
    "\n",
    "print(\"ლატარიაში შენ მოიგე {} ლარი!\".format(capital))\n",
    "print(\"შეგიძლია მოგებული თანხა ბანკში ჩადო და მიიღო მეტი სარგებელი...\\n\")\n",
    "\n",
    "percent = float(input((\"წლიური საპროცენტო სარგებელი: \")))\n",
    "\n",
    "term = 0\n",
    "while capital < 10**6:\n",
    "    fee = capital * percent / 100\n",
    "    capital += fee\n",
    "    term += 1\n",
    "\n",
    "print(\"მილიონერი რომ გახდე დაგჭირდება {} წელი.\".format(term))"
   ]
  },
  {
   "cell_type": "code",
   "execution_count": 8,
   "metadata": {
    "collapsed": false
   },
   "outputs": [
    {
     "name": "stdout",
     "output_type": "stream",
     "text": [
      "ლატარიაში შენ მოიგე 30000 ლარი!\n",
      "შეგიძლია მოგებული თანხა ბანკში ჩადო და მიიღო მეტი სარგებელი...\n",
      "\n",
      "წლიური საპროცენტო სარგებელი: 16.59\n",
      "მილიონერი რომ გახდე დაგჭირდება 23 წელი.\n"
     ]
    }
   ],
   "source": [
    "import random\n",
    "\n",
    "capital = random.randint(2, 10) * 10**4\n",
    "\n",
    "print(\"ლატარიაში შენ მოიგე {} ლარი!\".format(capital))\n",
    "print(\"შეგიძლია მოგებული თანხა ბანკში ჩადო და მიიღო მეტი სარგებელი...\\n\")\n",
    "\n",
    "percent = 0\n",
    "while percent <= 0:\n",
    "    percent = float(input((\"წლიური საპროცენტო სარგებელი: \")))\n",
    "\n",
    "term = 0\n",
    "while capital < 10**6:\n",
    "    fee = capital * percent / 100\n",
    "    capital += fee\n",
    "    term += 1\n",
    "\n",
    "print(\"მილიონერი რომ გახდე დაგჭირდება {} წელი.\".format(term))"
   ]
  },
  {
   "cell_type": "markdown",
   "metadata": {},
   "source": [
    "### რამდენი ლარი მექნება 5 წელიწადში?"
   ]
  },
  {
   "cell_type": "code",
   "execution_count": 15,
   "metadata": {
    "collapsed": false
   },
   "outputs": [
    {
     "name": "stdout",
     "output_type": "stream",
     "text": [
      "საინვესტიციო თანხა: 65000\n",
      "წლიური საპროცენტო განაკვეთი: 16.56\n",
      "საინვესტიციო პერიოდი: 10\n",
      "\n",
      "თქვენი ანგარიში: 300890.69 ლარი.\n",
      "ასე მილიონერი ვერ გახდები!\n"
     ]
    }
   ],
   "source": [
    "capital = float(input(\"საინვესტიციო თანხა: \"))\n",
    "percent = float(input(\"წლიური საპროცენტო განაკვეთი: \"))\n",
    "term = int(input(\"საინვესტიციო პერიოდი: \"))\n",
    "\n",
    "while term > 0:\n",
    "    fee = capital * percent / 100\n",
    "    capital += fee\n",
    "    term -= 1\n",
    "\n",
    "print(\"\\nანგარიში: {:.2f} ლარი.\".format(capital))\n",
    "\n",
    "if capital < 10**6: print(\"ასე მილიონერი ვერ გახდები!\")\n",
    "else: print(\"კეთილი იყოს თქვენი მობრძანება მილიონერთა კლუბში!\")"
   ]
  },
  {
   "cell_type": "code",
   "execution_count": 20,
   "metadata": {
    "collapsed": false
   },
   "outputs": [
    {
     "name": "stdout",
     "output_type": "stream",
     "text": [
      "საინვესტიციო თანხა: 80000\n",
      "წლიური საპროცენტო განაკვეთი: 23\n",
      "საინვესტიციო პერიოდი: 15\n",
      "\n",
      "ანგარიში: 1785116.89 ლარი.\n",
      "კეთილი იყოს თქვენი მობრძანება მილიონერთა კლუბში!\n"
     ]
    }
   ],
   "source": [
    "capital = float(input(\"საინვესტიციო თანხა: \"))\n",
    "percent = float(input(\"წლიური საპროცენტო განაკვეთი: \"))\n",
    "term = int(input(\"საინვესტიციო პერიოდი: \"))\n",
    "\n",
    "for value in range(term):\n",
    "    fee = capital * percent / 100\n",
    "    capital += fee\n",
    "\n",
    "print(\"\\nანგარიში: {:.2f} ლარი.\".format(capital))\n",
    "\n",
    "if capital < 10**6: print(\"ასე მილიონერი ვერ გახდები!\")\n",
    "else: print(\"კეთილი იყოს თქვენი მობრძანება მილიონერთა კლუბში!\")"
   ]
  },
  {
   "cell_type": "code",
   "execution_count": 25,
   "metadata": {
    "collapsed": false
   },
   "outputs": [
    {
     "name": "stdout",
     "output_type": "stream",
     "text": [
      "საინვესტიციო თანხა: 80000\n",
      "წლიური საპროცენტო განაკვეთი: 23\n",
      "საინვესტიციო პერიოდი: 15\n"
     ]
    },
    {
     "ename": "ValueError",
     "evalue": "Format specifier missing precision",
     "output_type": "error",
     "traceback": [
      "\u001b[1;31m---------------------------------------------------------------------------\u001b[0m",
      "\u001b[1;31mValueError\u001b[0m                                Traceback (most recent call last)",
      "\u001b[1;32m<ipython-input-25-933eb4878092>\u001b[0m in \u001b[0;36m<module>\u001b[1;34m()\u001b[0m\n\u001b[0;32m      5\u001b[0m \u001b[1;32mfor\u001b[0m \u001b[0mvalue\u001b[0m \u001b[1;32min\u001b[0m \u001b[0mrange\u001b[0m\u001b[1;33m(\u001b[0m\u001b[1;36m1\u001b[0m\u001b[1;33m,\u001b[0m \u001b[0mterm\u001b[0m\u001b[1;33m+\u001b[0m\u001b[1;36m1\u001b[0m\u001b[1;33m)\u001b[0m\u001b[1;33m:\u001b[0m\u001b[1;33m\u001b[0m\u001b[0m\n\u001b[0;32m      6\u001b[0m     \u001b[0mcapital\u001b[0m \u001b[1;33m+=\u001b[0m \u001b[0mcapital\u001b[0m \u001b[1;33m*\u001b[0m \u001b[0mpercent\u001b[0m \u001b[1;33m/\u001b[0m \u001b[1;36m100\u001b[0m\u001b[1;33m\u001b[0m\u001b[0m\n\u001b[1;32m----> 7\u001b[1;33m     \u001b[0mprint\u001b[0m\u001b[1;33m(\u001b[0m\u001b[1;34m\"წელი {}: {:2.f}\"\u001b[0m\u001b[1;33m.\u001b[0m\u001b[0mformat\u001b[0m\u001b[1;33m(\u001b[0m\u001b[0mvalue\u001b[0m\u001b[1;33m,\u001b[0m \u001b[0mcapital\u001b[0m\u001b[1;33m)\u001b[0m\u001b[1;33m)\u001b[0m\u001b[1;33m\u001b[0m\u001b[0m\n\u001b[0m\u001b[0;32m      8\u001b[0m \u001b[1;33m\u001b[0m\u001b[0m\n\u001b[0;32m      9\u001b[0m \u001b[0mprint\u001b[0m\u001b[1;33m(\u001b[0m\u001b[1;34m\"\\nანგარიში: {:.2f} ლარი.\"\u001b[0m\u001b[1;33m.\u001b[0m\u001b[0mformat\u001b[0m\u001b[1;33m(\u001b[0m\u001b[0mcapital\u001b[0m\u001b[1;33m)\u001b[0m\u001b[1;33m)\u001b[0m\u001b[1;33m\u001b[0m\u001b[0m\n",
      "\u001b[1;31mValueError\u001b[0m: Format specifier missing precision"
     ]
    }
   ],
   "source": [
    "capital = float(input(\"საინვესტიციო თანხა: \"))\n",
    "percent = float(input(\"წლიური საპროცენტო განაკვეთი: \"))\n",
    "term = int(input(\"საინვესტიციო პერიოდი: \"))\n",
    "\n",
    "for value in range(1, term+1):\n",
    "    capital += capital * percent / 100\n",
    "    print(\"წელი {}: {:.2f}\".format(value, capital))\n",
    "\n",
    "print(\"\\nანგარიში: {:.2f} ლარი.\".format(capital))\n",
    "\n",
    "if capital < 10**6: print(\"ასე მილიონერი ვერ გახდები!\")\n",
    "else: print(\"კეთილი იყოს თქვენი მობრძანება მილიონერთა კლუბში!\")"
   ]
  }
 ],
 "metadata": {
  "kernelspec": {
   "display_name": "Python 3",
   "language": "python",
   "name": "python3"
  },
  "language_info": {
   "codemirror_mode": {
    "name": "ipython",
    "version": 3
   },
   "file_extension": ".py",
   "mimetype": "text/x-python",
   "name": "python",
   "nbconvert_exporter": "python",
   "pygments_lexer": "ipython3",
   "version": "3.5.1"
  }
 },
 "nbformat": 4,
 "nbformat_minor": 1
}
