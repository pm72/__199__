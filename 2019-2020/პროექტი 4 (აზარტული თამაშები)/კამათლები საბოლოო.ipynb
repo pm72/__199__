{
 "cells": [
  {
   "cell_type": "code",
   "execution_count": 4,
   "metadata": {
    "collapsed": false
   },
   "outputs": [
    {
     "name": "stdout",
     "output_type": "stream",
     "text": [
      "====> ვითამაშოთ კამათლები!.. <====\n",
      "\n",
      "\n",
      "რაუნდი 1\n",
      "\tშენი გაგორებაა: 8\n",
      "\tჩემი გაგორებაა: 6\n",
      "\t1 : 0\n",
      "\n",
      "რაუნდი 2\n",
      "\tშენი გაგორებაა: 1.2\n",
      "\tშეიტანე რიცხვი 2-დან 12-ის ჩათვლით\n",
      "\n",
      "\tშენი გაგორებაა: 12\n",
      "\tჩემი გაგორებაა: 6\n",
      "\t2 : 0\n",
      "\n",
      "რაუნდი 3\n",
      "\tშენი გაგორებაა: 14\n",
      "\tშენი გაგორებაა: 13\n",
      "\tშენი გაგორებაა: 0\n",
      "\tშენი გაგორებაა: 1\n",
      "\tშენი გაგორებაა: -8\n",
      "\tშენი გაგორებაა: 5\n",
      "\tჩემი გაგორებაა: 8\n",
      "\t2 : 1\n",
      "\n",
      "რაუნდი 4\n",
      "\tშენი გაგორებაა: 8\n",
      "\tჩემი გაგორებაა: 2\n",
      "\t3 : 1\n",
      "\n",
      "რაუნდი 5\n",
      "\tშენი გაგორებაა: 8\n",
      "\tჩემი გაგორებაა: 7\n",
      "\t4 : 1\n",
      "\n",
      "შენ მოიგე!\n",
      "\n",
      "\n",
      "დასასრული\n"
     ]
    }
   ],
   "source": [
    "import random, time\n",
    "\n",
    "print(\"====> ვითამაშოთ კამათლები!.. <====\\n\\n\")\n",
    "\n",
    "your_number = 0\n",
    "my_number = 0\n",
    "round = 0\n",
    "\n",
    "while round < 5:\n",
    "    round += 1\n",
    "    \n",
    "    print(\"რაუნდი\", round)\n",
    "    \n",
    "    your_shoot = 0\n",
    "    while your_shoot < 2 or your_shoot > 12:\n",
    "        try:\n",
    "            your_shoot = int(input(\"\\tშენი გაგორებაა: \"))\n",
    "        except ValueError:\n",
    "            print(\"\\tშეიტანე რიცხვი 2-დან 12-ის ჩათვლით\\n\")\n",
    "    \n",
    "    print(\"\\tჩემი გაგორებაა: \", end=\"\")\n",
    "    my_shoot = random.randint(2, 12)\n",
    "    time.sleep(1)\n",
    "    print(my_shoot)\n",
    "    \n",
    "    if your_shoot > my_shoot: your_number +=1\n",
    "    elif my_shoot > your_shoot: my_number += 1\n",
    "        \n",
    "    print(\"\\t{} : {}\".format(your_number, my_number))\n",
    "    time.sleep(1)\n",
    "    \n",
    "    print()\n",
    "    \n",
    "if your_number > my_number: print(\"შენ მოიგე!\")\n",
    "elif my_number > your_number: print(\"მე მოვიგე!\")\n",
    "else: print(\"ყაიმი.\")\n",
    "\n",
    "print(\"\\n\\nდასასრული\")\n",
    "    "
   ]
  },
  {
   "cell_type": "code",
   "execution_count": 4,
   "metadata": {
    "collapsed": false
   },
   "outputs": [
    {
     "name": "stdout",
     "output_type": "stream",
     "text": [
      "შეიტანე რიცხვი 1-დან 10-ის ჩათვლით: 21\n",
      "შეიტანე რიცხვი 1-დან 10-ის ჩათვლით: 3.3\n",
      "რიცხვი 1-დან 10-ის ჩათვლით\n",
      "შეიტანე რიცხვი 1-დან 10-ის ჩათვლით: 12\n",
      "შეიტანე რიცხვი 1-დან 10-ის ჩათვლით: 6\n",
      "36\n"
     ]
    }
   ],
   "source": [
    "a = 0\n",
    "while a < 1 or a > 10:\n",
    "    try:\n",
    "        a = int(input(\"შეიტანე რიცხვი 1-დან 10-ის ჩათვლით: \"))\n",
    "    except ValueError:\n",
    "        print(\"რიცხვი 1-დან 10-ის ჩათვლით\")\n",
    "\n",
    "print(a**2)"
   ]
  }
 ],
 "metadata": {
  "kernelspec": {
   "display_name": "Python 3",
   "language": "python",
   "name": "python3"
  },
  "language_info": {
   "codemirror_mode": {
    "name": "ipython",
    "version": 3
   },
   "file_extension": ".py",
   "mimetype": "text/x-python",
   "name": "python",
   "nbconvert_exporter": "python",
   "pygments_lexer": "ipython3",
   "version": "3.5.1"
  }
 },
 "nbformat": 4,
 "nbformat_minor": 0
}
