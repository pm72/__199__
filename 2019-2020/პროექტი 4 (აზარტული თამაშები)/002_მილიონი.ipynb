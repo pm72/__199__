{
 "cells": [
  {
   "cell_type": "code",
   "execution_count": 71,
   "metadata": {
    "collapsed": false,
    "scrolled": true
   },
   "outputs": [
    {
     "name": "stdout",
     "output_type": "stream",
     "text": [
      "ლატარიაში შენ მოიგე 50000 ლარი!\n",
      "შეგიძლია მოგებული თანხა ბანკში ჩადო და მიიღო მეტი სარგებელი...\n",
      "\n",
      "წლიური საპროცენტო სარგებელი: 16\n",
      "მილიონერი რომ გახდე დაგჭირდება 21 წელი.\n"
     ]
    }
   ],
   "source": [
    "import random\n",
    "\n",
    "capital = random.randint(2, 10) * 10**4\n",
    "\n",
    "print(\"ლატარიაში შენ მოიგე {} ლარი!\".format(capital))\n",
    "print(\"შეგიძლია მოგებული თანხა ბანკში ჩადო და მიიღო მეტი სარგებელი...\\n\")\n",
    "\n",
    "percent = float(input((\"წლიური საპროცენტო სარგებელი: \")))\n",
    "\n",
    "term = 0\n",
    "while capital < 10**6:\n",
    "    fee = capital * percent / 100\n",
    "    capital += fee\n",
    "    term += 1\n",
    "\n",
    "print(\"მილიონერი რომ გახდე დაგჭირდება {} წელი.\".format(term))"
   ]
  },
  {
   "cell_type": "code",
   "execution_count": 8,
   "metadata": {
    "collapsed": false
   },
   "outputs": [
    {
     "name": "stdout",
     "output_type": "stream",
     "text": [
      "ლატარიაში შენ მოიგე 30000 ლარი!\n",
      "შეგიძლია მოგებული თანხა ბანკში ჩადო და მიიღო მეტი სარგებელი...\n",
      "\n",
      "წლიური საპროცენტო სარგებელი: 16.59\n",
      "მილიონერი რომ გახდე დაგჭირდება 23 წელი.\n"
     ]
    }
   ],
   "source": [
    "import random\n",
    "\n",
    "capital = random.randint(2, 10) * 10**4\n",
    "\n",
    "print(\"ლატარიაში შენ მოიგე {} ლარი!\".format(capital))\n",
    "print(\"შეგიძლია მოგებული თანხა ბანკში ჩადო და მიიღო მეტი სარგებელი...\\n\")\n",
    "\n",
    "percent = 0\n",
    "while percent <= 0:\n",
    "    percent = float(input((\"წლიური საპროცენტო სარგებელი: \")))\n",
    "\n",
    "term = 0\n",
    "while capital < 10**6:\n",
    "    fee = capital * percent / 100\n",
    "    capital += fee\n",
    "    term += 1\n",
    "\n",
    "print(\"მილიონერი რომ გახდე დაგჭირდება {} წელი.\".format(term))"
   ]
  },
  {
   "cell_type": "markdown",
   "metadata": {},
   "source": [
    "### რამდენი ლარი მექნება 5 წელიწადში?"
   ]
  },
  {
   "cell_type": "code",
   "execution_count": 15,
   "metadata": {
    "collapsed": false
   },
   "outputs": [
    {
     "name": "stdout",
     "output_type": "stream",
     "text": [
      "საინვესტიციო თანხა: 65000\n",
      "წლიური საპროცენტო განაკვეთი: 16.56\n",
      "საინვესტიციო პერიოდი: 10\n",
      "\n",
      "თქვენი ანგარიში: 300890.69 ლარი.\n",
      "ასე მილიონერი ვერ გახდები!\n"
     ]
    }
   ],
   "source": [
    "capital = float(input(\"საინვესტიციო თანხა: \"))\n",
    "percent = float(input(\"წლიური საპროცენტო განაკვეთი: \"))\n",
    "term = int(input(\"საინვესტიციო პერიოდი: \"))\n",
    "\n",
    "while term > 0:\n",
    "    fee = capital * percent / 100\n",
    "    capital += fee\n",
    "    term -= 1\n",
    "\n",
    "print(\"\\nანგარიში: {:.2f} ლარი.\".format(capital))\n",
    "\n",
    "if capital < 10**6: print(\"ასე მილიონერი ვერ გახდები!\")\n",
    "else: print(\"კეთილი იყოს თქვენი მობრძანება მილიონერთა კლუბში!\")"
   ]
  },
  {
   "cell_type": "code",
   "execution_count": 20,
   "metadata": {
    "collapsed": false
   },
   "outputs": [
    {
     "name": "stdout",
     "output_type": "stream",
     "text": [
      "საინვესტიციო თანხა: 80000\n",
      "წლიური საპროცენტო განაკვეთი: 23\n",
      "საინვესტიციო პერიოდი: 15\n",
      "\n",
      "ანგარიში: 1785116.89 ლარი.\n",
      "კეთილი იყოს თქვენი მობრძანება მილიონერთა კლუბში!\n"
     ]
    }
   ],
   "source": [
    "capital = float(input(\"საინვესტიციო თანხა: \"))\n",
    "percent = float(input(\"წლიური საპროცენტო განაკვეთი: \"))\n",
    "term = int(input(\"საინვესტიციო პერიოდი: \"))\n",
    "\n",
    "for value in range(term):\n",
    "    fee = capital * percent / 100\n",
    "    capital += fee\n",
    "\n",
    "print(\"\\nანგარიში: {:.2f} ლარი.\".format(capital))\n",
    "\n",
    "if capital < 10**6: print(\"ასე მილიონერი ვერ გახდები!\")\n",
    "else: print(\"კეთილი იყოს თქვენი მობრძანება მილიონერთა კლუბში!\")"
   ]
  },
  {
   "cell_type": "code",
   "execution_count": 27,
   "metadata": {
    "collapsed": false
   },
   "outputs": [
    {
     "name": "stdout",
     "output_type": "stream",
     "text": [
      "საინვესტიციო თანხა: 80000\n",
      "წლიური საპროცენტო განაკვეთი: 23\n",
      "საინვესტიციო პერიოდი: 15\n",
      "წელი 1: 98400.00\n",
      "წელი 2: 121032.00\n",
      "წელი 3: 148869.36\n",
      "წელი 4: 183109.31\n",
      "წელი 5: 225224.45\n",
      "წელი 6: 277026.08\n",
      "წელი 7: 340742.08\n",
      "წელი 8: 419112.76\n",
      "წელი 9: 515508.69\n",
      "წელი 10: 634075.69\n",
      "წელი 11: 779913.10\n",
      "წელი 12: 959293.11\n",
      "წელი 13: 1179930.52\n",
      "წელი 14: 1451314.54\n",
      "წელი 15: 1785116.89\n",
      "\n",
      "ანგარიში: 1785116.89 ლარი.\n",
      "კეთილი იყოს თქვენი მობრძანება მილიონერთა კლუბში!\n"
     ]
    }
   ],
   "source": [
    "capital = float(input(\"საინვესტიციო თანხა: \"))\n",
    "percent = float(input(\"წლიური საპროცენტო განაკვეთი: \"))\n",
    "term = int(input(\"საინვესტიციო პერიოდი: \"))\n",
    "\n",
    "for value in range(1, term+1):\n",
    "    capital += capital * percent / 100\n",
    "    print(\"წელი {}: {:.2f}\".format(value, capital))\n",
    "\n",
    "print(\"\\nანგარიში: {:.2f} ლარი.\".format(capital))\n",
    "\n",
    "if capital < 10**6: print(\"ასე მილიონერი ვერ გახდები!\")\n",
    "else: print(\"კეთილი იყოს თქვენი მობრძანება მილიონერთა კლუბში!\")"
   ]
  }
 ],
 "metadata": {
  "kernelspec": {
   "display_name": "Python 3",
   "language": "python",
   "name": "python3"
  },
  "language_info": {
   "codemirror_mode": {
    "name": "ipython",
    "version": 3
   },
   "file_extension": ".py",
   "mimetype": "text/x-python",
   "name": "python",
   "nbconvert_exporter": "python",
   "pygments_lexer": "ipython3",
   "version": "3.5.1"
  }
 },
 "nbformat": 4,
 "nbformat_minor": 1
}
