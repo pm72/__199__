{
 "cells": [
  {
   "cell_type": "markdown",
   "metadata": {},
   "source": [
    "# მონაცემთა სტრუქტურა"
   ]
  },
  {
   "cell_type": "markdown",
   "metadata": {},
   "source": [
    "int, float, bool, str   პრიმიტივები\n",
    "\n",
    "str, list, toople, dict, set   რთული, შედგენილი"
   ]
  },
  {
   "cell_type": "markdown",
   "metadata": {},
   "source": [
    "## სტრიქონი   str"
   ]
  },
  {
   "cell_type": "code",
   "execution_count": 2,
   "metadata": {
    "collapsed": false
   },
   "outputs": [
    {
     "name": "stdout",
     "output_type": "stream",
     "text": [
      "sdcdsdcb zdgdsvs xbfhh \n",
      "\n",
      "fhfjkgu gkhkn fjgygkj \n",
      "\n",
      "fgdb dfhldl sglbdf \n",
      "ssm slgdslgb srlgkdsgnslr\n",
      "    fblkdnblkdf flgdfgn\n",
      "        dg;bmdbm f;dgldf\n",
      "1235 dfdf xg\n",
      " \n",
      "\n"
     ]
    }
   ],
   "source": [
    "str1 = 'sdcdsdcb zdgdsvs xbfhh'\n",
    "\n",
    "str2 = \"fhfjkgu gkhkn fjgygkj\"\n",
    "\n",
    "str3 = '''fgdb dfhldl sglbdf \n",
    "ssm slgdslgb srlgkdsgnslr\n",
    "    fblkdnblkdf flgdfgn\n",
    "        dg;bmdbm f;dgldf\n",
    "1235 dfdf xg\n",
    "'''\n",
    "\n",
    "print(str1, \"\\n\")\n",
    "print(str2, \"\\n\")\n",
    "print(str3, \"\\n\")"
   ]
  },
  {
   "cell_type": "code",
   "execution_count": 11,
   "metadata": {
    "collapsed": false
   },
   "outputs": [
    {
     "name": "stdout",
     "output_type": "stream",
     "text": [
      "Current inventory: 90\n"
     ]
    }
   ],
   "source": [
    "bottle = 90\n",
    "base = ''\n",
    "base += \"Current inventory: \"\n",
    "base += str(bottle)\n",
    "\n",
    "print(base)"
   ]
  },
  {
   "cell_type": "code",
   "execution_count": 14,
   "metadata": {
    "collapsed": false
   },
   "outputs": [
    {
     "name": "stdout",
     "output_type": "stream",
     "text": [
      "Paata Mamporia\n",
      "Paata Mamporia\n"
     ]
    }
   ],
   "source": [
    "fname = 'Paata'\n",
    "lname = 'Mamporia'\n",
    "\n",
    "print(fname + ' ' + lname)\n",
    "\n",
    "full_name = fname + ' ' + lname\n",
    "print(full_name)"
   ]
  },
  {
   "cell_type": "code",
   "execution_count": 29,
   "metadata": {
    "collapsed": false
   },
   "outputs": [
    {
     "name": "stdout",
     "output_type": "stream",
     "text": [
      "abcdefghijklmnopqrstuvWxyz1234567890\n",
      "a\n",
      "b\n",
      "c\n",
      "j\n",
      "0\n",
      "9\n",
      "a\n",
      "\n",
      "36\n",
      "0\n",
      "9\n"
     ]
    }
   ],
   "source": [
    "str1 = \"abcdefghijklmnopqrstuvWxyz1234567890\"\n",
    "\n",
    "print(str1)\n",
    "\n",
    "print(str1[0])\n",
    "print(str1[1])\n",
    "print(str1[2])\n",
    "print(str1[9])\n",
    "print(str1[-1])\n",
    "print(str1[-2])\n",
    "print(str1[-36])\n",
    "\n",
    "print()\n",
    "\n",
    "print(len(str1))\n",
    "print(str1[len(str1)-1])\n",
    "print(str1[len(str1)-2])"
   ]
  },
  {
   "cell_type": "code",
   "execution_count": 1,
   "metadata": {
    "collapsed": false
   },
   "outputs": [
    {
     "ename": "TypeError",
     "evalue": "'str' object does not support item assignment",
     "output_type": "error",
     "traceback": [
      "\u001b[1;31m---------------------------------------------------------------------------\u001b[0m",
      "\u001b[1;31mTypeError\u001b[0m                                 Traceback (most recent call last)",
      "\u001b[1;32m<ipython-input-1-08445ffe8fb8>\u001b[0m in \u001b[0;36m<module>\u001b[1;34m()\u001b[0m\n\u001b[0;32m      1\u001b[0m \u001b[0mname\u001b[0m \u001b[1;33m=\u001b[0m \u001b[1;34m'Hanny'\u001b[0m\u001b[1;33m\u001b[0m\u001b[0m\n\u001b[1;32m----> 2\u001b[1;33m \u001b[0mname\u001b[0m\u001b[1;33m[\u001b[0m\u001b[1;36m0\u001b[0m\u001b[1;33m]\u001b[0m \u001b[1;33m=\u001b[0m \u001b[1;34m'P'\u001b[0m\u001b[1;33m\u001b[0m\u001b[0m\n\u001b[0m\u001b[0;32m      3\u001b[0m \u001b[0mprint\u001b[0m\u001b[1;33m(\u001b[0m\u001b[0mname\u001b[0m\u001b[1;33m)\u001b[0m\u001b[1;33m\u001b[0m\u001b[0m\n",
      "\u001b[1;31mTypeError\u001b[0m: 'str' object does not support item assignment"
     ]
    }
   ],
   "source": [
    "name = 'Hanny'\n",
    "name[0] = 'P'\n",
    "print(name)"
   ]
  },
  {
   "cell_type": "markdown",
   "metadata": {},
   "source": [
    "### სტრიქონიდან ქვესტრიქონის მიღება [start:end:step] ოპერატორით  (slice)"
   ]
  },
  {
   "cell_type": "code",
   "execution_count": 20,
   "metadata": {
    "collapsed": false
   },
   "outputs": [
    {
     "name": "stdout",
     "output_type": "stream",
     "text": [
      "abcde\n",
      "abcde\n",
      "abcdefghijklmnopqrstuvWxyz1234567890\n",
      "abcdefghij\n",
      "abcdefghijklmnopqrstu 21\n",
      "fghijklmnopqrstuvWxyz1234567890\n",
      "klmnopqrstuvWxyz1234567890\n",
      "fghij\n",
      "lmnopqrstuv\n",
      "acegi\n",
      "aho\n",
      "ehknqt\n",
      "abcdefghijklmnopqrstuvWxyz1234567890\n",
      "kjihgfedcba\n",
      "yvspm\n",
      "0987654321zyxWvutsrqponmlkjihgfedcba\n",
      "0987654321zyxWvutsrqponmlkjihgfedcba\n",
      "abcdefghijklmnopqrstuvWxyz1234567890\n"
     ]
    }
   ],
   "source": [
    "str1 = \"abcdefghijklmnopqrstuvWxyz1234567890\"\n",
    "\n",
    "str2 = str1[0:5:1]   # პირველი 5 ელემენტის მოთავსება\n",
    "print(str2)\n",
    "\n",
    "str2 = str1[:5]    # პირველი 5 ელემენტის მოთავსება\n",
    "print(str2)\n",
    "print(str1)\n",
    "\n",
    "str2 = str1[:10]\n",
    "print(str2)\n",
    "\n",
    "str2 = str1[:21]\n",
    "print(str2, len(str2))\n",
    "\n",
    "str2 = str1[5:]\n",
    "print(str2)\n",
    "\n",
    "str2 = str1[10:]\n",
    "print(str2)\n",
    "\n",
    "str2 = str1[5:10]\n",
    "print(str2)\n",
    "\n",
    "str2 = str1[11:22]\n",
    "print(str2)\n",
    "\n",
    "str2 = str1[:10:2]\n",
    "print(str2)\n",
    "\n",
    "str2 = str1[:20:7]\n",
    "print(str2)\n",
    "\n",
    "str2 = str1[4:22:3]\n",
    "print(str2)\n",
    "print(str1)\n",
    "\n",
    "str2 = str1[10::-1]\n",
    "print(str2)\n",
    "\n",
    "str2 = str1[24:10:-3]\n",
    "print(str2)\n",
    "\n",
    "str2 = str1[-1::-1]\n",
    "print(str2)\n",
    "\n",
    "str2 = str1[::-1]\n",
    "print(str2)\n",
    "\n",
    "str2 = str1\n",
    "str2 = str1[:]\n",
    "print(str2)"
   ]
  },
  {
   "cell_type": "code",
   "execution_count": 26,
   "metadata": {
    "collapsed": false
   },
   "outputs": [
    {
     "name": "stdout",
     "output_type": "stream",
     "text": [
      "Panny\n",
      "Pany\n",
      "Pany\n"
     ]
    }
   ],
   "source": [
    "name = 'Hanny'\n",
    "name = 'P' + name[1:]\n",
    "\n",
    "print(name)\n",
    "\n",
    "# pany\n",
    "name = name[:2] + name[3:]\n",
    "print(name)\n",
    "\n",
    "name = 'Panny'\n",
    "name = name[:3] + name[4:]\n",
    "print(name)"
   ]
  }
 ],
 "metadata": {
  "kernelspec": {
   "display_name": "Python 3",
   "language": "python",
   "name": "python3"
  },
  "language_info": {
   "codemirror_mode": {
    "name": "ipython",
    "version": 3
   },
   "file_extension": ".py",
   "mimetype": "text/x-python",
   "name": "python",
   "nbconvert_exporter": "python",
   "pygments_lexer": "ipython3",
   "version": "3.5.1"
  }
 },
 "nbformat": 4,
 "nbformat_minor": 0
}
