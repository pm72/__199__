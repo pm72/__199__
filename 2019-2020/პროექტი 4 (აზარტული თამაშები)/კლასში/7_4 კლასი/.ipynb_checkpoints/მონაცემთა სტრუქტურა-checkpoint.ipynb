{
 "cells": [
  {
   "cell_type": "markdown",
   "metadata": {},
   "source": [
    "# მონაცემთა სტრუქტურა"
   ]
  },
  {
   "cell_type": "markdown",
   "metadata": {},
   "source": [
    "int, float, bool, str   პრიმიტივები\n",
    "\n",
    "str, list, toople, dict, set   რთული, შედგენილი"
   ]
  },
  {
   "cell_type": "markdown",
   "metadata": {},
   "source": [
    "## სტრიქონი   str"
   ]
  },
  {
   "cell_type": "code",
   "execution_count": 2,
   "metadata": {
    "collapsed": false
   },
   "outputs": [
    {
     "name": "stdout",
     "output_type": "stream",
     "text": [
      "sdcdsdcb zdgdsvs xbfhh \n",
      "\n",
      "fhfjkgu gkhkn fjgygkj \n",
      "\n",
      "fgdb dfhldl sglbdf \n",
      "ssm slgdslgb srlgkdsgnslr\n",
      "    fblkdnblkdf flgdfgn\n",
      "        dg;bmdbm f;dgldf\n",
      "1235 dfdf xg\n",
      " \n",
      "\n"
     ]
    }
   ],
   "source": [
    "str1 = 'sdcdsdcb zdgdsvs xbfhh'\n",
    "\n",
    "str2 = \"fhfjkgu gkhkn fjgygkj\"\n",
    "\n",
    "str3 = '''fgdb dfhldl sglbdf \n",
    "ssm slgdslgb srlgkdsgnslr\n",
    "    fblkdnblkdf flgdfgn\n",
    "        dg;bmdbm f;dgldf\n",
    "1235 dfdf xg\n",
    "'''\n",
    "\n",
    "print(str1, \"\\n\")\n",
    "print(str2, \"\\n\")\n",
    "print(str3, \"\\n\")"
   ]
  },
  {
   "cell_type": "code",
   "execution_count": 11,
   "metadata": {
    "collapsed": false
   },
   "outputs": [
    {
     "name": "stdout",
     "output_type": "stream",
     "text": [
      "Current inventory: 90\n"
     ]
    }
   ],
   "source": [
    "bottle = 90\n",
    "base = ''\n",
    "base += \"Current inventory: \"\n",
    "base += str(bottle)\n",
    "\n",
    "print(base)"
   ]
  },
  {
   "cell_type": "code",
   "execution_count": 14,
   "metadata": {
    "collapsed": false
   },
   "outputs": [
    {
     "name": "stdout",
     "output_type": "stream",
     "text": [
      "Paata Mamporia\n",
      "Paata Mamporia\n"
     ]
    }
   ],
   "source": [
    "fname = 'Paata'\n",
    "lname = 'Mamporia'\n",
    "\n",
    "print(fname + ' ' + lname)\n",
    "\n",
    "full_name = fname + ' ' + lname\n",
    "print(full_name)"
   ]
  },
  {
   "cell_type": "code",
   "execution_count": 29,
   "metadata": {
    "collapsed": false
   },
   "outputs": [
    {
     "name": "stdout",
     "output_type": "stream",
     "text": [
      "abcdefghijklmnopqrstuvWxyz1234567890\n",
      "a\n",
      "b\n",
      "c\n",
      "j\n",
      "0\n",
      "9\n",
      "a\n",
      "\n",
      "36\n",
      "0\n",
      "9\n"
     ]
    }
   ],
   "source": [
    "str1 = \"abcdefghijklmnopqrstuvWxyz1234567890\"\n",
    "\n",
    "print(str1)\n",
    "\n",
    "print(str1[0])\n",
    "print(str1[1])\n",
    "print(str1[2])\n",
    "print(str1[9])\n",
    "print(str1[-1])\n",
    "print(str1[-2])\n",
    "print(str1[-36])\n",
    "\n",
    "print()\n",
    "\n",
    "print(len(str1))\n",
    "print(str1[len(str1)-1])\n",
    "print(str1[len(str1)-2])"
   ]
  }
 ],
 "metadata": {
  "kernelspec": {
   "display_name": "Python 3",
   "language": "python",
   "name": "python3"
  },
  "language_info": {
   "codemirror_mode": {
    "name": "ipython",
    "version": 3
   },
   "file_extension": ".py",
   "mimetype": "text/x-python",
   "name": "python",
   "nbconvert_exporter": "python",
   "pygments_lexer": "ipython3",
   "version": "3.5.1"
  }
 },
 "nbformat": 4,
 "nbformat_minor": 0
}
