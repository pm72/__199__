{
 "cells": [
  {
   "cell_type": "code",
   "execution_count": 4,
   "metadata": {
    "collapsed": false
   },
   "outputs": [
    {
     "name": "stdout",
     "output_type": "stream",
     "text": [
      "გავაგოროთ კამათლები\n",
      "\n",
      "რაუნდი 1\n",
      "\tშენი გაგორებაა: 8\n",
      "\tჩემი გაგორებაა: 2\n",
      "\t1 : 0\n",
      "\n",
      "რაუნდი 2\n",
      "\tშენი გაგორებაა: 8\n",
      "\tჩემი გაგორებაა: 3\n",
      "\t2 : 0\n",
      "\n",
      "რაუნდი 3\n",
      "\tშენი გაგორებაა: 56\n",
      "\tჩემი გაგორებაა: 10\n",
      "\t3 : 0\n",
      "\n",
      "რაუნდი 4\n",
      "\tშენი გაგორებაა: -8\n",
      "\tჩემი გაგორებაა: 10\n",
      "\t3 : 1\n",
      "\n",
      "რაუნდი 5\n",
      "\tშენი გაგორებაა: 5.6\n"
     ]
    },
    {
     "ename": "ValueError",
     "evalue": "invalid literal for int() with base 10: '5.6'",
     "output_type": "error",
     "traceback": [
      "\u001b[1;31m---------------------------------------------------------------------------\u001b[0m",
      "\u001b[1;31mValueError\u001b[0m                                Traceback (most recent call last)",
      "\u001b[1;32m<ipython-input-4-86a485a65eec>\u001b[0m in \u001b[0;36m<module>\u001b[1;34m()\u001b[0m\n\u001b[0;32m     11\u001b[0m     \u001b[0mprint\u001b[0m\u001b[1;33m(\u001b[0m\u001b[1;34m\"რაუნდი\"\u001b[0m\u001b[1;33m,\u001b[0m \u001b[0mattempt\u001b[0m\u001b[1;33m)\u001b[0m\u001b[1;33m\u001b[0m\u001b[0m\n\u001b[0;32m     12\u001b[0m \u001b[1;33m\u001b[0m\u001b[0m\n\u001b[1;32m---> 13\u001b[1;33m     \u001b[0myour_dice\u001b[0m \u001b[1;33m=\u001b[0m \u001b[0mint\u001b[0m\u001b[1;33m(\u001b[0m\u001b[0minput\u001b[0m\u001b[1;33m(\u001b[0m\u001b[1;34m\"\\tშენი გაგორებაა: \"\u001b[0m\u001b[1;33m)\u001b[0m\u001b[1;33m)\u001b[0m\u001b[1;33m\u001b[0m\u001b[0m\n\u001b[0m\u001b[0;32m     14\u001b[0m \u001b[1;33m\u001b[0m\u001b[0m\n\u001b[0;32m     15\u001b[0m     \u001b[0mprint\u001b[0m\u001b[1;33m(\u001b[0m\u001b[1;34m\"\\tჩემი გაგორებაა: \"\u001b[0m\u001b[1;33m,\u001b[0m \u001b[0mend\u001b[0m\u001b[1;33m=\u001b[0m\u001b[1;34m''\u001b[0m\u001b[1;33m)\u001b[0m\u001b[1;33m\u001b[0m\u001b[0m\n",
      "\u001b[1;31mValueError\u001b[0m: invalid literal for int() with base 10: '5.6'"
     ]
    }
   ],
   "source": [
    "import random, time\n",
    "\n",
    "print(\"გავაგოროთ კამათლები\\n\")\n",
    "\n",
    "attempt = 0\n",
    "your_number = 0\n",
    "my_number = 0\n",
    "\n",
    "while attempt < 5:\n",
    "    attempt +=1\n",
    "    print(\"რაუნდი\", attempt)\n",
    "    \n",
    "    your_dice = int(input(\"\\tშენი გაგორებაა: \"))\n",
    "    \n",
    "    print(\"\\tჩემი გაგორებაა: \", end='')\n",
    "    my_dice = random.randint(2, 12)\n",
    "    time.sleep(1)\n",
    "    print(my_dice)\n",
    "    \n",
    "    if your_dice > my_dice: your_number += 1   # your_number = your_number + 1\n",
    "    elif my_dice > your_dice: my_number += 1\n",
    "    \n",
    "    \n",
    "    time.sleep(1)\n",
    "    print(\"\\t{} : {}\".format(your_number, my_number))\n",
    "    \n",
    "    print()\n",
    "\n",
    "if your_number > my_number : print(\"შენ მოიგე!\")\n",
    "elif my_number > your_number : print(\"მე მოვიგე!\")\n",
    "else: print(\"ყაიმი!\")\n",
    "    \n",
    "print(\"\\n\\nდასასრული...\")\n",
    "        "
   ]
  },
  {
   "cell_type": "code",
   "execution_count": 3,
   "metadata": {
    "collapsed": false
   },
   "outputs": [
    {
     "name": "stdout",
     "output_type": "stream",
     "text": [
      "a = 15 , b = 45\n",
      "a = 15, b = 45 0.67\n"
     ]
    }
   ],
   "source": [
    "a = 15\n",
    "b = 45\n",
    "print(\"a =\", a, \", b =\", b)\n",
    "print(\"a = {}, b = {} {:.2f}\".format(a, b, 2/3))"
   ]
  },
  {
   "cell_type": "code",
   "execution_count": 2,
   "metadata": {
    "collapsed": false
   },
   "outputs": [
    {
     "name": "stdout",
     "output_type": "stream",
     "text": [
      "\tშენი გაგორებაა: 5.6\n",
      "\tმთელი რიცხვი 2-დან 12-ის ჩათვლით\n",
      "\tშენი გაგორებაა: -9\n",
      "\tშენი გაგორებაა: 84\n",
      "\tშენი გაგორებაა: 13\n",
      "\tშენი გაგორებაა: 5\n",
      "your_dice = 5\n"
     ]
    }
   ],
   "source": [
    "your_dice = 0\n",
    "while your_dice < 2 or your_dice > 12:\n",
    "    try:\n",
    "        your_dice = int(input(\"\\tშენი გაგორებაა: \"))\n",
    "    except ValueError:\n",
    "        print(\"\\tმთელი რიცხვი 2-დან 12-ის ჩათვლით\")\n",
    "\n",
    "print(\"your_dice = {}\".format(your_dice))"
   ]
  },
  {
   "cell_type": "code",
   "execution_count": 3,
   "metadata": {
    "collapsed": false
   },
   "outputs": [
    {
     "name": "stdout",
     "output_type": "stream",
     "text": [
      "გავაგოროთ კამათლები\n",
      "\n",
      "რაუნდი 1\n",
      "\tშენი გაგორებაა: 15\n",
      "\tშენი გაგორებაა: 9.3\n",
      "\tმთელი რიცხვი 2-დან 12-ის ჩათვლით\n",
      "\tშენი გაგორებაა: 8\n",
      "\tჩემი გაგორებაა: 5\n",
      "\t1 : 0\n",
      "\n",
      "რაუნდი 2\n",
      "\tშენი გაგორებაა: 7\n",
      "\tჩემი გაგორებაა: 5\n",
      "\t2 : 0\n",
      "\n",
      "რაუნდი 3\n",
      "\tშენი გაგორებაა: 0\n",
      "\tშენი გაგორებაა: 9\n",
      "\tჩემი გაგორებაა: 2\n",
      "\t3 : 0\n",
      "\n",
      "რაუნდი 4\n",
      "\tშენი გაგორებაა: 2\n",
      "\tჩემი გაგორებაა: 11\n",
      "\t3 : 1\n",
      "\n",
      "რაუნდი 5\n",
      "\tშენი გაგორებაა: 6\n",
      "\tჩემი გაგორებაა: 7\n",
      "\t3 : 2\n",
      "\n",
      "შენ მოიგე!\n",
      "\n",
      "\n",
      "დასასრული...\n"
     ]
    }
   ],
   "source": [
    "import random, time\n",
    "\n",
    "print(\"გავაგოროთ კამათლები\\n\")\n",
    "\n",
    "attempt = 0\n",
    "your_number = 0\n",
    "my_number = 0\n",
    "\n",
    "while attempt < 5:\n",
    "    attempt +=1\n",
    "    print(\"რაუნდი\", attempt)\n",
    "    \n",
    "    your_dice = 0\n",
    "    while your_dice < 2 or your_dice > 12:\n",
    "        try:\n",
    "            your_dice = int(input(\"\\tშენი გაგორებაა: \"))\n",
    "        except ValueError:\n",
    "            print(\"\\tმთელი რიცხვი 2-დან 12-ის ჩათვლით\")\n",
    "    \n",
    "    print(\"\\tჩემი გაგორებაა: \", end='')\n",
    "    my_dice = random.randint(2, 12)\n",
    "    time.sleep(1)\n",
    "    print(my_dice)\n",
    "    \n",
    "    if your_dice > my_dice: your_number += 1   # your_number = your_number + 1\n",
    "    elif my_dice > your_dice: my_number += 1\n",
    "    \n",
    "    \n",
    "    time.sleep(1)\n",
    "    print(\"\\t{} : {}\".format(your_number, my_number))\n",
    "    \n",
    "    print()\n",
    "\n",
    "if your_number > my_number : print(\"შენ მოიგე!\")\n",
    "elif my_number > your_number : print(\"მე მოვიგე!\")\n",
    "else: print(\"ყაიმი!\")\n",
    "    \n",
    "print(\"\\n\\nდასასრული...\")\n",
    "        "
   ]
  },
  {
   "cell_type": "markdown",
   "metadata": {},
   "source": [
    "### for ციკლი"
   ]
  },
  {
   "cell_type": "code",
   "execution_count": null,
   "metadata": {
    "collapsed": true
   },
   "outputs": [],
   "source": []
  }
 ],
 "metadata": {
  "kernelspec": {
   "display_name": "Python 3",
   "language": "python",
   "name": "python3"
  },
  "language_info": {
   "codemirror_mode": {
    "name": "ipython",
    "version": 3
   },
   "file_extension": ".py",
   "mimetype": "text/x-python",
   "name": "python",
   "nbconvert_exporter": "python",
   "pygments_lexer": "ipython3",
   "version": "3.5.1"
  }
 },
 "nbformat": 4,
 "nbformat_minor": 0
}
