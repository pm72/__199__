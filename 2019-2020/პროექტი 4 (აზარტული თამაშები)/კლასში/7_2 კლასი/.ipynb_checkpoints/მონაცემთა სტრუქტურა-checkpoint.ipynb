{
 "cells": [
  {
   "cell_type": "markdown",
   "metadata": {},
   "source": [
    "# მონაცემთა სტრუქტურა"
   ]
  },
  {
   "cell_type": "markdown",
   "metadata": {},
   "source": [
    "პრიმიტივები: int, float, bool, str\n",
    "\n",
    "შედგენილი, რთული: str, list, tuple, dict, set"
   ]
  },
  {
   "cell_type": "markdown",
   "metadata": {},
   "source": [
    "### სტრიქონები (str)"
   ]
  },
  {
   "cell_type": "code",
   "execution_count": 3,
   "metadata": {
    "collapsed": false
   },
   "outputs": [
    {
     "name": "stdout",
     "output_type": "stream",
     "text": [
      "sdsdn sdlskd sldsf \n",
      "\n",
      "sfdf rgreg dsl SDLADF ADL \n",
      "\n",
      "sdsd sldsdmslsdn\n",
      "sds;dm cslfsdm sldsml\n",
      "    dfd;fmdm df;dmg sf;sm;mfs\n",
      "            d;fmd;fm sf;sfms;f\n",
      "    df;m;m s;fsmf;\n"
     ]
    }
   ],
   "source": [
    "str1 = 'sdsdn sdlskd sldsf'\n",
    "str2 = \"sfdf rgreg dsl SDLADF ADL\"\n",
    "str3 = '''sdsd sldsdmslsdn\n",
    "sds;dm cslfsdm sldsml\n",
    "    dfd;fmdm df;dmg sf;sm;mfs\n",
    "            d;fmd;fm sf;sfms;f\n",
    "    df;m;m s;fsmf;'''\n",
    "\n",
    "print(str1, \"\\n\")\n",
    "print(str2, \"\\n\")\n",
    "print(str3)"
   ]
  },
  {
   "cell_type": "code",
   "execution_count": 6,
   "metadata": {
    "collapsed": false
   },
   "outputs": [
    {
     "name": "stdout",
     "output_type": "stream",
     "text": [
      "Paata Mamporia\n",
      "Paata Mamporia\n"
     ]
    }
   ],
   "source": [
    "fname = \"Paata\"\n",
    "lname = \"Mamporia\"\n",
    "print(fname + ' ' + lname)\n",
    "\n",
    "full_name = fname + ' ' + lname\n",
    "print(full_name)"
   ]
  },
  {
   "cell_type": "code",
   "execution_count": 10,
   "metadata": {
    "collapsed": false
   },
   "outputs": [
    {
     "name": "stdout",
     "output_type": "stream",
     "text": [
      "nananana\n"
     ]
    }
   ],
   "source": [
    "print('na' * 4)"
   ]
  },
  {
   "cell_type": "code",
   "execution_count": 11,
   "metadata": {
    "collapsed": false
   },
   "outputs": [
    {
     "name": "stdout",
     "output_type": "stream",
     "text": [
      "Current inventory: 90\n"
     ]
    }
   ],
   "source": [
    "bottle = 90\n",
    "base = ''\n",
    "\n",
    "base += \"Current inventory: \"\n",
    "base += str(bottle)\n",
    "\n",
    "print(base)"
   ]
  },
  {
   "cell_type": "code",
   "execution_count": 24,
   "metadata": {
    "collapsed": false
   },
   "outputs": [
    {
     "name": "stdout",
     "output_type": "stream",
     "text": [
      "abcdefghijklmnopqrstuvwxyz1234567890\n",
      "a\n",
      "b\n",
      "j\n",
      "q\n",
      "0\n",
      "9\n",
      "0\n",
      "a\n"
     ]
    },
    {
     "ename": "IndexError",
     "evalue": "string index out of range",
     "output_type": "error",
     "traceback": [
      "\u001b[1;31m---------------------------------------------------------------------------\u001b[0m",
      "\u001b[1;31mIndexError\u001b[0m                                Traceback (most recent call last)",
      "\u001b[1;32m<ipython-input-24-66a37f7a38dc>\u001b[0m in \u001b[0;36m<module>\u001b[1;34m()\u001b[0m\n\u001b[0;32m     12\u001b[0m \u001b[0mprint\u001b[0m\u001b[1;33m(\u001b[0m\u001b[0mstr1\u001b[0m\u001b[1;33m[\u001b[0m\u001b[0mlen\u001b[0m\u001b[1;33m(\u001b[0m\u001b[0mstr1\u001b[0m\u001b[1;33m)\u001b[0m\u001b[1;33m-\u001b[0m\u001b[1;36m1\u001b[0m\u001b[1;33m]\u001b[0m\u001b[1;33m)\u001b[0m\u001b[1;33m\u001b[0m\u001b[0m\n\u001b[0;32m     13\u001b[0m \u001b[0mprint\u001b[0m\u001b[1;33m(\u001b[0m\u001b[0mstr1\u001b[0m\u001b[1;33m[\u001b[0m\u001b[1;33m-\u001b[0m\u001b[1;36m36\u001b[0m\u001b[1;33m]\u001b[0m\u001b[1;33m)\u001b[0m\u001b[1;33m\u001b[0m\u001b[0m\n\u001b[1;32m---> 14\u001b[1;33m \u001b[0mprint\u001b[0m\u001b[1;33m(\u001b[0m\u001b[0mstr1\u001b[0m\u001b[1;33m[\u001b[0m\u001b[1;33m-\u001b[0m\u001b[1;36m37\u001b[0m\u001b[1;33m]\u001b[0m\u001b[1;33m)\u001b[0m\u001b[1;33m\u001b[0m\u001b[0m\n\u001b[0m",
      "\u001b[1;31mIndexError\u001b[0m: string index out of range"
     ]
    }
   ],
   "source": [
    "str1 = 'abcdefghijklmnopqrstuvwxyz1234567890'\n",
    "print(str1)\n",
    "\n",
    "print(str1[0])\n",
    "print(str1[1])\n",
    "print(str1[9])\n",
    "print(str1[16])\n",
    "print(str1[-1])\n",
    "print(str1[-2])\n",
    "\n",
    "len(str1)\n",
    "print(str1[len(str1)-1])\n",
    "print(str1[-36])\n",
    "print(str1[-37])"
   ]
  },
  {
   "cell_type": "code",
   "execution_count": 1,
   "metadata": {
    "collapsed": false
   },
   "outputs": [
    {
     "ename": "TypeError",
     "evalue": "'str' object does not support item assignment",
     "output_type": "error",
     "traceback": [
      "\u001b[1;31m---------------------------------------------------------------------------\u001b[0m",
      "\u001b[1;31mTypeError\u001b[0m                                 Traceback (most recent call last)",
      "\u001b[1;32m<ipython-input-1-e25f53cfab46>\u001b[0m in \u001b[0;36m<module>\u001b[1;34m()\u001b[0m\n\u001b[0;32m      1\u001b[0m \u001b[0mname\u001b[0m \u001b[1;33m=\u001b[0m \u001b[1;34m'Hanny'\u001b[0m\u001b[1;33m\u001b[0m\u001b[0m\n\u001b[1;32m----> 2\u001b[1;33m \u001b[0mname\u001b[0m\u001b[1;33m[\u001b[0m\u001b[1;36m0\u001b[0m\u001b[1;33m]\u001b[0m \u001b[1;33m=\u001b[0m \u001b[1;34m'P'\u001b[0m\u001b[1;33m\u001b[0m\u001b[0m\n\u001b[0m",
      "\u001b[1;31mTypeError\u001b[0m: 'str' object does not support item assignment"
     ]
    }
   ],
   "source": [
    "name = 'Hanny'\n",
    "name[0] = 'P'"
   ]
  },
  {
   "cell_type": "markdown",
   "metadata": {},
   "source": [
    "### სტრიქონისგან ქვესტრიქონის მიღება [start:end:step] ოპერატორით  (slice)"
   ]
  },
  {
   "cell_type": "code",
   "execution_count": 3,
   "metadata": {
    "collapsed": false
   },
   "outputs": [
    {
     "name": "stdout",
     "output_type": "stream",
     "text": [
      "abcdefghijklmnopqrstuvwxyz1234567890\n",
      "abcde\n"
     ]
    }
   ],
   "source": [
    "str1 = 'abcdefghijklmnopqrstuvwxyz1234567890'\n",
    "print(str1)\n",
    "\n",
    "str2 = str1[0:5:1]\n",
    "print(str2)\n",
    "\n",
    "str2 = str1[:5]\n",
    "print(str2)"
   ]
  }
 ],
 "metadata": {
  "kernelspec": {
   "display_name": "Python 3",
   "language": "python",
   "name": "python3"
  },
  "language_info": {
   "codemirror_mode": {
    "name": "ipython",
    "version": 3
   },
   "file_extension": ".py",
   "mimetype": "text/x-python",
   "name": "python",
   "nbconvert_exporter": "python",
   "pygments_lexer": "ipython3",
   "version": "3.5.1"
  }
 },
 "nbformat": 4,
 "nbformat_minor": 0
}
