{
 "cells": [
  {
   "cell_type": "code",
   "execution_count": 1,
   "metadata": {
    "collapsed": false
   },
   "outputs": [
    {
     "name": "stdout",
     "output_type": "stream",
     "text": [
      "გავაგოროთ კამათლები\n",
      "\n",
      "რაუნდი 1\n",
      "\tშენი გაგორებაა: 4\n",
      "\tჩემი გაგორებაა: 8\n",
      "\t0 : 1\n",
      "\n",
      "რაუნდი 2\n",
      "\tშენი გაგორებაა: 4\n",
      "\tჩემი გაგორებაა: 7\n",
      "\t0 : 2\n",
      "\n",
      "რაუნდი 3\n",
      "\tშენი გაგორებაა: 5\n",
      "\tჩემი გაგორებაა: 11\n",
      "\t0 : 3\n",
      "\n",
      "რაუნდი 4\n",
      "\tშენი გაგორებაა: 5\n",
      "\tჩემი გაგორებაა: 4\n",
      "\t1 : 3\n",
      "\n",
      "რაუნდი 5\n",
      "\tშენი გაგორებაა: 8\n",
      "\tჩემი გაგორებაა: 8\n",
      "\t1 : 3\n",
      "\n",
      "მე მოვიგე!\n",
      "\n",
      "\n",
      "დასასრული...\n"
     ]
    }
   ],
   "source": [
    "import random, time\n",
    "\n",
    "print(\"გავაგოროთ კამათლები\\n\")\n",
    "\n",
    "raund = 0\n",
    "your_number = 0\n",
    "my_number = 0\n",
    "\n",
    "while raund < 5:\n",
    "    raund +=1\n",
    "    print(\"რაუნდი\", raund)\n",
    "    print(\"\\tშენი გაგორებაა: \", end='')\n",
    "    your_dice = random.randint(2, 12)\n",
    "    time.sleep(1)\n",
    "    print(your_dice)\n",
    "    \n",
    "    print(\"\\tჩემი გაგორებაა: \", end='')\n",
    "    my_dice = random.randint(2, 12)\n",
    "    time.sleep(1)\n",
    "    print(my_dice)\n",
    "    \n",
    "    if your_dice > my_dice: your_number += 1   # your_number = your_number + 1\n",
    "    elif my_dice > your_dice: my_number += 1\n",
    "    \n",
    "    \n",
    "    time.sleep(1)\n",
    "    print(\"\\t{} : {}\".format(your_number, my_number))\n",
    "    \n",
    "    print()\n",
    "\n",
    "if your_number > my_number : print(\"შენ მოიგე!\")\n",
    "elif my_number > your_number : print(\"მე მოვიგე!\")\n",
    "else: print(\"ყაიმი!\")\n",
    "    \n",
    "print(\"\\n\\nდასასრული...\")\n",
    "        "
   ]
  },
  {
   "cell_type": "code",
   "execution_count": 19,
   "metadata": {
    "collapsed": false
   },
   "outputs": [
    {
     "name": "stdout",
     "output_type": "stream",
     "text": [
      "a = 45  b = 89\n",
      "პირველი რიცვი არის 45 მეორე რიცხვი არის\n",
      "0.3333333333333333 0.6666666666666666\n",
      "0.33 0.67\n",
      "შენი გაგორებაა: 1.56\n"
     ]
    },
    {
     "ename": "ValueError",
     "evalue": "invalid literal for int() with base 10: '1.56'",
     "output_type": "error",
     "traceback": [
      "\u001b[1;31m---------------------------------------------------------------------------\u001b[0m",
      "\u001b[1;31mValueError\u001b[0m                                Traceback (most recent call last)",
      "\u001b[1;32m<ipython-input-19-6398d1013cd6>\u001b[0m in \u001b[0;36m<module>\u001b[1;34m()\u001b[0m\n\u001b[0;32m      9\u001b[0m \u001b[0mprint\u001b[0m\u001b[1;33m(\u001b[0m\u001b[1;34m\"{:.2f} {:.2f}\"\u001b[0m\u001b[1;33m.\u001b[0m\u001b[0mformat\u001b[0m\u001b[1;33m(\u001b[0m\u001b[0ma\u001b[0m\u001b[1;33m,\u001b[0m \u001b[0mb\u001b[0m\u001b[1;33m)\u001b[0m\u001b[1;33m)\u001b[0m\u001b[1;33m\u001b[0m\u001b[0m\n\u001b[0;32m     10\u001b[0m \u001b[1;33m\u001b[0m\u001b[0m\n\u001b[1;32m---> 11\u001b[1;33m \u001b[0mn\u001b[0m \u001b[1;33m=\u001b[0m \u001b[0mint\u001b[0m\u001b[1;33m(\u001b[0m\u001b[0minput\u001b[0m\u001b[1;33m(\u001b[0m\u001b[1;34m\"შენი გაგორებაა: \"\u001b[0m\u001b[1;33m)\u001b[0m\u001b[1;33m)\u001b[0m\u001b[1;33m\u001b[0m\u001b[0m\n\u001b[0m\u001b[0;32m     12\u001b[0m \u001b[0mprint\u001b[0m\u001b[1;33m(\u001b[0m\u001b[0mn\u001b[0m\u001b[1;33m)\u001b[0m\u001b[1;33m\u001b[0m\u001b[0m\n",
      "\u001b[1;31mValueError\u001b[0m: invalid literal for int() with base 10: '1.56'"
     ]
    }
   ],
   "source": [
    "a = 45\n",
    "b = 89\n",
    "print(\"a =\", a, \" b =\", b)\n",
    "print(\"პირველი რიცვი არის {} მეორე რიცხვი არის\".format(a, b))\n",
    "\n",
    "a = 1/3\n",
    "b = 2/3\n",
    "print(a, b)\n",
    "print(\"{:.2f} {:.2f}\".format(a, b))\n",
    "\n",
    "try:\n",
    "    n = int(input(\"შენი გაგორებაა: \"))\n",
    "    print(n)\n",
    "except ValueError:\n",
    "    "
   ]
  },
  {
   "cell_type": "code",
   "execution_count": 6,
   "metadata": {
    "collapsed": false
   },
   "outputs": [
    {
     "name": "stdout",
     "output_type": "stream",
     "text": [
      "გავაგოროთ კამათლები\n",
      "\n",
      "რაუნდი 1\n",
      "\tშენი გაგორებაა: 5\n",
      "\tჩემი გაგორებაა: 4\n",
      "\t1 : 0\n",
      "\n",
      "რაუნდი 2\n",
      "\tშენი გაგორებაა: 9.2\n",
      "\tმხოლოდ მთელი რიცხვები 2-დან 12-ის ჩათვლით!\n",
      "\tშენი გაგორებაა: 65\n",
      "\tშენი გაგორებაა: 11\n",
      "\tჩემი გაგორებაა: 8\n",
      "\t2 : 0\n",
      "\n",
      "რაუნდი 3\n",
      "\tშენი გაგორებაა: 8\n",
      "\tჩემი გაგორებაა: 11\n",
      "\t2 : 1\n",
      "\n",
      "რაუნდი 4\n",
      "\tშენი გაგორებაა: 5\n",
      "\tჩემი გაგორებაა: 5\n",
      "\t2 : 1\n",
      "\n",
      "რაუნდი 5\n",
      "\tშენი გაგორებაა: 1\n",
      "\tშენი გაგორებაა: 0\n",
      "\tშენი გაგორებაა: 8\n",
      "\tჩემი გაგორებაა: 5\n",
      "\t3 : 1\n",
      "\n",
      "შენ მოიგე!\n",
      "\n",
      "\n",
      "დასასრული...\n"
     ]
    }
   ],
   "source": [
    "import random, time\n",
    "\n",
    "print(\"გავაგოროთ კამათლები\\n\")\n",
    "\n",
    "raund = 0\n",
    "your_number = 0\n",
    "my_number = 0\n",
    "\n",
    "while raund < 5:\n",
    "    raund +=1\n",
    "    print(\"რაუნდი\", raund)\n",
    "    \n",
    "    your_dice = 0\n",
    "    while your_dice < 2 or your_dice > 12:\n",
    "        try:\n",
    "            your_dice = int(input(\"\\tშენი გაგორებაა: \"))\n",
    "        except ValueError:\n",
    "            print(\"\\tმხოლოდ მთელი რიცხვები 2-დან 12-ის ჩათვლით!\")\n",
    "    \n",
    "    print(\"\\tჩემი გაგორებაა: \", end='')\n",
    "    my_dice = random.randint(2, 12)\n",
    "    time.sleep(1)\n",
    "    print(my_dice)\n",
    "    \n",
    "    if your_dice > my_dice: your_number += 1   # your_number = your_number + 1\n",
    "    elif my_dice > your_dice: my_number += 1\n",
    "    \n",
    "    \n",
    "    time.sleep(1)\n",
    "    print(\"\\t{} : {}\".format(your_number, my_number))\n",
    "    \n",
    "    print()\n",
    "\n",
    "if your_number > my_number : print(\"შენ მოიგე!\")\n",
    "elif my_number > your_number : print(\"მე მოვიგე!\")\n",
    "else: print(\"ყაიმი!\")\n",
    "    \n",
    "print(\"\\n\\nდასასრული...\")\n",
    "        "
   ]
  },
  {
   "cell_type": "code",
   "execution_count": 4,
   "metadata": {
    "collapsed": false
   },
   "outputs": [
    {
     "name": "stdout",
     "output_type": "stream",
     "text": [
      "\tშენი გაგორებაა: 5.6\n",
      "\tმხოლოდ მთელი რიცხვები 2-დან 12-ის ჩათვლით!\n",
      "\tშენი გაგორებაა: 25\n",
      "\tშენი გაგორებაა: -9\n",
      "\tშენი გაგორებაა: 1\n",
      "\tშენი გაგორებაა: 12\n",
      "your_dice =  12\n"
     ]
    }
   ],
   "source": [
    "your_dice = 0\n",
    "while \n",
    "your_dice < 2 or your_dice > 12:\n",
    "    try:\n",
    "        your_dice = int(input(\"\\tშენი გაგორებაა: \"))\n",
    "    except ValueError:\n",
    "        print(\"\\tმხოლოდ მთელი რიცხვები 2-დან 12-ის ჩათვლით!\")\n",
    "\n",
    "    \n",
    "print(\"your_dice = \", your_dice)"
   ]
  },
  {
   "cell_type": "markdown",
   "metadata": {},
   "source": [
    "for ციკლი\n",
    "for დროებითი ცვლადი in range(start, stop, step)"
   ]
  },
  {
   "cell_type": "code",
   "execution_count": 12,
   "metadata": {
    "collapsed": false
   },
   "outputs": [
    {
     "name": "stdout",
     "output_type": "stream",
     "text": [
      "5\n",
      "6\n",
      "7\n",
      "8\n",
      "9\n"
     ]
    }
   ],
   "source": [
    "for i in range(5, 10):\n",
    "    print(i)"
   ]
  },
  {
   "cell_type": "code",
   "execution_count": 15,
   "metadata": {
    "collapsed": false
   },
   "outputs": [
    {
     "name": "stdout",
     "output_type": "stream",
     "text": [
      "10\n",
      "9\n",
      "8\n",
      "7\n",
      "6\n",
      "5\n",
      "4\n",
      "3\n",
      "2\n",
      "1\n",
      "0\n"
     ]
    }
   ],
   "source": [
    "for i in range(10, -1, -1):\n",
    "    print(i)"
   ]
  },
  {
   "cell_type": "code",
   "execution_count": 1,
   "metadata": {
    "collapsed": false
   },
   "outputs": [
    {
     "name": "stdout",
     "output_type": "stream",
     "text": [
      "[5, 6, 7, 8, 9]\n",
      "range(5, 10)\n"
     ]
    }
   ],
   "source": [
    "print(list(range(5, 10)))\n",
    "print(range(5, 10))"
   ]
  },
  {
   "cell_type": "markdown",
   "metadata": {},
   "source": [
    "### სია (list)"
   ]
  },
  {
   "cell_type": "code",
   "execution_count": 40,
   "metadata": {
    "collapsed": false
   },
   "outputs": [
    {
     "name": "stdout",
     "output_type": "stream",
     "text": [
      "[1, 8, 9, 5, 2, 9, 0, -95, 1.56, True, 'Paata', 2.5, [5, 8.6, ['Paata', 'Mamporia'], 'lol']]\n",
      "1 -95\n",
      "13\n",
      "[5, 8.6, ['Paata', 'Mamporia'], 'lol']\n",
      "[5, 8.6, ['Paata', 'Mamporia'], 'lol']\n",
      "2.5\n",
      "8.6\n",
      "lol\n",
      "5\n",
      "Paata\n"
     ]
    }
   ],
   "source": [
    "a = [1, 8, 9, 5, 2, 9, 0, -95, 1.56, True, \"Paata\", 2.5, [5, 8.6, [\"Paata\", \"Mamporia\"], \"lol\"]]\n",
    "print(a)\n",
    "print(a[0], a[7])\n",
    "print(len(a))\n",
    "print(a[len(a)-1])\n",
    "print(a[-1])\n",
    "print(a[-2])\n",
    "print(a[-1][1])\n",
    "print(a[-1][-1])\n",
    "print(a[-1][0])\n",
    "print(a[-1][2][0])"
   ]
  },
  {
   "cell_type": "code",
   "execution_count": 41,
   "metadata": {
    "collapsed": false
   },
   "outputs": [
    {
     "name": "stdout",
     "output_type": "stream",
     "text": [
      "[1, 8, 9, 5, 2, 9, 0, -95, 1.56, True, 'Paata', 2.5, [5, 8.6, ['Paata', 'Mamporia'], 'lol'], 0, False, '15']\n",
      "[1, 8, 9, 5, 2, 9, 0, -95, 18, 1.56, True, 'Paata', 2.5, [5, 8.6, ['Paata', 'Mamporia'], 'lol'], 0, False, '15']\n",
      "17\n"
     ]
    }
   ],
   "source": [
    "a = [1, 8, 9, 5, 2, 9, 0, -95, 1.56, True, \"Paata\", 2.5, [5, 8.6, [\"Paata\", \"Mamporia\"], \"lol\"]]\n",
    "a.append(0)\n",
    "a.append(False)\n",
    "a.append(\"15\")\n",
    "print(a)\n",
    "\n",
    "a.insert(int(len(a)/2), 18)\n",
    "print(a)\n",
    "print(len(a))"
   ]
  },
  {
   "cell_type": "code",
   "execution_count": 42,
   "metadata": {
    "collapsed": false
   },
   "outputs": [
    {
     "name": "stdout",
     "output_type": "stream",
     "text": [
      "[1, 8, 9, 5, 2, 9, 0, -95, 18, 1.56, True, 'Paata', 2.5, [5, 8.6, ['Paata', 'Mamporia'], 'lol'], 0, False, '15']\n",
      "[1, 8, 9, 5, 2, 9, 0, -95, 18, 1.56, True, 'Paata', 2.5, [5, 8.6, ['Paata', 'Mamporia'], 'lol'], 0, False]\n",
      "[1, 8, 9, 5, 2, 9, 0, -95, 18, True, 'Paata', 2.5, [5, 8.6, ['Paata', 'Mamporia'], 'lol'], 0, False]\n"
     ]
    }
   ],
   "source": [
    "print(a)\n",
    "\n",
    "a.pop()\n",
    "print(a)\n",
    "\n",
    "a.remove(1.56)\n",
    "print(a)"
   ]
  }
 ],
 "metadata": {
  "kernelspec": {
   "display_name": "Python 3",
   "language": "python",
   "name": "python3"
  },
  "language_info": {
   "codemirror_mode": {
    "name": "ipython",
    "version": 3
   },
   "file_extension": ".py",
   "mimetype": "text/x-python",
   "name": "python",
   "nbconvert_exporter": "python",
   "pygments_lexer": "ipython3",
   "version": "3.5.1"
  }
 },
 "nbformat": 4,
 "nbformat_minor": 0
}
