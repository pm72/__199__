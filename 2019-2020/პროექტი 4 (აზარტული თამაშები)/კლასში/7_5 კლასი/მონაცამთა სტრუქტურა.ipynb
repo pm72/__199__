{
 "cells": [
  {
   "cell_type": "markdown",
   "metadata": {},
   "source": [
    "# მონაცამთა სტრუქტურა"
   ]
  },
  {
   "cell_type": "markdown",
   "metadata": {},
   "source": [
    "int, float, bool, str   პრიმიტივები\n",
    "\n",
    "str, list, tuple, dict, set   შედგენილი, რთული"
   ]
  },
  {
   "cell_type": "markdown",
   "metadata": {},
   "source": [
    "## სტრიქონი   str"
   ]
  },
  {
   "cell_type": "code",
   "execution_count": 1,
   "metadata": {
    "collapsed": false
   },
   "outputs": [
    {
     "name": "stdout",
     "output_type": "stream",
     "text": [
      "ssffgff fgdggeh trh \n",
      "\n",
      "dasadb fhh456 dgdg \n",
      "\n",
      "sdm sld sdksdnsd ksdkbsdkb\n",
      "sldjsdlm dfgdgdsg dgldfdf \n",
      "    fdl sldsdvdbd sffs\n",
      "            s;dj; sfslwfwrjp\n",
      "1259+ sdsd sffs \n",
      "\n"
     ]
    }
   ],
   "source": [
    "str1 = 'ssffgff fgdggeh trh'\n",
    "\n",
    "str2 = \"dasadb fhh456 dgdg\"\n",
    "\n",
    "str3 = '''sdm sld sdksdnsd ksdkbsdkb\n",
    "sldjsdlm dfgdgdsg dgldfdf \n",
    "    fdl sldsdvdbd sffs\n",
    "            s;dj; sfslwfwrjp\n",
    "1259+ sdsd sffs'''\n",
    "\n",
    "print(str1, \"\\n\")\n",
    "print(str2, \"\\n\")\n",
    "print(str3, \"\\n\")"
   ]
  },
  {
   "cell_type": "code",
   "execution_count": 9,
   "metadata": {
    "collapsed": false
   },
   "outputs": [
    {
     "name": "stdout",
     "output_type": "stream",
     "text": [
      "Current inventory: 90 45\n"
     ]
    }
   ],
   "source": [
    "bottle = 90\n",
    "base = ''\n",
    "base += \"Current inventory: \"\n",
    "base += str(bottle)\n",
    "\n",
    "xmali = 45\n",
    "\n",
    "base += (\" \" + str(xmali))\n",
    "\n",
    "print(base)"
   ]
  },
  {
   "cell_type": "code",
   "execution_count": 13,
   "metadata": {
    "collapsed": false
   },
   "outputs": [
    {
     "name": "stdout",
     "output_type": "stream",
     "text": [
      "Paata Mamporia\n",
      "Paata Mamporia\n"
     ]
    }
   ],
   "source": [
    "fname = 'Paata'\n",
    "lname = 'Mamporia'\n",
    "\n",
    "print(fname + ' ' + lname)\n",
    "\n",
    "full_name = fname + ' ' + lname\n",
    "print(full_name)"
   ]
  },
  {
   "cell_type": "code",
   "execution_count": 32,
   "metadata": {
    "collapsed": false
   },
   "outputs": [
    {
     "name": "stdout",
     "output_type": "stream",
     "text": [
      "abcdefghijklmnopqrstuvwxyz1234567890\n",
      "a\n",
      "b\n",
      "j\n",
      "0\n",
      "9\n",
      "8\n",
      "a\n"
     ]
    },
    {
     "ename": "IndexError",
     "evalue": "string index out of range",
     "output_type": "error",
     "traceback": [
      "\u001b[1;31m---------------------------------------------------------------------------\u001b[0m",
      "\u001b[1;31mIndexError\u001b[0m                                Traceback (most recent call last)",
      "\u001b[1;32m<ipython-input-32-57958768f2f9>\u001b[0m in \u001b[0;36m<module>\u001b[1;34m()\u001b[0m\n\u001b[0;32m      9\u001b[0m \u001b[0mprint\u001b[0m\u001b[1;33m(\u001b[0m\u001b[0mstr1\u001b[0m\u001b[1;33m[\u001b[0m\u001b[1;33m-\u001b[0m\u001b[1;36m3\u001b[0m\u001b[1;33m]\u001b[0m\u001b[1;33m)\u001b[0m\u001b[1;33m\u001b[0m\u001b[0m\n\u001b[0;32m     10\u001b[0m \u001b[0mprint\u001b[0m\u001b[1;33m(\u001b[0m\u001b[0mstr1\u001b[0m\u001b[1;33m[\u001b[0m\u001b[1;33m-\u001b[0m\u001b[1;36m36\u001b[0m\u001b[1;33m]\u001b[0m\u001b[1;33m)\u001b[0m\u001b[1;33m\u001b[0m\u001b[0m\n\u001b[1;32m---> 11\u001b[1;33m \u001b[0mprint\u001b[0m\u001b[1;33m(\u001b[0m\u001b[0mstr1\u001b[0m\u001b[1;33m[\u001b[0m\u001b[1;33m-\u001b[0m\u001b[1;36m37\u001b[0m\u001b[1;33m]\u001b[0m\u001b[1;33m)\u001b[0m\u001b[1;33m\u001b[0m\u001b[0m\n\u001b[0m\u001b[0;32m     12\u001b[0m \u001b[1;33m\u001b[0m\u001b[0m\n\u001b[0;32m     13\u001b[0m \u001b[0mprint\u001b[0m\u001b[1;33m(\u001b[0m\u001b[1;33m)\u001b[0m\u001b[1;33m\u001b[0m\u001b[0m\n",
      "\u001b[1;31mIndexError\u001b[0m: string index out of range"
     ]
    }
   ],
   "source": [
    "str1 = \"abcdefghijklmnopqrstuvwxyz1234567890\"\n",
    "\n",
    "print(str1)\n",
    "print(str1[0])\n",
    "print(str1[1])\n",
    "print(str1[9])\n",
    "print(str1[-1])\n",
    "print(str1[-2])\n",
    "print(str1[-3])\n",
    "print(str1[-36])\n",
    "print(str1[-37])\n",
    "\n",
    "print()\n",
    "print(len(str1))\n",
    "print(str1[len(str1)-1])\n",
    "print(str1[len(str1)-2])"
   ]
  },
  {
   "cell_type": "code",
   "execution_count": 1,
   "metadata": {
    "collapsed": false
   },
   "outputs": [
    {
     "ename": "TypeError",
     "evalue": "'str' object does not support item assignment",
     "output_type": "error",
     "traceback": [
      "\u001b[1;31m---------------------------------------------------------------------------\u001b[0m",
      "\u001b[1;31mTypeError\u001b[0m                                 Traceback (most recent call last)",
      "\u001b[1;32m<ipython-input-1-0107d36b519f>\u001b[0m in \u001b[0;36m<module>\u001b[1;34m()\u001b[0m\n\u001b[0;32m      1\u001b[0m \u001b[0mname\u001b[0m \u001b[1;33m=\u001b[0m \u001b[1;34m\"Hanny\"\u001b[0m\u001b[1;33m\u001b[0m\u001b[0m\n\u001b[1;32m----> 2\u001b[1;33m \u001b[0mname\u001b[0m\u001b[1;33m[\u001b[0m\u001b[1;36m0\u001b[0m\u001b[1;33m]\u001b[0m \u001b[1;33m=\u001b[0m \u001b[1;34m\"P\"\u001b[0m\u001b[1;33m\u001b[0m\u001b[0m\n\u001b[0m\u001b[0;32m      3\u001b[0m \u001b[0mprint\u001b[0m\u001b[1;33m(\u001b[0m\u001b[0mname\u001b[0m\u001b[1;33m)\u001b[0m\u001b[1;33m\u001b[0m\u001b[0m\n",
      "\u001b[1;31mTypeError\u001b[0m: 'str' object does not support item assignment"
     ]
    }
   ],
   "source": [
    "name = \"Hanny\"\n",
    "name[0] = \"P\"\n",
    "print(name)"
   ]
  },
  {
   "cell_type": "markdown",
   "metadata": {},
   "source": [
    "### სტრიქონიდან ქვესტრიქონის მიღება [start:end:step] ოპერატის საშუალებით  (slice)"
   ]
  },
  {
   "cell_type": "code",
   "execution_count": 22,
   "metadata": {
    "collapsed": false
   },
   "outputs": [
    {
     "name": "stdout",
     "output_type": "stream",
     "text": [
      "abcde\n",
      "abcdefghijklmnopqrstuvwxyz1234567890\n",
      "abcde\n",
      "abcdefghij\n",
      "abcdefghijklmnopqrstuv\n",
      "acegi\n",
      "fghijklmnopqrstuvwxyz1234567890\n",
      "klmnopqrstuvwxyz1234567890\n",
      "knqtwz369\n",
      "hijklmno\n",
      "hkn\n",
      "yxwvutsrqpon\n",
      "0987654321zyxwvutsrqponmlkjihgfedcba\n",
      "0987654321zyxwvutsrqponmlkjihgfedcba\n",
      "5678\n"
     ]
    }
   ],
   "source": [
    "str1 = \"abcdefghijklmnopqrstuvwxyz1234567890\"\n",
    "\n",
    "str2 = str1[0:5:1]\n",
    "print(str2)\n",
    "print(str1)\n",
    "\n",
    "str2 = str1[:5]\n",
    "print(str2)\n",
    "\n",
    "str2 = str1[:10]\n",
    "print(str2)\n",
    "\n",
    "str2 = str1[:22]\n",
    "print(str2)\n",
    "\n",
    "str2 = str1[:10:2]\n",
    "print(str2)\n",
    "\n",
    "str2 = str1[5:]\n",
    "print(str2)\n",
    "\n",
    "str2 = str1[10:]\n",
    "print(str2)\n",
    "\n",
    "str2 = str1[10::3]\n",
    "print(str2)\n",
    "\n",
    "str2 = str1[7:15]\n",
    "print(str2)\n",
    "\n",
    "str2 = str1[7:15:3]\n",
    "print(str2)\n",
    "\n",
    "str2 = str1[24:12:-1]\n",
    "print(str2)\n",
    "\n",
    "str2 = str1[-1::-1]\n",
    "print(str2)\n",
    "\n",
    "str2 = str1[::-1]\n",
    "print(str2)\n",
    "\n",
    "str2 = str1[-6:-2:]\n",
    "print(str2)"
   ]
  },
  {
   "cell_type": "code",
   "execution_count": 30,
   "metadata": {
    "collapsed": false
   },
   "outputs": [
    {
     "name": "stdout",
     "output_type": "stream",
     "text": [
      "Panny\n",
      "Pany\n",
      "Pany\n",
      "Pany\n"
     ]
    }
   ],
   "source": [
    "name = \"Hanny\"\n",
    "name = \"P\" + name[1:]\n",
    "print(name)\n",
    "\n",
    "#pany\n",
    "name = name[:2] + name[3:]\n",
    "print(name)\n",
    "\n",
    "name = 'Panny'\n",
    "name = name[:3] + name[4:]\n",
    "print(name)\n",
    "\n",
    "name = 'Panny'\n",
    "name = name[:3] + name[-1]\n",
    "print(name)"
   ]
  }
 ],
 "metadata": {
  "kernelspec": {
   "display_name": "Python 3",
   "language": "python",
   "name": "python3"
  },
  "language_info": {
   "codemirror_mode": {
    "name": "ipython",
    "version": 3
   },
   "file_extension": ".py",
   "mimetype": "text/x-python",
   "name": "python",
   "nbconvert_exporter": "python",
   "pygments_lexer": "ipython3",
   "version": "3.5.1"
  }
 },
 "nbformat": 4,
 "nbformat_minor": 0
}
