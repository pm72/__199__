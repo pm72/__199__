{
 "cells": [
  {
   "cell_type": "code",
   "execution_count": 4,
   "metadata": {
    "collapsed": false
   },
   "outputs": [
    {
     "name": "stdout",
     "output_type": "stream",
     "text": [
      "გავაგოროთ კამათლები\n",
      "\n",
      "რაუნდი 1\n",
      "\tშენი გაგორებაა: 4\n",
      "\tჩემი გაგორებაა: 6\n",
      "\t0 : 1\n",
      "\n",
      "რაუნდი 2\n",
      "\tშენი გაგორებაა: 3\n",
      "\tჩემი გაგორებაა: 11\n",
      "\t0 : 2\n",
      "\n",
      "რაუნდი 3\n",
      "\tშენი გაგორებაა: 7\n",
      "\tჩემი გაგორებაა: 3\n",
      "\t1 : 2\n",
      "\n",
      "რაუნდი 4\n",
      "\tშენი გაგორებაა: 11\n",
      "\tჩემი გაგორებაა: 2\n",
      "\t2 : 2\n",
      "\n",
      "რაუნდი 5\n",
      "\tშენი გაგორებაა: 7\n",
      "\tჩემი გაგორებაა: 10\n",
      "\t2 : 3\n",
      "\n",
      "მე მოვიგე!\n",
      "\n",
      "\n",
      "დასასრული...\n"
     ]
    }
   ],
   "source": [
    "import random, time\n",
    "\n",
    "print(\"გავაგოროთ კამათლები\\n\")\n",
    "\n",
    "attempt = 0\n",
    "your_number = 0\n",
    "my_number = 0\n",
    "\n",
    "while attempt < 5:\n",
    "    attempt +=1\n",
    "    print(\"რაუნდი\", attempt)\n",
    "    print(\"\\tშენი გაგორებაა: \", end='')\n",
    "    your_dice = random.randint(2, 12)\n",
    "    time.sleep(1)\n",
    "    print(your_dice)\n",
    "    \n",
    "    print(\"\\tჩემი გაგორებაა: \", end='')\n",
    "    my_dice = random.randint(2, 12)\n",
    "    time.sleep(1)\n",
    "    print(my_dice)\n",
    "    \n",
    "    if your_dice > my_dice: your_number += 1   # your_number = your_number + 1\n",
    "    elif my_dice > your_dice: my_number += 1\n",
    "    \n",
    "    \n",
    "    time.sleep(1)\n",
    "    print(\"\\t{} : {}\".format(your_number, my_number))\n",
    "    \n",
    "    print()\n",
    "\n",
    "if your_number > my_number : print(\"შენ მოიგე!\")\n",
    "elif my_number > your_number : print(\"მე მოვიგე!\")\n",
    "else: print(\"ყაიმი!\")\n",
    "    \n",
    "print(\"\\n\\nდასასრული...\")"
   ]
  },
  {
   "cell_type": "code",
   "execution_count": 21,
   "metadata": {
    "collapsed": false
   },
   "outputs": [
    {
     "name": "stdout",
     "output_type": "stream",
     "text": [
      "a = 45 b = 89 c = 0.6666666666666666\n",
      "a = 45, b = 89, c = 0.6666666666666666\n",
      "a = 45, b = 89, c = 0.67\n"
     ]
    }
   ],
   "source": [
    "a = 45\n",
    "b = 89\n",
    "c = 2/3\n",
    "\n",
    "print(\"a =\", a, \"b =\", b, \"c =\", c)\n",
    "print(\"a = {}, b = {}, c = {}\".format(a, b, c))\n",
    "print(\"a = {}, b = {}, c = {:.2f}\".format(a, b, c))"
   ]
  },
  {
   "cell_type": "code",
   "execution_count": 22,
   "metadata": {
    "collapsed": false
   },
   "outputs": [
    {
     "name": "stdout",
     "output_type": "stream",
     "text": [
      "გავაგოროთ კამათლები\n",
      "\n",
      "რაუნდი 1\n",
      "\tშენი გაგორებაა: 8\n",
      "\tჩემი გაგორებაა: 7\n",
      "\t1 : 0\n",
      "\n",
      "რაუნდი 2\n",
      "\tშენი გაგორებაა: 4\n",
      "\tჩემი გაგორებაა: 11\n",
      "\t1 : 1\n",
      "\n",
      "რაუნდი 3\n",
      "\tშენი გაგორებაა: 56\n",
      "\tჩემი გაგორებაა: 2\n",
      "\t2 : 1\n",
      "\n",
      "რაუნდი 4\n",
      "\tშენი გაგორებაა: 2.6\n"
     ]
    },
    {
     "ename": "ValueError",
     "evalue": "invalid literal for int() with base 10: '2.6'",
     "output_type": "error",
     "traceback": [
      "\u001b[1;31m---------------------------------------------------------------------------\u001b[0m",
      "\u001b[1;31mValueError\u001b[0m                                Traceback (most recent call last)",
      "\u001b[1;32m<ipython-input-22-a9cfcb8fa836>\u001b[0m in \u001b[0;36m<module>\u001b[1;34m()\u001b[0m\n\u001b[0;32m     11\u001b[0m     \u001b[0mprint\u001b[0m\u001b[1;33m(\u001b[0m\u001b[1;34m\"რაუნდი\"\u001b[0m\u001b[1;33m,\u001b[0m \u001b[0mattempt\u001b[0m\u001b[1;33m)\u001b[0m\u001b[1;33m\u001b[0m\u001b[0m\n\u001b[0;32m     12\u001b[0m \u001b[1;33m\u001b[0m\u001b[0m\n\u001b[1;32m---> 13\u001b[1;33m     \u001b[0myour_dice\u001b[0m \u001b[1;33m=\u001b[0m \u001b[0mint\u001b[0m\u001b[1;33m(\u001b[0m\u001b[0minput\u001b[0m\u001b[1;33m(\u001b[0m\u001b[1;34m\"\\tშენი გაგორებაა: \"\u001b[0m\u001b[1;33m)\u001b[0m\u001b[1;33m)\u001b[0m\u001b[1;33m\u001b[0m\u001b[0m\n\u001b[0m\u001b[0;32m     14\u001b[0m \u001b[1;33m\u001b[0m\u001b[0m\n\u001b[0;32m     15\u001b[0m     \u001b[0mprint\u001b[0m\u001b[1;33m(\u001b[0m\u001b[1;34m\"\\tჩემი გაგორებაა: \"\u001b[0m\u001b[1;33m,\u001b[0m \u001b[0mend\u001b[0m\u001b[1;33m=\u001b[0m\u001b[1;34m''\u001b[0m\u001b[1;33m)\u001b[0m\u001b[1;33m\u001b[0m\u001b[0m\n",
      "\u001b[1;31mValueError\u001b[0m: invalid literal for int() with base 10: '2.6'"
     ]
    }
   ],
   "source": [
    "import random, time\n",
    "\n",
    "print(\"გავაგოროთ კამათლები\\n\")\n",
    "\n",
    "attempt = 0\n",
    "your_number = 0\n",
    "my_number = 0\n",
    "\n",
    "while attempt < 5:\n",
    "    attempt +=1\n",
    "    print(\"რაუნდი\", attempt)\n",
    "    \n",
    "    your_dice = int(input(\"\\tშენი გაგორებაა: \"))\n",
    "    \n",
    "    print(\"\\tჩემი გაგორებაა: \", end='')\n",
    "    my_dice = random.randint(2, 12)\n",
    "    time.sleep(1)\n",
    "    print(my_dice)\n",
    "    \n",
    "    if your_dice > my_dice: your_number += 1   # your_number = your_number + 1\n",
    "    elif my_dice > your_dice: my_number += 1\n",
    "    \n",
    "    \n",
    "    time.sleep(1)\n",
    "    print(\"\\t{} : {}\".format(your_number, my_number))\n",
    "    \n",
    "    print()\n",
    "\n",
    "if your_number > my_number : print(\"შენ მოიგე!\")\n",
    "elif my_number > your_number : print(\"მე მოვიგე!\")\n",
    "else: print(\"ყაიმი!\")\n",
    "    \n",
    "print(\"\\n\\nდასასრული...\")"
   ]
  },
  {
   "cell_type": "code",
   "execution_count": 1,
   "metadata": {
    "collapsed": false
   },
   "outputs": [
    {
     "name": "stdout",
     "output_type": "stream",
     "text": [
      "\tშენი გაგორებაა: 2.68\n",
      "მთელი რიცხვი 2-დან 12-ის ჩათვლით\n"
     ]
    },
    {
     "ename": "NameError",
     "evalue": "name 'your_dice' is not defined",
     "output_type": "error",
     "traceback": [
      "\u001b[1;31m---------------------------------------------------------------------------\u001b[0m",
      "\u001b[1;31mNameError\u001b[0m                                 Traceback (most recent call last)",
      "\u001b[1;32m<ipython-input-1-d240ee8e1018>\u001b[0m in \u001b[0;36m<module>\u001b[1;34m()\u001b[0m\n\u001b[0;32m      5\u001b[0m \u001b[1;33m\u001b[0m\u001b[0m\n\u001b[0;32m      6\u001b[0m \u001b[1;33m\u001b[0m\u001b[0m\n\u001b[1;32m----> 7\u001b[1;33m \u001b[0mprint\u001b[0m\u001b[1;33m(\u001b[0m\u001b[0myour_dice\u001b[0m\u001b[1;33m)\u001b[0m\u001b[1;33m\u001b[0m\u001b[0m\n\u001b[0m",
      "\u001b[1;31mNameError\u001b[0m: name 'your_dice' is not defined"
     ]
    }
   ],
   "source": [
    "try:\n",
    "    your_dice = int(input(\"\\tშენი გაგორებაა: \"))\n",
    "except ValueError:\n",
    "    print(\"\\tმთელი რიცხვი 2-დან 12-ის ჩათვლით\")\n",
    "\n",
    "\n",
    "print(your_dice)"
   ]
  }
 ],
 "metadata": {
  "kernelspec": {
   "display_name": "Python 3",
   "language": "python",
   "name": "python3"
  },
  "language_info": {
   "codemirror_mode": {
    "name": "ipython",
    "version": 3
   },
   "file_extension": ".py",
   "mimetype": "text/x-python",
   "name": "python",
   "nbconvert_exporter": "python",
   "pygments_lexer": "ipython3",
   "version": "3.5.1"
  }
 },
 "nbformat": 4,
 "nbformat_minor": 0
}
