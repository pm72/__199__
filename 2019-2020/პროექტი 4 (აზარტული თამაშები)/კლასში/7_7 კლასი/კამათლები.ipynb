{
 "cells": [
  {
   "cell_type": "code",
   "execution_count": 5,
   "metadata": {
    "collapsed": false
   },
   "outputs": [
    {
     "name": "stdout",
     "output_type": "stream",
     "text": [
      "გავაგოროთ კამათლები\n",
      "\n",
      "რაუნდი 1\n",
      "\tშენი გაგორებაა: 7\n",
      "\tჩემი გაგორებაა: 7\n",
      "\t0 : 0\n",
      "\n",
      "რაუნდი 2\n",
      "\tშენი გაგორებაა: 5\n",
      "\tჩემი გაგორებაა: 3\n",
      "\t1 : 0\n",
      "\n",
      "რაუნდი 3\n",
      "\tშენი გაგორებაა: 9\n",
      "\tჩემი გაგორებაა: 12\n",
      "\t1 : 1\n",
      "\n",
      "რაუნდი 4\n",
      "\tშენი გაგორებაა: 8\n",
      "\tჩემი გაგორებაა: 2\n",
      "\t2 : 1\n",
      "\n",
      "რაუნდი 5\n",
      "\tშენი გაგორებაა: 10\n",
      "\tჩემი გაგორებაა: 11\n",
      "\t2 : 2\n",
      "\n",
      "ყაიმი!\n",
      "\n",
      "\n",
      "დასასრული...\n"
     ]
    }
   ],
   "source": [
    "import random, time\n",
    "\n",
    "print(\"გავაგოროთ კამათლები\\n\")\n",
    "\n",
    "round = 0\n",
    "your_number = 0\n",
    "my_number = 0\n",
    "\n",
    "while round < 5:\n",
    "    round +=1\n",
    "    print(\"რაუნდი\", round)\n",
    "    print(\"\\tშენი გაგორებაა: \", end='')\n",
    "    your_dice = random.randint(2, 12)\n",
    "    time.sleep(1)\n",
    "    print(your_dice)\n",
    "    \n",
    "    print(\"\\tჩემი გაგორებაა: \", end='')\n",
    "    my_dice = random.randint(2, 12)\n",
    "    time.sleep(1)\n",
    "    print(my_dice)\n",
    "    \n",
    "    if your_dice > my_dice: your_number += 1   # your_number = your_number + 1\n",
    "    elif my_dice > your_dice: my_number += 1\n",
    "    \n",
    "    \n",
    "    time.sleep(1)\n",
    "    print(\"\\t{} : {}\".format(your_number, my_number))\n",
    "    \n",
    "    print()\n",
    "\n",
    "if your_number > my_number : print(\"შენ მოიგე!\")\n",
    "elif my_number > your_number : print(\"მე მოვიგე!\")\n",
    "else: print(\"ყაიმი!\")\n",
    "    \n",
    "print(\"\\n\\nდასასრული...\")\n",
    "        "
   ]
  },
  {
   "cell_type": "code",
   "execution_count": 1,
   "metadata": {
    "collapsed": false
   },
   "outputs": [
    {
     "name": "stdout",
     "output_type": "stream",
     "text": [
      "გავაგოროთ კამათლები\n",
      "\n",
      "რაუნდი 1\n",
      "\tშენი გაგორებაა: 5.6\n",
      "\tმთელი რიცხვი 2-დან 12-ის ჩათვლით\n",
      "\tჩემი გაგორებაა: 2\n"
     ]
    },
    {
     "ename": "NameError",
     "evalue": "name 'your_dice' is not defined",
     "output_type": "error",
     "traceback": [
      "\u001b[1;31m---------------------------------------------------------------------------\u001b[0m",
      "\u001b[1;31mNameError\u001b[0m                                 Traceback (most recent call last)",
      "\u001b[1;32m<ipython-input-1-014659339e9c>\u001b[0m in \u001b[0;36m<module>\u001b[1;34m()\u001b[0m\n\u001b[0;32m     21\u001b[0m     \u001b[0mprint\u001b[0m\u001b[1;33m(\u001b[0m\u001b[0mmy_dice\u001b[0m\u001b[1;33m)\u001b[0m\u001b[1;33m\u001b[0m\u001b[0m\n\u001b[0;32m     22\u001b[0m \u001b[1;33m\u001b[0m\u001b[0m\n\u001b[1;32m---> 23\u001b[1;33m     \u001b[1;32mif\u001b[0m \u001b[0myour_dice\u001b[0m \u001b[1;33m>\u001b[0m \u001b[0mmy_dice\u001b[0m\u001b[1;33m:\u001b[0m \u001b[0myour_number\u001b[0m \u001b[1;33m+=\u001b[0m \u001b[1;36m1\u001b[0m   \u001b[1;31m# your_number = your_number + 1\u001b[0m\u001b[1;33m\u001b[0m\u001b[0m\n\u001b[0m\u001b[0;32m     24\u001b[0m     \u001b[1;32melif\u001b[0m \u001b[0mmy_dice\u001b[0m \u001b[1;33m>\u001b[0m \u001b[0myour_dice\u001b[0m\u001b[1;33m:\u001b[0m \u001b[0mmy_number\u001b[0m \u001b[1;33m+=\u001b[0m \u001b[1;36m1\u001b[0m\u001b[1;33m\u001b[0m\u001b[0m\n\u001b[0;32m     25\u001b[0m \u001b[1;33m\u001b[0m\u001b[0m\n",
      "\u001b[1;31mNameError\u001b[0m: name 'your_dice' is not defined"
     ]
    }
   ],
   "source": [
    "import random, time\n",
    "\n",
    "print(\"გავაგოროთ კამათლები\\n\")\n",
    "\n",
    "round = 0\n",
    "your_number = 0\n",
    "my_number = 0\n",
    "\n",
    "while round < 5:\n",
    "    round +=1\n",
    "    print(\"რაუნდი\", round)\n",
    "    \n",
    "    try:\n",
    "        your_dice = int(input(\"\\tშენი გაგორებაა: \"))\n",
    "    except ValueError:\n",
    "        print(\"\\tმთელი რიცხვი 2-დან 12-ის ჩათვლით\")\n",
    "    \n",
    "    print(\"\\tჩემი გაგორებაა: \", end='')\n",
    "    my_dice = random.randint(2, 12)\n",
    "    time.sleep(1)\n",
    "    print(my_dice)\n",
    "    \n",
    "    if your_dice > my_dice: your_number += 1   # your_number = your_number + 1\n",
    "    elif my_dice > your_dice: my_number += 1\n",
    "    \n",
    "    \n",
    "    time.sleep(1)\n",
    "    print(\"\\t{} : {}\".format(your_number, my_number))\n",
    "    \n",
    "    print()\n",
    "\n",
    "if your_number > my_number : print(\"შენ მოიგე!\")\n",
    "elif my_number > your_number : print(\"მე მოვიგე!\")\n",
    "else: print(\"ყაიმი!\")\n",
    "    \n",
    "print(\"\\n\\nდასასრული...\")\n",
    "        "
   ]
  }
 ],
 "metadata": {
  "kernelspec": {
   "display_name": "Python 3",
   "language": "python",
   "name": "python3"
  },
  "language_info": {
   "codemirror_mode": {
    "name": "ipython",
    "version": 3
   },
   "file_extension": ".py",
   "mimetype": "text/x-python",
   "name": "python",
   "nbconvert_exporter": "python",
   "pygments_lexer": "ipython3",
   "version": "3.5.1"
  }
 },
 "nbformat": 4,
 "nbformat_minor": 0
}
