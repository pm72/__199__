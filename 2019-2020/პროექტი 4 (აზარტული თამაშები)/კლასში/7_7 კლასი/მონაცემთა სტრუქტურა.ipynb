{
 "cells": [
  {
   "cell_type": "markdown",
   "metadata": {},
   "source": [
    "# მონაცემთა სტრუქტურა"
   ]
  },
  {
   "cell_type": "markdown",
   "metadata": {},
   "source": [
    "int, float, bool, str  პრიმიტივები\n",
    "\n",
    "str, list, toople, dict, set   შედგენილი, რთული"
   ]
  },
  {
   "cell_type": "markdown",
   "metadata": {},
   "source": [
    "## სტრიქონი  str"
   ]
  },
  {
   "cell_type": "code",
   "execution_count": 2,
   "metadata": {
    "collapsed": false
   },
   "outputs": [
    {
     "name": "stdout",
     "output_type": "stream",
     "text": [
      "dfdf dgdddgg \n",
      "\n",
      "dfdf fhjgs rshdthsgbd \n",
      "\n",
      "dfdf zdfvfkn vdsl\n",
      ";dfm;dsfm dfsd;vm;\n",
      "    dsvs sgls bslbv\n",
      "        dsv;msvm\n"
     ]
    }
   ],
   "source": [
    "str1 = 'dfdf dgdddgg'\n",
    "\n",
    "str2 = \"dfdf fhjgs rshdthsgbd\"\n",
    "\n",
    "str3 = '''dfdf zdfvfkn vdsl\n",
    ";dfm;dsfm dfsd;vm;\n",
    "    dsvs sgls bslbv\n",
    "        dsv;msvm'''\n",
    "\n",
    "print(str1, \"\\n\")\n",
    "print(str2, \"\\n\")\n",
    "print(str3)"
   ]
  },
  {
   "cell_type": "code",
   "execution_count": 5,
   "metadata": {
    "collapsed": false
   },
   "outputs": [
    {
     "name": "stdout",
     "output_type": "stream",
     "text": [
      "Current inventory: 90\n"
     ]
    }
   ],
   "source": [
    "bottles = 90\n",
    "base = ''\n",
    "base += 'Current inventory: '\n",
    "base += str(bottles)\n",
    "\n",
    "print(base)"
   ]
  },
  {
   "cell_type": "code",
   "execution_count": 8,
   "metadata": {
    "collapsed": false
   },
   "outputs": [
    {
     "name": "stdout",
     "output_type": "stream",
     "text": [
      "Paata Mamporia\n",
      "Paata Mamporia\n"
     ]
    }
   ],
   "source": [
    "fname = \"Paata\"\n",
    "lname = \"Mamporia\"\n",
    "\n",
    "print(fname + \" \" + lname)\n",
    "\n",
    "full_name = fname + \" \" + lname\n",
    "print(full_name)"
   ]
  },
  {
   "cell_type": "code",
   "execution_count": 23,
   "metadata": {
    "collapsed": false
   },
   "outputs": [
    {
     "name": "stdout",
     "output_type": "stream",
     "text": [
      "abcdefghijklmnopqrstuvwxyz1234567890\n",
      "a\n",
      "b\n",
      "t\n",
      "0\n",
      "9\n",
      "8\n",
      "36\n",
      "9\n"
     ]
    },
    {
     "ename": "IndexError",
     "evalue": "string index out of range",
     "output_type": "error",
     "traceback": [
      "\u001b[1;31m---------------------------------------------------------------------------\u001b[0m",
      "\u001b[1;31mIndexError\u001b[0m                                Traceback (most recent call last)",
      "\u001b[1;32m<ipython-input-23-6ff3db5b31a1>\u001b[0m in \u001b[0;36m<module>\u001b[1;34m()\u001b[0m\n\u001b[0;32m     12\u001b[0m \u001b[0mprint\u001b[0m\u001b[1;33m(\u001b[0m\u001b[0mstr1\u001b[0m\u001b[1;33m[\u001b[0m\u001b[0mlen\u001b[0m\u001b[1;33m(\u001b[0m\u001b[0mstr1\u001b[0m\u001b[1;33m)\u001b[0m\u001b[1;33m-\u001b[0m\u001b[1;36m2\u001b[0m\u001b[1;33m]\u001b[0m\u001b[1;33m)\u001b[0m\u001b[1;33m\u001b[0m\u001b[0m\n\u001b[0;32m     13\u001b[0m \u001b[1;33m\u001b[0m\u001b[0m\n\u001b[1;32m---> 14\u001b[1;33m \u001b[0mprint\u001b[0m\u001b[1;33m(\u001b[0m\u001b[0mstr1\u001b[0m\u001b[1;33m[\u001b[0m\u001b[1;33m-\u001b[0m\u001b[1;36m37\u001b[0m\u001b[1;33m]\u001b[0m\u001b[1;33m)\u001b[0m\u001b[1;33m\u001b[0m\u001b[0m\n\u001b[0m",
      "\u001b[1;31mIndexError\u001b[0m: string index out of range"
     ]
    }
   ],
   "source": [
    "str1 = 'abcdefghijklmnopqrstuvwxyz1234567890'\n",
    "print(str1)\n",
    "\n",
    "print(str1[0])\n",
    "print(str1[1])\n",
    "print(str1[19])\n",
    "print(str1[-1])\n",
    "print(str1[-2])\n",
    "print(str1[-3])\n",
    "\n",
    "print(len(str1))\n",
    "print(str1[len(str1)-2])\n",
    "\n",
    "print(str1[-37])"
   ]
  },
  {
   "cell_type": "code",
   "execution_count": 6,
   "metadata": {
    "collapsed": false
   },
   "outputs": [
    {
     "ename": "TypeError",
     "evalue": "'str' object does not support item assignment",
     "output_type": "error",
     "traceback": [
      "\u001b[1;31m---------------------------------------------------------------------------\u001b[0m",
      "\u001b[1;31mTypeError\u001b[0m                                 Traceback (most recent call last)",
      "\u001b[1;32m<ipython-input-6-08445ffe8fb8>\u001b[0m in \u001b[0;36m<module>\u001b[1;34m()\u001b[0m\n\u001b[0;32m      1\u001b[0m \u001b[0mname\u001b[0m \u001b[1;33m=\u001b[0m \u001b[1;34m'Hanny'\u001b[0m\u001b[1;33m\u001b[0m\u001b[0m\n\u001b[1;32m----> 2\u001b[1;33m \u001b[0mname\u001b[0m\u001b[1;33m[\u001b[0m\u001b[1;36m0\u001b[0m\u001b[1;33m]\u001b[0m \u001b[1;33m=\u001b[0m \u001b[1;34m'P'\u001b[0m\u001b[1;33m\u001b[0m\u001b[0m\n\u001b[0m\u001b[0;32m      3\u001b[0m \u001b[0mprint\u001b[0m\u001b[1;33m(\u001b[0m\u001b[0mname\u001b[0m\u001b[1;33m)\u001b[0m\u001b[1;33m\u001b[0m\u001b[0m\n",
      "\u001b[1;31mTypeError\u001b[0m: 'str' object does not support item assignment"
     ]
    }
   ],
   "source": [
    "name = 'Hanny'\n",
    "name[0] = 'P'\n",
    "print(name)"
   ]
  },
  {
   "cell_type": "markdown",
   "metadata": {},
   "source": [
    "### სტრიქონიდან ქვესტრიქონის მიღება [start, end, step] ოპერატორით  (slice)"
   ]
  },
  {
   "cell_type": "code",
   "execution_count": 24,
   "metadata": {
    "collapsed": false
   },
   "outputs": [
    {
     "name": "stdout",
     "output_type": "stream",
     "text": [
      "abcde\n",
      "abcde\n",
      "abcdefghij\n",
      "abcdefghijklmnopqrstuv\n",
      "fghijklmnopqrstuvwxyz1234567890\n",
      "klmnopqrstuvwxyz1234567890\n",
      "efghi\n",
      "lmnopqrs\n",
      "fkpu\n",
      "utsrqponmlkjihg\n",
      "0987654321zyxwvutsrqponmlkjihgfedcba\n",
      "0987654321zyxwvutsrqponmlkjihgfedcba\n",
      "abcdefghijklmnopqrstuvwxyz1234567890\n",
      "abcdefghijklmnopqrstuvwxyz1234567890\n"
     ]
    }
   ],
   "source": [
    "str1 = 'abcdefghijklmnopqrstuvwxyz1234567890'\n",
    "\n",
    "str2 = str1[0:5:1]\n",
    "print(str2)\n",
    "\n",
    "str2 = str1[:5]\n",
    "print(str2)\n",
    "\n",
    "str2 = str1[:10]\n",
    "print(str2)\n",
    "\n",
    "str2 = str1[:22]\n",
    "print(str2)\n",
    "\n",
    "str2 = str1[5:]\n",
    "print(str2)\n",
    "\n",
    "str2 = str1[10:]\n",
    "print(str2)\n",
    "\n",
    "str2 = str1[4:9]\n",
    "print(str2)\n",
    "\n",
    "str2 = str1[11:19]\n",
    "print(str2)\n",
    "\n",
    "str2 = str1[5:25:5]\n",
    "print(str2)\n",
    "\n",
    "str2 = str1[20:5:-1]\n",
    "print(str2)\n",
    "\n",
    "str2 = str1[-1::-1]\n",
    "print(str2)\n",
    "\n",
    "str2 = str1[::-1]\n",
    "print(str2)\n",
    "print(str1)\n",
    "\n",
    "str2 = str1[:]\n",
    "print(str2)"
   ]
  },
  {
   "cell_type": "code",
   "execution_count": 30,
   "metadata": {
    "collapsed": false
   },
   "outputs": [
    {
     "name": "stdout",
     "output_type": "stream",
     "text": [
      "Panny\n",
      "Pany\n",
      "Pany\n",
      "Pa ny\n"
     ]
    }
   ],
   "source": [
    "name = 'Hanny'\n",
    "name = 'P' + name[1:]\n",
    "print(name)\n",
    "\n",
    "print(name[0:3] + name[-1])\n",
    "print(name[0:2] + name[3:])\n",
    "print(name[0:2], end = ' ')\n",
    "print(name[3:])"
   ]
  },
  {
   "cell_type": "markdown",
   "metadata": {},
   "source": [
    "### სტრიქონის სიგრძე, სიმბოლოების რაოდენობა – len()"
   ]
  },
  {
   "cell_type": "code",
   "execution_count": 3,
   "metadata": {
    "collapsed": false
   },
   "outputs": [
    {
     "name": "stdout",
     "output_type": "stream",
     "text": [
      "26\n",
      "0\n"
     ]
    }
   ],
   "source": [
    "letters = 'abcdefghijklmnopqrstuvwxyz'\n",
    "print(len(letters))\n",
    "\n",
    "empty = \"\"\n",
    "print(len(empty))"
   ]
  },
  {
   "cell_type": "markdown",
   "metadata": {},
   "source": [
    "### სტროქონის დაყოფა split() ფუნქციის გამოყენებით"
   ]
  },
  {
   "cell_type": "code",
   "execution_count": 4,
   "metadata": {
    "collapsed": false
   },
   "outputs": [
    {
     "name": "stdout",
     "output_type": "stream",
     "text": [
      "['get gloves', 'get mask', 'give cat vitamins', 'call ambulance']\n",
      "['get', 'gloves.', 'get', 'mask.', 'give', 'cat', 'vitamins.', 'call', 'ambulance']\n"
     ]
    }
   ],
   "source": [
    "todos = 'get gloves. get mask. give cat vitamins. call ambulance'\n",
    "print(todos.split('. '))\n",
    "\n",
    "print(todos.split())    # ' ',  '\\n', '\\t'\n",
    "# print(todos)"
   ]
  },
  {
   "cell_type": "markdown",
   "metadata": {},
   "source": [
    "### სტრიქონების გაერთიანება join() ფუნქციის გამოყენებით"
   ]
  },
  {
   "cell_type": "code",
   "execution_count": 6,
   "metadata": {
    "collapsed": false
   },
   "outputs": [
    {
     "name": "stdout",
     "output_type": "stream",
     "text": [
      "Yeti. Bigfoot. Loch Ness Monster \n",
      "\n",
      "Found and signing book deals: Yeti. Bigfoot. Loch Ness Monster\n",
      "Yeti. Bigfoot. Loch Ness Monster  <===> <class 'str'>\n",
      "['Yeti', 'Bigfoot', 'Loch Ness Monster']  <===> <class 'list'>\n"
     ]
    }
   ],
   "source": [
    "cripto_list = ['Yeti', 'Bigfoot', 'Loch Ness Monster']\n",
    "cripto_string = '. '.join(cripto_list)\n",
    "print(cripto_string, \"\\n\")\n",
    "\n",
    "print(\"Found and signing book deals:\", cripto_string)\n",
    "print(cripto_string, \" <===>\", type(cripto_string))\n",
    "print(cripto_list, \" <===>\", type(cripto_list))"
   ]
  },
  {
   "cell_type": "markdown",
   "metadata": {},
   "source": [
    "### რეგისტრი და სწორება"
   ]
  },
  {
   "cell_type": "code",
   "execution_count": 16,
   "metadata": {
    "collapsed": false
   },
   "outputs": [
    {
     "name": "stdout",
     "output_type": "stream",
     "text": [
      "A duck goes into a bar...\n",
      "A Duck Goes Into A Bar...\n",
      "A DUCK GOES INTO A BAR...\n",
      "a duck goes into a bar...\n",
      "a duck goes into a bar...\n",
      "a DUCK gOES INTO a BAR\n",
      "\n",
      "\n",
      "\n",
      "**************************************************\n",
      "              A duck Goes into A bar              \n",
      "**************************************************\n",
      "A duck Goes into A bar                            \n",
      "                            A duck Goes into A bar\n"
     ]
    }
   ],
   "source": [
    "setup = 'a duck goes into a bar...'\n",
    "\n",
    "print(setup.capitalize())\n",
    "print(setup.title())\n",
    "print(setup.upper())\n",
    "print(setup.lower())\n",
    "print(setup)\n",
    "\n",
    "setup = \"A duck Goes into A bar\"\n",
    "print(setup.swapcase())\n",
    "\n",
    "print(\"\\n\\n\")\n",
    "\n",
    "print('*' * 50)\n",
    "print(setup.center(50))\n",
    "print('*' * 50)\n",
    "print(setup.ljust(50))\n",
    "print(setup.rjust(50))"
   ]
  },
  {
   "cell_type": "markdown",
   "metadata": {},
   "source": [
    "### სიმბოლოების შეცვლა replace() მეთოდის (ფუნქციის) საშუალებით"
   ]
  },
  {
   "cell_type": "code",
   "execution_count": 14,
   "metadata": {
    "collapsed": false
   },
   "outputs": [
    {
     "name": "stdout",
     "output_type": "stream",
     "text": [
      "a marmoset goes into a bar...\n",
      "a famous duck goes into a famous bar...\n",
      "a famous duck goes into a famous ba famousr...\n"
     ]
    }
   ],
   "source": [
    "setup = 'a duck goes into a bar...'\n",
    "\n",
    "print(setup.replace('duck', 'marmoset'))\n",
    "print(setup.replace('a ', 'a famous ', 100))\n",
    "print(setup.replace('a', 'a famous', 100))"
   ]
  },
  {
   "cell_type": "markdown",
   "metadata": {},
   "source": [
    "### გავერთოთ სტრიქონებზე მუშაობით"
   ]
  },
  {
   "cell_type": "code",
   "execution_count": null,
   "metadata": {
    "collapsed": true
   },
   "outputs": [],
   "source": [
    "poem = \"\"\"All that doth flow we cannot liquid name\n",
    "or else would fire and water be the same:\n",
    "But that is liquid which is moist and wet\n",
    "Fire that property can never get.\n",
    "Then 'tis not cold that doth the fire put out\n",
    "But 'tis the wet that makes it die, no doubt.\"\"\"\n",
    "\n",
    "# საკლასო წერა\n",
    "\n",
    "# 1.  სტრიქონის სიგრძის ბეჭდვა\n",
    "# 2.  პირველი 13 სიმბოლოს ბეჭდვა\n",
    "# 3.  ბოლო 13 სიმბოლოს ბეჭდვა\n",
    "# 4.  24-დან 84-სიმბოლომდე ბეჭდვა\n",
    "# 5.  ბოლოდან მე-8 სიმბოლოდან მე-7 სიმბოლოს ჩათვლით ბეჭდვა\n",
    "# 6.  შებრუნებული სტრიქონის ბეჭდვა\n",
    "# 7.  poem სტრიქონის 4-დან 40 სიმბოლოს ჩათვლით დაყავით split() მეთოდის მეშვეობით და დაიმახსოვრეთ str1 ცვლადში.\n",
    "#     დაბეჭდეთ str1 სტრიქონი\n",
    "# 8.  str1 სტრიქონი გააერთიანეთ '. ' სტრიქონთან  (join()) და დაბეჭდეთ\n",
    "# 9.  პირველი 40 სიმბოლო გავაცენტროთ 100 სიმბოლოსგან შემდგარ სტრიქონში\n",
    "# 10. პირველ 40 სიმბოლოს სწორება გავუკეთოთ მარჯვნივ 100 სიმბოლოსგან შემდგარ სტრიქონში\n",
    "# 11. პირველი 40 სიმბოლოს ყველა სიტყვა დაიწყოს დიდი ასოთი\n",
    "# 12. პირველ 40 სიმბოლოში სიტყვა 'liquid' შევცვალოთ 'trangle' სიტყვით\n",
    "\n",
    "\n",
    "\n",
    "\n",
    "# -------------------------\n",
    "print()\n",
    "print(poem.startswith('All'))                 # იწყება თუ არა სტრიქონი სიტყვით 'All'?\n",
    "print(poem.endswith(\"that's all, folks!\"))    # მთავრედება თუ არა სტრიქონი წინადადებით 'that's all, folks!'?\n",
    "\n",
    "word = 'the'\n",
    "print(poem.find(word))   # პირველი ჩართული სიტყვის პოვნა სტრიქონში\n",
    "print(poem.rfind(word))  # ბოლო ჩართული სიტყვის პოვნა სტრიქონში\n",
    "print(poem.count(word))  # 'the' სიტყვის რაოდენობა სტრიქონში\n",
    "print(poem.isalnum())    # შიცავს თუ არა სტრიქონი მხოლოდ ასოებს ან ციფრებს? ==> არა, მასში პუნქტუაციის ნიშნებიც გვხვდება."
   ]
  },
  {
   "cell_type": "code",
   "execution_count": 32,
   "metadata": {
    "collapsed": false
   },
   "outputs": [
    {
     "name": "stdout",
     "output_type": "stream",
     "text": [
      "All that doth flow we cannot trangle name\n",
      "or else would fire and water be the same:\n",
      "But that is trangle which is moist and wet\n",
      "Fire that property can never get.\n",
      "Then 'tis not cold that doth the fire put out\n",
      "But 'tis the wet that makes it die, no doubt.\n"
     ]
    }
   ],
   "source": [
    "poem = \"\"\"All that doth flow we cannot liquid name\n",
    "or else would fire and water be the same:\n",
    "But that is liquid which is moist and wet\n",
    "Fire that property can never get.\n",
    "Then 'tis not cold that doth the fire put out\n",
    "But 'tis the wet that makes it die, no doubt.\"\"\"\n",
    "\n",
    "# საკლასო წერა\n",
    "\n",
    "# 1.  სტრიქონის სიგრძის ბეჭდვა\n",
    "# 2.  პირველი 13 სიმბოლოს ბეჭდვა\n",
    "# 3.  ბოლო 13 სიმბოლოს ბეჭდვა\n",
    "# 4.  24-დან 84-სიმბოლომდე ბეჭდვა\n",
    "# 5.  ბოლოდან მე-8 სიმბოლოდან მე-7 სიმბოლოს ჩათვლით ბეჭდვა\n",
    "# 6.  შებრუნებული სტრიქონის ბეჭდვა\n",
    "# 7.  poem სტრიქონის 4-დან 40 სიმბოლოს ჩათვლით დაყავით split() მეთოდის მეშვეობით და დაიმახსოვრეთ str1 ცვლადში.\n",
    "#     დაბეჭდეთ str1 სტრიქონი\n",
    "# 8.  str1 სტრიქონი გააერთიანეთ '. ' სტრიქონთან  (join()) და დაბეჭდეთ\n",
    "# 9.  პირველი 40 სიმბოლო გავაცენტროთ 100 სიმბოლოსგან შემდგარ სტრიქონში\n",
    "# 10. პირველ 40 სიმბოლოს სწორება გავუკეთოთ მარჯვნივ 100 სიმბოლოსგან შემდგარ სტრიქონში\n",
    "# 11. პირველი 40 სიმბოლოს ყველა სიტყვა დაიწყოს დიდი ასოთი\n",
    "# 12. პირველ 40 სიმბოლოში სიტყვა 'liquid' შევცვალოთ 'trangle' სიტყვით\n",
    "\n",
    "\n",
    "# print(len(poem))\n",
    "# print(poem[:13])\n",
    "# print(poem[-13:])\n",
    "# print(poem[24:84])\n",
    "# print(poem[-8:6:-1])\n",
    "# print(poem[-1::-1])\n",
    "# print(poem[::-1])\n",
    "\n",
    "# str1 = poem[4:55].split()\n",
    "# print(str1)\n",
    "# print('. '.join(str1))\n",
    "\n",
    "# N = 100\n",
    "# print('*' * N)\n",
    "# print(poem[:40].center(100))\n",
    "# print('*' * N)\n",
    "# print(poem[:40].rjust(100))\n",
    "# print('*' * N)\n",
    "# print(poem[:40].ljust(100))\n",
    "# print('*' * N)\n",
    "# print(poem[:40])\n",
    "# print('*' * N)\n",
    "\n",
    "# print(poem[:40])\n",
    "# print(poem[:40].replace('liquid', 'trangle'))\n",
    "# print(poem[:40])\n",
    "                        \n",
    "print(poem.replace('liquid', 'trangle', 100))"
   ]
  }
 ],
 "metadata": {
  "kernelspec": {
   "display_name": "Python 3",
   "language": "python",
   "name": "python3"
  },
  "language_info": {
   "codemirror_mode": {
    "name": "ipython",
    "version": 3
   },
   "file_extension": ".py",
   "mimetype": "text/x-python",
   "name": "python",
   "nbconvert_exporter": "python",
   "pygments_lexer": "ipython3",
   "version": "3.5.1"
  }
 },
 "nbformat": 4,
 "nbformat_minor": 0
}
