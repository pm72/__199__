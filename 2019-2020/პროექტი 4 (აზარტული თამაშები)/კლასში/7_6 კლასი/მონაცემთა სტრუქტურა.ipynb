{
 "cells": [
  {
   "cell_type": "markdown",
   "metadata": {},
   "source": [
    "# მონაცემთა სტრუქტურა"
   ]
  },
  {
   "cell_type": "markdown",
   "metadata": {},
   "source": [
    "int, float, bool, str  პრიმიტივები\n",
    "\n",
    "str, list, tuple, dict, set  რთული"
   ]
  },
  {
   "cell_type": "markdown",
   "metadata": {},
   "source": [
    "### სტრიქონები str"
   ]
  },
  {
   "cell_type": "code",
   "execution_count": 8,
   "metadata": {
    "collapsed": false
   },
   "outputs": [
    {
     "name": "stdout",
     "output_type": "stream",
     "text": [
      "სდსდსდ\n",
      "სსდს სცფსფფს\n",
      "        დფდფდფდ დდდ\n",
      "                დფდდფ დგგ\n",
      "\n"
     ]
    }
   ],
   "source": [
    "\"პაატა დსდ დფსსდდგ\"\n",
    "'ფსდ სფსფდსგ'\n",
    "print(\"\"\"სდსდსდ\n",
    "სსდს სცფსფფს\n",
    "        დფდფდფდ დდდ\n",
    "                დფდდფ დგგ\n",
    "\"\"\")"
   ]
  },
  {
   "cell_type": "code",
   "execution_count": 15,
   "metadata": {
    "collapsed": false
   },
   "outputs": [
    {
     "name": "stdout",
     "output_type": "stream",
     "text": [
      "current inventory:99\n"
     ]
    }
   ],
   "source": [
    "bottles = 99\n",
    "base = ''\n",
    "base += 'current inventory: '\n",
    "base += str(bottles)\n",
    "\n",
    "print(base)"
   ]
  },
  {
   "cell_type": "code",
   "execution_count": 18,
   "metadata": {
    "collapsed": false
   },
   "outputs": [
    {
     "name": "stdout",
     "output_type": "stream",
     "text": [
      "Paata Mamporia\n",
      "Paata Mamporia\n"
     ]
    }
   ],
   "source": [
    "fname = \"Paata\"\n",
    "lname = \"Mamporia\"\n",
    "print(fname + ' ' + lname)\n",
    "\n",
    "full_name = fname + \" \" + lname\n",
    "print(full_name)"
   ]
  },
  {
   "cell_type": "code",
   "execution_count": 32,
   "metadata": {
    "collapsed": false
   },
   "outputs": [
    {
     "name": "stdout",
     "output_type": "stream",
     "text": [
      "abcdefghijklmnopqrstuvwxyz\n",
      "k\n",
      "v\n",
      "z\n",
      "y\n",
      "26\n",
      "z\n"
     ]
    }
   ],
   "source": [
    "str1 = \"abcdefghijklmnopqrstuvwxyz\"\n",
    "print(str1)\n",
    "print(str1[10])\n",
    "print(str1[21])\n",
    "print(str1[-1])\n",
    "print(str1[-2])\n",
    "\n",
    "print(len(str1))   # len სტრიქონის სიგრძე (ელემენტთა რაოდენობა)\n",
    "print(str1[len(str1)-1])"
   ]
  },
  {
   "cell_type": "code",
   "execution_count": 33,
   "metadata": {
    "collapsed": false
   },
   "outputs": [
    {
     "name": "stdout",
     "output_type": "stream",
     "text": [
      "a b c d e f g h i j k l m n o p q r s t u v w x y z "
     ]
    }
   ],
   "source": [
    "str1 = \"abcdefghijklmnopqrstuvwxyz\"\n",
    "for char in str1:\n",
    "    print(char, end=' ')"
   ]
  },
  {
   "cell_type": "code",
   "execution_count": 6,
   "metadata": {
    "collapsed": false
   },
   "outputs": [
    {
     "ename": "TypeError",
     "evalue": "'str' object does not support item assignment",
     "output_type": "error",
     "traceback": [
      "\u001b[1;31m---------------------------------------------------------------------------\u001b[0m",
      "\u001b[1;31mTypeError\u001b[0m                                 Traceback (most recent call last)",
      "\u001b[1;32m<ipython-input-6-7ac512f74198>\u001b[0m in \u001b[0;36m<module>\u001b[1;34m()\u001b[0m\n\u001b[0;32m      1\u001b[0m \u001b[0mname\u001b[0m \u001b[1;33m=\u001b[0m \u001b[1;34m'Henny'\u001b[0m\u001b[1;33m\u001b[0m\u001b[0m\n\u001b[1;32m----> 2\u001b[1;33m \u001b[0mname\u001b[0m\u001b[1;33m[\u001b[0m\u001b[1;36m0\u001b[0m\u001b[1;33m]\u001b[0m \u001b[1;33m=\u001b[0m \u001b[1;34m'p'\u001b[0m\u001b[1;33m\u001b[0m\u001b[0m\n\u001b[0m",
      "\u001b[1;31mTypeError\u001b[0m: 'str' object does not support item assignment"
     ]
    }
   ],
   "source": [
    "name = 'Henny'\n",
    "name[0] = 'p'"
   ]
  },
  {
   "cell_type": "markdown",
   "metadata": {},
   "source": [
    "### სტრიქონისგან ქვესტრიქონის მიღება ჭრების საშუალებით [start, end, step] ოპერატორით"
   ]
  },
  {
   "cell_type": "code",
   "execution_count": 25,
   "metadata": {
    "collapsed": false
   },
   "outputs": [
    {
     "name": "stdout",
     "output_type": "stream",
     "text": [
      "fghijklmnopqrst\n",
      "hknqt\n",
      "abcde\n",
      "fghijklmnopqrstuvwxyz\n",
      "xyz\n",
      "uvwx\n",
      "pqrstuvw\n",
      "ahov\n",
      "fkpuz\n",
      "adgjmps\n",
      "zyxwvutsrqponmlkjihgfedcba\n",
      "zyxwvutsrqponmlkjihgfedcba\n"
     ]
    }
   ],
   "source": [
    "str1 = \"abcdefghijklmnopqrstuvwxyz\"\n",
    "# print(str1[0:10:1])\n",
    "# print(str1[:10])\n",
    "\n",
    "str2 = str1[5:20]\n",
    "print(str2)\n",
    "\n",
    "str2 = str1[7:20:3]\n",
    "print(str2)\n",
    "\n",
    "str2 = str1[:5]\n",
    "print(str2)\n",
    "\n",
    "str2 = str1[5:]\n",
    "print(str2)\n",
    "\n",
    "str2 = str1[-3:]\n",
    "print(str2)\n",
    "\n",
    "str2 = str1[-6:-2]\n",
    "print(str2)\n",
    "\n",
    "str2 = str1[15:-3]\n",
    "print(str2)\n",
    "\n",
    "str2 = str1[::7]\n",
    "print(str2)\n",
    "\n",
    "str2 = str1[5::5]\n",
    "print(str2)\n",
    "\n",
    "str2 = str1[:19:3]\n",
    "print(str2)\n",
    "\n",
    "str2 = str1[-1::-1]\n",
    "print(str2)\n",
    "\n",
    "str2 = str1[::-1]\n",
    "print(str2)"
   ]
  },
  {
   "cell_type": "code",
   "execution_count": 29,
   "metadata": {
    "collapsed": false
   },
   "outputs": [
    {
     "name": "stdout",
     "output_type": "stream",
     "text": [
      "Panny\n",
      "Pany\n",
      "Pany\n"
     ]
    }
   ],
   "source": [
    "name = \"Hanny\"\n",
    "name = 'P' + name[1:]\n",
    "print(name)\n",
    "\n",
    "name = name[:2] + 'ny'\n",
    "print(name)\n",
    "\n",
    "name = name[:3] + 'y'\n",
    "print(name)"
   ]
  },
  {
   "cell_type": "markdown",
   "metadata": {},
   "source": [
    "### სტრიქონის სიგრძე, სიმბოლოების რაოდენობა – len()"
   ]
  },
  {
   "cell_type": "code",
   "execution_count": 15,
   "metadata": {
    "collapsed": false
   },
   "outputs": [
    {
     "name": "stdout",
     "output_type": "stream",
     "text": [
      "26\n",
      "0\n"
     ]
    }
   ],
   "source": [
    "letters = 'abcdefghijklmnopqrstuvwxyz'\n",
    "print(len(letters))\n",
    "\n",
    "empty = \"\"\n",
    "print(len(empty))"
   ]
  },
  {
   "cell_type": "markdown",
   "metadata": {},
   "source": [
    "### სტროქონის დაყოფა split() ფუნქციის გამოყენებით"
   ]
  },
  {
   "cell_type": "code",
   "execution_count": 19,
   "metadata": {
    "collapsed": false
   },
   "outputs": [
    {
     "name": "stdout",
     "output_type": "stream",
     "text": [
      "['get gloves', 'get mask.\\ngive cat vitamins.\\tcall ambulance']\n",
      "['get', 'gloves.', 'get', 'mask.', 'give', 'cat', 'vitamins.', 'call', 'ambulance']\n",
      "get gloves. get mask.\n",
      "give cat vitamins.\tcall ambulance\n"
     ]
    }
   ],
   "source": [
    "todos = 'get gloves. get mask.\\ngive cat vitamins.\\tcall ambulance'\n",
    "print(todos.split('. '))\n",
    "print(todos.split())    # ' ',  '\\n', '\\t'\n",
    "print(todos)"
   ]
  },
  {
   "cell_type": "markdown",
   "metadata": {},
   "source": [
    "### სტრიქონების გაერთიანება join() ფუნქციის გამოყენებით"
   ]
  },
  {
   "cell_type": "code",
   "execution_count": 32,
   "metadata": {
    "collapsed": false
   },
   "outputs": [
    {
     "name": "stdout",
     "output_type": "stream",
     "text": [
      "Found and signing book deals: Yeti. Bigfoot. Loch Ness Monster\n",
      "['Yeti', 'Bigfoot', 'Loch Ness Monster']  <===> <class 'list'>\n",
      "Yeti. Bigfoot. Loch Ness Monster  <===> <class 'str'>\n",
      "Yeti Bigfoot\n"
     ]
    }
   ],
   "source": [
    "cripto_list = ['Yeti', 'Bigfoot', 'Loch Ness Monster']\n",
    "cripto_string = '. '.join(cripto_list)\n",
    "print(\"Found and signing book deals:\", cripto_string)\n",
    "print(cripto_list, \" <===>\", type(cripto_list))\n",
    "print(cripto_string, \" <===>\", type(cripto_string))\n",
    "\n",
    "str1 = cripto_list[0] + ' ' + cripto_list[1] \n",
    "print(str1)"
   ]
  },
  {
   "cell_type": "markdown",
   "metadata": {},
   "source": [
    "### რეგისტრი და სწორება"
   ]
  },
  {
   "cell_type": "code",
   "execution_count": null,
   "metadata": {
    "collapsed": true
   },
   "outputs": [],
   "source": [
    "setup = 'a duck goes into a bar...'\n",
    "\n",
    "print(setup.capitalize())\n",
    "print(setup.title())\n",
    "print(setup.upper())\n",
    "print(setup)\n",
    "print(setup.lower())\n",
    "\n",
    "setup = \"A duck Goes into A bar\"\n",
    "print(setup.swapcase())\n",
    "\n",
    "print(\"\\n\\n\")\n",
    "\n",
    "print(setup.center(50))\n",
    "print(setup.ljust(50))\n",
    "print(setup.rjust(50))"
   ]
  },
  {
   "cell_type": "markdown",
   "metadata": {},
   "source": [
    "### სიმბოლოების შეცვლა replace() მეთოდის (ფუნქციის) საშუალებით"
   ]
  },
  {
   "cell_type": "code",
   "execution_count": null,
   "metadata": {
    "collapsed": true
   },
   "outputs": [],
   "source": [
    "setup = 'a duck goes into a bar...'\n",
    "\n",
    "print(setup.replace('duck', 'marmoset'))\n",
    "print(setup.replace('a ', 'a famous ', 100))\n",
    "print(setup.replace('a', 'a famous', 100))"
   ]
  },
  {
   "cell_type": "markdown",
   "metadata": {},
   "source": [
    "### გავერთოთ სტრიქონებზე მუშაობით"
   ]
  },
  {
   "cell_type": "code",
   "execution_count": null,
   "metadata": {
    "collapsed": true
   },
   "outputs": [],
   "source": [
    "poem = \"\"\"All that doth flow we cannot liquid name\n",
    "or else would fire and water be the same:\n",
    "But that is liquid which is moist and wet\n",
    "Fire that property can never get.\n",
    "Then 'tis not cold that doth the fire put out\n",
    "But 'tis the wet that makes it die, no doubt.\"\"\"\n",
    "\n",
    "# საკლასო წერა\n",
    "\n",
    "# 1.  სტრიქონის სიგრძის ბეჭდვა\n",
    "# 2.  პირველი 13 სიმბოლოს ბეჭდვა\n",
    "# 3.  ბოლო 13 სიმბოლოს ბეჭდვა\n",
    "# 4.  24-დან 84-სიმბოლომდე ბეჭდვა\n",
    "# 5.  ბოლოდან მე-8 სიმბოლოდან მე-7 სიმბოლოს ჩათვლით ბეჭდვა\n",
    "# 6.  შებრუნებული სტრიქონის ბეჭდვა\n",
    "# 7.  poem სტრიქონის 4-დან 40 სიმბოლოს ჩათვლით დაყავით split() მეთოდის მეშვეობით და დაიმახსოვრეთ str1 ცვლადში.\n",
    "#     დაბეჭდეთ str1 სტრიქონი\n",
    "# 8.  str1 სტრიქონი გააერთიანეთ '. ' სტრიქონთან  (join()) და დაბეჭდეთ\n",
    "# 9.  პირველი 40 სიმბოლო გავაცენტროთ 100 სიმბოლოსგან შემდგარ სტრიქონში\n",
    "# 10. პირველ 40 სიმბოლოს სწორება გავუკეთოთ მარჯვნივ 100 სიმბოლოსგან შემდგარ სტრიქონში\n",
    "# 11. პირველი 40 სიმბოლოს ყველა სიტყვა დაიწყოს დიდი ასოთი\n",
    "# 12. პირველ 40 სიმბოლოში სიტყვა 'liquid' შევცვალოთ 'trangle' სიტყვით\n",
    "\n",
    "\n",
    "\n",
    "\n",
    "# -------------------------\n",
    "print()\n",
    "print(poem.startswith('All'))                 # იწყება თუ არა სტრიქონი სიტყვით 'All'?\n",
    "print(poem.endswith(\"that's all, folks!\"))    # მთავრედება თუ არა სტრიქონი წინადადებით 'that's all, folks!'?\n",
    "\n",
    "word = 'the'\n",
    "print(poem.find(word))   # პირველი ჩართული სიტყვის პოვნა სტრიქონში\n",
    "print(poem.rfind(word))  # ბოლო ჩართული სიტყვის პოვნა სტრიქონში\n",
    "print(poem.count(word))  # 'the' სიტყვის რაოდენობა სტრიქონში\n",
    "print(poem.isalnum())    # შიცავს თუ არა სტრიქონი მხოლოდ ასოებს ან ციფრებს? ==> არა, მასში პუნქტუაციის ნიშნებიც გვხვდება."
   ]
  }
 ],
 "metadata": {
  "kernelspec": {
   "display_name": "Python 3",
   "language": "python",
   "name": "python3"
  },
  "language_info": {
   "codemirror_mode": {
    "name": "ipython",
    "version": 3
   },
   "file_extension": ".py",
   "mimetype": "text/x-python",
   "name": "python",
   "nbconvert_exporter": "python",
   "pygments_lexer": "ipython3",
   "version": "3.5.1"
  }
 },
 "nbformat": 4,
 "nbformat_minor": 0
}
