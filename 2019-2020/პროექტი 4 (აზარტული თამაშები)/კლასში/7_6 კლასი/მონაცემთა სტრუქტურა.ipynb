{
 "cells": [
  {
   "cell_type": "markdown",
   "metadata": {},
   "source": [
    "# მონაცემთა სტრუქტურა"
   ]
  },
  {
   "cell_type": "markdown",
   "metadata": {},
   "source": [
    "int, float, bool, str  პრიმიტივები\n",
    "str, list, tuple, dict, set  რთული"
   ]
  },
  {
   "cell_type": "markdown",
   "metadata": {},
   "source": [
    "### სტრიქონები str"
   ]
  },
  {
   "cell_type": "code",
   "execution_count": 8,
   "metadata": {
    "collapsed": false
   },
   "outputs": [
    {
     "name": "stdout",
     "output_type": "stream",
     "text": [
      "სდსდსდ\n",
      "სსდს სცფსფფს\n",
      "        დფდფდფდ დდდ\n",
      "                დფდდფ დგგ\n",
      "\n"
     ]
    }
   ],
   "source": [
    "\"პაატა დსდ დფსსდდგ\"\n",
    "'ფსდ სფსფდსგ'\n",
    "print(\"\"\"სდსდსდ\n",
    "სსდს სცფსფფს\n",
    "        დფდფდფდ დდდ\n",
    "                დფდდფ დგგ\n",
    "\"\"\")"
   ]
  },
  {
   "cell_type": "code",
   "execution_count": 15,
   "metadata": {
    "collapsed": false
   },
   "outputs": [
    {
     "name": "stdout",
     "output_type": "stream",
     "text": [
      "current inventory:99\n"
     ]
    }
   ],
   "source": [
    "bottles = 99\n",
    "base = ''\n",
    "base += 'current inventory: '\n",
    "base += str(bottles)\n",
    "\n",
    "print(base)"
   ]
  },
  {
   "cell_type": "code",
   "execution_count": 18,
   "metadata": {
    "collapsed": false
   },
   "outputs": [
    {
     "name": "stdout",
     "output_type": "stream",
     "text": [
      "Paata Mamporia\n",
      "Paata Mamporia\n"
     ]
    }
   ],
   "source": [
    "fname = \"Paata\"\n",
    "lname = \"Mamporia\"\n",
    "print(fname + ' ' + lname)\n",
    "\n",
    "full_name = fname + \" \" + lname\n",
    "print(full_name)"
   ]
  },
  {
   "cell_type": "code",
   "execution_count": 32,
   "metadata": {
    "collapsed": false
   },
   "outputs": [
    {
     "name": "stdout",
     "output_type": "stream",
     "text": [
      "abcdefghijklmnopqrstuvwxyz\n",
      "k\n",
      "v\n",
      "z\n",
      "y\n",
      "26\n",
      "z\n"
     ]
    }
   ],
   "source": [
    "str1 = \"abcdefghijklmnopqrstuvwxyz\"\n",
    "print(str1)\n",
    "print(str1[10])\n",
    "print(str1[21])\n",
    "print(str1[-1])\n",
    "print(str1[-2])\n",
    "\n",
    "print(len(str1))   # len სტრიქონის სიგრძე (ელემენტთა რაოდენობა)\n",
    "print(str1[len(str1)-1])"
   ]
  },
  {
   "cell_type": "code",
   "execution_count": 33,
   "metadata": {
    "collapsed": false
   },
   "outputs": [
    {
     "name": "stdout",
     "output_type": "stream",
     "text": [
      "a b c d e f g h i j k l m n o p q r s t u v w x y z "
     ]
    }
   ],
   "source": [
    "str1 = \"abcdefghijklmnopqrstuvwxyz\"\n",
    "for char in str1:\n",
    "    print(char, end=' ')"
   ]
  }
 ],
 "metadata": {
  "kernelspec": {
   "display_name": "Python 3",
   "language": "python",
   "name": "python3"
  },
  "language_info": {
   "codemirror_mode": {
    "name": "ipython",
    "version": 3
   },
   "file_extension": ".py",
   "mimetype": "text/x-python",
   "name": "python",
   "nbconvert_exporter": "python",
   "pygments_lexer": "ipython3",
   "version": "3.5.1"
  }
 },
 "nbformat": 4,
 "nbformat_minor": 0
}
