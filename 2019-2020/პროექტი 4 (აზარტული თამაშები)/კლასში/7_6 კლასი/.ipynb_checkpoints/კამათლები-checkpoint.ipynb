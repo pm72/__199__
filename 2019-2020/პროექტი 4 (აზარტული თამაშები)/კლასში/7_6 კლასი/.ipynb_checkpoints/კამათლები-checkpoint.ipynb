{
 "cells": [
  {
   "cell_type": "code",
   "execution_count": 1,
   "metadata": {
    "collapsed": false
   },
   "outputs": [
    {
     "name": "stdout",
     "output_type": "stream",
     "text": [
      "გავაგოროთ კამათელი!\n",
      "\n",
      "რაუნდი 1.\n",
      "\tშენი გაგორებაა: 7\n",
      "\tჩემი გაგორებაა: 7\n",
      "\t0 : 0\n",
      "\n",
      "რაუნდი 2.\n",
      "\tშენი გაგორებაა: 9\n",
      "\tჩემი გაგორებაა: 10\n",
      "\t1 : 0\n",
      "\n",
      "რაუნდი 3.\n",
      "\tშენი გაგორებაა: 7\n",
      "\tჩემი გაგორებაა: 9\n",
      "\t2 : 0\n",
      "\n",
      "რაუნდი 4.\n",
      "\tშენი გაგორებაა: 2\n",
      "\tჩემი გაგორებაა: 8\n",
      "\t3 : 0\n",
      "\n",
      "რაუნდი 5.\n",
      "\tშენი გაგორებაა: 8\n",
      "\tჩემი გაგორებაა: 3\n",
      "\t3 : 1\n",
      "\n",
      "მე მოვიგე!\n"
     ]
    }
   ],
   "source": [
    "import random, time\n",
    "\n",
    "print(\"გავაგოროთ კამათელი!\\n\")\n",
    "round = 0\n",
    "your_number = 0\n",
    "my_number = 0\n",
    "\n",
    "# თამაშის დაწყება\n",
    "while round < 5:\n",
    "    round += 1\n",
    "    print(\"რაუნდი {}.\".format(round))\n",
    "    print(\"\\tშენი გაგორებაა: \", end=\"\")\n",
    "    your_shoot = random.randint(2, 12)\n",
    "    time.sleep(1)\n",
    "    print(your_shoot)\n",
    "    \n",
    "    print(\"\\tჩემი გაგორებაა: \", end=\"\")\n",
    "    my_shoot = random.randint(2, 12)\n",
    "    time.sleep(1)\n",
    "    print(my_shoot)\n",
    "    \n",
    "    if your_shoot > my_shoot: your_number +=1\n",
    "    elif my_shoot > your_shoot: my_number += 1\n",
    "    \n",
    "    print(\"\\t{} : {}\".format(my_number, your_number))\n",
    "    time.sleep(1)\n",
    "    \n",
    "    print()\n",
    "\n",
    "# შედეგი\n",
    "if your_number > my_number: print(\"შენ მოიგე!\")\n",
    "elif my_number > your_number: print(\"მე მოვიგე!\")\n",
    "else: print(\"ყაიმი!\")"
   ]
  },
  {
   "cell_type": "code",
   "execution_count": 4,
   "metadata": {
    "collapsed": false
   },
   "outputs": [
    {
     "name": "stdout",
     "output_type": "stream",
     "text": [
      "გავაგოროთ კამათელი!\n",
      "\n",
      "რაუნდი 1.\n",
      "\tშენი გაგორებაა: 5\n",
      "\tჩემი გაგორებაა: 3\n",
      "\t1 : 0\n",
      "\n",
      "რაუნდი 2.\n",
      "\tშენი გაგორებაა: 13\n",
      "\tშენი გაგორებაა: 5.69\n",
      "\tრიცხვები 2-დან 12-ის ჩათვლით\n",
      "\tშენი გაგორებაა: -9\n",
      "\tშენი გაგორებაა: 8\n",
      "\tჩემი გაგორებაა: 11\n",
      "\t1 : 1\n",
      "\n",
      "რაუნდი 3.\n",
      "\tშენი გაგორებაა: 9.0\n",
      "\tრიცხვები 2-დან 12-ის ჩათვლით\n",
      "\tშენი გაგორებაა: 7\n",
      "\tჩემი გაგორებაა: 10\n",
      "\t1 : 2\n",
      "\n",
      "რაუნდი 4.\n",
      "\tშენი გაგორებაა: 0\n",
      "\tშენი გაგორებაა: 1\n",
      "\tშენი გაგორებაა: 2\n",
      "\tჩემი გაგორებაა: 6\n",
      "\t1 : 3\n",
      "\n",
      "რაუნდი 5.\n",
      "\tშენი გაგორებაა: 8\n",
      "\tჩემი გაგორებაა: 4\n",
      "\t2 : 3\n",
      "\n",
      "მე მოვიგე!\n"
     ]
    }
   ],
   "source": [
    "import random, time\n",
    "\n",
    "print(\"გავაგოროთ კამათელი!\\n\")\n",
    "round = 0\n",
    "your_number = 0\n",
    "my_number = 0\n",
    "\n",
    "# თამაშის დაწყება\n",
    "while round < 5:\n",
    "    round += 1\n",
    "    print(\"რაუნდი {}.\".format(round))\n",
    "    \n",
    "    your_shoot = 0\n",
    "    while your_shoot < 2 or your_shoot > 12:\n",
    "        try:\n",
    "            your_shoot = int(input(\"\\tშენი გაგორებაა: \"))\n",
    "        except ValueError:\n",
    "            print(\"\\tრიცხვები 2-დან 12-ის ჩათვლით\")\n",
    "    \n",
    "    print(\"\\tჩემი გაგორებაა: \", end=\"\")\n",
    "    my_shoot = random.randint(2, 12)\n",
    "    time.sleep(1)\n",
    "    print(my_shoot)\n",
    "    \n",
    "    if your_shoot > my_shoot: your_number +=1\n",
    "    elif my_shoot > your_shoot: my_number += 1\n",
    "    \n",
    "    print(\"\\t{} : {}\".format(your_number, my_number))\n",
    "    time.sleep(1)\n",
    "    \n",
    "    print()\n",
    "\n",
    "# შედეგი\n",
    "if your_number > my_number: print(\"შენ მოიგე!\")\n",
    "elif my_number > your_number: print(\"მე მოვიგე!\")\n",
    "else: print(\"ყაიმი!\")"
   ]
  },
  {
   "cell_type": "code",
   "execution_count": 3,
   "metadata": {
    "collapsed": false
   },
   "outputs": [
    {
     "name": "stdout",
     "output_type": "stream",
     "text": [
      "შეიტანე რიცხვი 1-დან 10-ის ჩათვლით: 89\n",
      "შეიტანე რიცხვი 1-დან 10-ის ჩათვლით: 5.6\n",
      "რიცხვი 1-დან 10-ის ჩათვლით\n",
      "შეიტანე რიცხვი 1-დან 10-ის ჩათვლით: 9\n",
      "81\n"
     ]
    }
   ],
   "source": [
    "a = 0\n",
    "while a < 1 or a > 10:\n",
    "    try:\n",
    "        a = int(input(\"შეიტანე რიცხვი 1-დან 10-ის ჩათვლით: \"))\n",
    "    except ValueError:\n",
    "        print(\"რიცხვი 1-დან 10-ის ჩათვლით\")\n",
    "\n",
    "print(a**2)"
   ]
  },
  {
   "cell_type": "code",
   "execution_count": 1,
   "metadata": {
    "collapsed": false
   },
   "outputs": [
    {
     "name": "stdout",
     "output_type": "stream",
     "text": [
      "შეიტანე რიცხვი 2-დან 12-ის ჩათვლით: 1.56\n",
      "რიცხვი 2-დან 12-ის ჩათვლით\n",
      "შეიტანე რიცხვი 2-დან 12-ის ჩათვლით: 56\n",
      "შეიტანე რიცხვი 2-დან 12-ის ჩათვლით: 4\n",
      "16\n"
     ]
    }
   ],
   "source": [
    "a = 0\n",
    "while a < 2 or a > 12:\n",
    "    try:\n",
    "        a = int(input(\"შეიტანე რიცხვი 2-დან 12-ის ჩათვლით: \"))\n",
    "    except ValueError:\n",
    "        print(\"რიცხვი 2-დან 12-ის ჩათვლით\")\n",
    "    \n",
    "print(a**2)"
   ]
  },
  {
   "cell_type": "code",
   "execution_count": null,
   "metadata": {
    "collapsed": true
   },
   "outputs": [],
   "source": [
    "for ციკლი\n",
    "for i in range(start, stop, step):\n",
    "    ინსტრუქცია 1\n",
    "    ინსტრუქცია 2\n",
    "    ..."
   ]
  },
  {
   "cell_type": "code",
   "execution_count": 9,
   "metadata": {
    "collapsed": false
   },
   "outputs": [
    {
     "name": "stdout",
     "output_type": "stream",
     "text": [
      "[0, 1, 2, 3, 4, 5, 6, 7, 8, 9]\n",
      "[0, 1, 2, 3, 4, 5, 6, 7, 8, 9]\n",
      "[5, 6, 7, 8, 9]\n",
      "[1, 3, 5, 7, 9]\n",
      "[0, 2, 4, 6, 8]\n",
      "[9, 8, 7, 6, 5, 4, 3, 2, 1, 0]\n"
     ]
    }
   ],
   "source": [
    "print(list(range(0, 10, 1)))\n",
    "print(list(range(10)))\n",
    "print(list(range(5, 10)))\n",
    "print(list(range(1, 10, 2)))\n",
    "print(list(range(0, 10, 2)))\n",
    "print(list(range(9, -1, -1)))"
   ]
  },
  {
   "cell_type": "code",
   "execution_count": 18,
   "metadata": {
    "collapsed": false
   },
   "outputs": [
    {
     "name": "stdout",
     "output_type": "stream",
     "text": [
      "1.\t1^2 = 1\n",
      "2.\t2^2 = 4\n",
      "3.\t3^2 = 9\n",
      "4.\t4^2 = 16\n",
      "5.\t5^2 = 25\n",
      "6.\t6^2 = 36\n",
      "7.\t7^2 = 49\n",
      "8.\t8^2 = 64\n",
      "9.\t9^2 = 81\n",
      "10.\t10^2 = 100\n"
     ]
    }
   ],
   "source": [
    "for i in range(1, 11):\n",
    "    print(\"{}.\\t{}^2 = {}\".format(i, i, i**2))"
   ]
  },
  {
   "cell_type": "code",
   "execution_count": null,
   "metadata": {
    "collapsed": false
   },
   "outputs": [
    {
     "name": "stdout",
     "output_type": "stream",
     "text": [
      "გავაგოროთ კამათელი!\n",
      "\n",
      "რაუნდი 1.\n",
      "\tშენი გაგორებაა: 56\n",
      "\tშენი გაგორებაა: 5\n",
      "\tჩემი გაგორებაა: 2\n",
      "\t1 : 0\n",
      "\n",
      "რაუნდი 2.\n",
      "\tშენი გაგორებაა: 7\n",
      "\tჩემი გაგორებაა: 2\n",
      "\t2 : 0\n",
      "\n",
      "რაუნდი 3.\n"
     ]
    }
   ],
   "source": [
    "import random, time\n",
    "\n",
    "print(\"გავაგოროთ კამათელი!\\n\")\n",
    "your_number = 0\n",
    "my_number = 0\n",
    "\n",
    "# თამაშის დაწყება\n",
    "for round in range(1, 6):\n",
    "    print(\"რაუნდი {}.\".format(round))\n",
    "    \n",
    "    your_shoot = 0\n",
    "    while your_shoot < 2 or your_shoot > 12:\n",
    "        try:\n",
    "            your_shoot = int(input(\"\\tშენი გაგორებაა: \"))\n",
    "        except ValueError:\n",
    "            print(\"\\tრიცხვები 2-დან 12-ის ჩათვლით\")\n",
    "    \n",
    "    print(\"\\tჩემი გაგორებაა: \", end=\"\")\n",
    "    my_shoot = random.randint(2, 12)\n",
    "    time.sleep(1)\n",
    "    print(my_shoot)\n",
    "    \n",
    "    if your_shoot > my_shoot: your_number +=1\n",
    "    elif my_shoot > your_shoot: my_number += 1\n",
    "    \n",
    "    print(\"\\t{} : {}\".format(your_number, my_number))\n",
    "    time.sleep(1)\n",
    "    \n",
    "    print()\n",
    "\n",
    "# შედეგი\n",
    "if your_number > my_number: print(\"შენ მოიგე!\")\n",
    "elif my_number > your_number: print(\"მე მოვიგე!\")\n",
    "else: print(\"ყაიმი!\")"
   ]
  }
 ],
 "metadata": {
  "kernelspec": {
   "display_name": "Python 3",
   "language": "python",
   "name": "python3"
  },
  "language_info": {
   "codemirror_mode": {
    "name": "ipython",
    "version": 3
   },
   "file_extension": ".py",
   "mimetype": "text/x-python",
   "name": "python",
   "nbconvert_exporter": "python",
   "pygments_lexer": "ipython3",
   "version": "3.5.1"
  }
 },
 "nbformat": 4,
 "nbformat_minor": 0
}
