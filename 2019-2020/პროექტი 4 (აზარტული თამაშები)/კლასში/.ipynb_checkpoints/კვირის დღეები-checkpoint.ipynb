{
 "cells": [
  {
   "cell_type": "code",
   "execution_count": 10,
   "metadata": {
    "collapsed": false
   },
   "outputs": [
    {
     "name": "stdout",
     "output_type": "stream",
     "text": [
      "ორშაბათი\n",
      "სამშაბათი\n",
      "ოთხშაბათი\n",
      "ხუთშაბათი\n",
      "პარასკევი\n",
      "შაბათი\n",
      "კვირა\n"
     ]
    }
   ],
   "source": [
    "# კვირის დღეები\n",
    "week = [\"ორშაბათი\", \"სამშაბათი\", \"ოთხშაბათი\", \"ხუთშაბათი\", \"პარასკევი\", \"შაბათი\", \"კვირა\"]\n",
    "\n",
    "for day in week:\n",
    "    print(day)"
   ]
  }
 ],
 "metadata": {
  "kernelspec": {
   "display_name": "Python 3",
   "language": "python",
   "name": "python3"
  },
  "language_info": {
   "codemirror_mode": {
    "name": "ipython",
    "version": 3
   },
   "file_extension": ".py",
   "mimetype": "text/x-python",
   "name": "python",
   "nbconvert_exporter": "python",
   "pygments_lexer": "ipython3",
   "version": "3.5.1"
  }
 },
 "nbformat": 4,
 "nbformat_minor": 0
}
