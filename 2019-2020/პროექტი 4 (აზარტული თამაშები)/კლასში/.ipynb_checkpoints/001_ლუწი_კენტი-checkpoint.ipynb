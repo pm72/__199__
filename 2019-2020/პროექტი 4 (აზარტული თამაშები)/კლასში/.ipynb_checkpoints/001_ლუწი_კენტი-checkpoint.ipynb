{
 "cells": [
  {
   "cell_type": "code",
   "execution_count": 2,
   "metadata": {
    "collapsed": false
   },
   "outputs": [
    {
     "name": "stdout",
     "output_type": "stream",
     "text": [
      "ლუწი რიცხვები\n",
      "0 2 4 6 8 10 12 14 16 18 20 22 24 26 28 30 32 34 36 38 40 42 44 46 48 50 52 54 56 58 60 62 64 66 68 70 72 74 76 78 80 82 84 86 88 90 92 94 96 98 \n",
      "\n",
      "კენტი რიცხვები\n",
      "1 3 5 7 9 11 13 15 17 19 21 23 25 27 29 31 33 35 37 39 41 43 45 47 49 51 53 55 57 59 61 63 65 67 69 71 73 75 77 79 81 83 85 87 89 91 93 95 97 99 "
     ]
    }
   ],
   "source": [
    "# კენტი რიცხვები\n",
    "print(\"კენტი რიცხვები\")\n",
    "for i in range(1, 100, 2):\n",
    "    \n",
    "    print(i, end=' ')\n",
    "\n",
    "print(\"\\n\")\n",
    "    \n",
    "# ლუწი რიცხვები\n",
    "print(\"ლუწი რიცხვები\")\n",
    "for i in range(0, 100, 2):\n",
    "    print(i, end=' ')"
   ]
  }
 ],
 "metadata": {
  "kernelspec": {
   "display_name": "Python 3",
   "language": "python",
   "name": "python3"
  },
  "language_info": {
   "codemirror_mode": {
    "name": "ipython",
    "version": 3
   },
   "file_extension": ".py",
   "mimetype": "text/x-python",
   "name": "python",
   "nbconvert_exporter": "python",
   "pygments_lexer": "ipython3",
   "version": "3.5.1"
  }
 },
 "nbformat": 4,
 "nbformat_minor": 0
}
