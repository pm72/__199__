{
 "cells": [
  {
   "cell_type": "code",
   "execution_count": 1,
   "metadata": {
    "collapsed": false
   },
   "outputs": [
    {
     "name": "stdout",
     "output_type": "stream",
     "text": [
      "გავაგოროთ კამათლები\n",
      "\n",
      "რაუნდი 1\n",
      "\tშენი გაგორებაა: 8\n",
      "\tჩემი გაგორებაა: 12\n",
      "\t0 : 1\n",
      "\n",
      "რაუნდი 2\n",
      "\tშენი გაგორებაა: 12\n",
      "\tჩემი გაგორებაა: 12\n",
      "\t0 : 1\n",
      "\n",
      "რაუნდი 3\n",
      "\tშენი გაგორებაა: 6\n",
      "\tჩემი გაგორებაა: 2\n",
      "\t1 : 1\n",
      "\n",
      "რაუნდი 4\n",
      "\tშენი გაგორებაა: 11\n",
      "\tჩემი გაგორებაა: 8\n",
      "\t2 : 1\n",
      "\n",
      "რაუნდი 5\n",
      "\tშენი გაგორებაა: 6\n",
      "\tჩემი გაგორებაა: 11\n",
      "\t2 : 2\n",
      "\n",
      "ყაიმი!\n",
      "\n",
      "\n",
      "დასასრული...\n"
     ]
    }
   ],
   "source": [
    "import random, time\n",
    "\n",
    "print(\"გავაგოროთ კამათლები\\n\")\n",
    "\n",
    "raund = 0\n",
    "your_number = 0\n",
    "my_number = 0\n",
    "\n",
    "while raund < 5:\n",
    "    raund +=1\n",
    "    print(\"რაუნდი\", raund)\n",
    "    print(\"\\tშენი გაგორებაა: \", end='')\n",
    "    your_dice = random.randint(2, 12)\n",
    "    time.sleep(1)\n",
    "    print(your_dice)\n",
    "    \n",
    "    print(\"\\tჩემი გაგორებაა: \", end='')\n",
    "    my_dice = random.randint(2, 12)\n",
    "    time.sleep(1)\n",
    "    print(my_dice)\n",
    "    \n",
    "    if your_dice > my_dice: your_number += 1   # your_number = your_number + 1\n",
    "    elif my_dice > your_dice: my_number += 1\n",
    "    \n",
    "    \n",
    "    time.sleep(1)\n",
    "    print(\"\\t{} : {}\".format(your_number, my_number))\n",
    "    \n",
    "    print()\n",
    "\n",
    "if your_number > my_number : print(\"შენ მოიგე!\")\n",
    "elif my_number > your_number : print(\"მე მოვიგე!\")\n",
    "else: print(\"ყაიმი!\")\n",
    "    \n",
    "print(\"\\n\\nდასასრული...\")"
   ]
  },
  {
   "cell_type": "code",
   "execution_count": 15,
   "metadata": {
    "collapsed": false
   },
   "outputs": [
    {
     "name": "stdout",
     "output_type": "stream",
     "text": [
      "a = 45 b = 89\n",
      "პირველი რიცხვი არის 45 მეორე რიცხვი არის 89\n"
     ]
    }
   ],
   "source": [
    "a = 45\n",
    "b = 89\n",
    "print(\"a =\", a, \"b =\", b)\n",
    "print(\"პირველი რიცხვი არის {} მეორე რიცხვი არის {}\".format(a, b))"
   ]
  },
  {
   "cell_type": "code",
   "execution_count": 4,
   "metadata": {
    "collapsed": false
   },
   "outputs": [
    {
     "name": "stdout",
     "output_type": "stream",
     "text": [
      "შენი გაგორებაა: 5.6\n"
     ]
    },
    {
     "ename": "ValueError",
     "evalue": "invalid literal for int() with base 10: '5.6'",
     "output_type": "error",
     "traceback": [
      "\u001b[1;31m---------------------------------------------------------------------------\u001b[0m",
      "\u001b[1;31mValueError\u001b[0m                                Traceback (most recent call last)",
      "\u001b[1;32m<ipython-input-4-e2ecf8ce8624>\u001b[0m in \u001b[0;36m<module>\u001b[1;34m()\u001b[0m\n\u001b[1;32m----> 1\u001b[1;33m \u001b[0myour_dice\u001b[0m \u001b[1;33m=\u001b[0m \u001b[0mint\u001b[0m\u001b[1;33m(\u001b[0m\u001b[0minput\u001b[0m\u001b[1;33m(\u001b[0m\u001b[1;34m\"შენი გაგორებაა: \"\u001b[0m\u001b[1;33m)\u001b[0m\u001b[1;33m)\u001b[0m\u001b[1;33m\u001b[0m\u001b[0m\n\u001b[0m\u001b[0;32m      2\u001b[0m \u001b[0mprint\u001b[0m\u001b[1;33m(\u001b[0m\u001b[0myour_dice\u001b[0m\u001b[1;33m)\u001b[0m\u001b[1;33m\u001b[0m\u001b[0m\n",
      "\u001b[1;31mValueError\u001b[0m: invalid literal for int() with base 10: '5.6'"
     ]
    }
   ],
   "source": [
    "try\n",
    "your_dice = int(input(\"შენი გაგორებაა: \"))\n",
    "print(your_dice)"
   ]
  },
  {
   "cell_type": "code",
   "execution_count": null,
   "metadata": {
    "collapsed": false
   },
   "outputs": [
    {
     "name": "stdout",
     "output_type": "stream",
     "text": [
      "გავაგოროთ კამათლები\n",
      "\n",
      "რაუნდი 1\n",
      "\tშენი გაგორებაა: 5.6\n",
      "\tმხოლოდ მთელი დადებითი რიცხვი 2-დან 12-ის ჩათვლით!\n"
     ]
    }
   ],
   "source": [
    "import random, time\n",
    "\n",
    "print(\"გავაგოროთ კამათლები\\n\")\n",
    "\n",
    "raund = 0\n",
    "your_number = 0\n",
    "my_number = 0\n",
    "\n",
    "while raund < 5:\n",
    "    raund +=1\n",
    "    print(\"რაუნდი\", raund)\n",
    "    \n",
    "    your_dice = 0\n",
    "    while your_dice < 2 or your_dice > 12:\n",
    "        try:\n",
    "            your_dice = int(input(\"\\tშენი გაგორებაა: \"))\n",
    "        except ValueError:\n",
    "            print(\"\\tმხოლოდ მთელი დადებითი რიცხვი 2-დან 12-ის ჩათვლით!\")\n",
    "    \n",
    "    print(\"\\tჩემი გაგორებაა: \", end='')\n",
    "    my_dice = random.randint(2, 12)\n",
    "    time.sleep(1)\n",
    "    print(my_dice)\n",
    "    \n",
    "    if your_dice > my_dice: your_number += 1   # your_number = your_number + 1\n",
    "    elif my_dice > your_dice: my_number += 1\n",
    "    \n",
    "    \n",
    "    time.sleep(1)\n",
    "    print(\"\\t{} : {}\".format(your_number, my_number))\n",
    "    \n",
    "    print()\n",
    "\n",
    "if your_number > my_number : print(\"შენ მოიგე!\")\n",
    "elif my_number > your_number : print(\"მე მოვიგე!\")\n",
    "else: print(\"ყაიმი!\")\n",
    "    \n",
    "print(\"\\n\\nდასასრული...\")"
   ]
  },
  {
   "cell_type": "code",
   "execution_count": 3,
   "metadata": {
    "collapsed": false
   },
   "outputs": [
    {
     "name": "stdout",
     "output_type": "stream",
     "text": [
      "\tშენი გაგორებაა: 5.3\n",
      "\tმხოლოდ მთელი დადებითი რიცხვი 2-დან 12-ის ჩათვლით!\n",
      "\tშენი გაგორებაა: 0.25\n",
      "\tმხოლოდ მთელი დადებითი რიცხვი 2-დან 12-ის ჩათვლით!\n",
      "\tშენი გაგორებაა: 56\n",
      "\tშენი გაგორებაა: 25\n",
      "\tშენი გაგორებაა: 13\n",
      "\tშენი გაგორებაა: lhkjb\n",
      "\tმხოლოდ მთელი დადებითი რიცხვი 2-დან 12-ის ჩათვლით!\n",
      "\tშენი გაგორებაა: -9\n",
      "\tშენი გაგორებაა: 65\n",
      "\tშენი გაგორებაა: 5\n",
      "your_dice = 5\n"
     ]
    }
   ],
   "source": [
    "your_dice = 0\n",
    "while your_dice < 2 or your_dice > 12:\n",
    "    try:\n",
    "        your_dice = int(input(\"\\tშენი გაგორებაა: \"))\n",
    "    except ValueError:\n",
    "        print(\"\\tმხოლოდ მთელი დადებითი რიცხვი 2-დან 12-ის ჩათვლით!\")\n",
    "\n",
    "print(\"your_dice =\", your_dice)"
   ]
  }
 ],
 "metadata": {
  "kernelspec": {
   "display_name": "Python 3",
   "language": "python",
   "name": "python3"
  },
  "language_info": {
   "codemirror_mode": {
    "name": "ipython",
    "version": 3
   },
   "file_extension": ".py",
   "mimetype": "text/x-python",
   "name": "python",
   "nbconvert_exporter": "python",
   "pygments_lexer": "ipython3",
   "version": "3.5.1"
  }
 },
 "nbformat": 4,
 "nbformat_minor": 0
}
