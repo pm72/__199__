{
 "cells": [
  {
   "cell_type": "code",
   "execution_count": null,
   "metadata": {
    "collapsed": false
   },
   "outputs": [
    {
     "name": "stdout",
     "output_type": "stream",
     "text": [
      "გავაგოროთ კამათელი!\n",
      "\n",
      "რაუნდი 1.\n",
      "\tშენი გაგორებაა: 56\n",
      "შიტანე რიცხვი მხოლოდ 2-დან 12-ის ჩათვლით!\n",
      "\tჩემი გაგორებაა: 6\n",
      "\t0 : 1\n",
      "\n",
      "რაუნდი 2.\n"
     ]
    }
   ],
   "source": [
    "import random, time\n",
    "\n",
    "print(\"გავაგოროთ კამათელი!\\n\")\n",
    "round = 0\n",
    "your_number = 0\n",
    "my_number = 0\n",
    "\n",
    "# თამაშის დაწყება\n",
    "while round < 5:\n",
    "    round += 1\n",
    "    print(\"რაუნდი {}.\".format(round))\n",
    "    your_shoot = int(input(\"\\tშენი გაგორებაა: \"))\n",
    "    if your_shoot < 2 or your_shoot > 12:\n",
    "        print(\"\\tშიტანე რიცხვი მხოლოდ 2-დან 12-ის ჩათვლით!\")\n",
    "    \n",
    "    print(\"\\tჩემი გაგორებაა: \", end=\"\")\n",
    "    my_shoot = random.randint(2, 12)\n",
    "    time.sleep(1)\n",
    "    print(my_shoot)\n",
    "    \n",
    "    if your_shoot > my_shoot: your_number +=1\n",
    "    elif my_shoot > your_shoot: my_number += 1\n",
    "    \n",
    "    print(\"\\t{} : {}\".format(my_number, your_number))\n",
    "    time.sleep(1)\n",
    "    \n",
    "    print()\n",
    "\n",
    "# შედეგი\n",
    "if your_number > my_number: print(\"შენ მოიგე!\")\n",
    "elif my_number > your_number: print(\"მე მოვიგე!\")\n",
    "else: print(\"ყაიმი!\")"
   ]
  },
  {
   "cell_type": "code",
   "execution_count": 1,
   "metadata": {
    "collapsed": false
   },
   "outputs": [
    {
     "name": "stdout",
     "output_type": "stream",
     "text": [
      "გავაგოროთ კამათელი!\n",
      "\n",
      "რაუნდი 1.\n",
      "\tშენი გაგორებაა: 2.3\n"
     ]
    },
    {
     "ename": "ValueError",
     "evalue": "invalid literal for int() with base 10: '2.3'",
     "output_type": "error",
     "traceback": [
      "\u001b[1;31m---------------------------------------------------------------------------\u001b[0m",
      "\u001b[1;31mValueError\u001b[0m                                Traceback (most recent call last)",
      "\u001b[1;32m<ipython-input-1-5a7d77bd1c0d>\u001b[0m in \u001b[0;36m<module>\u001b[1;34m()\u001b[0m\n\u001b[0;32m     12\u001b[0m     \u001b[0myour_shoot\u001b[0m \u001b[1;33m=\u001b[0m \u001b[1;36m0\u001b[0m\u001b[1;33m\u001b[0m\u001b[0m\n\u001b[0;32m     13\u001b[0m     \u001b[1;32mwhile\u001b[0m \u001b[0myour_shoot\u001b[0m \u001b[1;33m<\u001b[0m \u001b[1;36m2\u001b[0m \u001b[1;32mor\u001b[0m \u001b[0myour_shoot\u001b[0m \u001b[1;33m>\u001b[0m \u001b[1;36m12\u001b[0m\u001b[1;33m:\u001b[0m\u001b[1;33m\u001b[0m\u001b[0m\n\u001b[1;32m---> 14\u001b[1;33m         \u001b[0myour_shoot\u001b[0m \u001b[1;33m=\u001b[0m \u001b[0mint\u001b[0m\u001b[1;33m(\u001b[0m\u001b[0minput\u001b[0m\u001b[1;33m(\u001b[0m\u001b[1;34m\"\\tშენი გაგორებაა: \"\u001b[0m\u001b[1;33m)\u001b[0m\u001b[1;33m)\u001b[0m\u001b[1;33m\u001b[0m\u001b[0m\n\u001b[0m\u001b[0;32m     15\u001b[0m \u001b[1;33m\u001b[0m\u001b[0m\n\u001b[0;32m     16\u001b[0m     \u001b[0mprint\u001b[0m\u001b[1;33m(\u001b[0m\u001b[1;34m\"\\tჩემი გაგორებაა: \"\u001b[0m\u001b[1;33m,\u001b[0m \u001b[0mend\u001b[0m\u001b[1;33m=\u001b[0m\u001b[1;34m\"\"\u001b[0m\u001b[1;33m)\u001b[0m\u001b[1;33m\u001b[0m\u001b[0m\n",
      "\u001b[1;31mValueError\u001b[0m: invalid literal for int() with base 10: '2.3'"
     ]
    }
   ],
   "source": [
    "import random, time\n",
    "\n",
    "print(\"გავაგოროთ კამათელი!\\n\")\n",
    "round = 0\n",
    "your_number = 0\n",
    "my_number = 0\n",
    "\n",
    "# თამაშის დაწყება\n",
    "while round < 5:\n",
    "    round += 1\n",
    "    print(\"რაუნდი {}.\".format(round))\n",
    "    your_shoot = 0\n",
    "    while your_shoot < 2 or your_shoot > 12:\n",
    "        your_shoot = int(input(\"\\tშენი გაგორებაა: \"))\n",
    "    \n",
    "    print(\"\\tჩემი გაგორებაა: \", end=\"\")\n",
    "    my_shoot = random.randint(2, 12)\n",
    "    time.sleep(1)\n",
    "    print(my_shoot)\n",
    "    \n",
    "    if your_shoot > my_shoot: your_number +=1\n",
    "    elif my_shoot > your_shoot: my_number += 1\n",
    "    \n",
    "    print(\"\\t{} : {}\".format(my_number, your_number))\n",
    "    time.sleep(1)\n",
    "    \n",
    "    print()\n",
    "\n",
    "# შედეგი\n",
    "if your_number > my_number: print(\"შენ მოიგე!\")\n",
    "elif my_number > your_number: print(\"მე მოვიგე!\")\n",
    "else: print(\"ყაიმი!\")"
   ]
  },
  {
   "cell_type": "code",
   "execution_count": 3,
   "metadata": {
    "collapsed": false
   },
   "outputs": [
    {
     "name": "stdout",
     "output_type": "stream",
     "text": [
      "გავაგოროთ კამათელი!\n",
      "\n",
      "რაუნდი 1.\n",
      "\tშენი გაგორებაა: 6\n",
      "\tჩემი გაგორებაა: 7\n",
      "\t1 : 0\n",
      "\n",
      "რაუნდი 2.\n",
      "\tშენი გაგორებაა: 8.3\n",
      "\tშიტანე რიცხვი 2-დან 12-ის ჩათვლით!\n",
      "\n",
      "\tშენი გაგორებაა: 5\n",
      "\tჩემი გაგორებაა: 9\n",
      "\t2 : 0\n",
      "\n",
      "რაუნდი 3.\n",
      "\tშენი გაგორებაა: 2\n",
      "\tჩემი გაგორებაა: 11\n",
      "\t3 : 0\n",
      "\n",
      "რაუნდი 4.\n",
      "\tშენი გაგორებაა: 6\n",
      "\tჩემი გაგორებაა: 11\n",
      "\t4 : 0\n",
      "\n",
      "რაუნდი 5.\n",
      "\tშენი გაგორებაა: 8\n",
      "\tჩემი გაგორებაა: 9\n",
      "\t5 : 0\n",
      "\n",
      "მე მოვიგე!\n"
     ]
    }
   ],
   "source": [
    "import random, time\n",
    "\n",
    "print(\"გავაგოროთ კამათელი!\\n\")\n",
    "round = 0\n",
    "your_number = 0\n",
    "my_number = 0\n",
    "\n",
    "# თამაშის დაწყება\n",
    "while round < 5:\n",
    "    round += 1\n",
    "    print(\"რაუნდი {}.\".format(round))\n",
    "    your_shoot = 0\n",
    "    while your_shoot < 2 or your_shoot > 12:\n",
    "        try:\n",
    "            your_shoot = int(input(\"\\tშენი გაგორებაა: \"))\n",
    "        except ValueError:\n",
    "            print(\"\\tშიტანე რიცხვი 2-დან 12-ის ჩათვლით!\\n\")\n",
    "    \n",
    "    print(\"\\tჩემი გაგორებაა: \", end=\"\")\n",
    "    my_shoot = random.randint(2, 12)\n",
    "    time.sleep(1)\n",
    "    print(my_shoot)\n",
    "    \n",
    "    if your_shoot > my_shoot: your_number +=1\n",
    "    elif my_shoot > your_shoot: my_number += 1\n",
    "    \n",
    "    print(\"\\t{} : {}\".format(my_number, your_number))\n",
    "    time.sleep(1)\n",
    "    \n",
    "    print()\n",
    "\n",
    "# შედეგი\n",
    "if your_number > my_number: print(\"შენ მოიგე!\")\n",
    "elif my_number > your_number: print(\"მე მოვიგე!\")\n",
    "else: print(\"ყაიმი!\")"
   ]
  }
 ],
 "metadata": {
  "kernelspec": {
   "display_name": "Python 3",
   "language": "python",
   "name": "python3"
  },
  "language_info": {
   "codemirror_mode": {
    "name": "ipython",
    "version": 3
   },
   "file_extension": ".py",
   "mimetype": "text/x-python",
   "name": "python",
   "nbconvert_exporter": "python",
   "pygments_lexer": "ipython3",
   "version": "3.5.1"
  }
 },
 "nbformat": 4,
 "nbformat_minor": 0
}
