{
 "cells": [
  {
   "cell_type": "code",
   "execution_count": 4,
   "metadata": {
    "collapsed": false
   },
   "outputs": [
    {
     "name": "stdout",
     "output_type": "stream",
     "text": [
      "გავაგოროთ კამათელი!\n",
      "\n",
      "რაუნდი 1.\n",
      "\tშენი გაგორებაა: 9\n",
      "\tჩემი გაგორებაა: 7\n",
      "\t1 : 0\n",
      "\n",
      "რაუნდი 2.\n",
      "\tშენი გაგორებაა: 5\n",
      "\tჩემი გაგორებაა: 3\n",
      "\t2 : 0\n",
      "\n",
      "რაუნდი 3.\n",
      "\tშენი გაგორებაა: 2\n",
      "\tჩემი გაგორებაა: 7\n",
      "\t2 : 1\n",
      "\n",
      "რაუნდი 4.\n",
      "\tშენი გაგორებაა: 8\n",
      "\tჩემი გაგორებაა: 11\n",
      "\t2 : 2\n",
      "\n",
      "რაუნდი 5.\n",
      "\tშენი გაგორებაა: 4\n",
      "\tჩემი გაგორებაა: 12\n",
      "\t2 : 3\n",
      "\n",
      "მე მოვიგე!\n"
     ]
    }
   ],
   "source": [
    "import random, time\n",
    "\n",
    "print(\"გავაგოროთ კამათელი!\\n\")\n",
    "round = 0\n",
    "your_number = 0\n",
    "my_number = 0\n",
    "\n",
    "# თამაშის დაწყება\n",
    "while round < 5:\n",
    "    round += 1\n",
    "    print(\"რაუნდი {}.\".format(round))\n",
    "    print(\"\\tშენი გაგორებაა: \", end=\"\")\n",
    "    your_shoot = random.randint(2, 12)\n",
    "    time.sleep(1)\n",
    "    print(your_shoot)\n",
    "    \n",
    "    print(\"\\tჩემი გაგორებაა: \", end=\"\")\n",
    "    my_shoot = random.randint(2, 12)\n",
    "    time.sleep(1)\n",
    "    print(my_shoot)\n",
    "    \n",
    "    if your_shoot > my_shoot: your_number +=1\n",
    "    elif my_shoot > your_shoot: my_number += 1\n",
    "    \n",
    "    print(\"\\t{} : {}\".format(your_number, my_number))\n",
    "    time.sleep(1)\n",
    "    \n",
    "    print()\n",
    "\n",
    "# შედეგი\n",
    "if your_number > my_number: print(\"შენ მოიგე!\")\n",
    "elif my_number > your_number: print(\"მე მოვიგე!\")\n",
    "else: print(\"ყაიმი!\")"
   ]
  },
  {
   "cell_type": "code",
   "execution_count": 4,
   "metadata": {
    "collapsed": false
   },
   "outputs": [
    {
     "name": "stdout",
     "output_type": "stream",
     "text": [
      "გავაგოროთ კამათელი!\n",
      "\n",
      "რაუნდი 1.\n",
      "\tშენი გაგორებაა: 5\n",
      "\tჩემი გაგორებაა: 9\n",
      "\t0 : 1\n",
      "\n",
      "რაუნდი 2.\n",
      "\tშენი გაგორებაა: 21\n",
      "\tშენი გაგორებაა: 8,3\n",
      "მთელი რიცხვი 2-დან 12-ის ჩათვლით.\n",
      "\tშენი გაგორებაა: 8\n",
      "\tჩემი გაგორებაა: 5\n",
      "\t1 : 1\n",
      "\n",
      "რაუნდი 3.\n",
      "\tშენი გაგორებაა: 9\n",
      "\tჩემი გაგორებაა: 6\n",
      "\t2 : 1\n",
      "\n",
      "რაუნდი 4.\n",
      "\tშენი გაგორებაა: 80\n",
      "\tშენი გაგორებაა: 23\n",
      "\tშენი გაგორებაა: 0\n",
      "\tშენი გაგორებაა: -89\n",
      "\tშენი გაგორებაა: 7\n",
      "\tჩემი გაგორებაა: 9\n",
      "\t2 : 2\n",
      "\n",
      "რაუნდი 5.\n",
      "\tშენი გაგორებაა: 2.3\n",
      "მთელი რიცხვი 2-დან 12-ის ჩათვლით.\n",
      "\tშენი გაგორებაა: 6\n",
      "\tჩემი გაგორებაა: 7\n",
      "\t2 : 3\n",
      "\n",
      "მე მოვიგე!\n"
     ]
    }
   ],
   "source": [
    "import random, time\n",
    "\n",
    "print(\"გავაგოროთ კამათელი!\\n\")\n",
    "round = 0\n",
    "your_number = 0\n",
    "my_number = 0\n",
    "\n",
    "# თამაშის დაწყება\n",
    "while round < 5:\n",
    "    round += 1\n",
    "    print(\"რაუნდი {}.\".format(round))\n",
    "    \n",
    "    your_shoot = 0\n",
    "    while your_shoot < 2 or your_shoot > 12:\n",
    "        try:\n",
    "            your_shoot = int(input(\"\\tშენი გაგორებაა: \"))\n",
    "        except ValueError:\n",
    "            print(\"\\tმთელი რიცხვი 2-დან 12-ის ჩათვლით.\")\n",
    "            \n",
    "    print(\"\\tჩემი გაგორებაა: \", end=\"\")\n",
    "    my_shoot = random.randint(2, 12)\n",
    "    time.sleep(1)\n",
    "    print(my_shoot)\n",
    "    \n",
    "    if your_shoot > my_shoot: your_number +=1\n",
    "    elif my_shoot > your_shoot: my_number += 1\n",
    "    \n",
    "    print(\"\\t{} : {}\".format(your_number, my_number))\n",
    "    time.sleep(1)\n",
    "    \n",
    "    print()\n",
    "\n",
    "# შედეგი\n",
    "if your_number > my_number: print(\"შენ მოიგე!\")\n",
    "elif my_number > your_number: print(\"მე მოვიგე!\")\n",
    "else: print(\"ყაიმი!\")\n",
    "    \n",
    "print(\"\\tდასარული\")"
   ]
  },
  {
   "cell_type": "code",
   "execution_count": 3,
   "metadata": {
    "collapsed": false
   },
   "outputs": [
    {
     "name": "stdout",
     "output_type": "stream",
     "text": [
      "შეიტანე მთელი რიცხვი 2-დან 12-ის ჩათვლით: 5.6\n",
      "მთელი რიცხვი 2-დან 12-ის ჩათვლით\n",
      "შეიტანე მთელი რიცხვი 2-დან 12-ის ჩათვლით: 9.0\n",
      "მთელი რიცხვი 2-დან 12-ის ჩათვლით\n",
      "შეიტანე მთელი რიცხვი 2-დან 12-ის ჩათვლით: kojio oijo\n",
      "მთელი რიცხვი 2-დან 12-ის ჩათვლით\n",
      "შეიტანე მთელი რიცხვი 2-დან 12-ის ჩათვლით: 89\n",
      "შეიტანე მთელი რიცხვი 2-დან 12-ის ჩათვლით: 1245\n",
      "შეიტანე მთელი რიცხვი 2-დან 12-ის ჩათვლით: 7\n",
      "49\n"
     ]
    }
   ],
   "source": [
    "a = 0\n",
    "while a < 2 or a > 12:\n",
    "    try:\n",
    "        a = int(input(\"შეიტანე მთელი რიცხვი 2-დან 12-ის ჩათვლით: \"))\n",
    "    except ValueError:\n",
    "        print(\"მთელი რიცხვი 2-დან 12-ის ჩათვლით\")\n",
    "\n",
    "print(a**2)"
   ]
  }
 ],
 "metadata": {
  "kernelspec": {
   "display_name": "Python 3",
   "language": "python",
   "name": "python3"
  },
  "language_info": {
   "codemirror_mode": {
    "name": "ipython",
    "version": 3
   },
   "file_extension": ".py",
   "mimetype": "text/x-python",
   "name": "python",
   "nbconvert_exporter": "python",
   "pygments_lexer": "ipython3",
   "version": "3.5.1"
  }
 },
 "nbformat": 4,
 "nbformat_minor": 0
}
