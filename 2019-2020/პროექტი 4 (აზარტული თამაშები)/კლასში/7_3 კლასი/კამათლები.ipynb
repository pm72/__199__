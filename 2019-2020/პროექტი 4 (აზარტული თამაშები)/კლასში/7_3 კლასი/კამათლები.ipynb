{
 "cells": [
  {
   "cell_type": "code",
   "execution_count": 3,
   "metadata": {
    "collapsed": false
   },
   "outputs": [
    {
     "name": "stdout",
     "output_type": "stream",
     "text": [
      "გავაგოროთ კამათელი!\n",
      "\n",
      "რაუნდი 1.\n",
      "\tშენი გაგორებაა: 11\n",
      "\tჩემი გაგორებაა: 10\n",
      "\t1 : 0\n",
      "\n",
      "რაუნდი 2.\n",
      "\tშენი გაგორებაა: 2\n",
      "\tჩემი გაგორებაა: 9\n",
      "\t1 : 1\n",
      "\n",
      "რაუნდი 3.\n",
      "\tშენი გაგორებაა: 4\n",
      "\tჩემი გაგორებაა: 7\n",
      "\t1 : 2\n",
      "\n",
      "რაუნდი 4.\n",
      "\tშენი გაგორებაა: 10\n",
      "\tჩემი გაგორებაა: 6\n",
      "\t2 : 2\n",
      "\n",
      "რაუნდი 5.\n",
      "\tშენი გაგორებაა: 2\n",
      "\tჩემი გაგორებაა: 4\n",
      "\t2 : 3\n",
      "\n",
      "მე მოვიგე!\n"
     ]
    }
   ],
   "source": [
    "import random, time\n",
    "\n",
    "print(\"გავაგოროთ კამათელი!\\n\")\n",
    "round = 0\n",
    "your_number = 0\n",
    "my_number = 0\n",
    "\n",
    "# თამაშის დაწყება\n",
    "while round < 5:\n",
    "    round += 1\n",
    "    print(\"რაუნდი {}.\".format(round))\n",
    "    print(\"\\tშენი გაგორებაა: \", end=\"\")\n",
    "    your_shoot = random.randint(2, 12)\n",
    "    time.sleep(1)\n",
    "    print(your_shoot)\n",
    "    \n",
    "    print(\"\\tჩემი გაგორებაა: \", end=\"\")\n",
    "    my_shoot = random.randint(2, 12)\n",
    "    time.sleep(1)\n",
    "    print(my_shoot)\n",
    "    \n",
    "    if your_shoot > my_shoot: your_number +=1\n",
    "    elif my_shoot > your_shoot: my_number += 1\n",
    "    \n",
    "    print(\"\\t{} : {}\".format(your_number, my_number))\n",
    "    time.sleep(1)\n",
    "    \n",
    "    print()\n",
    "\n",
    "# შედეგი\n",
    "if your_number > my_number: print(\"შენ მოიგე!\")\n",
    "elif my_number > your_number: print(\"მე მოვიგე!\")\n",
    "else: print(\"ყაიმი!\")"
   ]
  }
 ],
 "metadata": {
  "kernelspec": {
   "display_name": "Python 3",
   "language": "python",
   "name": "python3"
  },
  "language_info": {
   "codemirror_mode": {
    "name": "ipython",
    "version": 3
   },
   "file_extension": ".py",
   "mimetype": "text/x-python",
   "name": "python",
   "nbconvert_exporter": "python",
   "pygments_lexer": "ipython3",
   "version": "3.5.1"
  }
 },
 "nbformat": 4,
 "nbformat_minor": 0
}
