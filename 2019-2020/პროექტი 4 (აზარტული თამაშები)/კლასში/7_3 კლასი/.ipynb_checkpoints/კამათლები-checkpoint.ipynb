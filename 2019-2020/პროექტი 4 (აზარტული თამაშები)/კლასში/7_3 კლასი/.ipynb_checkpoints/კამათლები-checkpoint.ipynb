{
 "cells": [
  {
   "cell_type": "code",
   "execution_count": 4,
   "metadata": {
    "collapsed": false
   },
   "outputs": [
    {
     "name": "stdout",
     "output_type": "stream",
     "text": [
      "გავაგოროთ კამათელი!\n",
      "\n",
      "რაუნდი 1.\n",
      "\tშენი გაგორებაა: 9\n",
      "\tჩემი გაგორებაა: 7\n",
      "\t1 : 0\n",
      "\n",
      "რაუნდი 2.\n",
      "\tშენი გაგორებაა: 5\n",
      "\tჩემი გაგორებაა: 3\n",
      "\t2 : 0\n",
      "\n",
      "რაუნდი 3.\n",
      "\tშენი გაგორებაა: 2\n",
      "\tჩემი გაგორებაა: 7\n",
      "\t2 : 1\n",
      "\n",
      "რაუნდი 4.\n",
      "\tშენი გაგორებაა: 8\n",
      "\tჩემი გაგორებაა: 11\n",
      "\t2 : 2\n",
      "\n",
      "რაუნდი 5.\n",
      "\tშენი გაგორებაა: 4\n",
      "\tჩემი გაგორებაა: 12\n",
      "\t2 : 3\n",
      "\n",
      "მე მოვიგე!\n"
     ]
    }
   ],
   "source": [
    "import random, time\n",
    "\n",
    "print(\"გავაგოროთ კამათელი!\\n\")\n",
    "round = 0\n",
    "your_number = 0\n",
    "my_number = 0\n",
    "\n",
    "# თამაშის დაწყება\n",
    "while round < 5:\n",
    "    round += 1\n",
    "    print(\"რაუნდი {}.\".format(round))\n",
    "    print(\"\\tშენი გაგორებაა: \", end=\"\")\n",
    "    your_shoot = random.randint(2, 12)\n",
    "    time.sleep(1)\n",
    "    print(your_shoot)\n",
    "    \n",
    "    print(\"\\tჩემი გაგორებაა: \", end=\"\")\n",
    "    my_shoot = random.randint(2, 12)\n",
    "    time.sleep(1)\n",
    "    print(my_shoot)\n",
    "    \n",
    "    if your_shoot > my_shoot: your_number +=1\n",
    "    elif my_shoot > your_shoot: my_number += 1\n",
    "    \n",
    "    print(\"\\t{} : {}\".format(your_number, my_number))\n",
    "    time.sleep(1)\n",
    "    \n",
    "    print()\n",
    "\n",
    "# შედეგი\n",
    "if your_number > my_number: print(\"შენ მოიგე!\")\n",
    "elif my_number > your_number: print(\"მე მოვიგე!\")\n",
    "else: print(\"ყაიმი!\")"
   ]
  },
  {
   "cell_type": "code",
   "execution_count": 4,
   "metadata": {
    "collapsed": false
   },
   "outputs": [
    {
     "name": "stdout",
     "output_type": "stream",
     "text": [
      "გავაგოროთ კამათელი!\n",
      "\n",
      "რაუნდი 1.\n",
      "\tშენი გაგორებაა: 5\n",
      "\tჩემი გაგორებაა: 9\n",
      "\t0 : 1\n",
      "\n",
      "რაუნდი 2.\n",
      "\tშენი გაგორებაა: 21\n",
      "\tშენი გაგორებაა: 8,3\n",
      "მთელი რიცხვი 2-დან 12-ის ჩათვლით.\n",
      "\tშენი გაგორებაა: 8\n",
      "\tჩემი გაგორებაა: 5\n",
      "\t1 : 1\n",
      "\n",
      "რაუნდი 3.\n",
      "\tშენი გაგორებაა: 9\n",
      "\tჩემი გაგორებაა: 6\n",
      "\t2 : 1\n",
      "\n",
      "რაუნდი 4.\n",
      "\tშენი გაგორებაა: 80\n",
      "\tშენი გაგორებაა: 23\n",
      "\tშენი გაგორებაა: 0\n",
      "\tშენი გაგორებაა: -89\n",
      "\tშენი გაგორებაა: 7\n",
      "\tჩემი გაგორებაა: 9\n",
      "\t2 : 2\n",
      "\n",
      "რაუნდი 5.\n",
      "\tშენი გაგორებაა: 2.3\n",
      "მთელი რიცხვი 2-დან 12-ის ჩათვლით.\n",
      "\tშენი გაგორებაა: 6\n",
      "\tჩემი გაგორებაა: 7\n",
      "\t2 : 3\n",
      "\n",
      "მე მოვიგე!\n"
     ]
    }
   ],
   "source": [
    "import random, time\n",
    "\n",
    "print(\"გავაგოროთ კამათელი!\\n\")\n",
    "round = 0\n",
    "your_number = 0\n",
    "my_number = 0\n",
    "\n",
    "# თამაშის დაწყება\n",
    "while round < 5:\n",
    "    round += 1\n",
    "    print(\"რაუნდი {}.\".format(round))\n",
    "    \n",
    "    your_shoot = 0\n",
    "    while your_shoot < 2 or your_shoot > 12:\n",
    "        try:\n",
    "            your_shoot = int(input(\"\\tშენი გაგორებაა: \"))\n",
    "        except ValueError:\n",
    "            print(\"\\tმთელი რიცხვი 2-დან 12-ის ჩათვლით.\")\n",
    "            \n",
    "    print(\"\\tჩემი გაგორებაა: \", end=\"\")\n",
    "    my_shoot = random.randint(2, 12)\n",
    "    time.sleep(1)\n",
    "    print(my_shoot)\n",
    "    \n",
    "    if your_shoot > my_shoot: your_number +=1\n",
    "    elif my_shoot > your_shoot: my_number += 1\n",
    "    \n",
    "    print(\"\\t{} : {}\".format(your_number, my_number))\n",
    "    time.sleep(1)\n",
    "    \n",
    "    print()\n",
    "\n",
    "# შედეგი\n",
    "if your_number > my_number: print(\"შენ მოიგე!\")\n",
    "elif my_number > your_number: print(\"მე მოვიგე!\")\n",
    "else: print(\"ყაიმი!\")\n",
    "    \n",
    "print(\"\\tდასარული\")"
   ]
  },
  {
   "cell_type": "code",
   "execution_count": 3,
   "metadata": {
    "collapsed": false
   },
   "outputs": [
    {
     "name": "stdout",
     "output_type": "stream",
     "text": [
      "შეიტანე მთელი რიცხვი 2-დან 12-ის ჩათვლით: 5.6\n",
      "მთელი რიცხვი 2-დან 12-ის ჩათვლით\n",
      "შეიტანე მთელი რიცხვი 2-დან 12-ის ჩათვლით: 9.0\n",
      "მთელი რიცხვი 2-დან 12-ის ჩათვლით\n",
      "შეიტანე მთელი რიცხვი 2-დან 12-ის ჩათვლით: kojio oijo\n",
      "მთელი რიცხვი 2-დან 12-ის ჩათვლით\n",
      "შეიტანე მთელი რიცხვი 2-დან 12-ის ჩათვლით: 89\n",
      "შეიტანე მთელი რიცხვი 2-დან 12-ის ჩათვლით: 1245\n",
      "შეიტანე მთელი რიცხვი 2-დან 12-ის ჩათვლით: 7\n",
      "49\n"
     ]
    }
   ],
   "source": [
    "a = 0\n",
    "while a < 2 or a > 12:\n",
    "    try:\n",
    "        a = int(input(\"შეიტანე მთელი რიცხვი 2-დან 12-ის ჩათვლით: \"))\n",
    "    except ValueError:\n",
    "        print(\"მთელი რიცხვი 2-დან 12-ის ჩათვლით\")\n",
    "\n",
    "print(a**2)"
   ]
  },
  {
   "cell_type": "markdown",
   "metadata": {},
   "source": [
    "for ციკლი\n",
    "for i in range(start, stop, step):\n",
    "    ინსტრუქცია 1\n",
    "    ინსტრუქცია 2\n",
    "    ..."
   ]
  },
  {
   "cell_type": "code",
   "execution_count": 7,
   "metadata": {
    "collapsed": false
   },
   "outputs": [
    {
     "name": "stdout",
     "output_type": "stream",
     "text": [
      "[0, 1, 2, 3, 4, 5, 6, 7, 8, 9]\n",
      "[0, 1, 2, 3, 4, 5, 6, 7, 8, 9]\n",
      "[5, 6, 7, 8, 9]\n",
      "[0, 2, 4, 6, 8]\n",
      "range(0, 10)\n"
     ]
    }
   ],
   "source": [
    "print(list(range(0, 10, 1)))\n",
    "print(list(range(10)))\n",
    "print(list(range(5, 10)))\n",
    "print(list(range(0, 10, 2)))\n",
    "print(range(10))"
   ]
  },
  {
   "cell_type": "code",
   "execution_count": 10,
   "metadata": {
    "collapsed": false
   },
   "outputs": [
    {
     "name": "stdout",
     "output_type": "stream",
     "text": [
      "0 1 4 9 16 25 36 49 64 81 "
     ]
    }
   ],
   "source": [
    "for i in range(10):\n",
    "    print(i**2, end=' ')"
   ]
  },
  {
   "cell_type": "code",
   "execution_count": 13,
   "metadata": {
    "collapsed": false
   },
   "outputs": [
    {
     "name": "stdout",
     "output_type": "stream",
     "text": [
      "15\n",
      "53\n",
      "21\n",
      "paata\n",
      "1.59\n",
      "-9.21\n",
      "[0, 8]\n"
     ]
    }
   ],
   "source": [
    "for i in [15, 53, 21, \"paata\", 1.59, -9.21, [0, 8]]:\n",
    "    print(i)"
   ]
  },
  {
   "cell_type": "code",
   "execution_count": 14,
   "metadata": {
    "collapsed": false
   },
   "outputs": [
    {
     "name": "stdout",
     "output_type": "stream",
     "text": [
      "ორშაბათი\n",
      "სამშაბათი\n",
      "ოთხშაბათი\n",
      "ხუთშაბათი\n",
      "პარასკევი\n",
      "შაბათი\n",
      "კვირა\n"
     ]
    }
   ],
   "source": [
    "# კვირის დღეები\n",
    "week = [\"ორშაბათი\", \"სამშაბათი\", \"ოთხშაბათი\", \"ხუთშაბათი\", \"პარასკევი\", \"შაბათი\", \"კვირა\"]\n",
    "\n",
    "for day in week:\n",
    "    print(day)"
   ]
  },
  {
   "cell_type": "code",
   "execution_count": null,
   "metadata": {
    "collapsed": true
   },
   "outputs": [],
   "source": [
    "import random, time\n",
    "\n",
    "print(\"გავაგოროთ კამათელი!\\n\")\n",
    "your_number = 0\n",
    "my_number = 0\n",
    "\n",
    "# თამაშის დაწყება\n",
    "for round in range(5):\n",
    "    print(\"რაუნდი {}.\".format(round))\n",
    "    \n",
    "    your_shoot = 0\n",
    "    while your_shoot < 2 or your_shoot > 12:\n",
    "        try:\n",
    "            your_shoot = int(input(\"\\tშენი გაგორებაა: \"))\n",
    "        except ValueError:\n",
    "            print(\"\\tმთელი რიცხვი 2-დან 12-ის ჩათვლით.\")\n",
    "            \n",
    "    print(\"\\tჩემი გაგორებაა: \", end=\"\")\n",
    "    my_shoot = random.randint(2, 12)\n",
    "    time.sleep(1)\n",
    "    print(my_shoot)\n",
    "    \n",
    "    if your_shoot > my_shoot: your_number +=1\n",
    "    elif my_shoot > your_shoot: my_number += 1\n",
    "    \n",
    "    print(\"\\t{} : {}\".format(your_number, my_number))\n",
    "    time.sleep(1)\n",
    "    \n",
    "    print()\n",
    "\n",
    "# შედეგი\n",
    "if your_number > my_number: print(\"შენ მოიგე!\")\n",
    "elif my_number > your_number: print(\"მე მოვიგე!\")\n",
    "else: print(\"ყაიმი!\")\n",
    "    \n",
    "print(\"\\tდასარული\")"
   ]
  }
 ],
 "metadata": {
  "kernelspec": {
   "display_name": "Python 3",
   "language": "python",
   "name": "python3"
  },
  "language_info": {
   "codemirror_mode": {
    "name": "ipython",
    "version": 3
   },
   "file_extension": ".py",
   "mimetype": "text/x-python",
   "name": "python",
   "nbconvert_exporter": "python",
   "pygments_lexer": "ipython3",
   "version": "3.5.1"
  }
 },
 "nbformat": 4,
 "nbformat_minor": 0
}
