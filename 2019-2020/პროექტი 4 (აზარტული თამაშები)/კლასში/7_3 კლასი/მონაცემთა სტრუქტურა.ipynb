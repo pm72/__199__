{
 "cells": [
  {
   "cell_type": "markdown",
   "metadata": {},
   "source": [
    "# მონაცემთა სტრუქტურა"
   ]
  },
  {
   "cell_type": "markdown",
   "metadata": {
    "collapsed": true
   },
   "source": [
    "int, float, bool, str  პრიტივები\n",
    "\n",
    "str, list, tuple, dict, set  რთული"
   ]
  },
  {
   "cell_type": "markdown",
   "metadata": {},
   "source": [
    "### სტრიქონები str"
   ]
  },
  {
   "cell_type": "code",
   "execution_count": 4,
   "metadata": {
    "collapsed": false
   },
   "outputs": [
    {
     "name": "stdout",
     "output_type": "stream",
     "text": [
      "sdsd fdsfsffs sfs\n",
      "ffsfsf dsvsvdsv\n",
      "        sfdfdfssfaf\n",
      "            dfdfggf\n",
      "\n",
      "\n"
     ]
    }
   ],
   "source": [
    "'df dfdlfm fslsdlf '\n",
    "\" fdsf shsgsb hdhd\"\n",
    "\n",
    "print('''sdsd fdsfsffs sfs\n",
    "ffsfsf dsvsvdsv\n",
    "        sfdfdfssfaf\n",
    "            dfdfggf\n",
    "\n",
    "''')"
   ]
  },
  {
   "cell_type": "code",
   "execution_count": 10,
   "metadata": {
    "collapsed": false
   },
   "outputs": [
    {
     "name": "stdout",
     "output_type": "stream",
     "text": [
      "Current inventory: 99\n"
     ]
    }
   ],
   "source": [
    "bottles = 99\n",
    "base = ''\n",
    "base += \"Current inventory: \"\n",
    "base += str(bottles)\n",
    "\n",
    "print(base)"
   ]
  },
  {
   "cell_type": "code",
   "execution_count": 13,
   "metadata": {
    "collapsed": false
   },
   "outputs": [
    {
     "name": "stdout",
     "output_type": "stream",
     "text": [
      "Paata Mamporia\n",
      "Paata Mamporia\n"
     ]
    }
   ],
   "source": [
    "fname = \"Paata\"\n",
    "lname = \"Mamporia\"\n",
    "\n",
    "print(fname + ' ' + lname)\n",
    "\n",
    "full_name = fname + \" \" + lname\n",
    "print(full_name)"
   ]
  },
  {
   "cell_type": "code",
   "execution_count": 36,
   "metadata": {
    "collapsed": false
   },
   "outputs": [
    {
     "name": "stdout",
     "output_type": "stream",
     "text": [
      "120896\n",
      "1\n"
     ]
    },
    {
     "ename": "IndexError",
     "evalue": "string index out of range",
     "output_type": "error",
     "traceback": [
      "\u001b[1;31m---------------------------------------------------------------------------\u001b[0m",
      "\u001b[1;31mIndexError\u001b[0m                                Traceback (most recent call last)",
      "\u001b[1;32m<ipython-input-36-6de27ff72342>\u001b[0m in \u001b[0;36m<module>\u001b[1;34m()\u001b[0m\n\u001b[0;32m      3\u001b[0m \u001b[1;33m\u001b[0m\u001b[0m\n\u001b[0;32m      4\u001b[0m \u001b[0mprint\u001b[0m\u001b[1;33m(\u001b[0m\u001b[0mstr1\u001b[0m\u001b[1;33m[\u001b[0m\u001b[1;36m0\u001b[0m\u001b[1;33m]\u001b[0m\u001b[1;33m)\u001b[0m\u001b[1;33m\u001b[0m\u001b[0m\n\u001b[1;32m----> 5\u001b[1;33m \u001b[0mprint\u001b[0m\u001b[1;33m(\u001b[0m\u001b[0mstr1\u001b[0m\u001b[1;33m[\u001b[0m\u001b[1;36m10\u001b[0m\u001b[1;33m]\u001b[0m\u001b[1;33m)\u001b[0m\u001b[1;33m\u001b[0m\u001b[0m\n\u001b[0m\u001b[0;32m      6\u001b[0m \u001b[0mprint\u001b[0m\u001b[1;33m(\u001b[0m\u001b[0mstr1\u001b[0m\u001b[1;33m[\u001b[0m\u001b[1;36m21\u001b[0m\u001b[1;33m]\u001b[0m\u001b[1;33m)\u001b[0m\u001b[1;33m\u001b[0m\u001b[0m\n\u001b[0;32m      7\u001b[0m \u001b[0mprint\u001b[0m\u001b[1;33m(\u001b[0m\u001b[0mstr1\u001b[0m\u001b[1;33m[\u001b[0m\u001b[1;33m-\u001b[0m\u001b[1;36m1\u001b[0m\u001b[1;33m]\u001b[0m\u001b[1;33m)\u001b[0m\u001b[1;33m\u001b[0m\u001b[0m\n",
      "\u001b[1;31mIndexError\u001b[0m: string index out of range"
     ]
    }
   ],
   "source": [
    "str1 = 'abcdefghijklmnopqrstuvwxyz'\n",
    "print(str1)\n",
    "\n",
    "print(str1[0])\n",
    "print(str1[10])\n",
    "print(str1[21])\n",
    "print(str1[-1])\n",
    "print(str1[-2])\n",
    "\n",
    "len(str1)\n",
    "print(str1[len(str1)-2])"
   ]
  },
  {
   "cell_type": "code",
   "execution_count": 30,
   "metadata": {
    "collapsed": false
   },
   "outputs": [
    {
     "data": {
      "text/plain": [
       "'True'"
      ]
     },
     "execution_count": 30,
     "metadata": {},
     "output_type": "execute_result"
    }
   ],
   "source": [
    "str(45)\n",
    "str(1.25)\n",
    "str(True)"
   ]
  },
  {
   "cell_type": "code",
   "execution_count": 35,
   "metadata": {
    "collapsed": false
   },
   "outputs": [
    {
     "name": "stdout",
     "output_type": "stream",
     "text": [
      "Paata\n",
      "Mamporia\n",
      "Paata\tMamporia\n"
     ]
    }
   ],
   "source": [
    "print('Paata\\nMamporia')\n",
    "print('Paata\\tMamporia')"
   ]
  },
  {
   "cell_type": "code",
   "execution_count": 43,
   "metadata": {
    "collapsed": false
   },
   "outputs": [
    {
     "name": "stdout",
     "output_type": "stream",
     "text": [
      "paata Mamporia\n",
      "paata paata paata paata \n"
     ]
    },
    {
     "ename": "TypeError",
     "evalue": "can't multiply sequence by non-int of type 'str'",
     "output_type": "error",
     "traceback": [
      "\u001b[1;31m---------------------------------------------------------------------------\u001b[0m",
      "\u001b[1;31mTypeError\u001b[0m                                 Traceback (most recent call last)",
      "\u001b[1;32m<ipython-input-43-2d3d1ce589fa>\u001b[0m in \u001b[0;36m<module>\u001b[1;34m()\u001b[0m\n\u001b[0;32m      1\u001b[0m \u001b[0mprint\u001b[0m\u001b[1;33m(\u001b[0m\u001b[1;34m'paata'\u001b[0m \u001b[1;33m+\u001b[0m \u001b[1;34m' '\u001b[0m \u001b[1;33m+\u001b[0m \u001b[1;34m'Mamporia'\u001b[0m\u001b[1;33m)\u001b[0m\u001b[1;33m\u001b[0m\u001b[0m\n\u001b[0;32m      2\u001b[0m \u001b[0mprint\u001b[0m\u001b[1;33m(\u001b[0m\u001b[1;34m'paata '\u001b[0m \u001b[1;33m*\u001b[0m \u001b[1;36m4\u001b[0m\u001b[1;33m)\u001b[0m\u001b[1;33m\u001b[0m\u001b[0m\n\u001b[1;32m----> 3\u001b[1;33m \u001b[0mprint\u001b[0m\u001b[1;33m(\u001b[0m\u001b[1;34m'paata '\u001b[0m \u001b[1;33m*\u001b[0m \u001b[1;34m'4'\u001b[0m\u001b[1;33m)\u001b[0m\u001b[1;33m\u001b[0m\u001b[0m\n\u001b[0m",
      "\u001b[1;31mTypeError\u001b[0m: can't multiply sequence by non-int of type 'str'"
     ]
    }
   ],
   "source": [
    "print('paata' + ' ' + 'Mamporia')\n",
    "print('paata ' * 4)\n",
    "print('paata ' * '4')"
   ]
  },
  {
   "cell_type": "code",
   "execution_count": 3,
   "metadata": {
    "collapsed": false
   },
   "outputs": [
    {
     "ename": "TypeError",
     "evalue": "'str' object does not support item assignment",
     "output_type": "error",
     "traceback": [
      "\u001b[1;31m---------------------------------------------------------------------------\u001b[0m",
      "\u001b[1;31mTypeError\u001b[0m                                 Traceback (most recent call last)",
      "\u001b[1;32m<ipython-input-3-b52a80baaea9>\u001b[0m in \u001b[0;36m<module>\u001b[1;34m()\u001b[0m\n\u001b[0;32m      1\u001b[0m \u001b[0mname\u001b[0m \u001b[1;33m=\u001b[0m \u001b[1;34m\"Hanny\"\u001b[0m\u001b[1;33m\u001b[0m\u001b[0m\n\u001b[1;32m----> 2\u001b[1;33m \u001b[0mname\u001b[0m\u001b[1;33m[\u001b[0m\u001b[1;36m0\u001b[0m\u001b[1;33m]\u001b[0m \u001b[1;33m=\u001b[0m \u001b[1;34m'P'\u001b[0m\u001b[1;33m\u001b[0m\u001b[0m\n\u001b[0m\u001b[0;32m      3\u001b[0m \u001b[0mprint\u001b[0m\u001b[1;33m(\u001b[0m\u001b[0mname\u001b[0m\u001b[1;33m)\u001b[0m\u001b[1;33m\u001b[0m\u001b[0m\n",
      "\u001b[1;31mTypeError\u001b[0m: 'str' object does not support item assignment"
     ]
    }
   ],
   "source": [
    "name = \"Hanny\"\n",
    "name[0] = 'P'\n",
    "print(name)"
   ]
  },
  {
   "cell_type": "markdown",
   "metadata": {},
   "source": [
    "### slice ჭრები, ქვესტრიქონის მიღება [start, end, step] ოპერატორით"
   ]
  },
  {
   "cell_type": "code",
   "execution_count": 27,
   "metadata": {
    "collapsed": false
   },
   "outputs": [
    {
     "name": "stdout",
     "output_type": "stream",
     "text": [
      "abcde\n",
      "abcde\n",
      "abcdefghij\n",
      "abcdefghijklmnopqrst\n",
      "fghij\n",
      "pqrstu\n",
      "tvx\n",
      "adgj\n",
      "vwxyz\n",
      "uvwx\n",
      "abcdefghijklmnopqrstuvwxyz\n",
      "abcdefghijklmnopqrstuvwxyz\n",
      "adgjmpsvy\n",
      "zyxwvutsrqponmlkjihgfedcba\n",
      "zyxwvutsrqponmlkjihgfedcba\n",
      "fghijklmnopqrstuvwxyz\n",
      "bcdefghijklmnopqrstuvwxyz\n"
     ]
    }
   ],
   "source": [
    "str1 = 'abcdefghijklmnopqrstuvwxyz'\n",
    "print(str1[0:5:1])\n",
    "\n",
    "str2 = str1[:5]\n",
    "print(str2)\n",
    "\n",
    "str2 = str1[:10]\n",
    "print(str2)\n",
    "\n",
    "str2 = str1[:20]\n",
    "print(str2)\n",
    "\n",
    "str2 = str1[5:10]\n",
    "print(str2)\n",
    "\n",
    "str2 = str1[15:21]\n",
    "print(str2)\n",
    "\n",
    "str2 = str1[19:24:2]\n",
    "print(str2)\n",
    "\n",
    "str2 = str1[:10:3]\n",
    "print(str2)\n",
    "\n",
    "str2 = str1[-5:]\n",
    "print(str2)\n",
    "\n",
    "str2 = str1[-6:-2]\n",
    "print(str2)\n",
    "\n",
    "str2 = str1[:]\n",
    "print(str2)\n",
    "\n",
    "str2 = str1\n",
    "print(str2)\n",
    "\n",
    "str2 = str1[::3]\n",
    "print(str2)\n",
    "\n",
    "str2 = str1[-1::-1]\n",
    "print(str2)\n",
    "\n",
    "str2 = str1[::-1]\n",
    "print(str2)\n",
    "\n",
    "str2 = str1[5:]\n",
    "print(str2)\n",
    "\n",
    "str2 = str1[1:]\n",
    "print(str2)"
   ]
  },
  {
   "cell_type": "code",
   "execution_count": 30,
   "metadata": {
    "collapsed": false
   },
   "outputs": [
    {
     "name": "stdout",
     "output_type": "stream",
     "text": [
      "Panny\n",
      "Pany\n",
      "Pany\n"
     ]
    }
   ],
   "source": [
    "name = \"Hanny\"\n",
    "name = \"P\" + name[1:]\n",
    "print(name)\n",
    "\n",
    "name = name[:2] + name[-2:]\n",
    "print(name)\n",
    "\n",
    "name = name[:3] + name[-1]\n",
    "print(name)"
   ]
  },
  {
   "cell_type": "markdown",
   "metadata": {},
   "source": [
    "### სტრიქონის სიგრძე, სიმბოლოების რაოდენობა – len()"
   ]
  },
  {
   "cell_type": "code",
   "execution_count": 4,
   "metadata": {
    "collapsed": false
   },
   "outputs": [
    {
     "name": "stdout",
     "output_type": "stream",
     "text": [
      "26\n",
      "0\n"
     ]
    }
   ],
   "source": [
    "letters = 'abcdefghijklmnopqrstuvwxyz'\n",
    "print(len(letters))\n",
    "\n",
    "empty = \"\"\n",
    "print(len(empty))"
   ]
  },
  {
   "cell_type": "markdown",
   "metadata": {},
   "source": [
    "### სტროქონის დაყოფა split() ფუნქციის გამოყენებით"
   ]
  },
  {
   "cell_type": "code",
   "execution_count": 7,
   "metadata": {
    "collapsed": false
   },
   "outputs": [
    {
     "name": "stdout",
     "output_type": "stream",
     "text": [
      "['get gloves', 'get mask', 'give cat vitamins', 'call ambulance']\n",
      "['get', 'gloves.', 'get', 'mask.', 'give', 'cat', 'vitamins.', 'call', 'ambulance']\n"
     ]
    }
   ],
   "source": [
    "todos = 'get gloves. get mask. give cat vitamins. call ambulance'\n",
    "print(todos.split('. '))\n",
    "\n",
    "print(todos.split())    # ' ',  '\\n', '\\t'\n",
    "# print(todos)"
   ]
  },
  {
   "cell_type": "markdown",
   "metadata": {},
   "source": [
    "### სტრიქონების გაერთიანება join() ფუნქციის გამოყენებით"
   ]
  },
  {
   "cell_type": "code",
   "execution_count": 11,
   "metadata": {
    "collapsed": false
   },
   "outputs": [
    {
     "name": "stdout",
     "output_type": "stream",
     "text": [
      "Found and signing book deals: Yeti. Bigfoot. Loch Ness Monster\n",
      "Yeti. Bigfoot. Loch Ness Monster  <===> <class 'str'>\n",
      "['Yeti', 'Bigfoot', 'Loch Ness Monster']  <===> <class 'list'>\n"
     ]
    }
   ],
   "source": [
    "cripto_list = ['Yeti', 'Bigfoot', 'Loch Ness Monster']\n",
    "cripto_string = '. '.join(cripto_list)\n",
    "\n",
    "print(\"Found and signing book deals:\", cripto_string)\n",
    "print(cripto_string, \" <===>\", type(cripto_string))\n",
    "print(cripto_list, \" <===>\", type(cripto_list))"
   ]
  },
  {
   "cell_type": "markdown",
   "metadata": {},
   "source": [
    "### რეგისტრი და სწორება"
   ]
  },
  {
   "cell_type": "code",
   "execution_count": 27,
   "metadata": {
    "collapsed": false
   },
   "outputs": [
    {
     "name": "stdout",
     "output_type": "stream",
     "text": [
      "A duck goes into a bar...\n",
      "A Duck Goes Into A Bar...\n",
      "A DUCK GOES INTO A BAR...\n",
      "a duck goes into a bar...\n",
      "a duck goes into a bar...\n",
      "a DUCK gOES INTO a BAR\n",
      "\n",
      "\n",
      "\n",
      "              A duck Goes into A bar              \n",
      "A duck Goes into A bar                            \n",
      "                            A duck Goes into A bar\n"
     ]
    }
   ],
   "source": [
    "setup = 'a duck goes into a bar...'\n",
    "\n",
    "print(setup.capitalize())\n",
    "print(setup.title())\n",
    "print(setup.upper())\n",
    "print(setup)\n",
    "print(setup.lower())\n",
    "\n",
    "setup = \"A duck Goes into A bar\"\n",
    "print(setup.swapcase())\n",
    "\n",
    "print(\"\\n\\n\")\n",
    "\n",
    "print(setup.center(50))\n",
    "print(setup.ljust(50))\n",
    "print(setup.rjust(50))"
   ]
  },
  {
   "cell_type": "markdown",
   "metadata": {},
   "source": [
    "### სიმბოლოების შეცვლა replace() მეთოდის (ფუნქციის) საშუალებით"
   ]
  },
  {
   "cell_type": "code",
   "execution_count": 33,
   "metadata": {
    "collapsed": false
   },
   "outputs": [
    {
     "name": "stdout",
     "output_type": "stream",
     "text": [
      "a marmoset goes into a bar...\n",
      "a famous duck goes into a famous bar...\n",
      "a famous duck goes into a famous ba famousr...\n"
     ]
    }
   ],
   "source": [
    "setup = 'a duck goes into a bar...'\n",
    "\n",
    "print(setup.replace('duck', 'marmoset'))\n",
    "print(setup.replace('a ', 'a famous ', 100))\n",
    "print(setup.replace('a', 'a famous', 100))"
   ]
  },
  {
   "cell_type": "markdown",
   "metadata": {},
   "source": [
    "### გავერთოთ სტრიქონებზე მუშაობით"
   ]
  },
  {
   "cell_type": "code",
   "execution_count": 55,
   "metadata": {
    "collapsed": false
   },
   "outputs": [
    {
     "name": "stdout",
     "output_type": "stream",
     "text": [
      "['that', 'doth', 'flow', 'we', 'cannot', 'liquid', 'name']\n",
      "that. doth. flow. we. cannot. liquid. name\n",
      "\n",
      "True\n",
      "False\n",
      "73\n",
      "214\n",
      "3\n",
      "False\n"
     ]
    }
   ],
   "source": [
    "poem = \"\"\"All that doth flow we cannot liquid name\n",
    "or else would fire and water be the same:\n",
    "But that is liquid which is moist and wet\n",
    "Fire that property can never get.\n",
    "Then 'tis not cold that doth the fire put out\n",
    "But 'tis the wet that makes it die, no doubt.\"\"\"\n",
    "\n",
    "# საკლასო წერა\n",
    "\n",
    "# 1.  სტრიქონის სიგრძის ბეჭდვა\n",
    "# 2.  პირველი 13 სიმბოლოს ბეჭდვა\n",
    "# 3.  ბოლო 13 სიმბოლოს ბეჭდვა\n",
    "# 4.  24-დან 84-სიმბოლომდე ბეჭდვა\n",
    "# 5.  ბოლოდან მე-8 სიმბოლოდან მე-7 სიმბოლოს ჩათვლით ბეჭდვა\n",
    "# 6.  შებრუნებული სტრიქონის ბეჭდვა\n",
    "# 7.  poem სტრიქონის 4-დან 40 სიმბოლოს ჩათვლით დაყავით split() მეთოდის მეშვეობით და დაიმახსოვრეთ str1 ცვლადში.\n",
    "#     დაბეჭდეთ str1 სტრიქონი\n",
    "# 8.  str1 სტრიქონი გააერთიანეთ '. ' სტრიქონთან  (join()) და დაბეჭდეთ\n",
    "# 9.  პირველი 40 სიმბოლო გავაცენტროთ 100 სიმბოლოსგან შემდგარ სტრიქონში\n",
    "# 10. პირველ 40 სიმბოლოს სწორება გავუკეთოთ მარჯვნივ 100 სიმბოლოსგან შემდგარ სტრიქონში\n",
    "# 11. პირველი 40 სიმბოლოს ყველა სიტყვა დაიწყოს დიდი ასოთი\n",
    "# 12. პირველ 40 სიმბოლოში სიტყვა 'liquid' შევცვალოთ 'trangle' სიტყვით\n",
    "\n",
    "\n",
    "\n",
    "\n",
    "# -------------------------\n",
    "print()\n",
    "print(poem.startswith('All'))                 # იწყება თუ არა სტრიქონი სიტყვით 'All'?\n",
    "print(poem.endswith(\"that's all, folks!\"))    # მთავრედება თუ არა სტრიქონი წინადადებით 'that's all, folks!'?\n",
    "\n",
    "word = 'the'\n",
    "print(poem.find(word))   # პირველი ჩართული სიტყვის პოვნა სტრიქონში\n",
    "print(poem.rfind(word))  # ბოლო ჩართული სიტყვის პოვნა სტრიქონში\n",
    "print(poem.count(word))  # 'the' სიტყვის რაოდენობა სტრიქონში\n",
    "print(poem.isalnum())    # შიცავს თუ არა სტრიქონი მხოლოდ ასოებს ან ციფრებს? ==> არა, მასში პუნქტუაციის ნიშნებიც გვხვდება."
   ]
  }
 ],
 "metadata": {
  "kernelspec": {
   "display_name": "Python 3",
   "language": "python",
   "name": "python3"
  },
  "language_info": {
   "codemirror_mode": {
    "name": "ipython",
    "version": 3
   },
   "file_extension": ".py",
   "mimetype": "text/x-python",
   "name": "python",
   "nbconvert_exporter": "python",
   "pygments_lexer": "ipython3",
   "version": "3.5.1"
  }
 },
 "nbformat": 4,
 "nbformat_minor": 0
}
