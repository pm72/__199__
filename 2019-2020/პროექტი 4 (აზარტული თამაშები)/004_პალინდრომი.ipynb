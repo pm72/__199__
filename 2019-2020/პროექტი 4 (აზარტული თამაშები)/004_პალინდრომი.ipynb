{
 "cells": [
  {
   "cell_type": "markdown",
   "metadata": {},
   "source": [
    "### პალინდრომი"
   ]
  },
  {
   "cell_type": "code",
   "execution_count": 32,
   "metadata": {
    "collapsed": false
   },
   "outputs": [
    {
     "name": "stdout",
     "output_type": "stream",
     "text": [
      "შეიტანეთ მოკლე ტექსტი ინტერვალების (space) გარეშე:\n",
      "შაბაშ\n",
      "შაბაშ\n",
      "პალინდრომი\n"
     ]
    }
   ],
   "source": [
    "print(\"შეიტანეთ მოკლე ტექსტი ინტერვალების (space) გარეშე:\")\n",
    "text = input()\n",
    "print(text[::-1])\n",
    "\n",
    "if text == text[::-1]: print(\"პალინდრომი\")"
   ]
  },
  {
   "cell_type": "code",
   "execution_count": 33,
   "metadata": {
    "collapsed": false
   },
   "outputs": [
    {
     "name": "stdout",
     "output_type": "stream",
     "text": [
      "შეიტანეთ მოკლე ტექსტი ინტერვალების (space) გარეშე:\n",
      "შაბაშ\n",
      "შაბაშ\n",
      "პალინდრომი\n"
     ]
    }
   ],
   "source": [
    "print(\"შეიტანეთ მოკლე ტექსტი ინტერვალების (space) გარეშე:\")\n",
    "text1 = input()\n",
    "text2 = \"\"\n",
    "\n",
    "length = len(text1)\n",
    "for i in range(length):\n",
    "    text2 += text1[length-1-i]\n",
    "\n",
    "print(text2)\n",
    "if text1 == text2:\n",
    "    print(\"პალინდრომი\")"
   ]
  }
 ],
 "metadata": {
  "kernelspec": {
   "display_name": "Python 3",
   "language": "python",
   "name": "python3"
  },
  "language_info": {
   "codemirror_mode": {
    "name": "ipython",
    "version": 3
   },
   "file_extension": ".py",
   "mimetype": "text/x-python",
   "name": "python",
   "nbconvert_exporter": "python",
   "pygments_lexer": "ipython3",
   "version": "3.5.1"
  }
 },
 "nbformat": 4,
 "nbformat_minor": 0
}
