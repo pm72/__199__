{
 "cells": [
  {
   "cell_type": "code",
   "execution_count": 47,
   "metadata": {
    "collapsed": false
   },
   "outputs": [
    {
     "name": "stdout",
     "output_type": "stream",
     "text": [
      "გავაგოროთ კამათელი!\n",
      "\n",
      "რაუნდი 1.\n",
      "\tშენი გაგორებაა: 3\n",
      "\tჩემი გაგორებაა: 4\n",
      "\t0 : 1\n",
      "\n",
      "რაუნდი 2.\n",
      "\tშენი გაგორებაა: 2\n",
      "\tჩემი გაგორებაა: 5\n",
      "\t0 : 2\n",
      "\n",
      "რაუნდი 3.\n",
      "\tშენი გაგორებაა: 5\n",
      "\tჩემი გაგორებაა: 1\n",
      "\t1 : 2\n",
      "\n",
      "რაუნდი 4.\n",
      "\tშენი გაგორებაა: 3\n",
      "\tჩემი გაგორებაა: 2\n",
      "\t2 : 2\n",
      "\n",
      "რაუნდი 5.\n",
      "\tშენი გაგორებაა: 6\n",
      "\tჩემი გაგორებაა: 1\n",
      "\t3 : 2\n",
      "\n",
      "შენ მოიგე!\n"
     ]
    }
   ],
   "source": [
    "import random, time\n",
    "\n",
    "print(\"გავაგოროთ კამათელი!\\n\")\n",
    "attempt = 0\n",
    "your_number = 0\n",
    "my_number = 0\n",
    "\n",
    "# თამაშის დაწყება\n",
    "while attempt < 5:\n",
    "    attempt += 1\n",
    "    print(\"რაუნდი {}.\".format(attempt))\n",
    "    print(\"\\tშენი გაგორებაა: \", end=\"\")\n",
    "    your_shoot = random.randint(1, 6)\n",
    "    time.sleep(0.5)\n",
    "    print(your_shoot)\n",
    "    \n",
    "    print(\"\\tჩემი გაგორებაა: \", end=\"\")\n",
    "    my_shoot = random.randint(1, 6)\n",
    "    time.sleep(0.5)\n",
    "    print(my_shoot)\n",
    "    \n",
    "    if your_shoot > my_shoot: your_number +=1\n",
    "    elif my_shoot > your_shoot: my_number += 1\n",
    "    \n",
    "    print(\"\\t{} : {}\".format(your_number, my_number))\n",
    "    time.sleep(1)\n",
    "    \n",
    "    print()\n",
    "\n",
    "# შედეგი\n",
    "if your_number > my_number: print(\"შენ მოიგე!\")\n",
    "elif my_number > your_number: print(\"მე მოვიგე!\")\n",
    "else: print(\"ყაიმი!\")"
   ]
  },
  {
   "cell_type": "code",
   "execution_count": 2,
   "metadata": {
    "collapsed": false
   },
   "outputs": [
    {
     "name": "stdout",
     "output_type": "stream",
     "text": [
      "გავაგოროთ კამათელი!..\n",
      "\n",
      "რაუნდი 1:\n",
      "\tშენი გაგორებაა: 5\n",
      "\tჩემი გაგორებაა: 4\n",
      "\t1 : 0\n",
      "\n",
      "რაუნდი 2:\n",
      "\tშენი გაგორებაა: 1\n",
      "\tჩემი გაგორებაა: 1\n",
      "\t1 : 0\n",
      "\n",
      "რაუნდი 3:\n",
      "\tშენი გაგორებაა: 4\n",
      "\tჩემი გაგორებაა: 3\n",
      "\t2 : 0\n",
      "\n",
      "რაუნდი 4:\n",
      "\tშენი გაგორებაა: 6\n",
      "\tჩემი გაგორებაა: 2\n",
      "\t3 : 0\n",
      "\n",
      "რაუნდი 5:\n",
      "\tშენი გაგორებაა: 4\n",
      "\tჩემი გაგორებაა: 5\n",
      "\t3 : 1\n",
      "\n",
      "შენ მოიგე!\n"
     ]
    }
   ],
   "source": [
    "# ციკლის ოპრატორი for\n",
    "\n",
    "import random, time\n",
    "\n",
    "print(\"გავაგოროთ კამათელი!..\\n\")\n",
    "\n",
    "your_number = my_number = 0\n",
    "\n",
    "for i in range(5):\n",
    "    print(\"რაუნდი {}:\".format(i+1))\n",
    "    \n",
    "    print(\"\\tშენი გაგორებაა: \", end='')\n",
    "    your_shoot = random.randint(1, 6)\n",
    "    time.sleep(0.5)\n",
    "    print(your_shoot)\n",
    "    \n",
    "    print(\"\\tჩემი გაგორებაა: \", end='')\n",
    "    my_shoot = random.randint(1, 6)\n",
    "    time.sleep(0.5)\n",
    "    print(my_shoot)\n",
    "    \n",
    "    if your_shoot > my_shoot: your_number += 1\n",
    "    elif my_shoot > your_shoot: my_number += 1\n",
    "    \n",
    "    time.sleep(0.5)\n",
    "    print(\"\\t{} : {}\\n\".format(your_number, my_number))\n",
    "    \n",
    "time.sleep(1)\n",
    "if your_number > my_number: print(\"შენ მოიგე!\")\n",
    "elif my_number > your_number: print(\"მე მოვიგე!\")\n",
    "else: print(\"ყაიმი!\")"
   ]
  }
 ],
 "metadata": {
  "kernelspec": {
   "display_name": "Python 3",
   "language": "python",
   "name": "python3"
  },
  "language_info": {
   "codemirror_mode": {
    "name": "ipython",
    "version": 3
   },
   "file_extension": ".py",
   "mimetype": "text/x-python",
   "name": "python",
   "nbconvert_exporter": "python",
   "pygments_lexer": "ipython3",
   "version": "3.5.1"
  }
 },
 "nbformat": 4,
 "nbformat_minor": 0
}
