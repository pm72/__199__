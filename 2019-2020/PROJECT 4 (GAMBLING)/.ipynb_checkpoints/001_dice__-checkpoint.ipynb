{
 "cells": [
  {
   "cell_type": "code",
   "execution_count": 14,
   "metadata": {
    "collapsed": false
   },
   "outputs": [
    {
     "name": "stdout",
     "output_type": "stream",
     "text": [
      "===> ვითამაშოთ კამათელი... ===>\n",
      "\n",
      "რაუნდი 1:\n",
      "\tშენი გაგორებაა: 3\n",
      "\tჩემი გაგორებაა: 1\n",
      "\t1 : 0\n",
      "\n",
      "რაუნდი 2:\n",
      "\tშენი გაგორებაა: 5\n",
      "\tჩემი გაგორებაა: 2\n",
      "\t2 : 0\n",
      "\n",
      "რაუნდი 3:\n",
      "\tშენი გაგორებაა: 2\n",
      "\tჩემი გაგორებაა: 3\n",
      "\t2 : 1\n",
      "\n",
      "რაუნდი 4:\n",
      "\tშენი გაგორებაა: 4\n",
      "\tჩემი გაგორებაა: 6\n",
      "\t2 : 2\n",
      "\n",
      "რაუნდი 5:\n",
      "\tშენი გაგორებაა: 2\n",
      "\tჩემი გაგორებაა: 4\n",
      "\t2 : 3\n",
      "\n",
      "\n"
     ]
    },
    {
     "ename": "AttributeError",
     "evalue": "module 'time' has no attribute 'sleeep'",
     "output_type": "error",
     "traceback": [
      "\u001b[1;31m---------------------------------------------------------------------------\u001b[0m",
      "\u001b[1;31mAttributeError\u001b[0m                            Traceback (most recent call last)",
      "\u001b[1;32m<ipython-input-14-5d89f9788d6b>\u001b[0m in \u001b[0;36m<module>\u001b[1;34m()\u001b[0m\n\u001b[0;32m     27\u001b[0m \u001b[0mprint\u001b[0m\u001b[1;33m(\u001b[0m\u001b[1;33m)\u001b[0m\u001b[1;33m\u001b[0m\u001b[0m\n\u001b[0;32m     28\u001b[0m \u001b[1;33m\u001b[0m\u001b[0m\n\u001b[1;32m---> 29\u001b[1;33m \u001b[0mtime\u001b[0m\u001b[1;33m.\u001b[0m\u001b[0msleeep\u001b[0m\u001b[1;33m(\u001b[0m\u001b[1;36m2.25\u001b[0m\u001b[1;33m)\u001b[0m\u001b[1;33m\u001b[0m\u001b[0m\n\u001b[0m\u001b[0;32m     30\u001b[0m \u001b[1;32mif\u001b[0m \u001b[0myour_number\u001b[0m \u001b[1;33m>\u001b[0m \u001b[0mmy_number\u001b[0m\u001b[1;33m:\u001b[0m \u001b[0mprint\u001b[0m\u001b[1;33m(\u001b[0m\u001b[1;34m\"შენ მოიგე!\"\u001b[0m\u001b[1;33m)\u001b[0m\u001b[1;33m\u001b[0m\u001b[0m\n\u001b[0;32m     31\u001b[0m \u001b[1;32melif\u001b[0m \u001b[0mmy_number\u001b[0m \u001b[1;33m>\u001b[0m \u001b[0myour_number\u001b[0m\u001b[1;33m:\u001b[0m \u001b[0mprint\u001b[0m\u001b[1;33m(\u001b[0m\u001b[1;34m\"მე მოვიგე!\"\u001b[0m\u001b[1;33m)\u001b[0m\u001b[1;33m\u001b[0m\u001b[0m\n",
      "\u001b[1;31mAttributeError\u001b[0m: module 'time' has no attribute 'sleeep'"
     ]
    }
   ],
   "source": [
    "import random, time\n",
    "\n",
    "print(\"===> ვითამაშოთ კამათელი... ===>\\n\")\n",
    "\n",
    "my_number = your_number = 0\n",
    "\n",
    "for i in range(1, 6):\n",
    "    print(\"რაუნდი {}:\".format(i))\n",
    "    \n",
    "    your_shoot = random.randint(1, 6)\n",
    "    print(\"\\tშენი გაგორებაა: \", end='')\n",
    "    time.sleep(.75)\n",
    "    print(your_shoot)\n",
    "    \n",
    "    my_shoot = random.randint(1, 6)\n",
    "    print(\"\\tჩემი გაგორებაა: \", end='')\n",
    "    time.sleep(.75)\n",
    "    print(my_shoot)\n",
    "    \n",
    "    if your_shoot > my_shoot: your_number += 1\n",
    "    elif my_shoot > your_shoot: my_number += 1\n",
    "    \n",
    "    time.sleep(1)\n",
    "    \n",
    "    print(\"\\t{} : {}\\n\".format(your_number, my_number))\n",
    "    \n",
    "print()\n",
    "\n",
    "time.sleep(2.25)\n",
    "if your_number > my_number: print(\"შენ მოიგე!\")\n",
    "elif my_number > your_number: print(\"მე მოვიგე!\")\n",
    "else: print(\"ყაიმი!\")"
   ]
  }
 ],
 "metadata": {
  "kernelspec": {
   "display_name": "Python 3",
   "language": "python",
   "name": "python3"
  },
  "language_info": {
   "codemirror_mode": {
    "name": "ipython",
    "version": 3
   },
   "file_extension": ".py",
   "mimetype": "text/x-python",
   "name": "python",
   "nbconvert_exporter": "python",
   "pygments_lexer": "ipython3",
   "version": "3.5.1"
  }
 },
 "nbformat": 4,
 "nbformat_minor": 0
}
