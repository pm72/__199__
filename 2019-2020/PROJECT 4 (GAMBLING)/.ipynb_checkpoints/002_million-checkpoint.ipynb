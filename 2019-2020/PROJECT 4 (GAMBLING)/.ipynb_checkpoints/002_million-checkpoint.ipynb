{
 "cells": [
  {
   "cell_type": "code",
   "execution_count": 71,
   "metadata": {
    "collapsed": false,
    "scrolled": true
   },
   "outputs": [
    {
     "name": "stdout",
     "output_type": "stream",
     "text": [
      "ლატარიაში შენ მოიგე 50000 ლარი!\n",
      "შეგიძლია მოგებული თანხა ბანკში ჩადო და მიიღო მეტი სარგებელი...\n",
      "\n",
      "წლიური საპროცენტო სარგებელი: 16\n",
      "მილიონერი რომ გახდე დაგჭირდება 21 წელი.\n"
     ]
    }
   ],
   "source": [
    "import random\n",
    "\n",
    "capital = random.randint(2, 10) * 10**4\n",
    "\n",
    "print(\"ლატარიაში შენ მოიგე {} ლარი!\".format(capital))\n",
    "print(\"შეგიძლია მოგებული თანხა ბანკში ჩადო და მიიღო მეტი სარგებელი...\\n\")\n",
    "\n",
    "percent = float(input((\"წლიური საპროცენტო სარგებელი: \")))\n",
    "\n",
    "term = 0\n",
    "while capital < 10**6:\n",
    "    fee = capital * percent / 100\n",
    "    capital += fee\n",
    "    term += 1\n",
    "\n",
    "print(\"მილიონერი რომ გახდე დაგჭირდება {} წელი.\".format(term))"
   ]
  },
  {
   "cell_type": "code",
   "execution_count": 72,
   "metadata": {
    "collapsed": false
   },
   "outputs": [
    {
     "name": "stdout",
     "output_type": "stream",
     "text": [
      "ლატარიაში შენ მოიგე 80000 ლარი!\n",
      "შეგიძლია მოგებული თანხა ბანკში ჩადო და მიიღო მეტი სარგებელი...\n",
      "\n",
      "წლიური საპროცენტო სარგებელი: -6\n",
      "წლიური საპროცენტო სარგებელი: 0\n",
      "წლიური საპროცენტო სარგებელი: 16\n",
      "მილიონერი რომ გახდე დაგჭირდება 18 წელი.\n"
     ]
    }
   ],
   "source": [
    "import random\n",
    "\n",
    "capital = random.randint(2, 10) * 10**4\n",
    "\n",
    "print(\"ლატარიაში შენ მოიგე {} ლარი!\".format(capital))\n",
    "print(\"შეგიძლია მოგებული თანხა ბანკში ჩადო და მიიღო მეტი სარგებელი...\\n\")\n",
    "\n",
    "percent = 0\n",
    "while percent <= 0:\n",
    "    percent = float(input((\"წლიური საპროცენტო სარგებელი: \")))\n",
    "\n",
    "term = 0\n",
    "while capital < 10**6:\n",
    "    fee = capital * percent / 100\n",
    "    capital += fee\n",
    "    term += 1\n",
    "\n",
    "print(\"მილიონერი რომ გახდე დაგჭირდება {} წელი.\".format(term))"
   ]
  }
 ],
 "metadata": {
  "kernelspec": {
   "display_name": "Python 3",
   "language": "python",
   "name": "python3"
  },
  "language_info": {
   "codemirror_mode": {
    "name": "ipython",
    "version": 3
   },
   "file_extension": ".py",
   "mimetype": "text/x-python",
   "name": "python",
   "nbconvert_exporter": "python",
   "pygments_lexer": "ipython3",
   "version": "3.5.1"
  }
 },
 "nbformat": 4,
 "nbformat_minor": 1
}
