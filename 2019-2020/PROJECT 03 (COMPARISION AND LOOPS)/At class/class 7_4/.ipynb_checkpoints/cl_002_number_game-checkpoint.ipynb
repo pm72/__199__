{
 "cells": [
  {
   "cell_type": "code",
   "execution_count": 114,
   "metadata": {},
   "outputs": [
    {
     "name": "stdout",
     "output_type": "stream",
     "text": [
      "['BPF', 'LOG4', 'NV_MAGICCONST', 'RECIP_BPF', 'Random', 'SG_MAGICCONST', 'SystemRandom', 'TWOPI', '_BuiltinMethodType', '_MethodType', '_Sequence', '_Set', '__all__', '__builtins__', '__cached__', '__doc__', '__file__', '__loader__', '__name__', '__package__', '__spec__', '_acos', '_bisect', '_ceil', '_cos', '_e', '_exp', '_inst', '_itertools', '_log', '_os', '_pi', '_random', '_sha512', '_sin', '_sqrt', '_test', '_test_generator', '_urandom', '_warn', 'betavariate', 'choice', 'choices', 'expovariate', 'gammavariate', 'gauss', 'getrandbits', 'getstate', 'lognormvariate', 'normalvariate', 'paretovariate', 'randint', 'random', 'randrange', 'sample', 'seed', 'setstate', 'shuffle', 'triangular', 'uniform', 'vonmisesvariate', 'weibullvariate']\n",
      "954\n",
      "0.7186432006665838\n",
      "46.54687060484333\n"
     ]
    }
   ],
   "source": [
    "import random\n",
    "\n",
    "print(dir(random))\n",
    "\n",
    "print(random.randint(-1000, 1000))   # print(46)\n",
    "print(random.random())\n",
    "print(random.random()*49)"
   ]
  },
  {
   "cell_type": "code",
   "execution_count": 2,
   "metadata": {},
   "outputs": [
    {
     "name": "stdout",
     "output_type": "stream",
     "text": [
      "29\n",
      "ჩავიფიქრე რიცხვი 1-დან 100-ის ჩათვლით.\n",
      "გამოიცანი: 29\n",
      "შენ გამოიცანი, ჩაფიქრებული იყო 29 .\n"
     ]
    }
   ],
   "source": [
    "import random\n",
    "\n",
    "number = random.randint(1, 100)\n",
    "print(number)\n",
    "\n",
    "print(\"ჩავიფიქრე რიცხვი 1-დან 100-ის ჩათვლით.\")\n",
    "guess = int(input(\"გამოიცანი: \"))\n",
    "\n",
    "\n",
    "if guess == number:\n",
    "    print(\"შენ გამოიცანი, ჩაფიქრებული იყო\", number,\".\")\n",
    "elif guess < number: print(\"ნაკლები <\")\n",
    "else: print(\"მეტია >\")"
   ]
  },
  {
   "cell_type": "code",
   "execution_count": null,
   "metadata": {},
   "outputs": [],
   "source": [
    "# while პირობა:\n",
    "#     ინსტრუქციები  \n",
    "    \n",
    "\n",
    "# if პირობა:\n",
    "#     ინსტრუქციები\n",
    "\n",
    "    \n",
    "# სხვა ინსტრუქციები"
   ]
  },
  {
   "cell_type": "code",
   "execution_count": 4,
   "metadata": {},
   "outputs": [
    {
     "name": "stdout",
     "output_type": "stream",
     "text": [
      "40\n",
      "ჩავიფიქრე რიცხვი 1-დან 100-ის ჩათვლით.\n",
      "გამოიცანი: 54\n",
      "მეტია >\n",
      "გამოიცანი: 25\n",
      "ნაკლები <\n",
      "გამოიცანი: 0\n"
     ]
    }
   ],
   "source": [
    "import random\n",
    "\n",
    "number = random.randint(1, 100)\n",
    "\n",
    "print(\"ჩავიფიქრე რიცხვი 1-დან 100-ის ჩათვლით.\")\n",
    "guess = int(input(\"გამოიცანი: \"))\n",
    "\n",
    "while guess != 0:\n",
    "    if guess == number:\n",
    "        print(\"შენ გამოიცანი, ჩაფიქრებული იყო\", number,\".\")\n",
    "        break\n",
    "    elif guess < number: print(\"ნაკლები <\")\n",
    "    else: print(\"მეტია >\")\n",
    "    \n",
    "    guess = int(input(\"გამოიცანი: \"))\n",
    "    \n",
    "print(\"ჩაფიქრებული იყო\", number)"
   ]
  }
 ],
 "metadata": {
  "kernelspec": {
   "display_name": "Python 3",
   "language": "python",
   "name": "python3"
  },
  "language_info": {
   "codemirror_mode": {
    "name": "ipython",
    "version": 3
   },
   "file_extension": ".py",
   "mimetype": "text/x-python",
   "name": "python",
   "nbconvert_exporter": "python",
   "pygments_lexer": "ipython3",
   "version": "3.7.4"
  }
 },
 "nbformat": 4,
 "nbformat_minor": 2
}
