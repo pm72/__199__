{
 "cells": [
  {
   "cell_type": "code",
   "execution_count": 5,
   "metadata": {},
   "outputs": [
    {
     "name": "stdout",
     "output_type": "stream",
     "text": [
      "გავაგოროთ კამათლები\n",
      "\n",
      "რაუნდი 1\n",
      "\tშენი გაგორებაა: 8\n",
      "\tჩემი გაგორებაა: 2\n",
      "\t1 : 0\n",
      "\n",
      "რაუნდი 2\n",
      "\tშენი გაგორებაა: 6\n",
      "\tჩემი გაგორებაა: 9\n",
      "\t1 : 1\n",
      "\n",
      "რაუნდი 3\n",
      "\tშენი გაგორებაა: 12\n",
      "\tჩემი გაგორებაა: 12\n",
      "\t1 : 1\n",
      "\n",
      "რაუნდი 4\n",
      "\tშენი გაგორებაა: 10\n",
      "\tჩემი გაგორებაა: 11\n",
      "\t1 : 2\n",
      "\n",
      "რაუნდი 5\n",
      "\tშენი გაგორებაა: 12\n",
      "\tჩემი გაგორებაა: 12\n",
      "\t1 : 2\n",
      "\n",
      "მე მოვიგე!\n",
      "\n",
      "\n",
      "დასასრული...\n"
     ]
    }
   ],
   "source": [
    "import random, time\n",
    "\n",
    "print(\"გავაგოროთ კამათლები\\n\")\n",
    "\n",
    "attempt = 0\n",
    "your_number = 0\n",
    "my_number = 0\n",
    "\n",
    "while attempt < 5:\n",
    "    attempt +=1\n",
    "    print(\"რაუნდი\", attempt)\n",
    "    print(\"\\tშენი გაგორებაა: \", end='')\n",
    "    your_dice = random.randint(2, 12)\n",
    "    time.sleep(1)\n",
    "    print(your_dice)\n",
    "    \n",
    "    print(\"\\tჩემი გაგორებაა: \", end='')\n",
    "    my_dice = random.randint(2, 12)\n",
    "    time.sleep(1)\n",
    "    print(my_dice)\n",
    "    \n",
    "    if your_dice > my_dice: your_number += 1   # your_number = your_number + 1\n",
    "    elif my_dice > your_dice: my_number += 1\n",
    "    \n",
    "    \n",
    "    time.sleep(1)\n",
    "    print(\"\\t{} : {}\".format(your_number, my_number))\n",
    "    \n",
    "    print()\n",
    "\n",
    "if your_number > my_number : print(\"შენ მოიგე!\")\n",
    "elif my_number > your_number : print(\"მე მოვიგე!\")\n",
    "else: print(\"ყაიმი!\")\n",
    "    \n",
    "print(\"\\n\\nდასასრული...\")\n",
    "        "
   ]
  }
 ],
 "metadata": {
  "kernelspec": {
   "display_name": "Python 3",
   "language": "python",
   "name": "python3"
  },
  "language_info": {
   "codemirror_mode": {
    "name": "ipython",
    "version": 3
   },
   "file_extension": ".py",
   "mimetype": "text/x-python",
   "name": "python",
   "nbconvert_exporter": "python",
   "pygments_lexer": "ipython3",
   "version": "3.7.4"
  }
 },
 "nbformat": 4,
 "nbformat_minor": 2
}
