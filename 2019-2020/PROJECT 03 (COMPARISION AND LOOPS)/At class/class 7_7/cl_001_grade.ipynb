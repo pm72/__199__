{
 "cells": [
  {
   "cell_type": "code",
   "execution_count": 5,
   "metadata": {},
   "outputs": [
    {
     "name": "stdout",
     "output_type": "stream",
     "text": [
      "No\n"
     ]
    }
   ],
   "source": [
    "x = -8\n",
    "if x > 3:         # True    False\n",
    "   print('Ok')\n",
    "else:\n",
    "    print(\"No\")\n",
    "    \n",
    "# 2 + 3 * 9 +5 -2.5/8\n",
    "# 2 < 3 and 3 > 7  or 5 != 8     False or True"
   ]
  },
  {
   "cell_type": "code",
   "execution_count": 8,
   "metadata": {},
   "outputs": [
    {
     "name": "stdout",
     "output_type": "stream",
     "text": [
      "შეიტანეთ რიცხვი: 56\n",
      "\n",
      "შეფასება:\n",
      "ისე რა (2)\n"
     ]
    }
   ],
   "source": [
    "\"\"\"\n",
    "    0-24        საშინელი         0\n",
    "    25-44       ცუდი            1\n",
    "    45-64       ისე რა           2\n",
    "    65-79       საშუალო         3\n",
    "    80-89       კარგი            4\n",
    "    90-100      ბრწყინვალე       5\n",
    "    \n",
    "    \n",
    "    თუ x მეტია 0-ზე და ნაკლებია 25:\n",
    "       0 <= x < 25\n",
    "    if x >= 0 and x < 25:     True and True = True    [0; 24]\n",
    "    if 0 <= x < 25:\n",
    "    \n",
    "    თუ x < 0 ან x > 24:\n",
    "    if x < 0 or x > 24\n",
    "\"\"\"\n",
    "\n",
    "\n",
    "score = int(input(\"შეიტანეთ რიცხვი: \"))\n",
    "\n",
    "print(\"\\nშეფასება:\")\n",
    "if (score >= 0) and (score < 25):\n",
    "    print(\"საშინელი (0)\")\n",
    "elif score >= 25 and score <45:\n",
    "    print(\"ცუდი (1)\")\n",
    "elif 45 <= score < 65:\n",
    "    print(\"ისე რა (2)\")\n",
    "elif 65 <= score < 80:\n",
    "    print(\"საშუალო (3)\")\n",
    "elif 81 <= score < 90:\n",
    "    print(\"კარგი (4)\")\n",
    "elif 91 <= score < 100:\n",
    "    print(\"ბრწყინვალე (5)\")\n",
    "else:\n",
    "    print(\"არასწორი ქულა!\")\n",
    "    \n",
    "    \n",
    "if score < 0 or score > 100:\n",
    "    print(\"არასწორი ქულა!..\")"
   ]
  },
  {
   "cell_type": "code",
   "execution_count": 19,
   "metadata": {},
   "outputs": [
    {
     "name": "stdout",
     "output_type": "stream",
     "text": [
      "None\n"
     ]
    },
    {
     "data": {
      "text/plain": [
       "14"
      ]
     },
     "execution_count": 19,
     "metadata": {},
     "output_type": "execute_result"
    }
   ],
   "source": [
    "int(True)\n",
    "int(False)\n",
    "bool(-9.36)\n",
    "bool(0)\n",
    "bool(\"\")\n",
    "bool(None)\n",
    "\n",
    "a = None\n",
    "print(a)\n",
    "a = 9\n",
    "a += 5\n",
    "a\n",
    "int a;"
   ]
  }
 ],
 "metadata": {
  "kernelspec": {
   "display_name": "Python 3",
   "language": "python",
   "name": "python3"
  },
  "language_info": {
   "codemirror_mode": {
    "name": "ipython",
    "version": 3
   },
   "file_extension": ".py",
   "mimetype": "text/x-python",
   "name": "python",
   "nbconvert_exporter": "python",
   "pygments_lexer": "ipython3",
   "version": "3.7.4"
  }
 },
 "nbformat": 4,
 "nbformat_minor": 2
}
