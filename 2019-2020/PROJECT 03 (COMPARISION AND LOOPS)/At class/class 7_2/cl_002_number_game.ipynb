{
 "cells": [
  {
   "cell_type": "code",
   "execution_count": 7,
   "metadata": {},
   "outputs": [
    {
     "name": "stdout",
     "output_type": "stream",
     "text": [
      "['BPF', 'LOG4', 'NV_MAGICCONST', 'RECIP_BPF', 'Random', 'SG_MAGICCONST', 'SystemRandom', 'TWOPI', '_BuiltinMethodType', '_MethodType', '_Sequence', '_Set', '__all__', '__builtins__', '__cached__', '__doc__', '__file__', '__loader__', '__name__', '__package__', '__spec__', '_acos', '_bisect', '_ceil', '_cos', '_e', '_exp', '_inst', '_itertools', '_log', '_os', '_pi', '_random', '_sha512', '_sin', '_sqrt', '_test', '_test_generator', '_urandom', '_warn', 'betavariate', 'choice', 'choices', 'expovariate', 'gammavariate', 'gauss', 'getrandbits', 'getstate', 'lognormvariate', 'normalvariate', 'paretovariate', 'randint', 'random', 'randrange', 'sample', 'seed', 'setstate', 'shuffle', 'triangular', 'uniform', 'vonmisesvariate', 'weibullvariate'] \n",
      "\n",
      "98\n"
     ]
    }
   ],
   "source": [
    "import random\n",
    "\n",
    "print(dir(random), \"\\n\")\n",
    "\n",
    "number = random.randint(1, 100)\n",
    "\n",
    "print(number)"
   ]
  },
  {
   "cell_type": "code",
   "execution_count": 13,
   "metadata": {},
   "outputs": [
    {
     "name": "stdout",
     "output_type": "stream",
     "text": [
      "ჩავიფიქრე მთელი რიცხვი 1-დან 100-ის ჩათვლით. ეცადე გამოიცნო.\n",
      "ჩაფიქრებულია 34\n",
      "რიცხვი: 50\n",
      "მეტია ჩაფიქრებულ რიცხვზე\n"
     ]
    }
   ],
   "source": [
    "import random\n",
    "\n",
    "print(\"ჩავიფიქრე მთელი რიცხვი 1-დან 100-ის ჩათვლით. ეცადე გამოიცნო.\")\n",
    "number = random.randint(1, 100)\n",
    "print(\"ჩაფიქრებულია\", number)\n",
    "\n",
    "guess = int(input(\"რიცხვი: \"))\n",
    "\n",
    "if guess == number:\n",
    "    print(\"შენ გამოიცანი. ჩაფიქრებული იყო\", number)\n",
    "elif guess > number: print(guess, \"მეტია ჩაფიქრებულ რიცხვზე\")\n",
    "else: print(guess, \"ნაკლებია ჩაფიქრებულ რიცხვზე\")"
   ]
  },
  {
   "cell_type": "code",
   "execution_count": 14,
   "metadata": {},
   "outputs": [
    {
     "data": {
      "text/plain": [
       "'   მრავალსტრიქონიანი კომენტარი\\n       დოკუმენტის სტრიქონი\\nwhile\\n\\n\\n'"
      ]
     },
     "execution_count": 14,
     "metadata": {},
     "output_type": "execute_result"
    }
   ],
   "source": [
    "'''   მრავალსტრიქონიანი კომენტარი\n",
    "       დოკუმენტის სტრიქონი\n",
    "\n",
    "if პირობა:\n",
    "    ინსტრუქციები\n",
    "\n",
    "\n",
    "while პირობა:\n",
    "    ინსტრუქციები\n",
    "\n",
    "\n",
    "სხვა ინტრუქციები\n",
    "\n",
    "\n",
    "'''"
   ]
  },
  {
   "cell_type": "code",
   "execution_count": 5,
   "metadata": {},
   "outputs": [
    {
     "name": "stdout",
     "output_type": "stream",
     "text": [
      "ჩავიფიქრე მთელი რიცხვი 1-დან 100-ის ჩათვლით. ეცადე გამოიცნო.\n",
      "რიცხვი: 50\n",
      "50 მეტია ჩაფიქრებულ რიცხვზე\n",
      "\n",
      "რიცხვი: 25\n",
      "25 მეტია ჩაფიქრებულ რიცხვზე\n",
      "\n",
      "რიცხვი: 12\n",
      "12 მეტია ჩაფიქრებულ რიცხვზე\n",
      "\n",
      "რიცხვი: 6\n",
      "6 მეტია ჩაფიქრებულ რიცხვზე\n",
      "\n",
      "რიცხვი: 3\n",
      "3 მეტია ჩაფიქრებულ რიცხვზე\n",
      "\n",
      "რიცხვი: 2\n",
      "2 მეტია ჩაფიქრებულ რიცხვზე\n",
      "\n",
      "რიცხვი: 1\n",
      "შენ გამოიცანი. ჩაფიქრებული იყო 1\n",
      "ამისათვის დაგჭირდა 7 ცდა.\n",
      "\n"
     ]
    }
   ],
   "source": [
    "import random\n",
    "\n",
    "print(\"ჩავიფიქრე მთელი რიცხვი 1-დან 100-ის ჩათვლით. ეცადე გამოიცნო.\")\n",
    "number = random.randint(1, 100)\n",
    "\n",
    "guess = 0\n",
    "attempt = 0\n",
    "\n",
    "while guess != number:\n",
    "    attempt = attempt + 1\n",
    "    guess = int(input(\"რიცხვი: \"))\n",
    "    if guess == number:\n",
    "        print(\"შენ გამოიცანი. ჩაფიქრებული იყო\", number)\n",
    "        print(\"ამისათვის დაგჭირდა\", attempt, \"ცდა.\")\n",
    "    elif guess > number: print(guess, \"მეტია ჩაფიქრებულ რიცხვზე\")\n",
    "    else: print(guess, \"ნაკლებია ჩაფიქრებულ რიცხვზე\")\n",
    "    \n",
    "    print()"
   ]
  }
 ],
 "metadata": {
  "kernelspec": {
   "display_name": "Python 3",
   "language": "python",
   "name": "python3"
  },
  "language_info": {
   "codemirror_mode": {
    "name": "ipython",
    "version": 3
   },
   "file_extension": ".py",
   "mimetype": "text/x-python",
   "name": "python",
   "nbconvert_exporter": "python",
   "pygments_lexer": "ipython3",
   "version": "3.7.4"
  }
 },
 "nbformat": 4,
 "nbformat_minor": 2
}
