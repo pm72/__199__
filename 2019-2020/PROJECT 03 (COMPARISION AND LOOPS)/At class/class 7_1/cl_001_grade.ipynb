{
 "cells": [
  {
   "cell_type": "code",
   "execution_count": 10,
   "metadata": {},
   "outputs": [
    {
     "name": "stdout",
     "output_type": "stream",
     "text": [
      "False\n"
     ]
    }
   ],
   "source": [
    "x = 3\n",
    "if x > 3: print(\"True\")\n",
    "else: print(\"False\")"
   ]
  },
  {
   "cell_type": "code",
   "execution_count": null,
   "metadata": {},
   "outputs": [],
   "source": [
    "\"\"\"\n",
    "    0-24        საშინელი         0\n",
    "    25-44       ცუდი            1\n",
    "    45-64       ისე რა           2\n",
    "    65-79       საშუალო         3\n",
    "    80-89       კარგი            4\n",
    "    90-100      ბრწყინვალე       5\n",
    "    \n",
    "    თუ x მეტი ან ტოლია 0-ზე და ნაკლებია 25-ზე:\n",
    "    if x >= 0 and x < 25:\n",
    "    if 0 <= x < 25:\n",
    "\"\"\"\n",
    "\n",
    "x = 15"
   ]
  },
  {
   "cell_type": "code",
   "execution_count": 2,
   "metadata": {},
   "outputs": [
    {
     "name": "stdout",
     "output_type": "stream",
     "text": [
      "შეიტანეთ მთელი რიცხვი 0-დან 100-ის ჩათვლით: 60\n",
      "ისე რა (2)\n"
     ]
    }
   ],
   "source": [
    "score = int(input(\"შეიტანეთ მთელი რიცხვი 0-დან 100-ის ჩათვლით: \"))\n",
    "\n",
    "if score >= 0 and score < 25: print(\"საშინელი (0)\")\n",
    "elif score >= 25 and score < 45: print(\"ცუდი (1)\")\n",
    "elif 45 <= score < 65: print(\"ისე რა (2)\")\n",
    "elif 65 <= score < 80: print(\"საშუალო (3)\")\n",
    "elif 80 <= score < 90: print(\"კარგი (4)\")\n",
    "elif 90 <= score <= 100: print(\"ბრწყინვალე (5)\")\n",
    "else: print(\"არასწორი ქულა!\")\n",
    "    \n",
    "if score < 0 or score > 100:\n",
    "    print(\"არასწორი ქულა!\")"
   ]
  }
 ],
 "metadata": {
  "kernelspec": {
   "display_name": "Python 3",
   "language": "python",
   "name": "python3"
  },
  "language_info": {
   "codemirror_mode": {
    "name": "ipython",
    "version": 3
   },
   "file_extension": ".py",
   "mimetype": "text/x-python",
   "name": "python",
   "nbconvert_exporter": "python",
   "pygments_lexer": "ipython3",
   "version": "3.7.4"
  }
 },
 "nbformat": 4,
 "nbformat_minor": 2
}
