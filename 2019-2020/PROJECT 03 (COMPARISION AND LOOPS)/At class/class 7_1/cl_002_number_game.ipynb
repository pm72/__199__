{
 "cells": [
  {
   "cell_type": "code",
   "execution_count": 3,
   "metadata": {},
   "outputs": [
    {
     "name": "stdout",
     "output_type": "stream",
     "text": [
      "['BPF', 'LOG4', 'NV_MAGICCONST', 'RECIP_BPF', 'Random', 'SG_MAGICCONST', 'SystemRandom', 'TWOPI', '_BuiltinMethodType', '_MethodType', '_Sequence', '_Set', '__all__', '__builtins__', '__cached__', '__doc__', '__file__', '__loader__', '__name__', '__package__', '__spec__', '_acos', '_bisect', '_ceil', '_cos', '_e', '_exp', '_inst', '_itertools', '_log', '_os', '_pi', '_random', '_sha512', '_sin', '_sqrt', '_test', '_test_generator', '_urandom', '_warn', 'betavariate', 'choice', 'choices', 'expovariate', 'gammavariate', 'gauss', 'getrandbits', 'getstate', 'lognormvariate', 'normalvariate', 'paretovariate', 'randint', 'random', 'randrange', 'sample', 'seed', 'setstate', 'shuffle', 'triangular', 'uniform', 'vonmisesvariate', 'weibullvariate']\n",
      "\n",
      "47\n",
      "0.6850804971554156\n",
      "194.8629066645481\n"
     ]
    }
   ],
   "source": [
    "import random\n",
    "\n",
    "print(dir(random))\n",
    "\n",
    "print()\n",
    "\n",
    "a = random.randint(1, 100)\n",
    "print(a)\n",
    "\n",
    "b = random.random()\n",
    "print(b)\n",
    "\n",
    "c = random.random()*1000\n",
    "print(c)"
   ]
  },
  {
   "cell_type": "code",
   "execution_count": 3,
   "metadata": {},
   "outputs": [
    {
     "name": "stdout",
     "output_type": "stream",
     "text": [
      "ჩავიფიქრე მთელი რიცხვი 1-დან 100-ის ჩათვლით.\n",
      "შეიტანე რიცხვი: 54\n",
      "ნაკლებია <\n"
     ]
    }
   ],
   "source": [
    "import random\n",
    "\n",
    "print(\"ჩავიფიქრე მთელი რიცხვი 1-დან 100-ის ჩათვლით.\")\n",
    "number = random.randint(1, 100)\n",
    "\n",
    "guess = int(input(\"შეიტანე რიცხვი: \"))\n",
    "\n",
    "if guess > number: print(\"მეტია >\")\n",
    "elif guess < number: print(\"ნაკლებია <\")\n",
    "else: print(\"შენ გამოიცანი. ჩაფიქრებული იყო\", number)"
   ]
  },
  {
   "cell_type": "code",
   "execution_count": 2,
   "metadata": {},
   "outputs": [
    {
     "data": {
      "text/plain": [
       "'  მრავალსტრიქონიანი კომენტარი\\n     დოკუმენტის სტრიქონი\\n\\nwhile\\n\\n\\n'"
      ]
     },
     "execution_count": 2,
     "metadata": {},
     "output_type": "execute_result"
    }
   ],
   "source": [
    "'''  მრავალსტრიქონიანი კომენტარი\n",
    "     დოკუმენტის სტრიქონი\n",
    "\n",
    "if პირობა:\n",
    "    ინსტრუქციები\n",
    "\n",
    "\n",
    "while პირობა:\n",
    "    ინსტრუქციები\n",
    "\n",
    "\n",
    "სხვა ინსტრუქციები\n",
    "\n",
    "'''"
   ]
  },
  {
   "cell_type": "code",
   "execution_count": 2,
   "metadata": {},
   "outputs": [
    {
     "name": "stdout",
     "output_type": "stream",
     "text": [
      "ჩავიფიქრე მთელი რიცხვი 1-დან 100-ის ჩათვლით.\n",
      "შეიტანე რიცხვი: 50\n",
      "მეტია >\n",
      "შეიტანე რიცხვი: 25\n",
      "მეტია >\n",
      "შეიტანე რიცხვი: 12\n",
      "მეტია >\n",
      "შეიტანე რიცხვი: 6\n",
      "მეტია >\n",
      "შეიტანე რიცხვი: 3\n",
      "მეტია >\n",
      "შეიტანე რიცხვი: 1\n",
      "ნაკლებია <\n",
      "შეიტანე რიცხვი: 2\n",
      "შენ გამოიცანი. ჩაფიქრებული იყო 2\n"
     ]
    }
   ],
   "source": [
    "import random\n",
    "\n",
    "print(\"ჩავიფიქრე მთელი რიცხვი 1-დან 100-ის ჩათვლით.\")\n",
    "number = random.randint(1, 100)\n",
    "\n",
    "guess = -1\n",
    "while guess != number:\n",
    "    guess = int(input(\"შეიტანე რიცხვი: \"))\n",
    "\n",
    "    if guess > number: print(\"მეტია >\")\n",
    "    elif guess < number: print(\"ნაკლებია <\")\n",
    "    else: print(\"შენ გამოიცანი. ჩაფიქრებული იყო\", number)"
   ]
  },
  {
   "cell_type": "code",
   "execution_count": 15,
   "metadata": {},
   "outputs": [
    {
     "name": "stdout",
     "output_type": "stream",
     "text": [
      "ჩავიფიქრე მთელი რიცხვი 1-დან 100-ის ჩათვლით.\n",
      "შეიტანე რიცხვი [0 - დამთავრება]: 50\n",
      "მეტია >\n",
      "\n",
      "შეიტანე რიცხვი [0 - დამთავრება]: 25\n",
      "ნაკლებია <\n",
      "\n",
      "შეიტანე რიცხვი [0 - დამთავრება]: 37\n",
      "ნაკლებია <\n",
      "\n",
      "შეიტანე რიცხვი [0 - დამთავრება]: 42\n",
      "ნაკლებია <\n",
      "\n",
      "შეიტანე რიცხვი [0 - დამთავრება]: 45\n",
      "ნაკლებია <\n",
      "\n",
      "შეიტანე რიცხვი [0 - დამთავრება]: 48\n",
      "ნაკლებია <\n",
      "\n",
      "შეიტანე რიცხვი [0 - დამთავრება]: 49\n",
      "შენ გამოიცანი!\n",
      "გამოცნობისთვის დაგჭირდა 7 ცდა.\n",
      "ჩაფიქრებული იყო 49\n",
      "დასასრული\n"
     ]
    }
   ],
   "source": [
    "import random\n",
    "\n",
    "print(\"ჩავიფიქრე მთელი რიცხვი 1-დან 100-ის ჩათვლით.\")\n",
    "number = random.randint(1, 100)\n",
    "\n",
    "guess = int(input(\"შეიტანე რიცხვი [0 - დამთავრება]: \"))\n",
    "attempt = 0\n",
    "\n",
    "while guess != 0:\n",
    "    attempt = attempt + 1  # attempt += 1\n",
    "    if guess > number: print(\"მეტია >\")\n",
    "    elif guess < number: print(\"ნაკლებია <\")\n",
    "    else:\n",
    "        print(\"შენ გამოიცანი!\")\n",
    "        print(\"გამოცნობისთვის დაგჭირდა\", attempt, \"ცდა.\")\n",
    "        break\n",
    "    \n",
    "    print()\n",
    "    guess = int(input(\"შეიტანე რიცხვი [0 - დამთავრება]: \"))\n",
    "\n",
    "print(\"ჩაფიქრებული იყო\", number)\n",
    "print(\"დასასრული\")"
   ]
  }
 ],
 "metadata": {
  "kernelspec": {
   "display_name": "Python 3",
   "language": "python",
   "name": "python3"
  },
  "language_info": {
   "codemirror_mode": {
    "name": "ipython",
    "version": 3
   },
   "file_extension": ".py",
   "mimetype": "text/x-python",
   "name": "python",
   "nbconvert_exporter": "python",
   "pygments_lexer": "ipython3",
   "version": "3.7.4"
  }
 },
 "nbformat": 4,
 "nbformat_minor": 2
}
