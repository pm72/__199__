{
 "cells": [
  {
   "cell_type": "code",
   "execution_count": null,
   "metadata": {},
   "outputs": [],
   "source": [
    "\"\"\"\n",
    "    0-24        საშინელი         0\n",
    "    25-44       ცუდი            1\n",
    "    45-64       ისე რა           2\n",
    "    65-79       საშუალო         3\n",
    "    80-89       კარგი            4\n",
    "    90-100      ბრწყინვალე       5\n",
    "\"\"\"\n",
    "\n",
    "\"\"\"\n",
    "if score between 0 and 24:\n",
    "    print(\"საშინელი (0)\")\n",
    "    \n",
    "    1) score >= 0\n",
    "    2) score < 25\n",
    "    \n",
    "    (score >= 0) and (score < 24)\n",
    "    ან \n",
    "    0 <= score < 25\n",
    "\"\"\""
   ]
  },
  {
   "cell_type": "code",
   "execution_count": 9,
   "metadata": {},
   "outputs": [
    {
     "name": "stdout",
     "output_type": "stream",
     "text": [
      "NO\n"
     ]
    }
   ],
   "source": [
    "x = 3\n",
    "if x > 3: print(\"OK\")\n",
    "else: print(\"NO\")\n",
    "    \n",
    "    \n",
    "თუ x მეტია ნულზე და ნაკლებია 25:\n",
    "if x >= 0 and x < 25:"
   ]
  },
  {
   "cell_type": "code",
   "execution_count": 3,
   "metadata": {},
   "outputs": [
    {
     "name": "stdout",
     "output_type": "stream",
     "text": [
      "შეიტანეთ მთელი რიცხვი: 102\n",
      "არასწორი ქულა!\n",
      "არასწორი ქულა!\n"
     ]
    }
   ],
   "source": [
    "\"\"\"\n",
    "    0-24        საშინელი         0\n",
    "    25-44       ცუდი            1\n",
    "    45-64       ისე რა           2\n",
    "    65-79       საშუალო         3\n",
    "    80-89       კარგი            4\n",
    "    90-100      ბრწყინვალე       5\n",
    "\"\"\"\n",
    "try:\n",
    "    score = int(input(\"შეიტანეთ მთელი რიცხვი: \"))\n",
    "\n",
    "    if score >= 0 and score < 25: print(\"საშინელი (0)\")\n",
    "    elif score >= 25 and score < 45: print(\"ცუდი (1)\")\n",
    "    elif score >= 45 and score < 65: print(\"ისე რა (2)\")\n",
    "    elif 65 <= score < 80: print(\"საშუალო (3)\")\n",
    "    elif 80 <= score < 90: print(\"კარგი (4)\")\n",
    "    elif 90 <= score <= 100: print(\"ბრწყინვალე (5)\")\n",
    "    else: print(\"არასწორი ქულა!\")\n",
    "except ValueError:\n",
    "    print(\"მხოლოდ მთელი რიცხვი.\")\n",
    "\n",
    "if score < 0 or score > 100: print(\"არასწორი ქულა!\")\n",
    "    \n",
    "    \n",
    "# x > 0 and y < 8 or e == 12 and d != 58"
   ]
  }
 ],
 "metadata": {
  "kernelspec": {
   "display_name": "Python 3",
   "language": "python",
   "name": "python3"
  },
  "language_info": {
   "codemirror_mode": {
    "name": "ipython",
    "version": 3
   },
   "file_extension": ".py",
   "mimetype": "text/x-python",
   "name": "python",
   "nbconvert_exporter": "python",
   "pygments_lexer": "ipython3",
   "version": "3.7.4"
  }
 },
 "nbformat": 4,
 "nbformat_minor": 2
}
