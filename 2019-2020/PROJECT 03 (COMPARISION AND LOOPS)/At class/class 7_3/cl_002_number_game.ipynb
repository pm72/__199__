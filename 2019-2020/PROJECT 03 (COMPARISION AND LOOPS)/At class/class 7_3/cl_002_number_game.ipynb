{
 "cells": [
  {
   "cell_type": "code",
   "execution_count": 121,
   "metadata": {},
   "outputs": [
    {
     "name": "stdout",
     "output_type": "stream",
     "text": [
      "['BPF', 'LOG4', 'NV_MAGICCONST', 'RECIP_BPF', 'Random', 'SG_MAGICCONST', 'SystemRandom', 'TWOPI', '_BuiltinMethodType', '_MethodType', '_Sequence', '_Set', '__all__', '__builtins__', '__cached__', '__doc__', '__file__', '__loader__', '__name__', '__package__', '__spec__', '_acos', '_bisect', '_ceil', '_cos', '_e', '_exp', '_inst', '_itertools', '_log', '_os', '_pi', '_random', '_sha512', '_sin', '_sqrt', '_test', '_test_generator', '_urandom', '_warn', 'betavariate', 'choice', 'choices', 'expovariate', 'gammavariate', 'gauss', 'getrandbits', 'getstate', 'lognormvariate', 'normalvariate', 'paretovariate', 'randint', 'random', 'randrange', 'sample', 'seed', 'setstate', 'shuffle', 'triangular', 'uniform', 'vonmisesvariate', 'weibullvariate']\n",
      "13\n",
      "925.0625615381553\n"
     ]
    }
   ],
   "source": [
    "import random\n",
    "\n",
    "print(dir(random))\n",
    "\n",
    "print(random.randint(1, 100))\n",
    "print(random.random()*1000)"
   ]
  },
  {
   "cell_type": "code",
   "execution_count": 1,
   "metadata": {},
   "outputs": [
    {
     "name": "stdout",
     "output_type": "stream",
     "text": [
      "83\n",
      "0.24666528499804385\n",
      "89.77854917797508\n",
      "Hi\n"
     ]
    }
   ],
   "source": [
    "import random\n",
    "\n",
    "def randint():\n",
    "    print(\"Hi\")\n",
    "\n",
    "print(random.randint(1, 100))\n",
    "print(random.random())\n",
    "print(random.random() * 100)\n",
    "randint()"
   ]
  },
  {
   "cell_type": "code",
   "execution_count": 6,
   "metadata": {},
   "outputs": [
    {
     "name": "stdout",
     "output_type": "stream",
     "text": [
      "ჩავიფიქრე მთელი რიცხვი 1-დან 100-ის ჩათვლით. შეეცადე გამოიცნო.\n",
      "39\n",
      "შეიტანეთ მთელი რიცხვი: 20\n",
      "ნაკლებია <\n"
     ]
    }
   ],
   "source": [
    "import random\n",
    "\n",
    "print(\"ჩავიფიქრე მთელი რიცხვი 1-დან 100-ის ჩათვლით. შეეცადე გამოიცნო.\")\n",
    "number = random.randint(1, 100)\n",
    "print(number)\n",
    "\n",
    "guess = int(input(\"შეიტანეთ მთელი რიცხვი: \"))\n",
    "\n",
    "if guess < number: print(\"ნაკლებია <\")\n",
    "elif guess > number: print(\"მეტია >\")\n",
    "else: print(\"შენ გამოიცანი. ჩაფიქრებული იყო\", number)"
   ]
  },
  {
   "cell_type": "code",
   "execution_count": null,
   "metadata": {},
   "outputs": [],
   "source": [
    "'''\n",
    "\n",
    "if პირობა:\n",
    "    ინსტრუქციები\n",
    "    \n",
    "\n",
    "while პირობა:\n",
    "    ინსტრუქციები\n",
    "\n",
    "\n",
    "სხვა ინსტრუქციები\n",
    "\n",
    "'''"
   ]
  },
  {
   "cell_type": "code",
   "execution_count": 4,
   "metadata": {},
   "outputs": [
    {
     "name": "stdout",
     "output_type": "stream",
     "text": [
      "ჩავიფიქრე მთელი რიცხვი 1-დან 100-ის ჩათვლით. შეეცადე გამოიცნო.\n",
      "82\n",
      "შეიტანეთ მთელი რიცხვი: 56\n",
      "ნაკლებია <\n",
      "შეიტანეთ მთელი რიცხვი: 33\n",
      "\n",
      "ნაკლებია <\n",
      "შეიტანეთ მთელი რიცხვი: 82\n",
      "\n",
      "შენ გამოიცანი. ჩაფიქრებული იყო 82\n"
     ]
    }
   ],
   "source": [
    "import random\n",
    "\n",
    "print(\"ჩავიფიქრე მთელი რიცხვი 1-დან 100-ის ჩათვლით. შეეცადე გამოიცნო.\")\n",
    "number = random.randint(1, 100)\n",
    "print(number)\n",
    "\n",
    "guess = int(input(\"შეიტანეთ მთელი რიცხვი: \"))\n",
    "while guess != number:\n",
    "    if guess < number: print(\"ნაკლებია <\")\n",
    "    elif guess > number: print(\"მეტია >\")\n",
    "#     else: print(\"შენ გამოიცანი. ჩაფიქრებული იყო\", number)\n",
    "    \n",
    "    guess = int(input(\"შეიტანეთ მთელი რიცხვი: \"))\n",
    "    \n",
    "    print()\n",
    "\n",
    "print(\"შენ გამოიცანი. ჩაფიქრებული იყო\", number)"
   ]
  },
  {
   "cell_type": "code",
   "execution_count": 2,
   "metadata": {},
   "outputs": [
    {
     "name": "stdout",
     "output_type": "stream",
     "text": [
      "ჩავიფიქრე მთელი რიცხვი 1-დან 100-ის ჩათვლით. შეეცადე გამოიცნო.\n",
      "12\n",
      "შეიტანეთ მთელი რიცხვი: 52\n",
      "მეტია >\n",
      "\n",
      "შეიტანეთ მთელი რიცხვი: 10\n",
      "ნაკლებია <\n",
      "\n",
      "შეიტანეთ მთელი რიცხვი: 12\n",
      "შენ გამოიცანი. ჩაფიქრებული იყო 12\n",
      "\n"
     ]
    }
   ],
   "source": [
    "import random\n",
    "\n",
    "print(\"ჩავიფიქრე მთელი რიცხვი 1-დან 100-ის ჩათვლით. შეეცადე გამოიცნო.\")\n",
    "number = random.randint(1, 100)\n",
    "print(number)\n",
    "\n",
    "guess = -1\n",
    "while guess != number:\n",
    "    guess = int(input(\"შეიტანეთ მთელი რიცხვი: \"))\n",
    "    \n",
    "    if guess < number: print(\"ნაკლებია <\")\n",
    "    elif guess > number: print(\"მეტია >\")\n",
    "    else: print(\"შენ გამოიცანი. ჩაფიქრებული იყო\", number)\n",
    "    \n",
    "    print()"
   ]
  },
  {
   "cell_type": "code",
   "execution_count": 9,
   "metadata": {},
   "outputs": [
    {
     "name": "stdout",
     "output_type": "stream",
     "text": [
      "ჩავიფიქრე მთელი რიცხვი 1-დან 100-ის ჩათვლით. შეეცადე გამოიცნო.\n",
      "შეიტანეთ მთელი რიცხვი: 50\n",
      "ნაკლებია <\n",
      "\n",
      "შეიტანეთ მთელი რიცხვი: 75\n",
      "ნაკლებია <\n",
      "\n",
      "შეიტანეთ მთელი რიცხვი: 87\n",
      "ნაკლებია <\n",
      "\n",
      "შეიტანეთ მთელი რიცხვი: 95\n",
      "მეტია >\n",
      "\n",
      "შეიტანეთ მთელი რიცხვი: 90\n",
      "ნაკლებია <\n",
      "\n",
      "შეიტანეთ მთელი რიცხვი: 93\n",
      "შენ გამოიცანი. ჩაფიქრებული იყო 93\n",
      "ამისთვის დაგჭირდა 6 ცდა.\n",
      "\n"
     ]
    }
   ],
   "source": [
    "import random\n",
    "\n",
    "print(\"ჩავიფიქრე მთელი რიცხვი 1-დან 100-ის ჩათვლით. შეეცადე გამოიცნო.\")\n",
    "number = random.randint(1, 100)\n",
    "\n",
    "guess = -1\n",
    "attempt = 0\n",
    "while guess != number:\n",
    "    guess = int(input(\"შეიტანეთ მთელი რიცხვი: \"))\n",
    "    attempt = attempt + 1\n",
    "    \n",
    "    if guess < number: print(\"ნაკლებია <\")\n",
    "    elif guess > number: print(\"მეტია >\")\n",
    "    else:\n",
    "        print(\"შენ გამოიცანი. ჩაფიქრებული იყო\", number)\n",
    "        print(\"ამისთვის დაგჭირდა\", attempt, \"ცდა.\")\n",
    "    \n",
    "    print()"
   ]
  }
 ],
 "metadata": {
  "kernelspec": {
   "display_name": "Python 3",
   "language": "python",
   "name": "python3"
  },
  "language_info": {
   "codemirror_mode": {
    "name": "ipython",
    "version": 3
   },
   "file_extension": ".py",
   "mimetype": "text/x-python",
   "name": "python",
   "nbconvert_exporter": "python",
   "pygments_lexer": "ipython3",
   "version": "3.7.4"
  }
 },
 "nbformat": 4,
 "nbformat_minor": 2
}
