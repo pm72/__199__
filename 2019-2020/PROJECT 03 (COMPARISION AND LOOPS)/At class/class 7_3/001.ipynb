{
 "cells": [
  {
   "cell_type": "code",
   "execution_count": 27,
   "metadata": {},
   "outputs": [
    {
     "name": "stdout",
     "output_type": "stream",
     "text": [
      "NO\n"
     ]
    }
   ],
   "source": [
    "x = 3\n",
    "if x > 3:\n",
    "    print(\"OK\")\n",
    "else:\n",
    "    print(\"NO\")"
   ]
  },
  {
   "cell_type": "code",
   "execution_count": 34,
   "metadata": {},
   "outputs": [],
   "source": [
    "\"\"\"\n",
    "    0-24        საშინელი         0\n",
    "    25-44       ცუდი            1\n",
    "    45-64       ისე რა           2\n",
    "    65-79       საშუალო         3\n",
    "    80-89       კარგი            4\n",
    "    90-100      ბრწყინვალე       5\n",
    "    \n",
    "    \n",
    "    თუ x >= 0 და x < 25:\n",
    "        0 <= x < 25\n",
    "    if x >=0 and x < 25:\n",
    "    if 0 <= x < 25:\n",
    "\"\"\""
   ]
  },
  {
   "cell_type": "code",
   "execution_count": 32,
   "metadata": {},
   "outputs": [
    {
     "name": "stdout",
     "output_type": "stream",
     "text": [
      "შეიტანეთ მთელი რიცხვი: 58\n",
      "ისე რა (2)\n"
     ]
    }
   ],
   "source": [
    "score = int(input(\"შეიტანეთ მთელი რიცხვი: \"))\n",
    "\n",
    "if score >= 0 and score < 25:\n",
    "    print(\"საშინელი (0)\")\n",
    "elif score >= 25 and score < 45:\n",
    "    print(\"ცუდი (1)\")\n",
    "elif 45 <= score < 65:\n",
    "    print(\"ისე რა (2)\")\n",
    "elif 65 <= score < 80:\n",
    "    print(\"საშუალო (3)\")\n",
    "elif 80 <= score < 90:\n",
    "    print(\"კარგი (4)\")\n",
    "elif 90 <= score <= 100:\n",
    "    print(\"ბრწყინვალე (5)\")\n",
    "else:\n",
    "    print(\"არასწორი ქულა!\")\n",
    "    \n",
    "if score < 0 or score > 100:\n",
    "    print(\"არასწორი ქულა!\")"
   ]
  }
 ],
 "metadata": {
  "kernelspec": {
   "display_name": "Python 3",
   "language": "python",
   "name": "python3"
  },
  "language_info": {
   "codemirror_mode": {
    "name": "ipython",
    "version": 3
   },
   "file_extension": ".py",
   "mimetype": "text/x-python",
   "name": "python",
   "nbconvert_exporter": "python",
   "pygments_lexer": "ipython3",
   "version": "3.7.4"
  }
 },
 "nbformat": 4,
 "nbformat_minor": 2
}
