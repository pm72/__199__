{
 "cells": [
  {
   "cell_type": "code",
   "execution_count": 12,
   "metadata": {},
   "outputs": [
    {
     "name": "stdout",
     "output_type": "stream",
     "text": [
      "ჩავიფიქრე რიცხვი 1-დან 1000-ის ჩათვლით\n",
      "შეიტანეთ მთელი დადებითი რიცხვი [0 – დამთავრება]: 5,98\n",
      "მხოლოდ მთელი რიცხვი!\n"
     ]
    }
   ],
   "source": [
    "from random import randint\n",
    "\n",
    "print(\"ჩავიფიქრე რიცხვი 1-დან 1000-ის ჩათვლით\")\n",
    "number = randint(1, 1000)\n",
    "\n",
    "try:\n",
    "    guess = int(input(\"შეიტანეთ მთელი დადებითი რიცხვი [0 – დამთავრება]: \"))\n",
    "\n",
    "    attempt = 0\n",
    "    while guess:\n",
    "        if guess == number:\n",
    "            print(\"შენ გამოიცანი.\")\n",
    "            print(\"ამისთვის დაგჭირდა\", attempt, \"ცდა.\")\n",
    "            break\n",
    "        elif guess < number: print(\"ნაკლებია <\")\n",
    "        else: print(\"მეტია >\")\n",
    "\n",
    "        guess = int(input(\"\\nშეიტანეთ მთელი დადებითი რიცხვი [0 – დამთავრება]: \"))\n",
    "\n",
    "        attempt += 1\n",
    "\n",
    "    print(\"ჩაფრიქრებული იყო\", number)\n",
    "    print(\"\\nდასასრული.\")\n",
    "except ValueError: print(\"მხოლოდ მთელი რიცხვი!\")"
   ]
  },
  {
   "cell_type": "code",
   "execution_count": 45,
   "metadata": {},
   "outputs": [
    {
     "name": "stdout",
     "output_type": "stream",
     "text": [
      "ჩავიფიქრე რიცხვი 1-დან 1000-ის ჩათვლით\n",
      "126\n",
      "შეიტანეთ მთელი დადებითი რიცხვი [0 – დამთავრება]: 500\n",
      "მეტია >\n",
      "\n",
      "შეიტანეთ მთელი დადებითი რიცხვი [0 – დამთავრება]: 250\n",
      "მეტია >\n",
      "\n",
      "შეიტანეთ მთელი დადებითი რიცხვი [0 – დამთავრება]: 125\n",
      "ნაკლებია <\n",
      "\n",
      "შეიტანეთ მთელი დადებითი რიცხვი [0 – დამთავრება]: 158.36\n",
      "მხოლოდ მთელი რიცხვი!\n",
      "\n",
      "შეიტანეთ მთელი დადებითი რიცხვი [0 – დამთავრება]: 175\n",
      "მეტია >\n",
      "\n",
      "შეიტანეთ მთელი დადებითი რიცხვი [0 – დამთავრება]: 150\n",
      "მეტია >\n",
      "\n",
      "შეიტანეთ მთელი დადებითი რიცხვი [0 – დამთავრება]: 135\n",
      "მეტია >\n",
      "\n",
      "შეიტანეთ მთელი დადებითი რიცხვი [0 – დამთავრება]: 130\n",
      "მეტია >\n",
      "\n",
      "შეიტანეთ მთელი დადებითი რიცხვი [0 – დამთავრება]: 126\n",
      "\n",
      "შენ გამოიცანი.\n",
      "ამისთვის დაგჭირდა 8 ცდა.\n",
      "ჩაფრიქრებული იყო 126\n",
      "ქულა: 22\n",
      "\n",
      "დასასრული.\n"
     ]
    }
   ],
   "source": [
    "from random import randint\n",
    "\n",
    "print(\"ჩავიფიქრე რიცხვი 1-დან 1000-ის ჩათვლით\")\n",
    "number = randint(1, 1000)\n",
    "print(number)\n",
    "\n",
    "point = 50\n",
    "attempt = 0\n",
    "\n",
    "quite = False\n",
    "while not quite:\n",
    "    try:\n",
    "        guess = int(input(\"შეიტანეთ მთელი დადებითი რიცხვი [0 – დამთავრება]: \"))\n",
    "\n",
    "        while guess:\n",
    "            attempt += 1\n",
    "            \n",
    "            if guess == number:\n",
    "                print(\"\\nშენ გამოიცანი.\")\n",
    "                print(\"ამისთვის დაგჭირდა\", attempt, \"ცდა.\")\n",
    "                quite = True\n",
    "                break\n",
    "            elif guess < number: print(\"ნაკლებია <\")\n",
    "            else: print(\"მეტია >\")\n",
    "\n",
    "            point -= attempt\n",
    "                \n",
    "            if point < 0:\n",
    "                quite = True\n",
    "                point = 0\n",
    "                print(\"\\nცდა\", attempt)\n",
    "                break\n",
    "            \n",
    "            guess = int(input(\"\\nშეიტანეთ მთელი დადებითი რიცხვი [0 – დამთავრება]: \"))\n",
    "\n",
    "        print(\"ჩაფრიქრებული იყო\", number)\n",
    "        \n",
    "        if not guess: break\n",
    "            \n",
    "        print(\"ქულა:\", point)\n",
    "        \n",
    "        \n",
    "    except ValueError: print(\"მხოლოდ მთელი რიცხვი!\\n\")\n",
    "\n",
    "print(\"\\nდასასრული.\")"
   ]
  }
 ],
 "metadata": {
  "kernelspec": {
   "display_name": "Python 3",
   "language": "python",
   "name": "python3"
  },
  "language_info": {
   "codemirror_mode": {
    "name": "ipython",
    "version": 3
   },
   "file_extension": ".py",
   "mimetype": "text/x-python",
   "name": "python",
   "nbconvert_exporter": "python",
   "pygments_lexer": "ipython3",
   "version": "3.7.4"
  }
 },
 "nbformat": 4,
 "nbformat_minor": 2
}
