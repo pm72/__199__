{
 "cells": [
  {
   "cell_type": "code",
   "execution_count": 5,
   "metadata": {},
   "outputs": [
    {
     "name": "stdout",
     "output_type": "stream",
     "text": [
      "No\n"
     ]
    }
   ],
   "source": [
    "x = -8\n",
    "if x > 3:               # True  |  False\n",
    "    print(\"Ok\")\n",
    "else:\n",
    "    print(\"No\")"
   ]
  },
  {
   "cell_type": "code",
   "execution_count": null,
   "metadata": {},
   "outputs": [],
   "source": [
    "'''\n",
    "    2 + 3 - 9 + 6 + 2 - 8 = 5 - 9 = -4 + 6 = 2 - 8 = -6\n",
    "    \n",
    "    2 < 3 and 5 != 0  and 8 == 8  and 27 > 45  =   True and True = True\n",
    "    \n",
    "    int    float    string    bool    None\n",
    "\n",
    "\n",
    "'''"
   ]
  },
  {
   "cell_type": "code",
   "execution_count": 21,
   "metadata": {},
   "outputs": [
    {
     "name": "stdout",
     "output_type": "stream",
     "text": [
      "0\n",
      "1\n",
      "False\n",
      "True\n",
      "False\n",
      "False\n",
      "None\n",
      "90\n",
      "145\n"
     ]
    }
   ],
   "source": [
    "print(int(False))\n",
    "print(int(True))\n",
    "print(bool(0))\n",
    "print(bool(-3.89))\n",
    "print(bool(''))\n",
    "print(bool(None))\n",
    "\n",
    "a = None\n",
    "print(a)\n",
    "\n",
    "# a += 45\n",
    "a = 90\n",
    "print(a)\n",
    "\n",
    "b = ''\n",
    "b += '45'\n",
    "print(b)"
   ]
  },
  {
   "cell_type": "code",
   "execution_count": 5,
   "metadata": {},
   "outputs": [
    {
     "name": "stdout",
     "output_type": "stream",
     "text": [
      "შეიტანეთ რიცხვი: 15.0\n"
     ]
    },
    {
     "ename": "ValueError",
     "evalue": "invalid literal for int() with base 10: '15.0'",
     "output_type": "error",
     "traceback": [
      "\u001b[1;31m---------------------------------------------------------------------------\u001b[0m",
      "\u001b[1;31mValueError\u001b[0m                                Traceback (most recent call last)",
      "\u001b[1;32m<ipython-input-5-7cb5ac7b94b7>\u001b[0m in \u001b[0;36m<module>\u001b[1;34m\u001b[0m\n\u001b[0;32m     20\u001b[0m \"\"\"\n\u001b[0;32m     21\u001b[0m \u001b[1;33m\u001b[0m\u001b[0m\n\u001b[1;32m---> 22\u001b[1;33m \u001b[0mscore\u001b[0m \u001b[1;33m=\u001b[0m \u001b[0mint\u001b[0m\u001b[1;33m(\u001b[0m\u001b[0minput\u001b[0m\u001b[1;33m(\u001b[0m\u001b[1;34m\"შეიტანეთ რიცხვი: \"\u001b[0m\u001b[1;33m)\u001b[0m\u001b[1;33m)\u001b[0m\u001b[1;33m\u001b[0m\u001b[1;33m\u001b[0m\u001b[0m\n\u001b[0m\u001b[0;32m     23\u001b[0m \u001b[1;33m\u001b[0m\u001b[0m\n\u001b[0;32m     24\u001b[0m \u001b[0mprint\u001b[0m\u001b[1;33m(\u001b[0m\u001b[1;34m\"\\nშეფასება:\"\u001b[0m\u001b[1;33m)\u001b[0m\u001b[1;33m\u001b[0m\u001b[1;33m\u001b[0m\u001b[0m\n",
      "\u001b[1;31mValueError\u001b[0m: invalid literal for int() with base 10: '15.0'"
     ]
    }
   ],
   "source": [
    "\"\"\"\n",
    "    0-24        საშინელი         0\n",
    "    25-44       ცუდი            1\n",
    "    45-64       ისე რა           2\n",
    "    65-79       საშუალო         3\n",
    "    80-89       კარგი            4\n",
    "    90-100      ბრწყინვალე       5\n",
    "\"\"\"\n",
    "\n",
    "\"\"\"\n",
    "if score between 0 and 24:\n",
    "    print(\"საშინელი (0)\")\n",
    "    \n",
    "    1) score >= 0\n",
    "    2) score < 25\n",
    "    \n",
    "    (score >= 0) and (score < 25)\n",
    "    ან \n",
    "    0 <= score < 25\n",
    "\"\"\"\n",
    "\n",
    "score = int(input(\"შეიტანეთ რიცხვი: \"))\n",
    "\n",
    "print(\"\\nშეფასება:\")\n",
    "if (score >= 0) and (score < 25):\n",
    "    print(\"საშინელი (0)\")\n",
    "elif score >= 25 and score <45:\n",
    "    print(\"ცუდი (1)\")\n",
    "elif 45 <= score < 65:\n",
    "    print(\"ისე რა (2)\")\n",
    "elif 65 <= score < 80:\n",
    "    print(\"საშუალო (3)\")\n",
    "elif 81 <= score < 90:\n",
    "    print(\"კარგი (4)\")\n",
    "elif 90 <= score < 100:\n",
    "    print(\"ბრწყინვალე (5)\")\n",
    "else:\n",
    "    print(\"არასწორი ქულა!\")\n",
    "    \n",
    "    \n",
    "if score < 0 or score > 100:\n",
    "    print(\"არასწორი ქულა!..\")"
   ]
  }
 ],
 "metadata": {
  "kernelspec": {
   "display_name": "Python 3",
   "language": "python",
   "name": "python3"
  },
  "language_info": {
   "codemirror_mode": {
    "name": "ipython",
    "version": 3
   },
   "file_extension": ".py",
   "mimetype": "text/x-python",
   "name": "python",
   "nbconvert_exporter": "python",
   "pygments_lexer": "ipython3",
   "version": "3.7.4"
  }
 },
 "nbformat": 4,
 "nbformat_minor": 2
}
