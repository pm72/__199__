{
 "cells": [
  {
   "cell_type": "code",
   "execution_count": 13,
   "metadata": {},
   "outputs": [
    {
     "name": "stdout",
     "output_type": "stream",
     "text": [
      "['BPF', 'LOG4', 'NV_MAGICCONST', 'RECIP_BPF', 'Random', 'SG_MAGICCONST', 'SystemRandom', 'TWOPI', '_BuiltinMethodType', '_MethodType', '_Sequence', '_Set', '__all__', '__builtins__', '__cached__', '__doc__', '__file__', '__loader__', '__name__', '__package__', '__spec__', '_acos', '_bisect', '_ceil', '_cos', '_e', '_exp', '_inst', '_itertools', '_log', '_os', '_pi', '_random', '_sha512', '_sin', '_sqrt', '_test', '_test_generator', '_urandom', '_warn', 'betavariate', 'choice', 'choices', 'expovariate', 'gammavariate', 'gauss', 'getrandbits', 'getstate', 'lognormvariate', 'normalvariate', 'paretovariate', 'randint', 'random', 'randrange', 'sample', 'seed', 'setstate', 'shuffle', 'triangular', 'uniform', 'vonmisesvariate', 'weibullvariate']\n",
      "40\n",
      "0.16016150688264963\n",
      "96.07529441504195\n"
     ]
    }
   ],
   "source": [
    "import random\n",
    "\n",
    "print(dir(random))\n",
    "\n",
    "print(random.randint(1, 100))\n",
    "print(random.random())\n",
    "print(random.random()*100)"
   ]
  },
  {
   "cell_type": "code",
   "execution_count": 1,
   "metadata": {},
   "outputs": [
    {
     "name": "stdout",
     "output_type": "stream",
     "text": [
      "Name: Paata Mamporia\n",
      "Age: 47\n",
      "['__builtins__', '__cached__', '__doc__', '__file__', '__loader__', '__name__', '__package__', '__spec__', 'age', 'name']\n",
      "Paata Mamporia\n",
      "47\n",
      "Bela\n"
     ]
    }
   ],
   "source": [
    "import my_file\n",
    "\n",
    "name = \"Bela\"\n",
    "\n",
    "print(dir(my_file))\n",
    "print(my_file.name)   # print(\"Paata Mamporia\")\n",
    "print(my_file.age)\n",
    "print(name)"
   ]
  },
  {
   "cell_type": "code",
   "execution_count": 1,
   "metadata": {},
   "outputs": [
    {
     "name": "stdout",
     "output_type": "stream",
     "text": [
      "ჩავიფიქრე მთელი რიცხვი 1-დან 100-ის ჩათვლით. გამოიცანი.\n",
      "შეიტანე რიცხვი: 50\n",
      "ნაკლებია <\n"
     ]
    }
   ],
   "source": [
    "import random\n",
    "\n",
    "print(\"ჩავიფიქრე მთელი რიცხვი 1-დან 100-ის ჩათვლით. გამოიცანი.\")\n",
    "number = random.randint(1, 100)\n",
    "# print(number)\n",
    "\n",
    "guess = int(input(\"შეიტანე რიცხვი: \"))\n",
    "\n",
    "if guess == number:\n",
    "    print(\"შენ გამოიცანი. ჩაფიქრებული იყო\", number)\n",
    "elif guess < number: print(\"ნაკლებია <\")\n",
    "else: print(\"მეტია >\")"
   ]
  },
  {
   "cell_type": "code",
   "execution_count": null,
   "metadata": {},
   "outputs": [],
   "source": [
    "while პირობა:\n",
    "    ინსტრუქციები\n",
    "    \n",
    "if პირობა:\n",
    "    ინსტრუქციები\n",
    "\n",
    "    \n",
    "სხვა ინსტრუქციები"
   ]
  },
  {
   "cell_type": "code",
   "execution_count": 10,
   "metadata": {},
   "outputs": [
    {
     "name": "stdout",
     "output_type": "stream",
     "text": [
      "ჩავიფიქრე მთელი რიცხვი 1-დან 1000-ის ჩათვლით. გამოიცანი.\n",
      "შეიტანე რიცხვი: 500\n",
      "ნაკლებია <\n",
      "შეიტანე რიცხვი: 750\n",
      "\n",
      "ნაკლებია <\n",
      "შეიტანე რიცხვი: 875\n",
      "\n",
      "ნაკლებია <\n",
      "შეიტანე რიცხვი: 950\n",
      "\n",
      "ნაკლებია <\n",
      "შეიტანე რიცხვი: 980\n",
      "\n",
      "მეტია >\n",
      "შეიტანე რიცხვი: 970\n",
      "\n",
      "ნაკლებია <\n",
      "შეიტანე რიცხვი: 975\n",
      "\n",
      "შენ გამოიცანი.\n",
      "ჩაფიქრებული იყო 975\n"
     ]
    }
   ],
   "source": [
    "import random\n",
    "\n",
    "print(\"ჩავიფიქრე მთელი რიცხვი 1-დან 1000-ის ჩათვლით. გამოიცანი.\")\n",
    "number = random.randint(1, 1000)\n",
    "# print(number)\n",
    "\n",
    "guess = int(input(\"შეიტანე რიცხვი: \"))\n",
    "\n",
    "while guess != 0:\n",
    "    if guess == number:\n",
    "        print(\"შენ გამოიცანი.\")\n",
    "        break\n",
    "    elif guess < number: print(\"ნაკლებია <\")\n",
    "    else: print(\"მეტია >\")\n",
    "    \n",
    "    guess = int(input(\"შეიტანე რიცხვი: \"))\n",
    "    \n",
    "    print()\n",
    "\n",
    "print(\"ჩაფიქრებული იყო\", number)"
   ]
  }
 ],
 "metadata": {
  "kernelspec": {
   "display_name": "Python 3",
   "language": "python",
   "name": "python3"
  },
  "language_info": {
   "codemirror_mode": {
    "name": "ipython",
    "version": 3
   },
   "file_extension": ".py",
   "mimetype": "text/x-python",
   "name": "python",
   "nbconvert_exporter": "python",
   "pygments_lexer": "ipython3",
   "version": "3.7.4"
  }
 },
 "nbformat": 4,
 "nbformat_minor": 2
}
