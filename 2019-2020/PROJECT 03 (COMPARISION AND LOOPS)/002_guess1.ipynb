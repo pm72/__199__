{
 "cells": [
  {
   "cell_type": "code",
   "execution_count": 2,
   "metadata": {
    "collapsed": false
   },
   "outputs": [
    {
     "name": "stdout",
     "output_type": "stream",
     "text": [
      "159\n",
      "ჩავიფიქრე რიცხვი 1-დან 1000-მდე.\n",
      "გამოიცანი რიცხვი: 198\n",
      "მეტია >\n"
     ]
    }
   ],
   "source": [
    "import random\n",
    "\n",
    "secret = \"ჩავიფიქრე რიცხვი 1-დან 1000-მდე.\"\n",
    "case = random.randint(1, 1000)\n",
    "\n",
    "print(case)\n",
    "print(secret)\n",
    "try:\n",
    "    number = int(input(\"გამოიცანი რიცხვი: \"))\n",
    "\n",
    "    if number < case: print(\"ნაკლებია <\")\n",
    "    elif number > case: print(\"მეტია >\")\n",
    "    else: print(\"შენ გამოიცანი!\")\n",
    "except ValueError:\n",
    "    print(\"მხოლოდ მთელი რიცხვი!\")"
   ]
  },
  {
   "cell_type": "code",
   "execution_count": 3,
   "metadata": {
    "collapsed": false
   },
   "outputs": [
    {
     "name": "stdout",
     "output_type": "stream",
     "text": [
      "590\n",
      "ჩავიფიქრე რიცხვი 1-დან 1000-მდე.\n",
      "\n",
      "გამოიცანი რიცხვი: 620\n",
      "მეტია >\n",
      "\n",
      "გამოიცანი რიცხვი: 450\n",
      "ნაკლებია <\n",
      "\n",
      "გამოიცანი რიცხვი: 500\n",
      "ნაკლებია <\n",
      "\n",
      "გამოიცანი რიცხვი: 550\n",
      "ნაკლებია <\n",
      "\n",
      "გამოიცანი რიცხვი: 580\n",
      "ნაკლებია <\n",
      "\n",
      "გამოიცანი რიცხვი: 590\n",
      "შენ გამოიცანი!\n"
     ]
    }
   ],
   "source": [
    "import random\n",
    "\n",
    "secret = \"ჩავიფიქრე რიცხვი 1-დან 1000-მდე.\"\n",
    "case = random.randint(1, 1000)\n",
    "\n",
    "print(case)\n",
    "print(secret)\n",
    "\n",
    "number = 0\n",
    "while number != case:\n",
    "    try:\n",
    "        number = int(input(\"\\nგამოიცანი რიცხვი: \"))    \n",
    "        if number < case: print(\"ნაკლებია <\")\n",
    "        elif number > case: print(\"მეტია >\")\n",
    "        else: print(\"შენ გამოიცანი!\")\n",
    "    except ValueError:\n",
    "        print(\"მხოლოდ მთელი რიცხვი!\")"
   ]
  },
  {
   "cell_type": "code",
   "execution_count": 4,
   "metadata": {
    "collapsed": false
   },
   "outputs": [
    {
     "name": "stdout",
     "output_type": "stream",
     "text": [
      "797\n",
      "ჩავიფიქრე რიცხვი 1-დან 1000-მდე.\n",
      "\n",
      "გამოიცანი რიცხვი: 100\n",
      "ნაკლებია <\n",
      "\n",
      "გამოიცანი რიცხვი: 500\n",
      "ნაკლებია <\n",
      "\n",
      "გამოიცანი რიცხვი: 750\n",
      "ნაკლებია <\n",
      "\n",
      "გამოიცანი რიცხვი: 800\n",
      "მეტია >\n",
      "\n",
      "გამოიცანი რიცხვი: 775\n",
      "ნაკლებია <\n",
      "\n",
      "გამოიცანი რიცხვი: 780\n",
      "ნაკლებია <\n",
      "\n",
      "გამოიცანი რიცხვი: 790\n",
      "ნაკლებია <\n",
      "\n",
      "გამოიცანი რიცხვი: 795\n",
      "ნაკლებია <\n",
      "\n",
      "გამოიცანი რიცხვი: 799\n",
      "მეტია >\n",
      "\n",
      "გამოიცანი რიცხვი: 797\n",
      "შენ გამოიცანი!\n",
      "ამისათვის დაგჭირდა 10 ცდა.\n"
     ]
    }
   ],
   "source": [
    "import random\n",
    "\n",
    "secret = \"ჩავიფიქრე რიცხვი 1-დან 1000-მდე.\"\n",
    "case = random.randint(1, 1000)\n",
    "\n",
    "print(case)\n",
    "print(secret)\n",
    "\n",
    "number = 0\n",
    "attempt = 0\n",
    "\n",
    "while number != case:\n",
    "    try:\n",
    "        number = int(input(\"\\nგამოიცანი რიცხვი: \"))    \n",
    "        if number < case: print(\"ნაკლებია <\")\n",
    "        elif number > case: print(\"მეტია >\")\n",
    "        else: print(\"შენ გამოიცანი!\")\n",
    "        \n",
    "        attempt += 1\n",
    "    except ValueError:\n",
    "        print(\"მხოლოდ მთელი რიცხვი!\")\n",
    "\n",
    "print(\"ამისათვის დაგჭირდა\", attempt, \"ცდა.\")"
   ]
  },
  {
   "cell_type": "code",
   "execution_count": 5,
   "metadata": {
    "collapsed": false
   },
   "outputs": [
    {
     "name": "stdout",
     "output_type": "stream",
     "text": [
      "486\n",
      "ჩავიფიქრე რიცხვი 1-დან 1000-მდე.\n",
      "\n",
      "გამოიცანი რიცხვი [0 - დამთავრება]: 189\n",
      "ნაკლებია <\n",
      "\n",
      "გამოიცანი რიცხვი [0 - დამთავრება]: 500\n",
      "მეტია >\n",
      "\n",
      "გამოიცანი რიცხვი [0 - დამთავრება]: 250\n",
      "ნაკლებია <\n",
      "\n",
      "გამოიცანი რიცხვი [0 - დამთავრება]: 375\n",
      "ნაკლებია <\n",
      "\n",
      "გამოიცანი რიცხვი [0 - დამთავრება]: 400\n",
      "ნაკლებია <\n",
      "\n",
      "გამოიცანი რიცხვი [0 - დამთავრება]: 450\n",
      "ნაკლებია <\n",
      "\n",
      "გამოიცანი რიცხვი [0 - დამთავრება]: 475\n",
      "ნაკლებია <\n",
      "\n",
      "გამოიცანი რიცხვი [0 - დამთავრება]: 485\n",
      "ნაკლებია <\n",
      "\n",
      "გამოიცანი რიცხვი [0 - დამთავრება]: 490\n",
      "მეტია >\n",
      "\n",
      "გამოიცანი რიცხვი [0 - დამთავრება]: 488\n",
      "მეტია >\n",
      "\n",
      "გამოიცანი რიცხვი [0 - დამთავრება]: 487\n",
      "მეტია >\n",
      "\n",
      "გამოიცანი რიცხვი [0 - დამთავრება]: 486\n",
      "შენ გამოიცანი!\n",
      "ამისათვის დაგჭირდა 12 ცდა.\n"
     ]
    }
   ],
   "source": [
    "import random\n",
    "\n",
    "secret = \"ჩავიფიქრე რიცხვი 1-დან 1000-მდე.\"\n",
    "case = random.randint(1, 1000)\n",
    "\n",
    "print(case)\n",
    "print(secret)\n",
    "\n",
    "number = -1\n",
    "attempt = 0\n",
    "\n",
    "while number != case:\n",
    "    try:\n",
    "        number = int(input(\"\\nგამოიცანი რიცხვი [0 - დამთავრება]: \"))\n",
    "        if number == 0:\n",
    "            print(\"ჩაფიქრებული იყო\", case)\n",
    "            break\n",
    "        elif number < case: print(\"ნაკლებია <\")\n",
    "        elif number > case: print(\"მეტია >\")\n",
    "        else: print(\"შენ გამოიცანი!\")\n",
    "        \n",
    "        attempt += 1\n",
    "    except ValueError:\n",
    "        print(\"მხოლოდ მთელი რიცხვი!\")\n",
    "\n",
    "if number: print(\"ამისათვის დაგჭირდა\", attempt, \"ცდა.\")"
   ]
  },
  {
   "cell_type": "code",
   "execution_count": 6,
   "metadata": {
    "collapsed": false
   },
   "outputs": [
    {
     "name": "stdout",
     "output_type": "stream",
     "text": [
      "958\n",
      "ჩავიფიქრე რიცხვი 1-დან 1000-მდე.\n",
      "\n",
      "გამოიცანი რიცხვი [0 - დამთავრება]: -89\n",
      "\n",
      "შეიტანე მთელი დადებითი რიცხვი [0 - დამთავრება]: 500\n",
      "ნაკლებია <\n",
      "\n",
      "გამოიცანი რიცხვი [0 - დამთავრება]: 750\n",
      "ნაკლებია <\n",
      "\n",
      "გამოიცანი რიცხვი [0 - დამთავრება]: 875\n",
      "ნაკლებია <\n",
      "\n",
      "გამოიცანი რიცხვი [0 - დამთავრება]: 950\n",
      "ნაკლებია <\n",
      "\n",
      "გამოიცანი რიცხვი [0 - დამთავრება]: 975\n",
      "მეტია >\n",
      "\n",
      "გამოიცანი რიცხვი [0 - დამთავრება]: 966\n",
      "მეტია >\n",
      "\n",
      "გამოიცანი რიცხვი [0 - დამთავრება]: 960\n",
      "მეტია >\n",
      "\n",
      "გამოიცანი რიცხვი [0 - დამთავრება]: 957\n",
      "ნაკლებია <\n",
      "\n",
      "გამოიცანი რიცხვი [0 - დამთავრება]: 958\n",
      "შენ გამოიცანი!\n",
      "ამისათვის დაგჭირდა 9 ცდა.\n"
     ]
    }
   ],
   "source": [
    "import random\n",
    "\n",
    "secret = \"ჩავიფიქრე რიცხვი 1-დან 1000-მდე.\"\n",
    "case = random.randint(1, 1000)\n",
    "\n",
    "print(case)\n",
    "print(secret)\n",
    "\n",
    "number = -1\n",
    "attempt = 0\n",
    "\n",
    "while number != case:\n",
    "    try:\n",
    "        number = int(input(\"\\nგამოიცანი რიცხვი [0 - დამთავრება]: \"))\n",
    "        \n",
    "        while number < 0:\n",
    "            number = int(input(\"\\nშეიტანე მთელი დადებითი რიცხვი [0 - დამთავრება]: \"))\n",
    "        \n",
    "        if number == 0:\n",
    "            print(\"ჩაფიქრებული იყო\", case)\n",
    "            break\n",
    "        elif number < case: print(\"ნაკლებია <\")\n",
    "        elif number > case: print(\"მეტია >\")\n",
    "        else: print(\"შენ გამოიცანი!\")\n",
    "        \n",
    "        attempt += 1\n",
    "    except ValueError:\n",
    "        print(\"მხოლოდ მთელი რიცხვი!\")\n",
    "\n",
    "if number: print(\"ამისათვის დაგჭირდა\", attempt, \"ცდა.\")"
   ]
  }
 ],
 "metadata": {
  "kernelspec": {
   "display_name": "Python 3",
   "language": "python",
   "name": "python3"
  },
  "language_info": {
   "codemirror_mode": {
    "name": "ipython",
    "version": 3
   },
   "file_extension": ".py",
   "mimetype": "text/x-python",
   "name": "python",
   "nbconvert_exporter": "python",
   "pygments_lexer": "ipython3",
   "version": "3.5.1"
  }
 },
 "nbformat": 4,
 "nbformat_minor": 1
}
